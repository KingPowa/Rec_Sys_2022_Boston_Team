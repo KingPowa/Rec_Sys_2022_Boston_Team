{
 "cells": [
  {
   "cell_type": "code",
   "execution_count": 1,
   "metadata": {},
   "outputs": [],
   "source": [
    "import sys\n",
    "sys.path.append('..')\n",
    "sys.path.append('/Dataset')\n",
    "import numpy as np\n",
    "import pandas as pd\n",
    "import os\n",
    "\n",
    "from DressipiChallenge.Pipeline.submission import create_submission\n",
    "from DressipiChallenge.Pipeline.utils import get_mapped_sessions_to_recommend, get_items_to_exclude, generate_predictions, create_mapping, single_train_test_model\n",
    "from DressipiChallenge.Pipeline.matrices_creation import get_URM_split_val, get_URM_split_test\n",
    "from DressipiChallenge.Pipeline.data_extraction import get_dataframes\n",
    "from DressipiChallenge.Pipeline.recommender_tuning import hypertune\n",
    "from DressipiChallenge.Pipeline.data_splitting import split_dataframes_val\n",
    "from DressipiChallenge.Pipeline.optuna_utils import Range,Integer,Real,Categorical\n",
    "from DressipiChallenge.Recommenders.EASE_R.EASE_R_Recommender import EASE_R_Recommender\n",
    "from DressipiChallenge.Recommenders.GraphBased.P3alphaRecommender import P3alphaRecommender\n",
    "from DressipiChallenge.Recommenders.GraphBased.RP3betaRecommender import RP3betaRecommender\n",
    "from DressipiChallenge.Evaluation.Evaluator import EvaluatorHoldout"
   ]
  },
  {
   "cell_type": "code",
   "execution_count": 2,
   "metadata": {},
   "outputs": [
    {
     "name": "stdout",
     "output_type": "stream",
     "text": [
      "CSVs read\n"
     ]
    }
   ],
   "source": [
    "item_features_df, train_sessions_df, train_purchases_df, test_sessions_df, candidate_items_df = get_dataframes(path_to_dataset = '../')"
   ]
  },
  {
   "cell_type": "code",
   "execution_count": 3,
   "metadata": {},
   "outputs": [],
   "source": [
    "\n",
    "URM_train, URM_val_views, URM_val_purch, mapped_items_to_ignore, mapped_val_sessions_arr, val_session_mapping, item_mapping = get_URM_split_val(\n",
    "    item_features_df=item_features_df,\n",
    "    train_purchases_df=train_purchases_df,\n",
    "    train_sessions_df=train_sessions_df,\n",
    "    val_start_ts = '2021-05-01',\n",
    "    val_end_ts = '2021-06-01',\n",
    "    abs_half_life=400,\n",
    "    unique_interactions=True,\n",
    "    cyclic_decay=True,\n",
    "    purch_weight=1,\n",
    "    view_weight=0.5,\n",
    "    score_graph=False,\n",
    ")"
   ]
  },
  {
   "cell_type": "code",
   "execution_count": 4,
   "metadata": {},
   "outputs": [],
   "source": [
    "hyp = {'topK': None, 'normalize_matrix': False, 'l2_norm': 46.90311309040724}"
   ]
  },
  {
   "cell_type": "code",
   "execution_count": 5,
   "metadata": {},
   "outputs": [
    {
     "name": "stdout",
     "output_type": "stream",
     "text": [
      "EASE_R_Recommender: URM Detected 477 ( 2.0%) items with no interactions.\n",
      "EvaluatorHoldout: Ignoring 18922 Items\n",
      "EASE_R_Recommender: Fitting model... \n",
      "Unable to load Cython Compute_Similarity, reverting to Python\n",
      "Similarity column 23691 (100.0%), 91.87 column/sec. Elapsed time 4.30 min\n",
      "EASE_R_Recommender: Fitting model... done in 10.03 min\n",
      "EvaluatorHoldout: Processed 81618 (100.0%) in 1.26 min. Users per second: 1080\n"
     ]
    },
    {
     "data": {
      "text/plain": "(       PRECISION PRECISION_RECALL_MIN_DEN    RECALL       MAP MAP_MIN_DEN  \\\n cutoff                                                                      \n 100     0.004899                 0.489892  0.489892  0.001537    0.153681   \n \n              MRR      NDCG        F1  HIT_RATE ARHR_ALL_HITS  ...  \\\n cutoff                                                        ...   \n 100     0.153681  0.220318  0.009701  0.489892      0.153681  ...   \n \n        COVERAGE_ITEM_CORRECT COVERAGE_USER COVERAGE_USER_CORRECT  \\\n cutoff                                                             \n 100                 0.633466           1.0              0.489892   \n \n        DIVERSITY_GINI SHANNON_ENTROPY RATIO_DIVERSITY_HERFINDAHL  \\\n cutoff                                                             \n 100          0.278876       10.727169                   0.999847   \n \n        RATIO_DIVERSITY_GINI RATIO_SHANNON_ENTROPY RATIO_AVERAGE_POPULARITY  \\\n cutoff                                                                       \n 100                 0.78345              0.972229                 0.796365   \n \n        RATIO_NOVELTY  \n cutoff                \n 100        21.897218  \n \n [1 rows x 25 columns],\n 'CUTOFF: 100 - PRECISION: 0.0048989, PRECISION_RECALL_MIN_DEN: 0.4898919, RECALL: 0.4898919, MAP: 0.0015368, MAP_MIN_DEN: 0.1536808, MRR: 0.1536808, NDCG: 0.2203182, F1: 0.0097008, HIT_RATE: 0.4898919, ARHR_ALL_HITS: 0.1536808, NOVELTY: 0.0480654, AVERAGE_POPULARITY: 0.1590396, DIVERSITY_MEAN_INTER_LIST: 0.8961852, DIVERSITY_HERFINDAHL: 0.9989617, COVERAGE_ITEM: 0.9243028, COVERAGE_ITEM_CORRECT: 0.6334661, COVERAGE_USER: 1.0000000, COVERAGE_USER_CORRECT: 0.4898919, DIVERSITY_GINI: 0.2788759, SHANNON_ENTROPY: 10.7271689, RATIO_DIVERSITY_HERFINDAHL: 0.9998474, RATIO_DIVERSITY_GINI: 0.7834499, RATIO_SHANNON_ENTROPY: 0.9722293, RATIO_AVERAGE_POPULARITY: 0.7963648, RATIO_NOVELTY: 21.8972180, \\n')"
     },
     "execution_count": 5,
     "metadata": {},
     "output_type": "execute_result"
    }
   ],
   "source": [
    "single_train_test_model(EASE_R_Recommender, URM_train, URM_val_views, URM_val_purch, mapped_items_to_ignore, item_mapping, hyp)"
   ]
  },
  {
   "cell_type": "code",
   "execution_count": null,
   "metadata": {},
   "outputs": [],
   "source": [
    "weighted_train_set_df, val_purch_df, val_views_df, train_session_mapping, val_session_mapping, item_mapping,\\\n",
    "           mapped_items_to_ignore, mapped_val_sessions_arr = split_dataframes_val(\n",
    "    train_sessions_df, train_purchases_df, item_features_df,\n",
    "    val_start_ts='2021-05-01', val_end_ts='2021-06-01',\n",
    "    view_weight=1, purch_weight=1, abs_half_life=None, cyclic_decay=False, score_graph=False,\n",
    ")"
   ]
  },
  {
   "cell_type": "code",
   "execution_count": null,
   "metadata": {},
   "outputs": [],
   "source": [
    "hyp = {\n",
    "    'topK' : Integer(50, 5000),\n",
    "    'alpha' : Real(0,5),\n",
    "    'normalize_similarity' : Categorical([True,False]),\n",
    "}"
   ]
  },
  {
   "cell_type": "code",
   "execution_count": null,
   "metadata": {},
   "outputs": [],
   "source": [
    "hypertune(\n",
    "    URM_train=URM_train,\n",
    "    URM_val_views=URM_val_views,\n",
    "    URM_val_purch=URM_val_purch,\n",
    "    item_mapping=item_mapping,\n",
    "    mapped_items_to_ignore=mapped_items_to_ignore,\n",
    "    num_trials=200,\n",
    "    recommender_class=P3alphaRecommender,\n",
    "    hyperparameters_dict=hyp\n",
    ")"
   ]
  },
  {
   "cell_type": "code",
   "execution_count": null,
   "metadata": {},
   "outputs": [],
   "source": [
    "hyp = {'topK': 156, 'alpha': 0.9867577596015882, 'beta': 0.3006127016015112, 'normalize_similarity': True}\n",
    "\n",
    "rec = RP3betaRecommender(URM_train)\n",
    "rec.fit(**hyp)\n",
    "rec.set_URM_train(URM_val_views)"
   ]
  },
  {
   "cell_type": "code",
   "execution_count": null,
   "metadata": {},
   "outputs": [],
   "source": [
    "eval = EvaluatorHoldout(URM_val_purch, [100], ignore_items=mapped_items_to_ignore)\n",
    "eval.evaluateRecommender(rec)"
   ]
  },
  {
   "cell_type": "code",
   "execution_count": 19,
   "metadata": {},
   "outputs": [],
   "source": [
    "URM_train, URM_test_views, mapped_items_to_ignore, mapped_test_sessions_arr, test_session_mapping, item_mapping = get_URM_split_test(\n",
    "    train_purchases_df=train_purchases_df,\n",
    "    test_sessions_df=test_sessions_df,\n",
    "    train_sessions_df=train_sessions_df,\n",
    "    candidate_items_df=candidate_items_df,\n",
    "    item_features_df=item_features_df,\n",
    "    unique_interactions=True,\n",
    "    abs_half_life=None,\n",
    "    cyclic_decay=False,\n",
    "    purch_weight=1,\n",
    "    view_weight=0.2,\n",
    "    score_graph=False,\n",
    ")"
   ]
  },
  {
   "cell_type": "code",
   "execution_count": 20,
   "metadata": {},
   "outputs": [
    {
     "name": "stdout",
     "output_type": "stream",
     "text": [
      "RP3betaRecommender: URM Detected 73 ( 0.3%) items with no interactions.\n"
     ]
    }
   ],
   "source": [
    "hyp = {'topK': 156, 'alpha': 0.9867577596015882, 'beta': 0.3006127016015112, 'normalize_similarity': True}\n",
    "\n",
    "rec = RP3betaRecommender(URM_train)\n",
    "rec.fit(**hyp)\n",
    "rec.set_URM_train(URM_test_views)\n",
    "rec.set_items_to_ignore(mapped_items_to_ignore)"
   ]
  },
  {
   "cell_type": "code",
   "execution_count": 21,
   "metadata": {},
   "outputs": [
    {
     "name": "stdout",
     "output_type": "stream",
     "text": [
      "Recommending...\n"
     ]
    },
    {
     "name": "stderr",
     "output_type": "stream",
     "text": [
      "100%|██████████| 10/10 [00:38<00:00,  3.80s/it]\n"
     ]
    },
    {
     "name": "stdout",
     "output_type": "stream",
     "text": [
      "Done!\n"
     ]
    }
   ],
   "source": [
    "dataframe_list = generate_predictions(\n",
    "    models=[rec],\n",
    "    session_ids=mapped_test_sessions_arr,\n",
    "    add_item_score=False,\n",
    "    cutoff = 100,\n",
    ")"
   ]
  },
  {
   "cell_type": "code",
   "execution_count": 22,
   "metadata": {},
   "outputs": [
    {
     "data": {
      "text/html": [
       "<div>\n",
       "<style scoped>\n",
       "    .dataframe tbody tr th:only-of-type {\n",
       "        vertical-align: middle;\n",
       "    }\n",
       "\n",
       "    .dataframe tbody tr th {\n",
       "        vertical-align: top;\n",
       "    }\n",
       "\n",
       "    .dataframe thead th {\n",
       "        text-align: right;\n",
       "    }\n",
       "</style>\n",
       "<table border=\"1\" class=\"dataframe\">\n",
       "  <thead>\n",
       "    <tr style=\"text-align: right;\">\n",
       "      <th></th>\n",
       "      <th>session_id</th>\n",
       "      <th>item_id</th>\n",
       "    </tr>\n",
       "  </thead>\n",
       "  <tbody>\n",
       "    <tr>\n",
       "      <th>0</th>\n",
       "      <td>0</td>\n",
       "      <td>2735</td>\n",
       "    </tr>\n",
       "    <tr>\n",
       "      <th>1</th>\n",
       "      <td>0</td>\n",
       "      <td>4520</td>\n",
       "    </tr>\n",
       "    <tr>\n",
       "      <th>2</th>\n",
       "      <td>0</td>\n",
       "      <td>22360</td>\n",
       "    </tr>\n",
       "    <tr>\n",
       "      <th>3</th>\n",
       "      <td>0</td>\n",
       "      <td>17349</td>\n",
       "    </tr>\n",
       "    <tr>\n",
       "      <th>4</th>\n",
       "      <td>0</td>\n",
       "      <td>1843</td>\n",
       "    </tr>\n",
       "    <tr>\n",
       "      <th>...</th>\n",
       "      <td>...</td>\n",
       "      <td>...</td>\n",
       "    </tr>\n",
       "    <tr>\n",
       "      <th>4999995</th>\n",
       "      <td>49999</td>\n",
       "      <td>12171</td>\n",
       "    </tr>\n",
       "    <tr>\n",
       "      <th>4999996</th>\n",
       "      <td>49999</td>\n",
       "      <td>8424</td>\n",
       "    </tr>\n",
       "    <tr>\n",
       "      <th>4999997</th>\n",
       "      <td>49999</td>\n",
       "      <td>4074</td>\n",
       "    </tr>\n",
       "    <tr>\n",
       "      <th>4999998</th>\n",
       "      <td>49999</td>\n",
       "      <td>10181</td>\n",
       "    </tr>\n",
       "    <tr>\n",
       "      <th>4999999</th>\n",
       "      <td>49999</td>\n",
       "      <td>21956</td>\n",
       "    </tr>\n",
       "  </tbody>\n",
       "</table>\n",
       "<p>5000000 rows × 2 columns</p>\n",
       "</div>"
      ],
      "text/plain": [
       "         session_id  item_id\n",
       "0                 0     2735\n",
       "1                 0     4520\n",
       "2                 0    22360\n",
       "3                 0    17349\n",
       "4                 0     1843\n",
       "...             ...      ...\n",
       "4999995       49999    12171\n",
       "4999996       49999     8424\n",
       "4999997       49999     4074\n",
       "4999998       49999    10181\n",
       "4999999       49999    21956\n",
       "\n",
       "[5000000 rows x 2 columns]"
      ]
     },
     "execution_count": 22,
     "metadata": {},
     "output_type": "execute_result"
    }
   ],
   "source": [
    "df = dataframe_list[0]\n",
    "df"
   ]
  },
  {
   "cell_type": "code",
   "execution_count": 23,
   "metadata": {},
   "outputs": [
    {
     "name": "stdout",
     "output_type": "stream",
     "text": [
      "SUBMISSION COMPLETED\n"
     ]
    }
   ],
   "source": [
    "create_submission(\n",
    "    reranked_df=df,\n",
    "    item_mapping=item_mapping,\n",
    "    session_mapping=test_session_mapping,\n",
    "    save_path='./subs/RP3beta/'\n",
    ")"
   ]
  },
  {
   "cell_type": "markdown",
   "metadata": {},
   "source": [
    "# Step by step pipeline"
   ]
  },
  {
   "cell_type": "code",
   "execution_count": null,
   "metadata": {},
   "outputs": [],
   "source": [
    "def time_weighting(df, ref_date, time_mode, abs_time_weight, f):\n",
    "\n",
    "    if 'score' not in df.columns.to_list():\n",
    "        df['score'] = 1\n",
    "\n",
    "    if time_mode == 1:\n",
    "        df['abs_delta'] = [(ref_date-date).days  for date in df.date]\n",
    "        df['score'] *= round(np.exp(-abs_time_weight*df.abs_delta), 4)\n",
    "    elif time_mode == 2:\n",
    "        df['abs_delta'] = [(ref_date-date).days  for date in df.date]\n",
    "        df['score'] *= round( (1 + np.cos(2 * np.pi * f * df.abs_delta)) / 2, 4)\n",
    "    elif time_mode == 3:\n",
    "        df['abs_delta'] = [(ref_date-date).days  for date in df.date]\n",
    "        df['score_1'] = round(2 + np.cos(2 * np.pi * f * df.abs_delta), 4)\n",
    "        df['score_2'] = round(np.exp(-abs_time_weight*df.abs_delta), 4)\n",
    "        df['score'] *= round(df['score_1'] * df['score_2'] / 3, 4)\n",
    "        df.drop(columns=['score_1', 'score_2'], inplace=True)\n",
    "    \n",
    "    return df"
   ]
  },
  {
   "cell_type": "code",
   "execution_count": null,
   "metadata": {},
   "outputs": [],
   "source": [
    "view_weight = 0.5\n",
    "purch_weight = 1"
   ]
  },
  {
   "cell_type": "code",
   "execution_count": null,
   "metadata": {},
   "outputs": [],
   "source": [
    "val_start_ts='2021-05-01'\n",
    "val_end_ts='2021-06-01'\n",
    "\n",
    "pd.options.mode.chained_assignment = None\n",
    "\n",
    "sorted_sessions_df = train_sessions_df.sort_values(['date'], ascending=True)\n",
    "sorted_sessions_df.drop_duplicates(['session_id'], keep='first', inplace=True) # DUPLICATE VIEWS ARE DISCARDED!\n",
    "\n",
    "train_sessions = sorted_sessions_df[sorted_sessions_df['date'] < val_start_ts]['session_id'].values\n",
    "val_sessions = sorted_sessions_df[(sorted_sessions_df['date'] >= val_start_ts) & (sorted_sessions_df['date'] < val_end_ts)]['session_id'].values\n",
    "\n",
    "selected_train_views_df = train_sessions_df[train_sessions_df['session_id'].isin(train_sessions)]\n",
    "selected_train_purchases_df = train_purchases_df[train_purchases_df['session_id'].isin(train_sessions)]\n",
    "\n",
    "selected_train_views_df['score'] = view_weight\n",
    "selected_train_purchases_df['score'] = purch_weight\n",
    "\n",
    "train_set_df = pd.concat([selected_train_views_df, selected_train_purchases_df]).sort_values(['session_id', 'date'], ascending=[True, True]).reset_index(drop=True)\n",
    "\n",
    "val_set_df = train_purchases_df[train_purchases_df['session_id'].isin(val_sessions)].reset_index(drop=True)"
   ]
  },
  {
   "cell_type": "code",
   "execution_count": null,
   "metadata": {},
   "outputs": [],
   "source": [
    "train_set_df"
   ]
  },
  {
   "cell_type": "code",
   "execution_count": null,
   "metadata": {},
   "outputs": [],
   "source": [
    "train_session_mapping = create_mapping(train_set_df['session_id'])\n",
    "val_session_mapping = create_mapping(val_set_df['session_id'])\n",
    "item_mapping = create_mapping(item_features_df['item_id'])\n",
    "\n",
    "val_sessions_arr = get_mapped_sessions_to_recommend(val_set_df, val_session_mapping)"
   ]
  },
  {
   "cell_type": "code",
   "execution_count": null,
   "metadata": {},
   "outputs": [],
   "source": [
    "train_set_df['session_id'] = train_set_df['session_id'].map(train_session_mapping)\n",
    "train_set_df['item_id'] = train_set_df['item_id'].map(item_mapping)\n",
    "\n",
    "val_set_df['session_id'] = val_set_df['session_id'].map(val_session_mapping)\n",
    "val_set_df['item_id'] = val_set_df['item_id'].map(item_mapping)\n",
    "\n",
    "recommendable_items = np.unique(val_set_df['item_id'].values)\n",
    "items_to_ignore = get_items_to_exclude(item_features_df, recommendable_items)"
   ]
  },
  {
   "cell_type": "code",
   "execution_count": null,
   "metadata": {},
   "outputs": [],
   "source": [
    "abs_half_life = 200\n",
    "cyclic_decay = True\n",
    "frequency = 1/365"
   ]
  },
  {
   "cell_type": "code",
   "execution_count": null,
   "metadata": {},
   "outputs": [],
   "source": [
    "time_mode = 0\n",
    "abs_time_weight = 0\n",
    "if abs_half_life is not None:\n",
    "    time_mode+= 1\n",
    "    abs_time_weight = 1/abs_half_life\n",
    "if cyclic_decay:\n",
    "    time_mode+= 2\n",
    "\n",
    "train_set_df['date'] = pd.to_datetime(train_set_df['date'])\n",
    "weighted_train_set_df = time_weighting(train_set_df, pd.to_datetime(val_start_ts), time_mode, abs_time_weight, frequency)"
   ]
  },
  {
   "cell_type": "code",
   "execution_count": null,
   "metadata": {},
   "outputs": [],
   "source": [
    "score_graph = 1\n",
    "import matplotlib.pyplot as plt\n",
    "if score_graph:    \n",
    "    weighted_train_set_df.plot(x='date', y='score')\n",
    "    plt.show()"
   ]
  },
  {
   "cell_type": "code",
   "execution_count": null,
   "metadata": {},
   "outputs": [],
   "source": [
    "import scipy.sparse as sp\n",
    "\n",
    "URM = sp.csr_matrix((weighted_train_set_df['score'].values,\n",
    "                        (weighted_train_set_df['session_id'].values, weighted_train_set_df['item_id'].values)),\n",
    "                    shape=(len(train_session_mapping), len(item_mapping)))\n",
    "URM"
   ]
  },
  {
   "cell_type": "code",
   "execution_count": null,
   "metadata": {},
   "outputs": [],
   "source": []
  },
  {
   "cell_type": "code",
   "execution_count": null,
   "metadata": {},
   "outputs": [],
   "source": []
  }
 ],
 "metadata": {
  "interpreter": {
   "hash": "662236ff4a3599a6369637d46054e6465a367b5e2f2cb09ee0460010b626acba"
  },
  "kernelspec": {
   "display_name": "Python 3.8.12 ('recsys')",
   "language": "python",
   "name": "python3"
  },
  "language_info": {
   "codemirror_mode": {
    "name": "ipython",
    "version": 3
   },
   "file_extension": ".py",
   "mimetype": "text/x-python",
   "name": "python",
   "nbconvert_exporter": "python",
   "pygments_lexer": "ipython3",
   "version": "3.8.12"
  },
  "orig_nbformat": 4
 },
 "nbformat": 4,
 "nbformat_minor": 2
}