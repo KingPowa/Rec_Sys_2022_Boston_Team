{
 "cells": [
  {
   "cell_type": "code",
   "execution_count": 1,
   "metadata": {
    "collapsed": true,
    "pycharm": {
     "name": "#%%\n"
    }
   },
   "outputs": [],
   "source": [
    "import sys\n",
    "import os\n",
    "import pandas as pd\n",
    "import numpy as np\n",
    "from tqdm import tqdm\n",
    "import math\n",
    "import gc\n",
    "tqdm.pandas()"
   ]
  },
  {
   "cell_type": "code",
   "execution_count": 2,
   "outputs": [],
   "source": [
    "candidate_items = pd.read_csv(\"Dataset/candidate_items.csv\")\n",
    "item_features = pd.read_csv(\"Dataset/item_features.csv\")\n",
    "train_purchases = pd.read_csv(\"Dataset/train_purchases.csv\")\n",
    "train_sessions = pd.read_csv(\"Dataset/train_sessions.csv\")\n",
    "test_final_sessions = pd.read_csv(\"Dataset/test_final_sessions.csv\")\n",
    "test_leaderboard_sessions = pd.read_csv(\"Dataset/test_leaderboard_sessions.csv\")\n",
    "session_attributes_train = pd.read_csv(\"Dataset/session_attributes_train.csv\")\n",
    "session_attributes_leaderboard = pd.read_csv(\"Dataset/session_attributes_leaderboard.csv\")\n",
    "session_attributes_final = pd.read_csv(\"Dataset/session_attributes_final.csv\")\n",
    "item_attributes = pd.read_csv(\"Dataset/item_attributes.csv\")"
   ],
   "metadata": {
    "collapsed": false,
    "pycharm": {
     "name": "#%%\n"
    }
   }
  },
  {
   "cell_type": "code",
   "execution_count": 3,
   "outputs": [
    {
     "data": {
      "text/plain": "       item_id  0  1  2  3  4  5  6  7  8  ...  spring_purchases  \\\n0            2  1  1  1  1  1  1  1  1  1  ...                 0   \n1            3  1  0  0  0  1  0  0  0  0  ...                 0   \n2            4  1  0  0  0  1  0  0  0  1  ...                80   \n3            7  0  0  0  0  1  0  0  0  0  ...                 0   \n4            8  1  0  1  0  1  0  0  0  1  ...                10   \n...        ... .. .. .. .. .. .. .. .. ..  ...               ...   \n23686    28139  1  0  0  0  1  0  0  0  0  ...                 3   \n23687    28140  1  0  1  0  0  0  0  0  0  ...                 0   \n23688    28141  1  0  0  0  1  0  0  0  0  ...                 3   \n23689    28142  0  0  0  0  1  1  0  0  0  ...                 0   \n23690    28143  1  0  1  0  0  0  0  0  0  ...                 2   \n\n       summer_purchases  autumn_purchases  seasonality_tendency_purchases  \\\n0                     0                 0                       -1.000000   \n1                     0                 5                        0.584263   \n2                     0                 0                        1.000000   \n3                     0                 0                        1.000000   \n4                     0                 0                        0.510066   \n...                 ...               ...                             ...   \n23686                50                 1                        0.779479   \n23687                 0                67                        0.755110   \n23688                 0                19                        0.343868   \n23689                 0                 0                       -1.000000   \n23690                 0                 0                        0.514525   \n\n       winter_tendency_purchases  spring_tendency_purchases  \\\n0                      -1.000000                  -1.000000   \n1                       0.736842                   0.000000   \n2                       0.000000                   1.000000   \n3                       1.000000                   0.000000   \n4                       0.583333                   0.416667   \n...                          ...                        ...   \n23686                   0.000000                   0.055556   \n23687                   0.106667                   0.000000   \n23688                   0.435897                   0.076923   \n23689                  -1.000000                  -1.000000   \n23690                   0.600000                   0.400000   \n\n       summer_tendency_purchases  autumn_tendency_purchases  total_view  \\\n0                      -1.000000                  -1.000000         1.0   \n1                       0.000000                   0.263158       157.0   \n2                       0.000000                   0.000000       375.0   \n3                       0.000000                   0.000000         0.0   \n4                       0.000000                   0.000000       127.0   \n...                          ...                        ...         ...   \n23686                   0.925926                   0.018519       316.0   \n23687                   0.000000                   0.893333       449.0   \n23688                   0.000000                   0.487179       152.0   \n23689                  -1.000000                  -1.000000         2.0   \n23690                   0.000000                   0.000000        33.0   \n\n       total_purchases  \n0                  0.0  \n1                 19.0  \n2                 80.0  \n3                  1.0  \n4                 24.0  \n...                ...  \n23686             54.0  \n23687             75.0  \n23688             39.0  \n23689              0.0  \n23690              5.0  \n\n[23691 rows x 925 columns]",
      "text/html": "<div>\n<style scoped>\n    .dataframe tbody tr th:only-of-type {\n        vertical-align: middle;\n    }\n\n    .dataframe tbody tr th {\n        vertical-align: top;\n    }\n\n    .dataframe thead th {\n        text-align: right;\n    }\n</style>\n<table border=\"1\" class=\"dataframe\">\n  <thead>\n    <tr style=\"text-align: right;\">\n      <th></th>\n      <th>item_id</th>\n      <th>0</th>\n      <th>1</th>\n      <th>2</th>\n      <th>3</th>\n      <th>4</th>\n      <th>5</th>\n      <th>6</th>\n      <th>7</th>\n      <th>8</th>\n      <th>...</th>\n      <th>spring_purchases</th>\n      <th>summer_purchases</th>\n      <th>autumn_purchases</th>\n      <th>seasonality_tendency_purchases</th>\n      <th>winter_tendency_purchases</th>\n      <th>spring_tendency_purchases</th>\n      <th>summer_tendency_purchases</th>\n      <th>autumn_tendency_purchases</th>\n      <th>total_view</th>\n      <th>total_purchases</th>\n    </tr>\n  </thead>\n  <tbody>\n    <tr>\n      <th>0</th>\n      <td>2</td>\n      <td>1</td>\n      <td>1</td>\n      <td>1</td>\n      <td>1</td>\n      <td>1</td>\n      <td>1</td>\n      <td>1</td>\n      <td>1</td>\n      <td>1</td>\n      <td>...</td>\n      <td>0</td>\n      <td>0</td>\n      <td>0</td>\n      <td>-1.000000</td>\n      <td>-1.000000</td>\n      <td>-1.000000</td>\n      <td>-1.000000</td>\n      <td>-1.000000</td>\n      <td>1.0</td>\n      <td>0.0</td>\n    </tr>\n    <tr>\n      <th>1</th>\n      <td>3</td>\n      <td>1</td>\n      <td>0</td>\n      <td>0</td>\n      <td>0</td>\n      <td>1</td>\n      <td>0</td>\n      <td>0</td>\n      <td>0</td>\n      <td>0</td>\n      <td>...</td>\n      <td>0</td>\n      <td>0</td>\n      <td>5</td>\n      <td>0.584263</td>\n      <td>0.736842</td>\n      <td>0.000000</td>\n      <td>0.000000</td>\n      <td>0.263158</td>\n      <td>157.0</td>\n      <td>19.0</td>\n    </tr>\n    <tr>\n      <th>2</th>\n      <td>4</td>\n      <td>1</td>\n      <td>0</td>\n      <td>0</td>\n      <td>0</td>\n      <td>1</td>\n      <td>0</td>\n      <td>0</td>\n      <td>0</td>\n      <td>1</td>\n      <td>...</td>\n      <td>80</td>\n      <td>0</td>\n      <td>0</td>\n      <td>1.000000</td>\n      <td>0.000000</td>\n      <td>1.000000</td>\n      <td>0.000000</td>\n      <td>0.000000</td>\n      <td>375.0</td>\n      <td>80.0</td>\n    </tr>\n    <tr>\n      <th>3</th>\n      <td>7</td>\n      <td>0</td>\n      <td>0</td>\n      <td>0</td>\n      <td>0</td>\n      <td>1</td>\n      <td>0</td>\n      <td>0</td>\n      <td>0</td>\n      <td>0</td>\n      <td>...</td>\n      <td>0</td>\n      <td>0</td>\n      <td>0</td>\n      <td>1.000000</td>\n      <td>1.000000</td>\n      <td>0.000000</td>\n      <td>0.000000</td>\n      <td>0.000000</td>\n      <td>0.0</td>\n      <td>1.0</td>\n    </tr>\n    <tr>\n      <th>4</th>\n      <td>8</td>\n      <td>1</td>\n      <td>0</td>\n      <td>1</td>\n      <td>0</td>\n      <td>1</td>\n      <td>0</td>\n      <td>0</td>\n      <td>0</td>\n      <td>1</td>\n      <td>...</td>\n      <td>10</td>\n      <td>0</td>\n      <td>0</td>\n      <td>0.510066</td>\n      <td>0.583333</td>\n      <td>0.416667</td>\n      <td>0.000000</td>\n      <td>0.000000</td>\n      <td>127.0</td>\n      <td>24.0</td>\n    </tr>\n    <tr>\n      <th>...</th>\n      <td>...</td>\n      <td>...</td>\n      <td>...</td>\n      <td>...</td>\n      <td>...</td>\n      <td>...</td>\n      <td>...</td>\n      <td>...</td>\n      <td>...</td>\n      <td>...</td>\n      <td>...</td>\n      <td>...</td>\n      <td>...</td>\n      <td>...</td>\n      <td>...</td>\n      <td>...</td>\n      <td>...</td>\n      <td>...</td>\n      <td>...</td>\n      <td>...</td>\n      <td>...</td>\n    </tr>\n    <tr>\n      <th>23686</th>\n      <td>28139</td>\n      <td>1</td>\n      <td>0</td>\n      <td>0</td>\n      <td>0</td>\n      <td>1</td>\n      <td>0</td>\n      <td>0</td>\n      <td>0</td>\n      <td>0</td>\n      <td>...</td>\n      <td>3</td>\n      <td>50</td>\n      <td>1</td>\n      <td>0.779479</td>\n      <td>0.000000</td>\n      <td>0.055556</td>\n      <td>0.925926</td>\n      <td>0.018519</td>\n      <td>316.0</td>\n      <td>54.0</td>\n    </tr>\n    <tr>\n      <th>23687</th>\n      <td>28140</td>\n      <td>1</td>\n      <td>0</td>\n      <td>1</td>\n      <td>0</td>\n      <td>0</td>\n      <td>0</td>\n      <td>0</td>\n      <td>0</td>\n      <td>0</td>\n      <td>...</td>\n      <td>0</td>\n      <td>0</td>\n      <td>67</td>\n      <td>0.755110</td>\n      <td>0.106667</td>\n      <td>0.000000</td>\n      <td>0.000000</td>\n      <td>0.893333</td>\n      <td>449.0</td>\n      <td>75.0</td>\n    </tr>\n    <tr>\n      <th>23688</th>\n      <td>28141</td>\n      <td>1</td>\n      <td>0</td>\n      <td>0</td>\n      <td>0</td>\n      <td>1</td>\n      <td>0</td>\n      <td>0</td>\n      <td>0</td>\n      <td>0</td>\n      <td>...</td>\n      <td>3</td>\n      <td>0</td>\n      <td>19</td>\n      <td>0.343868</td>\n      <td>0.435897</td>\n      <td>0.076923</td>\n      <td>0.000000</td>\n      <td>0.487179</td>\n      <td>152.0</td>\n      <td>39.0</td>\n    </tr>\n    <tr>\n      <th>23689</th>\n      <td>28142</td>\n      <td>0</td>\n      <td>0</td>\n      <td>0</td>\n      <td>0</td>\n      <td>1</td>\n      <td>1</td>\n      <td>0</td>\n      <td>0</td>\n      <td>0</td>\n      <td>...</td>\n      <td>0</td>\n      <td>0</td>\n      <td>0</td>\n      <td>-1.000000</td>\n      <td>-1.000000</td>\n      <td>-1.000000</td>\n      <td>-1.000000</td>\n      <td>-1.000000</td>\n      <td>2.0</td>\n      <td>0.0</td>\n    </tr>\n    <tr>\n      <th>23690</th>\n      <td>28143</td>\n      <td>1</td>\n      <td>0</td>\n      <td>1</td>\n      <td>0</td>\n      <td>0</td>\n      <td>0</td>\n      <td>0</td>\n      <td>0</td>\n      <td>0</td>\n      <td>...</td>\n      <td>2</td>\n      <td>0</td>\n      <td>0</td>\n      <td>0.514525</td>\n      <td>0.600000</td>\n      <td>0.400000</td>\n      <td>0.000000</td>\n      <td>0.000000</td>\n      <td>33.0</td>\n      <td>5.0</td>\n    </tr>\n  </tbody>\n</table>\n<p>23691 rows × 925 columns</p>\n</div>"
     },
     "execution_count": 3,
     "metadata": {},
     "output_type": "execute_result"
    }
   ],
   "source": [
    "item_attributes"
   ],
   "metadata": {
    "collapsed": false,
    "pycharm": {
     "name": "#%%\n"
    }
   }
  },
  {
   "cell_type": "code",
   "execution_count": 6,
   "outputs": [
    {
     "data": {
      "text/plain": "         session_id  session_length  session_length_distinct  day_of_week  \\\n0                 3               2                        1            4   \n1                13               1                        1            4   \n2                18               3                        3            2   \n3                18               3                        3            2   \n4                18               3                        3            2   \n...             ...             ...                      ...          ...   \n4108845     4440001              19                       18            4   \n4108846     4440001              19                       18            4   \n4108847     4440001              19                       18            4   \n4108848     4440001              19                       18            4   \n4108849     4440001              19                       18            4   \n\n         month  year  session_delta_time  session_mean_item_time  \\\n0           12  2020                 312              156.000000   \n1            3  2020                   0                0.000000   \n2            8  2020                 163               54.333333   \n3            8  2020                 163               54.333333   \n4            8  2020                 163               54.333333   \n...        ...   ...                 ...                     ...   \n4108845     10  2020               25091             1320.578947   \n4108846     10  2020               25091             1320.578947   \n4108847     10  2020               25091             1320.578947   \n4108848     10  2020               25091             1320.578947   \n4108849     10  2020               25091             1320.578947   \n\n         num_never_seen_items  num_never_purchased_items  \n0                           0                          0  \n1                           0                          1  \n2                           0                          0  \n3                           0                          0  \n4                           0                          0  \n...                       ...                        ...  \n4108845                     0                         19  \n4108846                     0                         19  \n4108847                     0                         19  \n4108848                     0                         19  \n4108849                     0                         19  \n\n[4108850 rows x 10 columns]",
      "text/html": "<div>\n<style scoped>\n    .dataframe tbody tr th:only-of-type {\n        vertical-align: middle;\n    }\n\n    .dataframe tbody tr th {\n        vertical-align: top;\n    }\n\n    .dataframe thead th {\n        text-align: right;\n    }\n</style>\n<table border=\"1\" class=\"dataframe\">\n  <thead>\n    <tr style=\"text-align: right;\">\n      <th></th>\n      <th>session_id</th>\n      <th>session_length</th>\n      <th>session_length_distinct</th>\n      <th>day_of_week</th>\n      <th>month</th>\n      <th>year</th>\n      <th>session_delta_time</th>\n      <th>session_mean_item_time</th>\n      <th>num_never_seen_items</th>\n      <th>num_never_purchased_items</th>\n    </tr>\n  </thead>\n  <tbody>\n    <tr>\n      <th>0</th>\n      <td>3</td>\n      <td>2</td>\n      <td>1</td>\n      <td>4</td>\n      <td>12</td>\n      <td>2020</td>\n      <td>312</td>\n      <td>156.000000</td>\n      <td>0</td>\n      <td>0</td>\n    </tr>\n    <tr>\n      <th>1</th>\n      <td>13</td>\n      <td>1</td>\n      <td>1</td>\n      <td>4</td>\n      <td>3</td>\n      <td>2020</td>\n      <td>0</td>\n      <td>0.000000</td>\n      <td>0</td>\n      <td>1</td>\n    </tr>\n    <tr>\n      <th>2</th>\n      <td>18</td>\n      <td>3</td>\n      <td>3</td>\n      <td>2</td>\n      <td>8</td>\n      <td>2020</td>\n      <td>163</td>\n      <td>54.333333</td>\n      <td>0</td>\n      <td>0</td>\n    </tr>\n    <tr>\n      <th>3</th>\n      <td>18</td>\n      <td>3</td>\n      <td>3</td>\n      <td>2</td>\n      <td>8</td>\n      <td>2020</td>\n      <td>163</td>\n      <td>54.333333</td>\n      <td>0</td>\n      <td>0</td>\n    </tr>\n    <tr>\n      <th>4</th>\n      <td>18</td>\n      <td>3</td>\n      <td>3</td>\n      <td>2</td>\n      <td>8</td>\n      <td>2020</td>\n      <td>163</td>\n      <td>54.333333</td>\n      <td>0</td>\n      <td>0</td>\n    </tr>\n    <tr>\n      <th>...</th>\n      <td>...</td>\n      <td>...</td>\n      <td>...</td>\n      <td>...</td>\n      <td>...</td>\n      <td>...</td>\n      <td>...</td>\n      <td>...</td>\n      <td>...</td>\n      <td>...</td>\n    </tr>\n    <tr>\n      <th>4108845</th>\n      <td>4440001</td>\n      <td>19</td>\n      <td>18</td>\n      <td>4</td>\n      <td>10</td>\n      <td>2020</td>\n      <td>25091</td>\n      <td>1320.578947</td>\n      <td>0</td>\n      <td>19</td>\n    </tr>\n    <tr>\n      <th>4108846</th>\n      <td>4440001</td>\n      <td>19</td>\n      <td>18</td>\n      <td>4</td>\n      <td>10</td>\n      <td>2020</td>\n      <td>25091</td>\n      <td>1320.578947</td>\n      <td>0</td>\n      <td>19</td>\n    </tr>\n    <tr>\n      <th>4108847</th>\n      <td>4440001</td>\n      <td>19</td>\n      <td>18</td>\n      <td>4</td>\n      <td>10</td>\n      <td>2020</td>\n      <td>25091</td>\n      <td>1320.578947</td>\n      <td>0</td>\n      <td>19</td>\n    </tr>\n    <tr>\n      <th>4108848</th>\n      <td>4440001</td>\n      <td>19</td>\n      <td>18</td>\n      <td>4</td>\n      <td>10</td>\n      <td>2020</td>\n      <td>25091</td>\n      <td>1320.578947</td>\n      <td>0</td>\n      <td>19</td>\n    </tr>\n    <tr>\n      <th>4108849</th>\n      <td>4440001</td>\n      <td>19</td>\n      <td>18</td>\n      <td>4</td>\n      <td>10</td>\n      <td>2020</td>\n      <td>25091</td>\n      <td>1320.578947</td>\n      <td>0</td>\n      <td>19</td>\n    </tr>\n  </tbody>\n</table>\n<p>4108850 rows × 10 columns</p>\n</div>"
     },
     "execution_count": 6,
     "metadata": {},
     "output_type": "execute_result"
    }
   ],
   "source": [
    "session_attributes_train"
   ],
   "metadata": {
    "collapsed": false,
    "pycharm": {
     "name": "#%%\n"
    }
   }
  },
  {
   "cell_type": "code",
   "execution_count": 5,
   "outputs": [
    {
     "data": {
      "text/plain": "        item_id  feature_category_id  feature_value_id category_value\n0             2                   56               365         56-365\n1             2                   62               801         62-801\n2             2                   68               351         68-351\n3             2                   33               802         33-802\n4             2                   72                75          72-75\n...         ...                  ...               ...            ...\n471746    28143                   68               351         68-351\n471747    28143                   55               390         55-390\n471748    28143                   11               109         11-109\n471749    28143                   73                91          73-91\n471750    28143                   47               549         47-549\n\n[471751 rows x 4 columns]",
      "text/html": "<div>\n<style scoped>\n    .dataframe tbody tr th:only-of-type {\n        vertical-align: middle;\n    }\n\n    .dataframe tbody tr th {\n        vertical-align: top;\n    }\n\n    .dataframe thead th {\n        text-align: right;\n    }\n</style>\n<table border=\"1\" class=\"dataframe\">\n  <thead>\n    <tr style=\"text-align: right;\">\n      <th></th>\n      <th>item_id</th>\n      <th>feature_category_id</th>\n      <th>feature_value_id</th>\n      <th>category_value</th>\n    </tr>\n  </thead>\n  <tbody>\n    <tr>\n      <th>0</th>\n      <td>2</td>\n      <td>56</td>\n      <td>365</td>\n      <td>56-365</td>\n    </tr>\n    <tr>\n      <th>1</th>\n      <td>2</td>\n      <td>62</td>\n      <td>801</td>\n      <td>62-801</td>\n    </tr>\n    <tr>\n      <th>2</th>\n      <td>2</td>\n      <td>68</td>\n      <td>351</td>\n      <td>68-351</td>\n    </tr>\n    <tr>\n      <th>3</th>\n      <td>2</td>\n      <td>33</td>\n      <td>802</td>\n      <td>33-802</td>\n    </tr>\n    <tr>\n      <th>4</th>\n      <td>2</td>\n      <td>72</td>\n      <td>75</td>\n      <td>72-75</td>\n    </tr>\n    <tr>\n      <th>...</th>\n      <td>...</td>\n      <td>...</td>\n      <td>...</td>\n      <td>...</td>\n    </tr>\n    <tr>\n      <th>471746</th>\n      <td>28143</td>\n      <td>68</td>\n      <td>351</td>\n      <td>68-351</td>\n    </tr>\n    <tr>\n      <th>471747</th>\n      <td>28143</td>\n      <td>55</td>\n      <td>390</td>\n      <td>55-390</td>\n    </tr>\n    <tr>\n      <th>471748</th>\n      <td>28143</td>\n      <td>11</td>\n      <td>109</td>\n      <td>11-109</td>\n    </tr>\n    <tr>\n      <th>471749</th>\n      <td>28143</td>\n      <td>73</td>\n      <td>91</td>\n      <td>73-91</td>\n    </tr>\n    <tr>\n      <th>471750</th>\n      <td>28143</td>\n      <td>47</td>\n      <td>549</td>\n      <td>47-549</td>\n    </tr>\n  </tbody>\n</table>\n<p>471751 rows × 4 columns</p>\n</div>"
     },
     "execution_count": 5,
     "metadata": {},
     "output_type": "execute_result"
    }
   ],
   "source": [
    "item_features['category_value'] = item_features['feature_category_id'].astype(str) + '-' + item_features[\n",
    "        'feature_value_id'].astype(str)\n",
    "item_features"
   ],
   "metadata": {
    "collapsed": false,
    "pycharm": {
     "name": "#%%\n"
    }
   }
  },
  {
   "cell_type": "code",
   "execution_count": 6,
   "outputs": [
    {
     "data": {
      "text/plain": "        item_id  feature_category_id  feature_value_id  category_value\n0             2                   56               365               0\n1             2                   62               801               1\n2             2                   68               351               2\n3             2                   33               802               3\n4             2                   72                75               4\n...         ...                  ...               ...             ...\n471746    28143                   68               351               2\n471747    28143                   55               390             545\n471748    28143                   11               109              62\n471749    28143                   73                91             168\n471750    28143                   47               549              34\n\n[471751 rows x 4 columns]",
      "text/html": "<div>\n<style scoped>\n    .dataframe tbody tr th:only-of-type {\n        vertical-align: middle;\n    }\n\n    .dataframe tbody tr th {\n        vertical-align: top;\n    }\n\n    .dataframe thead th {\n        text-align: right;\n    }\n</style>\n<table border=\"1\" class=\"dataframe\">\n  <thead>\n    <tr style=\"text-align: right;\">\n      <th></th>\n      <th>item_id</th>\n      <th>feature_category_id</th>\n      <th>feature_value_id</th>\n      <th>category_value</th>\n    </tr>\n  </thead>\n  <tbody>\n    <tr>\n      <th>0</th>\n      <td>2</td>\n      <td>56</td>\n      <td>365</td>\n      <td>0</td>\n    </tr>\n    <tr>\n      <th>1</th>\n      <td>2</td>\n      <td>62</td>\n      <td>801</td>\n      <td>1</td>\n    </tr>\n    <tr>\n      <th>2</th>\n      <td>2</td>\n      <td>68</td>\n      <td>351</td>\n      <td>2</td>\n    </tr>\n    <tr>\n      <th>3</th>\n      <td>2</td>\n      <td>33</td>\n      <td>802</td>\n      <td>3</td>\n    </tr>\n    <tr>\n      <th>4</th>\n      <td>2</td>\n      <td>72</td>\n      <td>75</td>\n      <td>4</td>\n    </tr>\n    <tr>\n      <th>...</th>\n      <td>...</td>\n      <td>...</td>\n      <td>...</td>\n      <td>...</td>\n    </tr>\n    <tr>\n      <th>471746</th>\n      <td>28143</td>\n      <td>68</td>\n      <td>351</td>\n      <td>2</td>\n    </tr>\n    <tr>\n      <th>471747</th>\n      <td>28143</td>\n      <td>55</td>\n      <td>390</td>\n      <td>545</td>\n    </tr>\n    <tr>\n      <th>471748</th>\n      <td>28143</td>\n      <td>11</td>\n      <td>109</td>\n      <td>62</td>\n    </tr>\n    <tr>\n      <th>471749</th>\n      <td>28143</td>\n      <td>73</td>\n      <td>91</td>\n      <td>168</td>\n    </tr>\n    <tr>\n      <th>471750</th>\n      <td>28143</td>\n      <td>47</td>\n      <td>549</td>\n      <td>34</td>\n    </tr>\n  </tbody>\n</table>\n<p>471751 rows × 4 columns</p>\n</div>"
     },
     "execution_count": 6,
     "metadata": {},
     "output_type": "execute_result"
    }
   ],
   "source": [
    "category_value_keys = list(item_features['category_value'].unique())  # list of pairs category-value\n",
    "category_value_values = [v for v in range(len(category_value_keys))]  # new index -- perché non fare arange?\n",
    "category_value_dict = dict(zip(category_value_keys, category_value_values))\n",
    "item_features['category_value'] = item_features['category_value'].map(category_value_dict)\n",
    "item_features"
   ],
   "metadata": {
    "collapsed": false,
    "pycharm": {
     "name": "#%%\n"
    }
   }
  },
  {
   "cell_type": "code",
   "execution_count": 7,
   "outputs": [
    {
     "data": {
      "text/plain": "          session_id  item_id                     date  feature_category_id  \\\n0                  3    15085  2020-12-18 21:26:47.986                   56   \n1                  3    15085  2020-12-18 21:26:47.986                   47   \n2                  3    15085  2020-12-18 21:26:47.986                   37   \n3                  3    15085  2020-12-18 21:26:47.986                   49   \n4                  3    15085  2020-12-18 21:26:47.986                   31   \n...              ...      ...                      ...                  ...   \n21457302     4435589     3302  2020-02-12 10:30:58.773                   67   \n21457303     4435589     3302  2020-02-12 10:30:58.773                   66   \n21457304     4435589     3302  2020-02-12 10:30:58.773                   61   \n21457305     4435589     3302  2020-02-12 10:30:58.773                   31   \n21457306     4435589     3302  2020-02-12 10:30:58.773                   50   \n\n          feature_value_id  category_value  \n0                      365               0  \n1                      512             107  \n2                       45             349  \n3                      465             156  \n4                      768             110  \n...                    ...             ...  \n21457302               566             298  \n21457303               886             321  \n21457304               898             105  \n21457305               768             110  \n21457306               708              46  \n\n[21457307 rows x 6 columns]",
      "text/html": "<div>\n<style scoped>\n    .dataframe tbody tr th:only-of-type {\n        vertical-align: middle;\n    }\n\n    .dataframe tbody tr th {\n        vertical-align: top;\n    }\n\n    .dataframe thead th {\n        text-align: right;\n    }\n</style>\n<table border=\"1\" class=\"dataframe\">\n  <thead>\n    <tr style=\"text-align: right;\">\n      <th></th>\n      <th>session_id</th>\n      <th>item_id</th>\n      <th>date</th>\n      <th>feature_category_id</th>\n      <th>feature_value_id</th>\n      <th>category_value</th>\n    </tr>\n  </thead>\n  <tbody>\n    <tr>\n      <th>0</th>\n      <td>3</td>\n      <td>15085</td>\n      <td>2020-12-18 21:26:47.986</td>\n      <td>56</td>\n      <td>365</td>\n      <td>0</td>\n    </tr>\n    <tr>\n      <th>1</th>\n      <td>3</td>\n      <td>15085</td>\n      <td>2020-12-18 21:26:47.986</td>\n      <td>47</td>\n      <td>512</td>\n      <td>107</td>\n    </tr>\n    <tr>\n      <th>2</th>\n      <td>3</td>\n      <td>15085</td>\n      <td>2020-12-18 21:26:47.986</td>\n      <td>37</td>\n      <td>45</td>\n      <td>349</td>\n    </tr>\n    <tr>\n      <th>3</th>\n      <td>3</td>\n      <td>15085</td>\n      <td>2020-12-18 21:26:47.986</td>\n      <td>49</td>\n      <td>465</td>\n      <td>156</td>\n    </tr>\n    <tr>\n      <th>4</th>\n      <td>3</td>\n      <td>15085</td>\n      <td>2020-12-18 21:26:47.986</td>\n      <td>31</td>\n      <td>768</td>\n      <td>110</td>\n    </tr>\n    <tr>\n      <th>...</th>\n      <td>...</td>\n      <td>...</td>\n      <td>...</td>\n      <td>...</td>\n      <td>...</td>\n      <td>...</td>\n    </tr>\n    <tr>\n      <th>21457302</th>\n      <td>4435589</td>\n      <td>3302</td>\n      <td>2020-02-12 10:30:58.773</td>\n      <td>67</td>\n      <td>566</td>\n      <td>298</td>\n    </tr>\n    <tr>\n      <th>21457303</th>\n      <td>4435589</td>\n      <td>3302</td>\n      <td>2020-02-12 10:30:58.773</td>\n      <td>66</td>\n      <td>886</td>\n      <td>321</td>\n    </tr>\n    <tr>\n      <th>21457304</th>\n      <td>4435589</td>\n      <td>3302</td>\n      <td>2020-02-12 10:30:58.773</td>\n      <td>61</td>\n      <td>898</td>\n      <td>105</td>\n    </tr>\n    <tr>\n      <th>21457305</th>\n      <td>4435589</td>\n      <td>3302</td>\n      <td>2020-02-12 10:30:58.773</td>\n      <td>31</td>\n      <td>768</td>\n      <td>110</td>\n    </tr>\n    <tr>\n      <th>21457306</th>\n      <td>4435589</td>\n      <td>3302</td>\n      <td>2020-02-12 10:30:58.773</td>\n      <td>50</td>\n      <td>708</td>\n      <td>46</td>\n    </tr>\n  </tbody>\n</table>\n<p>21457307 rows × 6 columns</p>\n</div>"
     },
     "execution_count": 7,
     "metadata": {},
     "output_type": "execute_result"
    }
   ],
   "source": [
    "train_purchases_merged = train_purchases.merge(right=item_features, left_on='item_id', right_on='item_id')\n",
    "train_purchases_merged"
   ],
   "metadata": {
    "collapsed": false,
    "pycharm": {
     "name": "#%%\n"
    }
   }
  },
  {
   "cell_type": "code",
   "execution_count": 8,
   "outputs": [
    {
     "data": {
      "text/plain": "    feature_category_id  session_id\n0                     1       35000\n1                     2       90855\n2                     3      456574\n3                     4      851535\n4                     5      457910\n..                  ...         ...\n67                   69      902120\n68                   70       34322\n69                   71       32877\n70                   72      902526\n71                   73      815838\n\n[72 rows x 2 columns]",
      "text/html": "<div>\n<style scoped>\n    .dataframe tbody tr th:only-of-type {\n        vertical-align: middle;\n    }\n\n    .dataframe tbody tr th {\n        vertical-align: top;\n    }\n\n    .dataframe thead th {\n        text-align: right;\n    }\n</style>\n<table border=\"1\" class=\"dataframe\">\n  <thead>\n    <tr style=\"text-align: right;\">\n      <th></th>\n      <th>feature_category_id</th>\n      <th>session_id</th>\n    </tr>\n  </thead>\n  <tbody>\n    <tr>\n      <th>0</th>\n      <td>1</td>\n      <td>35000</td>\n    </tr>\n    <tr>\n      <th>1</th>\n      <td>2</td>\n      <td>90855</td>\n    </tr>\n    <tr>\n      <th>2</th>\n      <td>3</td>\n      <td>456574</td>\n    </tr>\n    <tr>\n      <th>3</th>\n      <td>4</td>\n      <td>851535</td>\n    </tr>\n    <tr>\n      <th>4</th>\n      <td>5</td>\n      <td>457910</td>\n    </tr>\n    <tr>\n      <th>...</th>\n      <td>...</td>\n      <td>...</td>\n    </tr>\n    <tr>\n      <th>67</th>\n      <td>69</td>\n      <td>902120</td>\n    </tr>\n    <tr>\n      <th>68</th>\n      <td>70</td>\n      <td>34322</td>\n    </tr>\n    <tr>\n      <th>69</th>\n      <td>71</td>\n      <td>32877</td>\n    </tr>\n    <tr>\n      <th>70</th>\n      <td>72</td>\n      <td>902526</td>\n    </tr>\n    <tr>\n      <th>71</th>\n      <td>73</td>\n      <td>815838</td>\n    </tr>\n  </tbody>\n</table>\n<p>72 rows × 2 columns</p>\n</div>"
     },
     "execution_count": 8,
     "metadata": {},
     "output_type": "execute_result"
    }
   ],
   "source": [
    "base = train_purchases_merged.groupby(by=\"feature_category_id\").count()[['session_id']]\n",
    "base.reset_index(inplace=True)\n",
    "base"
   ],
   "metadata": {
    "collapsed": false,
    "pycharm": {
     "name": "#%%\n"
    }
   }
  },
  {
   "cell_type": "code",
   "execution_count": 9,
   "outputs": [
    {
     "data": {
      "text/plain": "    feature_category_id   count\n0                     1   35000\n1                     2   90855\n2                     3  456574\n3                     4  851535\n4                     5  457910\n..                  ...     ...\n67                   69  902120\n68                   70   34322\n69                   71   32877\n70                   72  902526\n71                   73  815838\n\n[72 rows x 2 columns]",
      "text/html": "<div>\n<style scoped>\n    .dataframe tbody tr th:only-of-type {\n        vertical-align: middle;\n    }\n\n    .dataframe tbody tr th {\n        vertical-align: top;\n    }\n\n    .dataframe thead th {\n        text-align: right;\n    }\n</style>\n<table border=\"1\" class=\"dataframe\">\n  <thead>\n    <tr style=\"text-align: right;\">\n      <th></th>\n      <th>feature_category_id</th>\n      <th>count</th>\n    </tr>\n  </thead>\n  <tbody>\n    <tr>\n      <th>0</th>\n      <td>1</td>\n      <td>35000</td>\n    </tr>\n    <tr>\n      <th>1</th>\n      <td>2</td>\n      <td>90855</td>\n    </tr>\n    <tr>\n      <th>2</th>\n      <td>3</td>\n      <td>456574</td>\n    </tr>\n    <tr>\n      <th>3</th>\n      <td>4</td>\n      <td>851535</td>\n    </tr>\n    <tr>\n      <th>4</th>\n      <td>5</td>\n      <td>457910</td>\n    </tr>\n    <tr>\n      <th>...</th>\n      <td>...</td>\n      <td>...</td>\n    </tr>\n    <tr>\n      <th>67</th>\n      <td>69</td>\n      <td>902120</td>\n    </tr>\n    <tr>\n      <th>68</th>\n      <td>70</td>\n      <td>34322</td>\n    </tr>\n    <tr>\n      <th>69</th>\n      <td>71</td>\n      <td>32877</td>\n    </tr>\n    <tr>\n      <th>70</th>\n      <td>72</td>\n      <td>902526</td>\n    </tr>\n    <tr>\n      <th>71</th>\n      <td>73</td>\n      <td>815838</td>\n    </tr>\n  </tbody>\n</table>\n<p>72 rows × 2 columns</p>\n</div>"
     },
     "execution_count": 9,
     "metadata": {},
     "output_type": "execute_result"
    }
   ],
   "source": [
    "base.rename(columns={'session_id': 'count'}, inplace=True)\n",
    "base"
   ],
   "metadata": {
    "collapsed": false,
    "pycharm": {
     "name": "#%%\n"
    }
   }
  },
  {
   "cell_type": "code",
   "execution_count": 10,
   "outputs": [
    {
     "data": {
      "text/plain": "    feature_category_id     count\n0                     1  0.001631\n1                     2  0.004234\n2                     3  0.021278\n3                     4  0.039685\n4                     5  0.021341\n..                  ...       ...\n67                   69  0.042043\n68                   70  0.001600\n69                   71  0.001532\n70                   72  0.042061\n71                   73  0.038021\n\n[72 rows x 2 columns]",
      "text/html": "<div>\n<style scoped>\n    .dataframe tbody tr th:only-of-type {\n        vertical-align: middle;\n    }\n\n    .dataframe tbody tr th {\n        vertical-align: top;\n    }\n\n    .dataframe thead th {\n        text-align: right;\n    }\n</style>\n<table border=\"1\" class=\"dataframe\">\n  <thead>\n    <tr style=\"text-align: right;\">\n      <th></th>\n      <th>feature_category_id</th>\n      <th>count</th>\n    </tr>\n  </thead>\n  <tbody>\n    <tr>\n      <th>0</th>\n      <td>1</td>\n      <td>0.001631</td>\n    </tr>\n    <tr>\n      <th>1</th>\n      <td>2</td>\n      <td>0.004234</td>\n    </tr>\n    <tr>\n      <th>2</th>\n      <td>3</td>\n      <td>0.021278</td>\n    </tr>\n    <tr>\n      <th>3</th>\n      <td>4</td>\n      <td>0.039685</td>\n    </tr>\n    <tr>\n      <th>4</th>\n      <td>5</td>\n      <td>0.021341</td>\n    </tr>\n    <tr>\n      <th>...</th>\n      <td>...</td>\n      <td>...</td>\n    </tr>\n    <tr>\n      <th>67</th>\n      <td>69</td>\n      <td>0.042043</td>\n    </tr>\n    <tr>\n      <th>68</th>\n      <td>70</td>\n      <td>0.001600</td>\n    </tr>\n    <tr>\n      <th>69</th>\n      <td>71</td>\n      <td>0.001532</td>\n    </tr>\n    <tr>\n      <th>70</th>\n      <td>72</td>\n      <td>0.042061</td>\n    </tr>\n    <tr>\n      <th>71</th>\n      <td>73</td>\n      <td>0.038021</td>\n    </tr>\n  </tbody>\n</table>\n<p>72 rows × 2 columns</p>\n</div>"
     },
     "execution_count": 10,
     "metadata": {},
     "output_type": "execute_result"
    }
   ],
   "source": [
    "base[\"count\"] = base[\"count\"]  / len(train_purchases_merged)\n",
    "base"
   ],
   "metadata": {
    "collapsed": false,
    "pycharm": {
     "name": "#%%\n"
    }
   }
  },
  {
   "cell_type": "code",
   "execution_count": 11,
   "outputs": [
    {
     "data": {
      "text/plain": "    feature_category_id     count\n0                     1  0.001805\n1                     2  0.003228\n2                     3  0.022887\n3                     4  0.039996\n4                     5  0.022953\n..                  ...       ...\n68                   69  0.042606\n69                   70  0.001523\n70                   71  0.001179\n71                   72  0.042625\n72                   73  0.037103\n\n[73 rows x 2 columns]",
      "text/html": "<div>\n<style scoped>\n    .dataframe tbody tr th:only-of-type {\n        vertical-align: middle;\n    }\n\n    .dataframe tbody tr th {\n        vertical-align: top;\n    }\n\n    .dataframe thead th {\n        text-align: right;\n    }\n</style>\n<table border=\"1\" class=\"dataframe\">\n  <thead>\n    <tr style=\"text-align: right;\">\n      <th></th>\n      <th>feature_category_id</th>\n      <th>count</th>\n    </tr>\n  </thead>\n  <tbody>\n    <tr>\n      <th>0</th>\n      <td>1</td>\n      <td>0.001805</td>\n    </tr>\n    <tr>\n      <th>1</th>\n      <td>2</td>\n      <td>0.003228</td>\n    </tr>\n    <tr>\n      <th>2</th>\n      <td>3</td>\n      <td>0.022887</td>\n    </tr>\n    <tr>\n      <th>3</th>\n      <td>4</td>\n      <td>0.039996</td>\n    </tr>\n    <tr>\n      <th>4</th>\n      <td>5</td>\n      <td>0.022953</td>\n    </tr>\n    <tr>\n      <th>...</th>\n      <td>...</td>\n      <td>...</td>\n    </tr>\n    <tr>\n      <th>68</th>\n      <td>69</td>\n      <td>0.042606</td>\n    </tr>\n    <tr>\n      <th>69</th>\n      <td>70</td>\n      <td>0.001523</td>\n    </tr>\n    <tr>\n      <th>70</th>\n      <td>71</td>\n      <td>0.001179</td>\n    </tr>\n    <tr>\n      <th>71</th>\n      <td>72</td>\n      <td>0.042625</td>\n    </tr>\n    <tr>\n      <th>72</th>\n      <td>73</td>\n      <td>0.037103</td>\n    </tr>\n  </tbody>\n</table>\n<p>73 rows × 2 columns</p>\n</div>"
     },
     "execution_count": 11,
     "metadata": {},
     "output_type": "execute_result"
    }
   ],
   "source": [
    "train_sessions_merged = train_sessions.merge(right=item_features, left_on='item_id', right_on='item_id')\n",
    "base_sessions = train_sessions_merged.groupby(by=\"feature_category_id\").count()[['session_id']]\n",
    "base_sessions.reset_index(inplace=True)\n",
    "base_sessions.rename(columns={'session_id': 'count'}, inplace=True)\n",
    "base_sessions[\"count\"] = base_sessions[\"count\"]  / len(train_sessions_merged)\n",
    "base_sessions"
   ],
   "metadata": {
    "collapsed": false,
    "pycharm": {
     "name": "#%%\n"
    }
   }
  },
  {
   "cell_type": "code",
   "execution_count": 12,
   "outputs": [
    {
     "data": {
      "text/plain": "    feature_category_id  count_view  count_purchase\n0                     1    0.001631    1.805491e-03\n1                     2    0.004234    3.227546e-03\n2                     3    0.021278    2.288701e-02\n3                     4    0.039685    3.999629e-02\n4                     5    0.021341    2.295337e-02\n..                  ...         ...             ...\n68                   70    0.001600    1.523036e-03\n69                   71    0.001532    1.178810e-03\n70                   72    0.042061    4.262454e-02\n71                   73    0.038021    3.710271e-02\n72                   27         NaN    9.720060e-09\n\n[73 rows x 3 columns]",
      "text/html": "<div>\n<style scoped>\n    .dataframe tbody tr th:only-of-type {\n        vertical-align: middle;\n    }\n\n    .dataframe tbody tr th {\n        vertical-align: top;\n    }\n\n    .dataframe thead th {\n        text-align: right;\n    }\n</style>\n<table border=\"1\" class=\"dataframe\">\n  <thead>\n    <tr style=\"text-align: right;\">\n      <th></th>\n      <th>feature_category_id</th>\n      <th>count_view</th>\n      <th>count_purchase</th>\n    </tr>\n  </thead>\n  <tbody>\n    <tr>\n      <th>0</th>\n      <td>1</td>\n      <td>0.001631</td>\n      <td>1.805491e-03</td>\n    </tr>\n    <tr>\n      <th>1</th>\n      <td>2</td>\n      <td>0.004234</td>\n      <td>3.227546e-03</td>\n    </tr>\n    <tr>\n      <th>2</th>\n      <td>3</td>\n      <td>0.021278</td>\n      <td>2.288701e-02</td>\n    </tr>\n    <tr>\n      <th>3</th>\n      <td>4</td>\n      <td>0.039685</td>\n      <td>3.999629e-02</td>\n    </tr>\n    <tr>\n      <th>4</th>\n      <td>5</td>\n      <td>0.021341</td>\n      <td>2.295337e-02</td>\n    </tr>\n    <tr>\n      <th>...</th>\n      <td>...</td>\n      <td>...</td>\n      <td>...</td>\n    </tr>\n    <tr>\n      <th>68</th>\n      <td>70</td>\n      <td>0.001600</td>\n      <td>1.523036e-03</td>\n    </tr>\n    <tr>\n      <th>69</th>\n      <td>71</td>\n      <td>0.001532</td>\n      <td>1.178810e-03</td>\n    </tr>\n    <tr>\n      <th>70</th>\n      <td>72</td>\n      <td>0.042061</td>\n      <td>4.262454e-02</td>\n    </tr>\n    <tr>\n      <th>71</th>\n      <td>73</td>\n      <td>0.038021</td>\n      <td>3.710271e-02</td>\n    </tr>\n    <tr>\n      <th>72</th>\n      <td>27</td>\n      <td>NaN</td>\n      <td>9.720060e-09</td>\n    </tr>\n  </tbody>\n</table>\n<p>73 rows × 3 columns</p>\n</div>"
     },
     "execution_count": 12,
     "metadata": {},
     "output_type": "execute_result"
    }
   ],
   "source": [
    "merged = base.merge(right=base_sessions, how='outer', left_on='feature_category_id', right_on='feature_category_id')\n",
    "merged.rename(columns={'count_x': 'count_view', 'count_y': 'count_purchase'}, inplace=True)\n",
    "merged"
   ],
   "metadata": {
    "collapsed": false,
    "pycharm": {
     "name": "#%%\n"
    }
   }
  },
  {
   "cell_type": "code",
   "execution_count": 13,
   "outputs": [
    {
     "data": {
      "text/plain": "    feature_category_id  count_view  count_purchase\n0                     1    0.034969        0.039156\n1                     2    0.090826        0.069996\n2                     3    0.456557        0.496354\n3                     4    0.851530        0.867406\n4                     5    0.457893        0.497793\n..                  ...         ...             ...\n68                   70    0.034291        0.033030\n69                   71    0.032846        0.025565\n70                   72    0.902523        0.924406\n71                   73    0.815832        0.804653\n72                   27         NaN        0.000000\n\n[73 rows x 3 columns]",
      "text/html": "<div>\n<style scoped>\n    .dataframe tbody tr th:only-of-type {\n        vertical-align: middle;\n    }\n\n    .dataframe tbody tr th {\n        vertical-align: top;\n    }\n\n    .dataframe thead th {\n        text-align: right;\n    }\n</style>\n<table border=\"1\" class=\"dataframe\">\n  <thead>\n    <tr style=\"text-align: right;\">\n      <th></th>\n      <th>feature_category_id</th>\n      <th>count_view</th>\n      <th>count_purchase</th>\n    </tr>\n  </thead>\n  <tbody>\n    <tr>\n      <th>0</th>\n      <td>1</td>\n      <td>0.034969</td>\n      <td>0.039156</td>\n    </tr>\n    <tr>\n      <th>1</th>\n      <td>2</td>\n      <td>0.090826</td>\n      <td>0.069996</td>\n    </tr>\n    <tr>\n      <th>2</th>\n      <td>3</td>\n      <td>0.456557</td>\n      <td>0.496354</td>\n    </tr>\n    <tr>\n      <th>3</th>\n      <td>4</td>\n      <td>0.851530</td>\n      <td>0.867406</td>\n    </tr>\n    <tr>\n      <th>4</th>\n      <td>5</td>\n      <td>0.457893</td>\n      <td>0.497793</td>\n    </tr>\n    <tr>\n      <th>...</th>\n      <td>...</td>\n      <td>...</td>\n      <td>...</td>\n    </tr>\n    <tr>\n      <th>68</th>\n      <td>70</td>\n      <td>0.034291</td>\n      <td>0.033030</td>\n    </tr>\n    <tr>\n      <th>69</th>\n      <td>71</td>\n      <td>0.032846</td>\n      <td>0.025565</td>\n    </tr>\n    <tr>\n      <th>70</th>\n      <td>72</td>\n      <td>0.902523</td>\n      <td>0.924406</td>\n    </tr>\n    <tr>\n      <th>71</th>\n      <td>73</td>\n      <td>0.815832</td>\n      <td>0.804653</td>\n    </tr>\n    <tr>\n      <th>72</th>\n      <td>27</td>\n      <td>NaN</td>\n      <td>0.000000</td>\n    </tr>\n  </tbody>\n</table>\n<p>73 rows × 3 columns</p>\n</div>"
     },
     "execution_count": 13,
     "metadata": {},
     "output_type": "execute_result"
    }
   ],
   "source": [
    "merged[\"count_view\"] = (merged[\"count_view\"] - merged[\"count_view\"].min()) / (merged[\"count_view\"].max() - merged[\"count_view\"].min())\n",
    "merged[\"count_purchase\"] = (merged[\"count_purchase\"] - merged[\"count_purchase\"].min()) / (merged[\"count_purchase\"].max() - merged[\"count_purchase\"].min())\n",
    "merged"
   ],
   "metadata": {
    "collapsed": false,
    "pycharm": {
     "name": "#%%\n"
    }
   }
  },
  {
   "cell_type": "code",
   "execution_count": 14,
   "outputs": [
    {
     "data": {
      "text/plain": "    feature_category_id  count_view  count_purchase\n0                     1    0.034969        0.039156\n1                     2    0.090826        0.069996\n2                     3    0.456557        0.496354\n3                     4    0.851530        0.867406\n4                     5    0.457893        0.497793\n..                  ...         ...             ...\n68                   70    0.034291        0.033030\n69                   71    0.032846        0.025565\n70                   72    0.902523        0.924406\n71                   73    0.815832        0.804653\n72                   27    0.000000        0.000000\n\n[73 rows x 3 columns]",
      "text/html": "<div>\n<style scoped>\n    .dataframe tbody tr th:only-of-type {\n        vertical-align: middle;\n    }\n\n    .dataframe tbody tr th {\n        vertical-align: top;\n    }\n\n    .dataframe thead th {\n        text-align: right;\n    }\n</style>\n<table border=\"1\" class=\"dataframe\">\n  <thead>\n    <tr style=\"text-align: right;\">\n      <th></th>\n      <th>feature_category_id</th>\n      <th>count_view</th>\n      <th>count_purchase</th>\n    </tr>\n  </thead>\n  <tbody>\n    <tr>\n      <th>0</th>\n      <td>1</td>\n      <td>0.034969</td>\n      <td>0.039156</td>\n    </tr>\n    <tr>\n      <th>1</th>\n      <td>2</td>\n      <td>0.090826</td>\n      <td>0.069996</td>\n    </tr>\n    <tr>\n      <th>2</th>\n      <td>3</td>\n      <td>0.456557</td>\n      <td>0.496354</td>\n    </tr>\n    <tr>\n      <th>3</th>\n      <td>4</td>\n      <td>0.851530</td>\n      <td>0.867406</td>\n    </tr>\n    <tr>\n      <th>4</th>\n      <td>5</td>\n      <td>0.457893</td>\n      <td>0.497793</td>\n    </tr>\n    <tr>\n      <th>...</th>\n      <td>...</td>\n      <td>...</td>\n      <td>...</td>\n    </tr>\n    <tr>\n      <th>68</th>\n      <td>70</td>\n      <td>0.034291</td>\n      <td>0.033030</td>\n    </tr>\n    <tr>\n      <th>69</th>\n      <td>71</td>\n      <td>0.032846</td>\n      <td>0.025565</td>\n    </tr>\n    <tr>\n      <th>70</th>\n      <td>72</td>\n      <td>0.902523</td>\n      <td>0.924406</td>\n    </tr>\n    <tr>\n      <th>71</th>\n      <td>73</td>\n      <td>0.815832</td>\n      <td>0.804653</td>\n    </tr>\n    <tr>\n      <th>72</th>\n      <td>27</td>\n      <td>0.000000</td>\n      <td>0.000000</td>\n    </tr>\n  </tbody>\n</table>\n<p>73 rows × 3 columns</p>\n</div>"
     },
     "execution_count": 14,
     "metadata": {},
     "output_type": "execute_result"
    }
   ],
   "source": [
    "merged.fillna(value={\"count_purchase\": 0.0, \"count_view\": 0.0}, inplace=True)\n",
    "merged"
   ],
   "metadata": {
    "collapsed": false,
    "pycharm": {
     "name": "#%%\n"
    }
   }
  },
  {
   "cell_type": "code",
   "execution_count": 15,
   "outputs": [
    {
     "data": {
      "text/plain": "    feature_category_id  count_view  count_purchase  score\n0                     1    0.034969        0.039156  False\n1                     2    0.090826        0.069996  False\n2                     3    0.456557        0.496354  False\n3                     4    0.851530        0.867406  False\n4                     5    0.457893        0.497793  False\n..                  ...         ...             ...    ...\n68                   70    0.034291        0.033030  False\n69                   71    0.032846        0.025565  False\n70                   72    0.902523        0.924406  False\n71                   73    0.815832        0.804653  False\n72                   27    0.000000        0.000000   True\n\n[73 rows x 4 columns]",
      "text/html": "<div>\n<style scoped>\n    .dataframe tbody tr th:only-of-type {\n        vertical-align: middle;\n    }\n\n    .dataframe tbody tr th {\n        vertical-align: top;\n    }\n\n    .dataframe thead th {\n        text-align: right;\n    }\n</style>\n<table border=\"1\" class=\"dataframe\">\n  <thead>\n    <tr style=\"text-align: right;\">\n      <th></th>\n      <th>feature_category_id</th>\n      <th>count_view</th>\n      <th>count_purchase</th>\n      <th>score</th>\n    </tr>\n  </thead>\n  <tbody>\n    <tr>\n      <th>0</th>\n      <td>1</td>\n      <td>0.034969</td>\n      <td>0.039156</td>\n      <td>False</td>\n    </tr>\n    <tr>\n      <th>1</th>\n      <td>2</td>\n      <td>0.090826</td>\n      <td>0.069996</td>\n      <td>False</td>\n    </tr>\n    <tr>\n      <th>2</th>\n      <td>3</td>\n      <td>0.456557</td>\n      <td>0.496354</td>\n      <td>False</td>\n    </tr>\n    <tr>\n      <th>3</th>\n      <td>4</td>\n      <td>0.851530</td>\n      <td>0.867406</td>\n      <td>False</td>\n    </tr>\n    <tr>\n      <th>4</th>\n      <td>5</td>\n      <td>0.457893</td>\n      <td>0.497793</td>\n      <td>False</td>\n    </tr>\n    <tr>\n      <th>...</th>\n      <td>...</td>\n      <td>...</td>\n      <td>...</td>\n      <td>...</td>\n    </tr>\n    <tr>\n      <th>68</th>\n      <td>70</td>\n      <td>0.034291</td>\n      <td>0.033030</td>\n      <td>False</td>\n    </tr>\n    <tr>\n      <th>69</th>\n      <td>71</td>\n      <td>0.032846</td>\n      <td>0.025565</td>\n      <td>False</td>\n    </tr>\n    <tr>\n      <th>70</th>\n      <td>72</td>\n      <td>0.902523</td>\n      <td>0.924406</td>\n      <td>False</td>\n    </tr>\n    <tr>\n      <th>71</th>\n      <td>73</td>\n      <td>0.815832</td>\n      <td>0.804653</td>\n      <td>False</td>\n    </tr>\n    <tr>\n      <th>72</th>\n      <td>27</td>\n      <td>0.000000</td>\n      <td>0.000000</td>\n      <td>True</td>\n    </tr>\n  </tbody>\n</table>\n<p>73 rows × 4 columns</p>\n</div>"
     },
     "execution_count": 15,
     "metadata": {},
     "output_type": "execute_result"
    }
   ],
   "source": [
    "merged[\"score\"] = ((merged['count_view'] <= 1e-5) & (merged['count_purchase'] <= 1e-5))\n",
    "merged"
   ],
   "metadata": {
    "collapsed": false,
    "pycharm": {
     "name": "#%%\n"
    }
   }
  },
  {
   "cell_type": "code",
   "execution_count": 16,
   "outputs": [
    {
     "data": {
      "text/plain": "    feature_category_id  count_view  count_purchase  score\n0                     1    0.034969        0.039156  False\n1                     2    0.090826        0.069996  False\n2                     3    0.456557        0.496354  False\n3                     4    0.851530        0.867406  False\n4                     5    0.457893        0.497793  False\n..                  ...         ...             ...    ...\n68                   70    0.034291        0.033030  False\n69                   71    0.032846        0.025565  False\n70                   72    0.902523        0.924406  False\n71                   73    0.815832        0.804653  False\n72                   27    0.000000        0.000000   True\n\n[73 rows x 4 columns]",
      "text/html": "<div>\n<style scoped>\n    .dataframe tbody tr th:only-of-type {\n        vertical-align: middle;\n    }\n\n    .dataframe tbody tr th {\n        vertical-align: top;\n    }\n\n    .dataframe thead th {\n        text-align: right;\n    }\n</style>\n<table border=\"1\" class=\"dataframe\">\n  <thead>\n    <tr style=\"text-align: right;\">\n      <th></th>\n      <th>feature_category_id</th>\n      <th>count_view</th>\n      <th>count_purchase</th>\n      <th>score</th>\n    </tr>\n  </thead>\n  <tbody>\n    <tr>\n      <th>0</th>\n      <td>1</td>\n      <td>0.034969</td>\n      <td>0.039156</td>\n      <td>False</td>\n    </tr>\n    <tr>\n      <th>1</th>\n      <td>2</td>\n      <td>0.090826</td>\n      <td>0.069996</td>\n      <td>False</td>\n    </tr>\n    <tr>\n      <th>2</th>\n      <td>3</td>\n      <td>0.456557</td>\n      <td>0.496354</td>\n      <td>False</td>\n    </tr>\n    <tr>\n      <th>3</th>\n      <td>4</td>\n      <td>0.851530</td>\n      <td>0.867406</td>\n      <td>False</td>\n    </tr>\n    <tr>\n      <th>4</th>\n      <td>5</td>\n      <td>0.457893</td>\n      <td>0.497793</td>\n      <td>False</td>\n    </tr>\n    <tr>\n      <th>...</th>\n      <td>...</td>\n      <td>...</td>\n      <td>...</td>\n      <td>...</td>\n    </tr>\n    <tr>\n      <th>68</th>\n      <td>70</td>\n      <td>0.034291</td>\n      <td>0.033030</td>\n      <td>False</td>\n    </tr>\n    <tr>\n      <th>69</th>\n      <td>71</td>\n      <td>0.032846</td>\n      <td>0.025565</td>\n      <td>False</td>\n    </tr>\n    <tr>\n      <th>70</th>\n      <td>72</td>\n      <td>0.902523</td>\n      <td>0.924406</td>\n      <td>False</td>\n    </tr>\n    <tr>\n      <th>71</th>\n      <td>73</td>\n      <td>0.815832</td>\n      <td>0.804653</td>\n      <td>False</td>\n    </tr>\n    <tr>\n      <th>72</th>\n      <td>27</td>\n      <td>0.000000</td>\n      <td>0.000000</td>\n      <td>True</td>\n    </tr>\n  </tbody>\n</table>\n<p>73 rows × 4 columns</p>\n</div>"
     },
     "execution_count": 16,
     "metadata": {},
     "output_type": "execute_result"
    }
   ],
   "source": [
    "merged.loc[merged['score'] == True, 'count_view'] = 0\n",
    "merged.loc[merged['score'] == True, 'count_purchase'] = 0\n",
    "merged"
   ],
   "metadata": {
    "collapsed": false,
    "pycharm": {
     "name": "#%%\n"
    }
   }
  },
  {
   "cell_type": "code",
   "execution_count": 17,
   "outputs": [
    {
     "data": {
      "text/plain": "        item_id  feature_category_id  feature_value_id  category_value  \\\n0             2                   56               365               0   \n1             3                   56               365               0   \n2             4                   56               365               0   \n3             7                   56               153              45   \n4             8                   56               365               0   \n...         ...                  ...               ...             ...   \n471746    26817                   13               698             439   \n471747    26920                   13               698             439   \n471748    26967                   13               698             439   \n471749    27387                   13               252             500   \n471750    21256                   27               423             885   \n\n        count_view  count_purchase  score  \n0         1.000000        1.000000  False  \n1         1.000000        1.000000  False  \n2         1.000000        1.000000  False  \n3         1.000000        1.000000  False  \n4         1.000000        1.000000  False  \n...            ...             ...    ...  \n471746    0.006418        0.006589  False  \n471747    0.006418        0.006589  False  \n471748    0.006418        0.006589  False  \n471749    0.006418        0.006589  False  \n471750    0.000000        0.000000   True  \n\n[471751 rows x 7 columns]",
      "text/html": "<div>\n<style scoped>\n    .dataframe tbody tr th:only-of-type {\n        vertical-align: middle;\n    }\n\n    .dataframe tbody tr th {\n        vertical-align: top;\n    }\n\n    .dataframe thead th {\n        text-align: right;\n    }\n</style>\n<table border=\"1\" class=\"dataframe\">\n  <thead>\n    <tr style=\"text-align: right;\">\n      <th></th>\n      <th>item_id</th>\n      <th>feature_category_id</th>\n      <th>feature_value_id</th>\n      <th>category_value</th>\n      <th>count_view</th>\n      <th>count_purchase</th>\n      <th>score</th>\n    </tr>\n  </thead>\n  <tbody>\n    <tr>\n      <th>0</th>\n      <td>2</td>\n      <td>56</td>\n      <td>365</td>\n      <td>0</td>\n      <td>1.000000</td>\n      <td>1.000000</td>\n      <td>False</td>\n    </tr>\n    <tr>\n      <th>1</th>\n      <td>3</td>\n      <td>56</td>\n      <td>365</td>\n      <td>0</td>\n      <td>1.000000</td>\n      <td>1.000000</td>\n      <td>False</td>\n    </tr>\n    <tr>\n      <th>2</th>\n      <td>4</td>\n      <td>56</td>\n      <td>365</td>\n      <td>0</td>\n      <td>1.000000</td>\n      <td>1.000000</td>\n      <td>False</td>\n    </tr>\n    <tr>\n      <th>3</th>\n      <td>7</td>\n      <td>56</td>\n      <td>153</td>\n      <td>45</td>\n      <td>1.000000</td>\n      <td>1.000000</td>\n      <td>False</td>\n    </tr>\n    <tr>\n      <th>4</th>\n      <td>8</td>\n      <td>56</td>\n      <td>365</td>\n      <td>0</td>\n      <td>1.000000</td>\n      <td>1.000000</td>\n      <td>False</td>\n    </tr>\n    <tr>\n      <th>...</th>\n      <td>...</td>\n      <td>...</td>\n      <td>...</td>\n      <td>...</td>\n      <td>...</td>\n      <td>...</td>\n      <td>...</td>\n    </tr>\n    <tr>\n      <th>471746</th>\n      <td>26817</td>\n      <td>13</td>\n      <td>698</td>\n      <td>439</td>\n      <td>0.006418</td>\n      <td>0.006589</td>\n      <td>False</td>\n    </tr>\n    <tr>\n      <th>471747</th>\n      <td>26920</td>\n      <td>13</td>\n      <td>698</td>\n      <td>439</td>\n      <td>0.006418</td>\n      <td>0.006589</td>\n      <td>False</td>\n    </tr>\n    <tr>\n      <th>471748</th>\n      <td>26967</td>\n      <td>13</td>\n      <td>698</td>\n      <td>439</td>\n      <td>0.006418</td>\n      <td>0.006589</td>\n      <td>False</td>\n    </tr>\n    <tr>\n      <th>471749</th>\n      <td>27387</td>\n      <td>13</td>\n      <td>252</td>\n      <td>500</td>\n      <td>0.006418</td>\n      <td>0.006589</td>\n      <td>False</td>\n    </tr>\n    <tr>\n      <th>471750</th>\n      <td>21256</td>\n      <td>27</td>\n      <td>423</td>\n      <td>885</td>\n      <td>0.000000</td>\n      <td>0.000000</td>\n      <td>True</td>\n    </tr>\n  </tbody>\n</table>\n<p>471751 rows × 7 columns</p>\n</div>"
     },
     "execution_count": 17,
     "metadata": {},
     "output_type": "execute_result"
    }
   ],
   "source": [
    "item_features = item_features.merge(right=merged, left_on='feature_category_id', right_on='feature_category_id', how='outer')\n",
    "item_features"
   ],
   "metadata": {
    "collapsed": false,
    "pycharm": {
     "name": "#%%\n"
    }
   }
  },
  {
   "cell_type": "code",
   "execution_count": 18,
   "outputs": [],
   "source": [
    "item_features.fillna(value={\"count_purchase\": 0.0, \"count_view\": 0.0, \"score\": True}, inplace=True)"
   ],
   "metadata": {
    "collapsed": false,
    "pycharm": {
     "name": "#%%\n"
    }
   }
  },
  {
   "cell_type": "code",
   "execution_count": 19,
   "outputs": [
    {
     "data": {
      "text/plain": "        item_id  feature_category_id  count_view_feature_category_id  \\\n0             2                   56                        1.000000   \n1             3                   56                        1.000000   \n2             4                   56                        1.000000   \n3             7                   56                        1.000000   \n4             8                   56                        1.000000   \n...         ...                  ...                             ...   \n471746    26817                   13                        0.006418   \n471747    26920                   13                        0.006418   \n471748    26967                   13                        0.006418   \n471749    27387                   13                        0.006418   \n471750    21256                   27                        0.000000   \n\n        count_purchase_feature_category_id  \n0                                 1.000000  \n1                                 1.000000  \n2                                 1.000000  \n3                                 1.000000  \n4                                 1.000000  \n...                                    ...  \n471746                            0.006589  \n471747                            0.006589  \n471748                            0.006589  \n471749                            0.006589  \n471750                            0.000000  \n\n[471751 rows x 4 columns]",
      "text/html": "<div>\n<style scoped>\n    .dataframe tbody tr th:only-of-type {\n        vertical-align: middle;\n    }\n\n    .dataframe tbody tr th {\n        vertical-align: top;\n    }\n\n    .dataframe thead th {\n        text-align: right;\n    }\n</style>\n<table border=\"1\" class=\"dataframe\">\n  <thead>\n    <tr style=\"text-align: right;\">\n      <th></th>\n      <th>item_id</th>\n      <th>feature_category_id</th>\n      <th>count_view_feature_category_id</th>\n      <th>count_purchase_feature_category_id</th>\n    </tr>\n  </thead>\n  <tbody>\n    <tr>\n      <th>0</th>\n      <td>2</td>\n      <td>56</td>\n      <td>1.000000</td>\n      <td>1.000000</td>\n    </tr>\n    <tr>\n      <th>1</th>\n      <td>3</td>\n      <td>56</td>\n      <td>1.000000</td>\n      <td>1.000000</td>\n    </tr>\n    <tr>\n      <th>2</th>\n      <td>4</td>\n      <td>56</td>\n      <td>1.000000</td>\n      <td>1.000000</td>\n    </tr>\n    <tr>\n      <th>3</th>\n      <td>7</td>\n      <td>56</td>\n      <td>1.000000</td>\n      <td>1.000000</td>\n    </tr>\n    <tr>\n      <th>4</th>\n      <td>8</td>\n      <td>56</td>\n      <td>1.000000</td>\n      <td>1.000000</td>\n    </tr>\n    <tr>\n      <th>...</th>\n      <td>...</td>\n      <td>...</td>\n      <td>...</td>\n      <td>...</td>\n    </tr>\n    <tr>\n      <th>471746</th>\n      <td>26817</td>\n      <td>13</td>\n      <td>0.006418</td>\n      <td>0.006589</td>\n    </tr>\n    <tr>\n      <th>471747</th>\n      <td>26920</td>\n      <td>13</td>\n      <td>0.006418</td>\n      <td>0.006589</td>\n    </tr>\n    <tr>\n      <th>471748</th>\n      <td>26967</td>\n      <td>13</td>\n      <td>0.006418</td>\n      <td>0.006589</td>\n    </tr>\n    <tr>\n      <th>471749</th>\n      <td>27387</td>\n      <td>13</td>\n      <td>0.006418</td>\n      <td>0.006589</td>\n    </tr>\n    <tr>\n      <th>471750</th>\n      <td>21256</td>\n      <td>27</td>\n      <td>0.000000</td>\n      <td>0.000000</td>\n    </tr>\n  </tbody>\n</table>\n<p>471751 rows × 4 columns</p>\n</div>"
     },
     "execution_count": 19,
     "metadata": {},
     "output_type": "execute_result"
    }
   ],
   "source": [
    "item_features.drop(columns=[\"score\",\t\"feature_value_id\",\t\"category_value\"], inplace=True)\n",
    "item_features.rename(columns={\"count_view\": \"count_view_feature_category_id\", \"count_purchase\": \"count_purchase_feature_category_id\"}, inplace=True)\n",
    "item_features"
   ],
   "metadata": {
    "collapsed": false,
    "pycharm": {
     "name": "#%%\n"
    }
   }
  },
  {
   "cell_type": "code",
   "execution_count": 20,
   "outputs": [],
   "source": [
    "fresh = pd.read_csv(\"Dataset/item_features.csv\")"
   ],
   "metadata": {
    "collapsed": false,
    "pycharm": {
     "name": "#%%\n"
    }
   }
  },
  {
   "cell_type": "code",
   "execution_count": 22,
   "outputs": [
    {
     "data": {
      "text/plain": "        item_id  feature_category_id  feature_value_id\n129          10                   30                 2\n144          11                   30                 3\n238          18                   30                 4\n402          30                    4                 3\n478          35                   30                 2\n...         ...                  ...               ...\n461080    28125                   30                 3\n461095    28126                   30                 3\n461191    28133                   28                 2\n461193    28133                   30                 3\n461227    28135                   30                 3\n\n[5055 rows x 3 columns]",
      "text/html": "<div>\n<style scoped>\n    .dataframe tbody tr th:only-of-type {\n        vertical-align: middle;\n    }\n\n    .dataframe tbody tr th {\n        vertical-align: top;\n    }\n\n    .dataframe thead th {\n        text-align: right;\n    }\n</style>\n<table border=\"1\" class=\"dataframe\">\n  <thead>\n    <tr style=\"text-align: right;\">\n      <th></th>\n      <th>item_id</th>\n      <th>feature_category_id</th>\n      <th>feature_value_id</th>\n    </tr>\n  </thead>\n  <tbody>\n    <tr>\n      <th>129</th>\n      <td>10</td>\n      <td>30</td>\n      <td>2</td>\n    </tr>\n    <tr>\n      <th>144</th>\n      <td>11</td>\n      <td>30</td>\n      <td>3</td>\n    </tr>\n    <tr>\n      <th>238</th>\n      <td>18</td>\n      <td>30</td>\n      <td>4</td>\n    </tr>\n    <tr>\n      <th>402</th>\n      <td>30</td>\n      <td>4</td>\n      <td>3</td>\n    </tr>\n    <tr>\n      <th>478</th>\n      <td>35</td>\n      <td>30</td>\n      <td>2</td>\n    </tr>\n    <tr>\n      <th>...</th>\n      <td>...</td>\n      <td>...</td>\n      <td>...</td>\n    </tr>\n    <tr>\n      <th>461080</th>\n      <td>28125</td>\n      <td>30</td>\n      <td>3</td>\n    </tr>\n    <tr>\n      <th>461095</th>\n      <td>28126</td>\n      <td>30</td>\n      <td>3</td>\n    </tr>\n    <tr>\n      <th>461191</th>\n      <td>28133</td>\n      <td>28</td>\n      <td>2</td>\n    </tr>\n    <tr>\n      <th>461193</th>\n      <td>28133</td>\n      <td>30</td>\n      <td>3</td>\n    </tr>\n    <tr>\n      <th>461227</th>\n      <td>28135</td>\n      <td>30</td>\n      <td>3</td>\n    </tr>\n  </tbody>\n</table>\n<p>5055 rows × 3 columns</p>\n</div>"
     },
     "execution_count": 22,
     "metadata": {},
     "output_type": "execute_result"
    }
   ],
   "source": [
    "a = fresh.groupby(by=['item_id', 'feature_category_id']).count().reset_index()\n",
    "a.loc[a.feature_value_id > 1]"
   ],
   "metadata": {
    "collapsed": false,
    "pycharm": {
     "name": "#%%\n"
    }
   }
  },
  {
   "cell_type": "code",
   "execution_count": 29,
   "outputs": [
    {
     "data": {
      "text/plain": "471750    27\nName: feature_category_id, dtype: int64"
     },
     "execution_count": 29,
     "metadata": {},
     "output_type": "execute_result"
    }
   ],
   "source": [
    "item_features[(item_features.count_view_feature_category_id == 0.0) & (item_features.count_purchase_feature_category_id == 0.0)].feature_category_id"
   ],
   "metadata": {
    "collapsed": false,
    "pycharm": {
     "name": "#%%\n"
    }
   }
  }
 ],
 "metadata": {
  "kernelspec": {
   "display_name": "Python 3",
   "language": "python",
   "name": "python3"
  },
  "language_info": {
   "codemirror_mode": {
    "name": "ipython",
    "version": 2
   },
   "file_extension": ".py",
   "mimetype": "text/x-python",
   "name": "python",
   "nbconvert_exporter": "python",
   "pygments_lexer": "ipython2",
   "version": "2.7.6"
  }
 },
 "nbformat": 4,
 "nbformat_minor": 0
}