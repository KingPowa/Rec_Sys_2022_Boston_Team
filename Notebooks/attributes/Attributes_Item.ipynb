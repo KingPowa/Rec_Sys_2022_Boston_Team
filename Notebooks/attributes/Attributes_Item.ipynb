{
 "cells": [
  {
   "cell_type": "code",
   "execution_count": 1,
   "metadata": {
    "collapsed": true,
    "pycharm": {
     "name": "#%%\n"
    }
   },
   "outputs": [],
   "source": [
    "import sys\n",
    "import os\n",
    "import pandas as pd\n",
    "import numpy as np\n",
    "from tqdm import tqdm\n",
    "import math\n",
    "import gc\n",
    "tqdm.pandas()"
   ]
  },
  {
   "cell_type": "code",
   "execution_count": 2,
   "outputs": [],
   "source": [
    "candidate_items = pd.read_csv(\"../../Dataset/candidate_items.csv\")\n",
    "item_features = pd.read_csv(\"../../Dataset/item_features.csv\")\n",
    "train_purchases = pd.read_csv(\"../../Dataset/train_purchases.csv\")\n",
    "train_sessions = pd.read_csv(\"../../Dataset/train_sessions.csv\")\n",
    "test_final_sessions = pd.read_csv(\"../../Dataset/test_final_sessions.csv\")\n",
    "test_leaderboard_sessions = pd.read_csv(\"../../Dataset/test_leaderboard_sessions.csv\")"
   ],
   "metadata": {
    "collapsed": false,
    "pycharm": {
     "name": "#%%\n"
    }
   }
  },
  {
   "cell_type": "code",
   "execution_count": 3,
   "outputs": [],
   "source": [
    "def compute_mean(x, y):\n",
    "    \"\"\"Compute the Mean Value of an attribute where x is the sum of values and y is the number of elements.\n",
    "    Used also to compute the composition of the seasonality attribute\n",
    "    Outputs -1 if no stats are present\"\"\"\n",
    "    if y != 0:\n",
    "        return x / y\n",
    "    else:\n",
    "        return -1\n",
    "\n",
    "def compute_quartet_entropy(wi, sp, su, au):\n",
    "    \"\"\"Compute the Information Entropy of the Seasonality Attribute\"\"\"\n",
    "    total = wi + sp + su + au\n",
    "    if total == 0:\n",
    "        return -1\n",
    "    if wi == 0:\n",
    "        wi_coeff = 0\n",
    "    else:\n",
    "        wi_coeff = - (wi / total) * math.log2(wi / total)\n",
    "    if sp == 0:\n",
    "        sp_coeff = 0\n",
    "    else:\n",
    "        sp_coeff = - (sp / total) * math.log2(sp / total)\n",
    "    if su == 0:\n",
    "        su_coeff = 0\n",
    "    else:\n",
    "        su_coeff = - (su / total) * math.log2(su / total)\n",
    "    if au == 0:\n",
    "        au_coeff = 0\n",
    "    else:\n",
    "        au_coeff = - (au / total) * math.log2(au / total)\n",
    "    return 1 - ((wi_coeff + sp_coeff + su_coeff + au_coeff) / 2)\n",
    "\n",
    "def compute_season(x, record):\n",
    "    \"\"\"Lambda function to compute the purchases of an item or of a user during the 4 seasons\"\"\"\n",
    "    month = x.date.month\n",
    "    elems = record[x.item_id]\n",
    "    if month in [12, 1, 2]:\n",
    "        elems[0] += 1\n",
    "    elif month in [3, 4, 5]:\n",
    "        elems[1] += 1\n",
    "    elif month in [6, 7, 8]:\n",
    "        elems[2] += 1\n",
    "    else:\n",
    "        elems[3] += 1\n",
    "\n",
    "\n",
    "def extract_season(sessions):\n",
    "    \"\"\"Routine to extract the Seasonality information of the items or users\"\"\"\n",
    "    sessions.date = pd.to_datetime(sessions.date)\n",
    "    record = {item: [0, 0, 0, 0] for item in item_features.item_id.unique()}\n",
    "\n",
    "    print('Building Statistics...')\n",
    "    sessions.progress_apply(lambda x: compute_season(x, record), axis=1)\n",
    "\n",
    "    return pd.DataFrame.from_dict(record, orient='index', columns=['winter', 'spring', 'summer', 'autumn'])\n",
    "\n",
    "\n",
    "def compute_seasonality_tendency(df):\n",
    "    \"\"\"Compute Seasonality Tendency for items or users\"\"\"\n",
    "    print('Computing Seasonality Tendency...')\n",
    "    return df.progress_apply(lambda x:\n",
    "                             compute_quartet_entropy(x['winter'], x['spring'],\n",
    "                                                     x['summer'], x['autumn']),\n",
    "                             axis=1)\n",
    "\n",
    "\n",
    "def compute_winter_tendency(df):\n",
    "    \"\"\"Compute Winter Tendency for items or users\"\"\"\n",
    "    print('Computing Winter Tendency...')\n",
    "    return df.progress_apply(lambda x:\n",
    "                             compute_mean(x['winter'],\n",
    "                                          x['winter'] + x['spring'] +\n",
    "                                          x['summer'] + x['autumn']),\n",
    "                             axis=1)\n",
    "\n",
    "\n",
    "def compute_spring_tendency(df):\n",
    "    \"\"\"Compute Spring Tendency for items or users\"\"\"\n",
    "    print('Computing Spring Tendency...')\n",
    "    return df.progress_apply(lambda x:\n",
    "                             compute_mean(x['spring'],\n",
    "                                          x['winter'] + x['spring'] +\n",
    "                                          x['summer'] + x['autumn']),\n",
    "                             axis=1)\n",
    "\n",
    "\n",
    "def compute_summer_tendency(df):\n",
    "    \"\"\"Compute Summer Tendency for items or user\"\"\"\n",
    "    print('Computing Summer Tendency...')\n",
    "    return df.progress_apply(lambda x:\n",
    "                             compute_mean(x['summer'],\n",
    "                                          x['winter'] + x['spring'] +\n",
    "                                          x['summer'] + x['autumn']),\n",
    "                             axis=1)\n",
    "\n",
    "\n",
    "def compute_autumn_tendency(df):\n",
    "    \"\"\"Compute Summer Tendency for items or user\"\"\"\n",
    "    print('Computing Autumn Tendency...')\n",
    "    return df.progress_apply(lambda x:\n",
    "                             compute_mean(x['autumn'],\n",
    "                                          x['winter'] + x['spring'] +\n",
    "                                          x['summer'] + x['autumn']),\n",
    "                             axis=1)"
   ],
   "metadata": {
    "collapsed": false,
    "pycharm": {
     "name": "#%%\n"
    }
   }
  },
  {
   "cell_type": "code",
   "execution_count": 4,
   "outputs": [
    {
     "name": "stdout",
     "output_type": "stream",
     "text": [
      "Building Statistics...\n"
     ]
    },
    {
     "name": "stderr",
     "output_type": "stream",
     "text": [
      "100%|██████████| 4743820/4743820 [01:44<00:00, 45442.98it/s]\n"
     ]
    }
   ],
   "source": [
    "season_sessions_df = extract_season(train_sessions)"
   ],
   "metadata": {
    "collapsed": false,
    "pycharm": {
     "name": "#%%\n"
    }
   }
  },
  {
   "cell_type": "code",
   "execution_count": 5,
   "outputs": [
    {
     "name": "stdout",
     "output_type": "stream",
     "text": [
      "Computing Seasonality Tendency...\n"
     ]
    },
    {
     "name": "stderr",
     "output_type": "stream",
     "text": [
      "100%|██████████| 23691/23691 [00:00<00:00, 42669.84it/s]\n"
     ]
    },
    {
     "name": "stdout",
     "output_type": "stream",
     "text": [
      "Computing Winter Tendency...\n"
     ]
    },
    {
     "name": "stderr",
     "output_type": "stream",
     "text": [
      "100%|██████████| 23691/23691 [00:00<00:00, 43769.28it/s]\n"
     ]
    },
    {
     "name": "stdout",
     "output_type": "stream",
     "text": [
      "Computing Spring Tendency...\n"
     ]
    },
    {
     "name": "stderr",
     "output_type": "stream",
     "text": [
      "100%|██████████| 23691/23691 [00:00<00:00, 45386.40it/s]\n"
     ]
    },
    {
     "name": "stdout",
     "output_type": "stream",
     "text": [
      "Computing Summer Tendency...\n"
     ]
    },
    {
     "name": "stderr",
     "output_type": "stream",
     "text": [
      "100%|██████████| 23691/23691 [00:00<00:00, 41686.70it/s]\n"
     ]
    },
    {
     "name": "stdout",
     "output_type": "stream",
     "text": [
      "Computing Autumn Tendency...\n"
     ]
    },
    {
     "name": "stderr",
     "output_type": "stream",
     "text": [
      "100%|██████████| 23691/23691 [00:00<00:00, 44085.34it/s]\n"
     ]
    },
    {
     "data": {
      "text/plain": "       winter  spring  summer  autumn  seasonality_tendency  winter_tendency  \\\n2           0       1       0       0              1.000000         0.000000   \n3         101       0       0      56              0.530050         0.643312   \n4           0     375       0       0              1.000000         0.000000   \n7           0       0       0       0             -1.000000        -1.000000   \n8          44      83       0       0              0.534568         0.346457   \n...       ...     ...     ...     ...                   ...              ...   \n28139       0      15     299       2              0.834787         0.000000   \n28140     160       1       0     288              0.519488         0.356347   \n28141      53      14       0      85              0.342092         0.348684   \n28142       2       0       0       0              1.000000         1.000000   \n28143      21      11       1       0              0.451930         0.636364   \n\n       spring_tendency  summer_tendency  autumn_tendency  \n2             1.000000         0.000000         0.000000  \n3             0.000000         0.000000         0.356688  \n4             1.000000         0.000000         0.000000  \n7            -1.000000        -1.000000        -1.000000  \n8             0.653543         0.000000         0.000000  \n...                ...              ...              ...  \n28139         0.047468         0.946203         0.006329  \n28140         0.002227         0.000000         0.641425  \n28141         0.092105         0.000000         0.559211  \n28142         0.000000         0.000000         0.000000  \n28143         0.333333         0.030303         0.000000  \n\n[23691 rows x 9 columns]",
      "text/html": "<div>\n<style scoped>\n    .dataframe tbody tr th:only-of-type {\n        vertical-align: middle;\n    }\n\n    .dataframe tbody tr th {\n        vertical-align: top;\n    }\n\n    .dataframe thead th {\n        text-align: right;\n    }\n</style>\n<table border=\"1\" class=\"dataframe\">\n  <thead>\n    <tr style=\"text-align: right;\">\n      <th></th>\n      <th>winter</th>\n      <th>spring</th>\n      <th>summer</th>\n      <th>autumn</th>\n      <th>seasonality_tendency</th>\n      <th>winter_tendency</th>\n      <th>spring_tendency</th>\n      <th>summer_tendency</th>\n      <th>autumn_tendency</th>\n    </tr>\n  </thead>\n  <tbody>\n    <tr>\n      <th>2</th>\n      <td>0</td>\n      <td>1</td>\n      <td>0</td>\n      <td>0</td>\n      <td>1.000000</td>\n      <td>0.000000</td>\n      <td>1.000000</td>\n      <td>0.000000</td>\n      <td>0.000000</td>\n    </tr>\n    <tr>\n      <th>3</th>\n      <td>101</td>\n      <td>0</td>\n      <td>0</td>\n      <td>56</td>\n      <td>0.530050</td>\n      <td>0.643312</td>\n      <td>0.000000</td>\n      <td>0.000000</td>\n      <td>0.356688</td>\n    </tr>\n    <tr>\n      <th>4</th>\n      <td>0</td>\n      <td>375</td>\n      <td>0</td>\n      <td>0</td>\n      <td>1.000000</td>\n      <td>0.000000</td>\n      <td>1.000000</td>\n      <td>0.000000</td>\n      <td>0.000000</td>\n    </tr>\n    <tr>\n      <th>7</th>\n      <td>0</td>\n      <td>0</td>\n      <td>0</td>\n      <td>0</td>\n      <td>-1.000000</td>\n      <td>-1.000000</td>\n      <td>-1.000000</td>\n      <td>-1.000000</td>\n      <td>-1.000000</td>\n    </tr>\n    <tr>\n      <th>8</th>\n      <td>44</td>\n      <td>83</td>\n      <td>0</td>\n      <td>0</td>\n      <td>0.534568</td>\n      <td>0.346457</td>\n      <td>0.653543</td>\n      <td>0.000000</td>\n      <td>0.000000</td>\n    </tr>\n    <tr>\n      <th>...</th>\n      <td>...</td>\n      <td>...</td>\n      <td>...</td>\n      <td>...</td>\n      <td>...</td>\n      <td>...</td>\n      <td>...</td>\n      <td>...</td>\n      <td>...</td>\n    </tr>\n    <tr>\n      <th>28139</th>\n      <td>0</td>\n      <td>15</td>\n      <td>299</td>\n      <td>2</td>\n      <td>0.834787</td>\n      <td>0.000000</td>\n      <td>0.047468</td>\n      <td>0.946203</td>\n      <td>0.006329</td>\n    </tr>\n    <tr>\n      <th>28140</th>\n      <td>160</td>\n      <td>1</td>\n      <td>0</td>\n      <td>288</td>\n      <td>0.519488</td>\n      <td>0.356347</td>\n      <td>0.002227</td>\n      <td>0.000000</td>\n      <td>0.641425</td>\n    </tr>\n    <tr>\n      <th>28141</th>\n      <td>53</td>\n      <td>14</td>\n      <td>0</td>\n      <td>85</td>\n      <td>0.342092</td>\n      <td>0.348684</td>\n      <td>0.092105</td>\n      <td>0.000000</td>\n      <td>0.559211</td>\n    </tr>\n    <tr>\n      <th>28142</th>\n      <td>2</td>\n      <td>0</td>\n      <td>0</td>\n      <td>0</td>\n      <td>1.000000</td>\n      <td>1.000000</td>\n      <td>0.000000</td>\n      <td>0.000000</td>\n      <td>0.000000</td>\n    </tr>\n    <tr>\n      <th>28143</th>\n      <td>21</td>\n      <td>11</td>\n      <td>1</td>\n      <td>0</td>\n      <td>0.451930</td>\n      <td>0.636364</td>\n      <td>0.333333</td>\n      <td>0.030303</td>\n      <td>0.000000</td>\n    </tr>\n  </tbody>\n</table>\n<p>23691 rows × 9 columns</p>\n</div>"
     },
     "execution_count": 5,
     "metadata": {},
     "output_type": "execute_result"
    }
   ],
   "source": [
    "season_sessions_df['seasonality_tendency'] = compute_seasonality_tendency(season_sessions_df)\n",
    "season_sessions_df['winter_tendency'] = compute_winter_tendency(season_sessions_df)\n",
    "season_sessions_df['spring_tendency'] = compute_spring_tendency(season_sessions_df)\n",
    "season_sessions_df['summer_tendency'] = compute_summer_tendency(season_sessions_df)\n",
    "season_sessions_df['autumn_tendency'] = compute_autumn_tendency(season_sessions_df)\n",
    "season_sessions_df"
   ],
   "metadata": {
    "collapsed": false,
    "pycharm": {
     "name": "#%%\n"
    }
   }
  },
  {
   "cell_type": "code",
   "execution_count": 6,
   "outputs": [
    {
     "name": "stdout",
     "output_type": "stream",
     "text": [
      "Building Statistics...\n"
     ]
    },
    {
     "name": "stderr",
     "output_type": "stream",
     "text": [
      "100%|██████████| 1000000/1000000 [00:23<00:00, 42058.49it/s]\n"
     ]
    }
   ],
   "source": [
    "season_purchases_df = extract_season(train_purchases)"
   ],
   "metadata": {
    "collapsed": false,
    "pycharm": {
     "name": "#%%\n"
    }
   }
  },
  {
   "cell_type": "code",
   "execution_count": 7,
   "outputs": [
    {
     "name": "stdout",
     "output_type": "stream",
     "text": [
      "Computing Seasonality Tendency...\n"
     ]
    },
    {
     "name": "stderr",
     "output_type": "stream",
     "text": [
      "100%|██████████| 23691/23691 [00:00<00:00, 36354.29it/s]\n"
     ]
    },
    {
     "name": "stdout",
     "output_type": "stream",
     "text": [
      "Computing Winter Tendency...\n"
     ]
    },
    {
     "name": "stderr",
     "output_type": "stream",
     "text": [
      "100%|██████████| 23691/23691 [00:00<00:00, 36944.94it/s]\n"
     ]
    },
    {
     "name": "stdout",
     "output_type": "stream",
     "text": [
      "Computing Spring Tendency...\n"
     ]
    },
    {
     "name": "stderr",
     "output_type": "stream",
     "text": [
      "100%|██████████| 23691/23691 [00:00<00:00, 39444.57it/s]\n"
     ]
    },
    {
     "name": "stdout",
     "output_type": "stream",
     "text": [
      "Computing Summer Tendency...\n"
     ]
    },
    {
     "name": "stderr",
     "output_type": "stream",
     "text": [
      "100%|██████████| 23691/23691 [00:00<00:00, 42842.92it/s]\n"
     ]
    },
    {
     "name": "stdout",
     "output_type": "stream",
     "text": [
      "Computing Autumn Tendency...\n"
     ]
    },
    {
     "name": "stderr",
     "output_type": "stream",
     "text": [
      "100%|██████████| 23691/23691 [00:00<00:00, 41336.54it/s]\n"
     ]
    },
    {
     "data": {
      "text/plain": "       winter  spring  summer  autumn  seasonality_tendency  winter_tendency  \\\n2           0       0       0       0             -1.000000        -1.000000   \n3          14       0       0       5              0.584263         0.736842   \n4           0      80       0       0              1.000000         0.000000   \n7           1       0       0       0              1.000000         1.000000   \n8          14      10       0       0              0.510066         0.583333   \n...       ...     ...     ...     ...                   ...              ...   \n28139       0       3      50       1              0.779479         0.000000   \n28140       8       0       0      67              0.755110         0.106667   \n28141      17       3       0      19              0.343868         0.435897   \n28142       0       0       0       0             -1.000000        -1.000000   \n28143       3       2       0       0              0.514525         0.600000   \n\n       spring_tendency  summer_tendency  autumn_tendency  \n2            -1.000000        -1.000000        -1.000000  \n3             0.000000         0.000000         0.263158  \n4             1.000000         0.000000         0.000000  \n7             0.000000         0.000000         0.000000  \n8             0.416667         0.000000         0.000000  \n...                ...              ...              ...  \n28139         0.055556         0.925926         0.018519  \n28140         0.000000         0.000000         0.893333  \n28141         0.076923         0.000000         0.487179  \n28142        -1.000000        -1.000000        -1.000000  \n28143         0.400000         0.000000         0.000000  \n\n[23691 rows x 9 columns]",
      "text/html": "<div>\n<style scoped>\n    .dataframe tbody tr th:only-of-type {\n        vertical-align: middle;\n    }\n\n    .dataframe tbody tr th {\n        vertical-align: top;\n    }\n\n    .dataframe thead th {\n        text-align: right;\n    }\n</style>\n<table border=\"1\" class=\"dataframe\">\n  <thead>\n    <tr style=\"text-align: right;\">\n      <th></th>\n      <th>winter</th>\n      <th>spring</th>\n      <th>summer</th>\n      <th>autumn</th>\n      <th>seasonality_tendency</th>\n      <th>winter_tendency</th>\n      <th>spring_tendency</th>\n      <th>summer_tendency</th>\n      <th>autumn_tendency</th>\n    </tr>\n  </thead>\n  <tbody>\n    <tr>\n      <th>2</th>\n      <td>0</td>\n      <td>0</td>\n      <td>0</td>\n      <td>0</td>\n      <td>-1.000000</td>\n      <td>-1.000000</td>\n      <td>-1.000000</td>\n      <td>-1.000000</td>\n      <td>-1.000000</td>\n    </tr>\n    <tr>\n      <th>3</th>\n      <td>14</td>\n      <td>0</td>\n      <td>0</td>\n      <td>5</td>\n      <td>0.584263</td>\n      <td>0.736842</td>\n      <td>0.000000</td>\n      <td>0.000000</td>\n      <td>0.263158</td>\n    </tr>\n    <tr>\n      <th>4</th>\n      <td>0</td>\n      <td>80</td>\n      <td>0</td>\n      <td>0</td>\n      <td>1.000000</td>\n      <td>0.000000</td>\n      <td>1.000000</td>\n      <td>0.000000</td>\n      <td>0.000000</td>\n    </tr>\n    <tr>\n      <th>7</th>\n      <td>1</td>\n      <td>0</td>\n      <td>0</td>\n      <td>0</td>\n      <td>1.000000</td>\n      <td>1.000000</td>\n      <td>0.000000</td>\n      <td>0.000000</td>\n      <td>0.000000</td>\n    </tr>\n    <tr>\n      <th>8</th>\n      <td>14</td>\n      <td>10</td>\n      <td>0</td>\n      <td>0</td>\n      <td>0.510066</td>\n      <td>0.583333</td>\n      <td>0.416667</td>\n      <td>0.000000</td>\n      <td>0.000000</td>\n    </tr>\n    <tr>\n      <th>...</th>\n      <td>...</td>\n      <td>...</td>\n      <td>...</td>\n      <td>...</td>\n      <td>...</td>\n      <td>...</td>\n      <td>...</td>\n      <td>...</td>\n      <td>...</td>\n    </tr>\n    <tr>\n      <th>28139</th>\n      <td>0</td>\n      <td>3</td>\n      <td>50</td>\n      <td>1</td>\n      <td>0.779479</td>\n      <td>0.000000</td>\n      <td>0.055556</td>\n      <td>0.925926</td>\n      <td>0.018519</td>\n    </tr>\n    <tr>\n      <th>28140</th>\n      <td>8</td>\n      <td>0</td>\n      <td>0</td>\n      <td>67</td>\n      <td>0.755110</td>\n      <td>0.106667</td>\n      <td>0.000000</td>\n      <td>0.000000</td>\n      <td>0.893333</td>\n    </tr>\n    <tr>\n      <th>28141</th>\n      <td>17</td>\n      <td>3</td>\n      <td>0</td>\n      <td>19</td>\n      <td>0.343868</td>\n      <td>0.435897</td>\n      <td>0.076923</td>\n      <td>0.000000</td>\n      <td>0.487179</td>\n    </tr>\n    <tr>\n      <th>28142</th>\n      <td>0</td>\n      <td>0</td>\n      <td>0</td>\n      <td>0</td>\n      <td>-1.000000</td>\n      <td>-1.000000</td>\n      <td>-1.000000</td>\n      <td>-1.000000</td>\n      <td>-1.000000</td>\n    </tr>\n    <tr>\n      <th>28143</th>\n      <td>3</td>\n      <td>2</td>\n      <td>0</td>\n      <td>0</td>\n      <td>0.514525</td>\n      <td>0.600000</td>\n      <td>0.400000</td>\n      <td>0.000000</td>\n      <td>0.000000</td>\n    </tr>\n  </tbody>\n</table>\n<p>23691 rows × 9 columns</p>\n</div>"
     },
     "execution_count": 7,
     "metadata": {},
     "output_type": "execute_result"
    }
   ],
   "source": [
    "season_purchases_df['seasonality_tendency'] = compute_seasonality_tendency(season_purchases_df)\n",
    "season_purchases_df['winter_tendency'] = compute_winter_tendency(season_purchases_df)\n",
    "season_purchases_df['spring_tendency'] = compute_spring_tendency(season_purchases_df)\n",
    "season_purchases_df['summer_tendency'] = compute_summer_tendency(season_purchases_df)\n",
    "season_purchases_df['autumn_tendency'] = compute_autumn_tendency(season_purchases_df)\n",
    "season_purchases_df"
   ],
   "metadata": {
    "collapsed": false,
    "pycharm": {
     "name": "#%%\n"
    }
   }
  },
  {
   "cell_type": "code",
   "execution_count": 8,
   "outputs": [],
   "source": [
    "season_sessions_df.rename(columns={'winter': 'winter_view',\n",
    "                           'spring': 'spring_view',\n",
    "                           'summer': 'summer_view',\n",
    "                           'autumn': 'autumn_view',\n",
    "                           'seasonality_tendency': 'seasonality_tendency_view',\n",
    "                           'winter_tendency': 'winter_tendency_view',\n",
    "                           'spring_tendency': 'spring_tendency_view',\n",
    "                           'summer_tendency': 'summer_tendency_view',\n",
    "                           'autumn_tendency': 'autumn_tendency_view'},\n",
    "                          inplace=True)\n",
    "\n",
    "season_purchases_df.rename(columns={'winter': 'winter_purchases',\n",
    "                           'spring': 'spring_purchases',\n",
    "                           'summer': 'summer_purchases',\n",
    "                           'autumn': 'autumn_purchases',\n",
    "                           'seasonality_tendency': 'seasonality_tendency_purchases',\n",
    "                           'winter_tendency': 'winter_tendency_purchases',\n",
    "                           'spring_tendency': 'spring_tendency_purchases',\n",
    "                           'summer_tendency': 'summer_tendency_purchases',\n",
    "                           'autumn_tendency': 'autumn_tendency_purchases'},\n",
    "                          inplace=True)"
   ],
   "metadata": {
    "collapsed": false,
    "pycharm": {
     "name": "#%%\n"
    }
   }
  },
  {
   "cell_type": "code",
   "execution_count": 9,
   "outputs": [
    {
     "data": {
      "text/plain": "       winter_view  spring_view  summer_view  autumn_view  \\\n2                0            1            0            0   \n3              101            0            0           56   \n4                0          375            0            0   \n7                0            0            0            0   \n8               44           83            0            0   \n...            ...          ...          ...          ...   \n28139            0           15          299            2   \n28140          160            1            0          288   \n28141           53           14            0           85   \n28142            2            0            0            0   \n28143           21           11            1            0   \n\n       seasonality_tendency_view  winter_tendency_view  spring_tendency_view  \\\n2                       1.000000              0.000000              1.000000   \n3                       0.530050              0.643312              0.000000   \n4                       1.000000              0.000000              1.000000   \n7                      -1.000000             -1.000000             -1.000000   \n8                       0.534568              0.346457              0.653543   \n...                          ...                   ...                   ...   \n28139                   0.834787              0.000000              0.047468   \n28140                   0.519488              0.356347              0.002227   \n28141                   0.342092              0.348684              0.092105   \n28142                   1.000000              1.000000              0.000000   \n28143                   0.451930              0.636364              0.333333   \n\n       summer_tendency_view  autumn_tendency_view  winter_purchases  \\\n2                  0.000000              0.000000                 0   \n3                  0.000000              0.356688                14   \n4                  0.000000              0.000000                 0   \n7                 -1.000000             -1.000000                 1   \n8                  0.000000              0.000000                14   \n...                     ...                   ...               ...   \n28139              0.946203              0.006329                 0   \n28140              0.000000              0.641425                 8   \n28141              0.000000              0.559211                17   \n28142              0.000000              0.000000                 0   \n28143              0.030303              0.000000                 3   \n\n       spring_purchases  summer_purchases  autumn_purchases  \\\n2                     0                 0                 0   \n3                     0                 0                 5   \n4                    80                 0                 0   \n7                     0                 0                 0   \n8                    10                 0                 0   \n...                 ...               ...               ...   \n28139                 3                50                 1   \n28140                 0                 0                67   \n28141                 3                 0                19   \n28142                 0                 0                 0   \n28143                 2                 0                 0   \n\n       seasonality_tendency_purchases  winter_tendency_purchases  \\\n2                           -1.000000                  -1.000000   \n3                            0.584263                   0.736842   \n4                            1.000000                   0.000000   \n7                            1.000000                   1.000000   \n8                            0.510066                   0.583333   \n...                               ...                        ...   \n28139                        0.779479                   0.000000   \n28140                        0.755110                   0.106667   \n28141                        0.343868                   0.435897   \n28142                       -1.000000                  -1.000000   \n28143                        0.514525                   0.600000   \n\n       spring_tendency_purchases  summer_tendency_purchases  \\\n2                      -1.000000                  -1.000000   \n3                       0.000000                   0.000000   \n4                       1.000000                   0.000000   \n7                       0.000000                   0.000000   \n8                       0.416667                   0.000000   \n...                          ...                        ...   \n28139                   0.055556                   0.925926   \n28140                   0.000000                   0.000000   \n28141                   0.076923                   0.000000   \n28142                  -1.000000                  -1.000000   \n28143                   0.400000                   0.000000   \n\n       autumn_tendency_purchases  \n2                      -1.000000  \n3                       0.263158  \n4                       0.000000  \n7                       0.000000  \n8                       0.000000  \n...                          ...  \n28139                   0.018519  \n28140                   0.893333  \n28141                   0.487179  \n28142                  -1.000000  \n28143                   0.000000  \n\n[23691 rows x 18 columns]",
      "text/html": "<div>\n<style scoped>\n    .dataframe tbody tr th:only-of-type {\n        vertical-align: middle;\n    }\n\n    .dataframe tbody tr th {\n        vertical-align: top;\n    }\n\n    .dataframe thead th {\n        text-align: right;\n    }\n</style>\n<table border=\"1\" class=\"dataframe\">\n  <thead>\n    <tr style=\"text-align: right;\">\n      <th></th>\n      <th>winter_view</th>\n      <th>spring_view</th>\n      <th>summer_view</th>\n      <th>autumn_view</th>\n      <th>seasonality_tendency_view</th>\n      <th>winter_tendency_view</th>\n      <th>spring_tendency_view</th>\n      <th>summer_tendency_view</th>\n      <th>autumn_tendency_view</th>\n      <th>winter_purchases</th>\n      <th>spring_purchases</th>\n      <th>summer_purchases</th>\n      <th>autumn_purchases</th>\n      <th>seasonality_tendency_purchases</th>\n      <th>winter_tendency_purchases</th>\n      <th>spring_tendency_purchases</th>\n      <th>summer_tendency_purchases</th>\n      <th>autumn_tendency_purchases</th>\n    </tr>\n  </thead>\n  <tbody>\n    <tr>\n      <th>2</th>\n      <td>0</td>\n      <td>1</td>\n      <td>0</td>\n      <td>0</td>\n      <td>1.000000</td>\n      <td>0.000000</td>\n      <td>1.000000</td>\n      <td>0.000000</td>\n      <td>0.000000</td>\n      <td>0</td>\n      <td>0</td>\n      <td>0</td>\n      <td>0</td>\n      <td>-1.000000</td>\n      <td>-1.000000</td>\n      <td>-1.000000</td>\n      <td>-1.000000</td>\n      <td>-1.000000</td>\n    </tr>\n    <tr>\n      <th>3</th>\n      <td>101</td>\n      <td>0</td>\n      <td>0</td>\n      <td>56</td>\n      <td>0.530050</td>\n      <td>0.643312</td>\n      <td>0.000000</td>\n      <td>0.000000</td>\n      <td>0.356688</td>\n      <td>14</td>\n      <td>0</td>\n      <td>0</td>\n      <td>5</td>\n      <td>0.584263</td>\n      <td>0.736842</td>\n      <td>0.000000</td>\n      <td>0.000000</td>\n      <td>0.263158</td>\n    </tr>\n    <tr>\n      <th>4</th>\n      <td>0</td>\n      <td>375</td>\n      <td>0</td>\n      <td>0</td>\n      <td>1.000000</td>\n      <td>0.000000</td>\n      <td>1.000000</td>\n      <td>0.000000</td>\n      <td>0.000000</td>\n      <td>0</td>\n      <td>80</td>\n      <td>0</td>\n      <td>0</td>\n      <td>1.000000</td>\n      <td>0.000000</td>\n      <td>1.000000</td>\n      <td>0.000000</td>\n      <td>0.000000</td>\n    </tr>\n    <tr>\n      <th>7</th>\n      <td>0</td>\n      <td>0</td>\n      <td>0</td>\n      <td>0</td>\n      <td>-1.000000</td>\n      <td>-1.000000</td>\n      <td>-1.000000</td>\n      <td>-1.000000</td>\n      <td>-1.000000</td>\n      <td>1</td>\n      <td>0</td>\n      <td>0</td>\n      <td>0</td>\n      <td>1.000000</td>\n      <td>1.000000</td>\n      <td>0.000000</td>\n      <td>0.000000</td>\n      <td>0.000000</td>\n    </tr>\n    <tr>\n      <th>8</th>\n      <td>44</td>\n      <td>83</td>\n      <td>0</td>\n      <td>0</td>\n      <td>0.534568</td>\n      <td>0.346457</td>\n      <td>0.653543</td>\n      <td>0.000000</td>\n      <td>0.000000</td>\n      <td>14</td>\n      <td>10</td>\n      <td>0</td>\n      <td>0</td>\n      <td>0.510066</td>\n      <td>0.583333</td>\n      <td>0.416667</td>\n      <td>0.000000</td>\n      <td>0.000000</td>\n    </tr>\n    <tr>\n      <th>...</th>\n      <td>...</td>\n      <td>...</td>\n      <td>...</td>\n      <td>...</td>\n      <td>...</td>\n      <td>...</td>\n      <td>...</td>\n      <td>...</td>\n      <td>...</td>\n      <td>...</td>\n      <td>...</td>\n      <td>...</td>\n      <td>...</td>\n      <td>...</td>\n      <td>...</td>\n      <td>...</td>\n      <td>...</td>\n      <td>...</td>\n    </tr>\n    <tr>\n      <th>28139</th>\n      <td>0</td>\n      <td>15</td>\n      <td>299</td>\n      <td>2</td>\n      <td>0.834787</td>\n      <td>0.000000</td>\n      <td>0.047468</td>\n      <td>0.946203</td>\n      <td>0.006329</td>\n      <td>0</td>\n      <td>3</td>\n      <td>50</td>\n      <td>1</td>\n      <td>0.779479</td>\n      <td>0.000000</td>\n      <td>0.055556</td>\n      <td>0.925926</td>\n      <td>0.018519</td>\n    </tr>\n    <tr>\n      <th>28140</th>\n      <td>160</td>\n      <td>1</td>\n      <td>0</td>\n      <td>288</td>\n      <td>0.519488</td>\n      <td>0.356347</td>\n      <td>0.002227</td>\n      <td>0.000000</td>\n      <td>0.641425</td>\n      <td>8</td>\n      <td>0</td>\n      <td>0</td>\n      <td>67</td>\n      <td>0.755110</td>\n      <td>0.106667</td>\n      <td>0.000000</td>\n      <td>0.000000</td>\n      <td>0.893333</td>\n    </tr>\n    <tr>\n      <th>28141</th>\n      <td>53</td>\n      <td>14</td>\n      <td>0</td>\n      <td>85</td>\n      <td>0.342092</td>\n      <td>0.348684</td>\n      <td>0.092105</td>\n      <td>0.000000</td>\n      <td>0.559211</td>\n      <td>17</td>\n      <td>3</td>\n      <td>0</td>\n      <td>19</td>\n      <td>0.343868</td>\n      <td>0.435897</td>\n      <td>0.076923</td>\n      <td>0.000000</td>\n      <td>0.487179</td>\n    </tr>\n    <tr>\n      <th>28142</th>\n      <td>2</td>\n      <td>0</td>\n      <td>0</td>\n      <td>0</td>\n      <td>1.000000</td>\n      <td>1.000000</td>\n      <td>0.000000</td>\n      <td>0.000000</td>\n      <td>0.000000</td>\n      <td>0</td>\n      <td>0</td>\n      <td>0</td>\n      <td>0</td>\n      <td>-1.000000</td>\n      <td>-1.000000</td>\n      <td>-1.000000</td>\n      <td>-1.000000</td>\n      <td>-1.000000</td>\n    </tr>\n    <tr>\n      <th>28143</th>\n      <td>21</td>\n      <td>11</td>\n      <td>1</td>\n      <td>0</td>\n      <td>0.451930</td>\n      <td>0.636364</td>\n      <td>0.333333</td>\n      <td>0.030303</td>\n      <td>0.000000</td>\n      <td>3</td>\n      <td>2</td>\n      <td>0</td>\n      <td>0</td>\n      <td>0.514525</td>\n      <td>0.600000</td>\n      <td>0.400000</td>\n      <td>0.000000</td>\n      <td>0.000000</td>\n    </tr>\n  </tbody>\n</table>\n<p>23691 rows × 18 columns</p>\n</div>"
     },
     "execution_count": 9,
     "metadata": {},
     "output_type": "execute_result"
    }
   ],
   "source": [
    "item_attributes = season_sessions_df.merge(right=season_purchases_df, left_index=True, right_index=True)\n",
    "item_attributes"
   ],
   "metadata": {
    "collapsed": false,
    "pycharm": {
     "name": "#%%\n"
    }
   }
  },
  {
   "cell_type": "code",
   "execution_count": 10,
   "outputs": [
    {
     "data": {
      "text/plain": "        item_id  feature_category_id  feature_value_id category_value\n0             2                   56               365         56-365\n1             2                   62               801         62-801\n2             2                   68               351         68-351\n3             2                   33               802         33-802\n4             2                   72                75          72-75\n...         ...                  ...               ...            ...\n471746    28143                   68               351         68-351\n471747    28143                   55               390         55-390\n471748    28143                   11               109         11-109\n471749    28143                   73                91          73-91\n471750    28143                   47               549         47-549\n\n[471751 rows x 4 columns]",
      "text/html": "<div>\n<style scoped>\n    .dataframe tbody tr th:only-of-type {\n        vertical-align: middle;\n    }\n\n    .dataframe tbody tr th {\n        vertical-align: top;\n    }\n\n    .dataframe thead th {\n        text-align: right;\n    }\n</style>\n<table border=\"1\" class=\"dataframe\">\n  <thead>\n    <tr style=\"text-align: right;\">\n      <th></th>\n      <th>item_id</th>\n      <th>feature_category_id</th>\n      <th>feature_value_id</th>\n      <th>category_value</th>\n    </tr>\n  </thead>\n  <tbody>\n    <tr>\n      <th>0</th>\n      <td>2</td>\n      <td>56</td>\n      <td>365</td>\n      <td>56-365</td>\n    </tr>\n    <tr>\n      <th>1</th>\n      <td>2</td>\n      <td>62</td>\n      <td>801</td>\n      <td>62-801</td>\n    </tr>\n    <tr>\n      <th>2</th>\n      <td>2</td>\n      <td>68</td>\n      <td>351</td>\n      <td>68-351</td>\n    </tr>\n    <tr>\n      <th>3</th>\n      <td>2</td>\n      <td>33</td>\n      <td>802</td>\n      <td>33-802</td>\n    </tr>\n    <tr>\n      <th>4</th>\n      <td>2</td>\n      <td>72</td>\n      <td>75</td>\n      <td>72-75</td>\n    </tr>\n    <tr>\n      <th>...</th>\n      <td>...</td>\n      <td>...</td>\n      <td>...</td>\n      <td>...</td>\n    </tr>\n    <tr>\n      <th>471746</th>\n      <td>28143</td>\n      <td>68</td>\n      <td>351</td>\n      <td>68-351</td>\n    </tr>\n    <tr>\n      <th>471747</th>\n      <td>28143</td>\n      <td>55</td>\n      <td>390</td>\n      <td>55-390</td>\n    </tr>\n    <tr>\n      <th>471748</th>\n      <td>28143</td>\n      <td>11</td>\n      <td>109</td>\n      <td>11-109</td>\n    </tr>\n    <tr>\n      <th>471749</th>\n      <td>28143</td>\n      <td>73</td>\n      <td>91</td>\n      <td>73-91</td>\n    </tr>\n    <tr>\n      <th>471750</th>\n      <td>28143</td>\n      <td>47</td>\n      <td>549</td>\n      <td>47-549</td>\n    </tr>\n  </tbody>\n</table>\n<p>471751 rows × 4 columns</p>\n</div>"
     },
     "execution_count": 10,
     "metadata": {},
     "output_type": "execute_result"
    }
   ],
   "source": [
    "item_features['category_value'] = item_features['feature_category_id'].astype(str) + '-' + item_features[\n",
    "        'feature_value_id'].astype(str)\n",
    "item_features"
   ],
   "metadata": {
    "collapsed": false,
    "pycharm": {
     "name": "#%%\n"
    }
   }
  },
  {
   "cell_type": "code",
   "execution_count": 11,
   "outputs": [
    {
     "data": {
      "text/plain": "        item_id  category_value\n0             2               0\n1             2               1\n2             2               2\n3             2               3\n4             2               4\n...         ...             ...\n471746    28143               2\n471747    28143             545\n471748    28143              62\n471749    28143             168\n471750    28143              34\n\n[471751 rows x 2 columns]",
      "text/html": "<div>\n<style scoped>\n    .dataframe tbody tr th:only-of-type {\n        vertical-align: middle;\n    }\n\n    .dataframe tbody tr th {\n        vertical-align: top;\n    }\n\n    .dataframe thead th {\n        text-align: right;\n    }\n</style>\n<table border=\"1\" class=\"dataframe\">\n  <thead>\n    <tr style=\"text-align: right;\">\n      <th></th>\n      <th>item_id</th>\n      <th>category_value</th>\n    </tr>\n  </thead>\n  <tbody>\n    <tr>\n      <th>0</th>\n      <td>2</td>\n      <td>0</td>\n    </tr>\n    <tr>\n      <th>1</th>\n      <td>2</td>\n      <td>1</td>\n    </tr>\n    <tr>\n      <th>2</th>\n      <td>2</td>\n      <td>2</td>\n    </tr>\n    <tr>\n      <th>3</th>\n      <td>2</td>\n      <td>3</td>\n    </tr>\n    <tr>\n      <th>4</th>\n      <td>2</td>\n      <td>4</td>\n    </tr>\n    <tr>\n      <th>...</th>\n      <td>...</td>\n      <td>...</td>\n    </tr>\n    <tr>\n      <th>471746</th>\n      <td>28143</td>\n      <td>2</td>\n    </tr>\n    <tr>\n      <th>471747</th>\n      <td>28143</td>\n      <td>545</td>\n    </tr>\n    <tr>\n      <th>471748</th>\n      <td>28143</td>\n      <td>62</td>\n    </tr>\n    <tr>\n      <th>471749</th>\n      <td>28143</td>\n      <td>168</td>\n    </tr>\n    <tr>\n      <th>471750</th>\n      <td>28143</td>\n      <td>34</td>\n    </tr>\n  </tbody>\n</table>\n<p>471751 rows × 2 columns</p>\n</div>"
     },
     "execution_count": 11,
     "metadata": {},
     "output_type": "execute_result"
    }
   ],
   "source": [
    "category_value_keys = list(item_features['category_value'].unique())  # list of pairs category-value\n",
    "category_value_values = [v for v in range(len(category_value_keys))]  # new index -- perché non fare arange?\n",
    "category_value_dict = dict(zip(category_value_keys, category_value_values))\n",
    "item_features['category_value'] = item_features['category_value'].map(category_value_dict)\n",
    "item_features.drop(['feature_value_id', 'feature_category_id'], axis=1, inplace=True)\n",
    "item_features"
   ],
   "metadata": {
    "collapsed": false,
    "pycharm": {
     "name": "#%%\n"
    }
   }
  },
  {
   "cell_type": "code",
   "execution_count": 12,
   "outputs": [
    {
     "data": {
      "text/plain": "category_value  0    1    2    3    4    5    6    7    8    9    ...  894  \\\nitem_id                                                           ...        \n2               1.0  1.0  1.0  1.0  1.0  1.0  1.0  1.0  1.0  1.0  ...  0.0   \n3               1.0  0.0  0.0  0.0  1.0  0.0  0.0  0.0  0.0  0.0  ...  0.0   \n4               1.0  0.0  0.0  0.0  1.0  0.0  0.0  0.0  1.0  0.0  ...  0.0   \n7               0.0  0.0  0.0  0.0  1.0  0.0  0.0  0.0  0.0  0.0  ...  0.0   \n8               1.0  0.0  1.0  0.0  1.0  0.0  0.0  0.0  1.0  0.0  ...  0.0   \n...             ...  ...  ...  ...  ...  ...  ...  ...  ...  ...  ...  ...   \n28139           1.0  0.0  0.0  0.0  1.0  0.0  0.0  0.0  0.0  0.0  ...  0.0   \n28140           1.0  0.0  1.0  0.0  0.0  0.0  0.0  0.0  0.0  0.0  ...  0.0   \n28141           1.0  0.0  0.0  0.0  1.0  0.0  0.0  0.0  0.0  0.0  ...  0.0   \n28142           0.0  0.0  0.0  0.0  1.0  1.0  0.0  0.0  0.0  0.0  ...  0.0   \n28143           1.0  0.0  1.0  0.0  0.0  0.0  0.0  0.0  0.0  0.0  ...  0.0   \n\ncategory_value  895  896  897  898  899  900  901  902  903  \nitem_id                                                      \n2               0.0  0.0  0.0  0.0  0.0  0.0  0.0  0.0  0.0  \n3               0.0  0.0  0.0  0.0  0.0  0.0  0.0  0.0  0.0  \n4               0.0  0.0  0.0  0.0  0.0  0.0  0.0  0.0  0.0  \n7               0.0  0.0  0.0  0.0  0.0  0.0  0.0  0.0  0.0  \n8               0.0  0.0  0.0  0.0  0.0  0.0  0.0  0.0  0.0  \n...             ...  ...  ...  ...  ...  ...  ...  ...  ...  \n28139           0.0  0.0  0.0  0.0  0.0  0.0  0.0  0.0  0.0  \n28140           0.0  0.0  0.0  0.0  0.0  0.0  0.0  0.0  0.0  \n28141           0.0  0.0  0.0  0.0  0.0  0.0  0.0  0.0  0.0  \n28142           0.0  0.0  0.0  0.0  0.0  0.0  0.0  0.0  0.0  \n28143           0.0  0.0  0.0  0.0  0.0  0.0  0.0  0.0  0.0  \n\n[23691 rows x 904 columns]",
      "text/html": "<div>\n<style scoped>\n    .dataframe tbody tr th:only-of-type {\n        vertical-align: middle;\n    }\n\n    .dataframe tbody tr th {\n        vertical-align: top;\n    }\n\n    .dataframe thead th {\n        text-align: right;\n    }\n</style>\n<table border=\"1\" class=\"dataframe\">\n  <thead>\n    <tr style=\"text-align: right;\">\n      <th>category_value</th>\n      <th>0</th>\n      <th>1</th>\n      <th>2</th>\n      <th>3</th>\n      <th>4</th>\n      <th>5</th>\n      <th>6</th>\n      <th>7</th>\n      <th>8</th>\n      <th>9</th>\n      <th>...</th>\n      <th>894</th>\n      <th>895</th>\n      <th>896</th>\n      <th>897</th>\n      <th>898</th>\n      <th>899</th>\n      <th>900</th>\n      <th>901</th>\n      <th>902</th>\n      <th>903</th>\n    </tr>\n    <tr>\n      <th>item_id</th>\n      <th></th>\n      <th></th>\n      <th></th>\n      <th></th>\n      <th></th>\n      <th></th>\n      <th></th>\n      <th></th>\n      <th></th>\n      <th></th>\n      <th></th>\n      <th></th>\n      <th></th>\n      <th></th>\n      <th></th>\n      <th></th>\n      <th></th>\n      <th></th>\n      <th></th>\n      <th></th>\n      <th></th>\n    </tr>\n  </thead>\n  <tbody>\n    <tr>\n      <th>2</th>\n      <td>1.0</td>\n      <td>1.0</td>\n      <td>1.0</td>\n      <td>1.0</td>\n      <td>1.0</td>\n      <td>1.0</td>\n      <td>1.0</td>\n      <td>1.0</td>\n      <td>1.0</td>\n      <td>1.0</td>\n      <td>...</td>\n      <td>0.0</td>\n      <td>0.0</td>\n      <td>0.0</td>\n      <td>0.0</td>\n      <td>0.0</td>\n      <td>0.0</td>\n      <td>0.0</td>\n      <td>0.0</td>\n      <td>0.0</td>\n      <td>0.0</td>\n    </tr>\n    <tr>\n      <th>3</th>\n      <td>1.0</td>\n      <td>0.0</td>\n      <td>0.0</td>\n      <td>0.0</td>\n      <td>1.0</td>\n      <td>0.0</td>\n      <td>0.0</td>\n      <td>0.0</td>\n      <td>0.0</td>\n      <td>0.0</td>\n      <td>...</td>\n      <td>0.0</td>\n      <td>0.0</td>\n      <td>0.0</td>\n      <td>0.0</td>\n      <td>0.0</td>\n      <td>0.0</td>\n      <td>0.0</td>\n      <td>0.0</td>\n      <td>0.0</td>\n      <td>0.0</td>\n    </tr>\n    <tr>\n      <th>4</th>\n      <td>1.0</td>\n      <td>0.0</td>\n      <td>0.0</td>\n      <td>0.0</td>\n      <td>1.0</td>\n      <td>0.0</td>\n      <td>0.0</td>\n      <td>0.0</td>\n      <td>1.0</td>\n      <td>0.0</td>\n      <td>...</td>\n      <td>0.0</td>\n      <td>0.0</td>\n      <td>0.0</td>\n      <td>0.0</td>\n      <td>0.0</td>\n      <td>0.0</td>\n      <td>0.0</td>\n      <td>0.0</td>\n      <td>0.0</td>\n      <td>0.0</td>\n    </tr>\n    <tr>\n      <th>7</th>\n      <td>0.0</td>\n      <td>0.0</td>\n      <td>0.0</td>\n      <td>0.0</td>\n      <td>1.0</td>\n      <td>0.0</td>\n      <td>0.0</td>\n      <td>0.0</td>\n      <td>0.0</td>\n      <td>0.0</td>\n      <td>...</td>\n      <td>0.0</td>\n      <td>0.0</td>\n      <td>0.0</td>\n      <td>0.0</td>\n      <td>0.0</td>\n      <td>0.0</td>\n      <td>0.0</td>\n      <td>0.0</td>\n      <td>0.0</td>\n      <td>0.0</td>\n    </tr>\n    <tr>\n      <th>8</th>\n      <td>1.0</td>\n      <td>0.0</td>\n      <td>1.0</td>\n      <td>0.0</td>\n      <td>1.0</td>\n      <td>0.0</td>\n      <td>0.0</td>\n      <td>0.0</td>\n      <td>1.0</td>\n      <td>0.0</td>\n      <td>...</td>\n      <td>0.0</td>\n      <td>0.0</td>\n      <td>0.0</td>\n      <td>0.0</td>\n      <td>0.0</td>\n      <td>0.0</td>\n      <td>0.0</td>\n      <td>0.0</td>\n      <td>0.0</td>\n      <td>0.0</td>\n    </tr>\n    <tr>\n      <th>...</th>\n      <td>...</td>\n      <td>...</td>\n      <td>...</td>\n      <td>...</td>\n      <td>...</td>\n      <td>...</td>\n      <td>...</td>\n      <td>...</td>\n      <td>...</td>\n      <td>...</td>\n      <td>...</td>\n      <td>...</td>\n      <td>...</td>\n      <td>...</td>\n      <td>...</td>\n      <td>...</td>\n      <td>...</td>\n      <td>...</td>\n      <td>...</td>\n      <td>...</td>\n      <td>...</td>\n    </tr>\n    <tr>\n      <th>28139</th>\n      <td>1.0</td>\n      <td>0.0</td>\n      <td>0.0</td>\n      <td>0.0</td>\n      <td>1.0</td>\n      <td>0.0</td>\n      <td>0.0</td>\n      <td>0.0</td>\n      <td>0.0</td>\n      <td>0.0</td>\n      <td>...</td>\n      <td>0.0</td>\n      <td>0.0</td>\n      <td>0.0</td>\n      <td>0.0</td>\n      <td>0.0</td>\n      <td>0.0</td>\n      <td>0.0</td>\n      <td>0.0</td>\n      <td>0.0</td>\n      <td>0.0</td>\n    </tr>\n    <tr>\n      <th>28140</th>\n      <td>1.0</td>\n      <td>0.0</td>\n      <td>1.0</td>\n      <td>0.0</td>\n      <td>0.0</td>\n      <td>0.0</td>\n      <td>0.0</td>\n      <td>0.0</td>\n      <td>0.0</td>\n      <td>0.0</td>\n      <td>...</td>\n      <td>0.0</td>\n      <td>0.0</td>\n      <td>0.0</td>\n      <td>0.0</td>\n      <td>0.0</td>\n      <td>0.0</td>\n      <td>0.0</td>\n      <td>0.0</td>\n      <td>0.0</td>\n      <td>0.0</td>\n    </tr>\n    <tr>\n      <th>28141</th>\n      <td>1.0</td>\n      <td>0.0</td>\n      <td>0.0</td>\n      <td>0.0</td>\n      <td>1.0</td>\n      <td>0.0</td>\n      <td>0.0</td>\n      <td>0.0</td>\n      <td>0.0</td>\n      <td>0.0</td>\n      <td>...</td>\n      <td>0.0</td>\n      <td>0.0</td>\n      <td>0.0</td>\n      <td>0.0</td>\n      <td>0.0</td>\n      <td>0.0</td>\n      <td>0.0</td>\n      <td>0.0</td>\n      <td>0.0</td>\n      <td>0.0</td>\n    </tr>\n    <tr>\n      <th>28142</th>\n      <td>0.0</td>\n      <td>0.0</td>\n      <td>0.0</td>\n      <td>0.0</td>\n      <td>1.0</td>\n      <td>1.0</td>\n      <td>0.0</td>\n      <td>0.0</td>\n      <td>0.0</td>\n      <td>0.0</td>\n      <td>...</td>\n      <td>0.0</td>\n      <td>0.0</td>\n      <td>0.0</td>\n      <td>0.0</td>\n      <td>0.0</td>\n      <td>0.0</td>\n      <td>0.0</td>\n      <td>0.0</td>\n      <td>0.0</td>\n      <td>0.0</td>\n    </tr>\n    <tr>\n      <th>28143</th>\n      <td>1.0</td>\n      <td>0.0</td>\n      <td>1.0</td>\n      <td>0.0</td>\n      <td>0.0</td>\n      <td>0.0</td>\n      <td>0.0</td>\n      <td>0.0</td>\n      <td>0.0</td>\n      <td>0.0</td>\n      <td>...</td>\n      <td>0.0</td>\n      <td>0.0</td>\n      <td>0.0</td>\n      <td>0.0</td>\n      <td>0.0</td>\n      <td>0.0</td>\n      <td>0.0</td>\n      <td>0.0</td>\n      <td>0.0</td>\n      <td>0.0</td>\n    </tr>\n  </tbody>\n</table>\n<p>23691 rows × 904 columns</p>\n</div>"
     },
     "execution_count": 12,
     "metadata": {},
     "output_type": "execute_result"
    }
   ],
   "source": [
    "item_features['value'] = 1\n",
    "item_features_unstack = item_features.pivot(index='item_id', columns='category_value', values='value')\n",
    "item_features_unstack.fillna(value=0, inplace=True)\n",
    "item_features_unstack"
   ],
   "metadata": {
    "collapsed": false,
    "pycharm": {
     "name": "#%%\n"
    }
   }
  },
  {
   "cell_type": "code",
   "execution_count": 13,
   "outputs": [
    {
     "data": {
      "text/plain": "        item_id  0  1  2  3  4  5  6  7  8  ...  894  895  896  897  898  899  \\\n0             2  1  1  1  1  1  1  1  1  1  ...    0    0    0    0    0    0   \n13            3  1  0  0  0  1  0  0  0  0  ...    0    0    0    0    0    0   \n37            4  1  0  0  0  1  0  0  0  1  ...    0    0    0    0    0    0   \n61            7  0  0  0  0  1  0  0  0  0  ...    0    0    0    0    0    0   \n76            8  1  0  1  0  1  0  0  0  1  ...    0    0    0    0    0    0   \n...         ... .. .. .. .. .. .. .. .. ..  ...  ...  ...  ...  ...  ...  ...   \n471652    28139  1  0  0  0  1  0  0  0  0  ...    0    0    0    0    0    0   \n471676    28140  1  0  1  0  0  0  0  0  0  ...    0    0    0    0    0    0   \n471694    28141  1  0  0  0  1  0  0  0  0  ...    0    0    0    0    0    0   \n471718    28142  0  0  0  0  1  1  0  0  0  ...    0    0    0    0    0    0   \n471734    28143  1  0  1  0  0  0  0  0  0  ...    0    0    0    0    0    0   \n\n        900  901  902  903  \n0         0    0    0    0  \n13        0    0    0    0  \n37        0    0    0    0  \n61        0    0    0    0  \n76        0    0    0    0  \n...     ...  ...  ...  ...  \n471652    0    0    0    0  \n471676    0    0    0    0  \n471694    0    0    0    0  \n471718    0    0    0    0  \n471734    0    0    0    0  \n\n[23691 rows x 905 columns]",
      "text/html": "<div>\n<style scoped>\n    .dataframe tbody tr th:only-of-type {\n        vertical-align: middle;\n    }\n\n    .dataframe tbody tr th {\n        vertical-align: top;\n    }\n\n    .dataframe thead th {\n        text-align: right;\n    }\n</style>\n<table border=\"1\" class=\"dataframe\">\n  <thead>\n    <tr style=\"text-align: right;\">\n      <th></th>\n      <th>item_id</th>\n      <th>0</th>\n      <th>1</th>\n      <th>2</th>\n      <th>3</th>\n      <th>4</th>\n      <th>5</th>\n      <th>6</th>\n      <th>7</th>\n      <th>8</th>\n      <th>...</th>\n      <th>894</th>\n      <th>895</th>\n      <th>896</th>\n      <th>897</th>\n      <th>898</th>\n      <th>899</th>\n      <th>900</th>\n      <th>901</th>\n      <th>902</th>\n      <th>903</th>\n    </tr>\n  </thead>\n  <tbody>\n    <tr>\n      <th>0</th>\n      <td>2</td>\n      <td>1</td>\n      <td>1</td>\n      <td>1</td>\n      <td>1</td>\n      <td>1</td>\n      <td>1</td>\n      <td>1</td>\n      <td>1</td>\n      <td>1</td>\n      <td>...</td>\n      <td>0</td>\n      <td>0</td>\n      <td>0</td>\n      <td>0</td>\n      <td>0</td>\n      <td>0</td>\n      <td>0</td>\n      <td>0</td>\n      <td>0</td>\n      <td>0</td>\n    </tr>\n    <tr>\n      <th>13</th>\n      <td>3</td>\n      <td>1</td>\n      <td>0</td>\n      <td>0</td>\n      <td>0</td>\n      <td>1</td>\n      <td>0</td>\n      <td>0</td>\n      <td>0</td>\n      <td>0</td>\n      <td>...</td>\n      <td>0</td>\n      <td>0</td>\n      <td>0</td>\n      <td>0</td>\n      <td>0</td>\n      <td>0</td>\n      <td>0</td>\n      <td>0</td>\n      <td>0</td>\n      <td>0</td>\n    </tr>\n    <tr>\n      <th>37</th>\n      <td>4</td>\n      <td>1</td>\n      <td>0</td>\n      <td>0</td>\n      <td>0</td>\n      <td>1</td>\n      <td>0</td>\n      <td>0</td>\n      <td>0</td>\n      <td>1</td>\n      <td>...</td>\n      <td>0</td>\n      <td>0</td>\n      <td>0</td>\n      <td>0</td>\n      <td>0</td>\n      <td>0</td>\n      <td>0</td>\n      <td>0</td>\n      <td>0</td>\n      <td>0</td>\n    </tr>\n    <tr>\n      <th>61</th>\n      <td>7</td>\n      <td>0</td>\n      <td>0</td>\n      <td>0</td>\n      <td>0</td>\n      <td>1</td>\n      <td>0</td>\n      <td>0</td>\n      <td>0</td>\n      <td>0</td>\n      <td>...</td>\n      <td>0</td>\n      <td>0</td>\n      <td>0</td>\n      <td>0</td>\n      <td>0</td>\n      <td>0</td>\n      <td>0</td>\n      <td>0</td>\n      <td>0</td>\n      <td>0</td>\n    </tr>\n    <tr>\n      <th>76</th>\n      <td>8</td>\n      <td>1</td>\n      <td>0</td>\n      <td>1</td>\n      <td>0</td>\n      <td>1</td>\n      <td>0</td>\n      <td>0</td>\n      <td>0</td>\n      <td>1</td>\n      <td>...</td>\n      <td>0</td>\n      <td>0</td>\n      <td>0</td>\n      <td>0</td>\n      <td>0</td>\n      <td>0</td>\n      <td>0</td>\n      <td>0</td>\n      <td>0</td>\n      <td>0</td>\n    </tr>\n    <tr>\n      <th>...</th>\n      <td>...</td>\n      <td>...</td>\n      <td>...</td>\n      <td>...</td>\n      <td>...</td>\n      <td>...</td>\n      <td>...</td>\n      <td>...</td>\n      <td>...</td>\n      <td>...</td>\n      <td>...</td>\n      <td>...</td>\n      <td>...</td>\n      <td>...</td>\n      <td>...</td>\n      <td>...</td>\n      <td>...</td>\n      <td>...</td>\n      <td>...</td>\n      <td>...</td>\n      <td>...</td>\n    </tr>\n    <tr>\n      <th>471652</th>\n      <td>28139</td>\n      <td>1</td>\n      <td>0</td>\n      <td>0</td>\n      <td>0</td>\n      <td>1</td>\n      <td>0</td>\n      <td>0</td>\n      <td>0</td>\n      <td>0</td>\n      <td>...</td>\n      <td>0</td>\n      <td>0</td>\n      <td>0</td>\n      <td>0</td>\n      <td>0</td>\n      <td>0</td>\n      <td>0</td>\n      <td>0</td>\n      <td>0</td>\n      <td>0</td>\n    </tr>\n    <tr>\n      <th>471676</th>\n      <td>28140</td>\n      <td>1</td>\n      <td>0</td>\n      <td>1</td>\n      <td>0</td>\n      <td>0</td>\n      <td>0</td>\n      <td>0</td>\n      <td>0</td>\n      <td>0</td>\n      <td>...</td>\n      <td>0</td>\n      <td>0</td>\n      <td>0</td>\n      <td>0</td>\n      <td>0</td>\n      <td>0</td>\n      <td>0</td>\n      <td>0</td>\n      <td>0</td>\n      <td>0</td>\n    </tr>\n    <tr>\n      <th>471694</th>\n      <td>28141</td>\n      <td>1</td>\n      <td>0</td>\n      <td>0</td>\n      <td>0</td>\n      <td>1</td>\n      <td>0</td>\n      <td>0</td>\n      <td>0</td>\n      <td>0</td>\n      <td>...</td>\n      <td>0</td>\n      <td>0</td>\n      <td>0</td>\n      <td>0</td>\n      <td>0</td>\n      <td>0</td>\n      <td>0</td>\n      <td>0</td>\n      <td>0</td>\n      <td>0</td>\n    </tr>\n    <tr>\n      <th>471718</th>\n      <td>28142</td>\n      <td>0</td>\n      <td>0</td>\n      <td>0</td>\n      <td>0</td>\n      <td>1</td>\n      <td>1</td>\n      <td>0</td>\n      <td>0</td>\n      <td>0</td>\n      <td>...</td>\n      <td>0</td>\n      <td>0</td>\n      <td>0</td>\n      <td>0</td>\n      <td>0</td>\n      <td>0</td>\n      <td>0</td>\n      <td>0</td>\n      <td>0</td>\n      <td>0</td>\n    </tr>\n    <tr>\n      <th>471734</th>\n      <td>28143</td>\n      <td>1</td>\n      <td>0</td>\n      <td>1</td>\n      <td>0</td>\n      <td>0</td>\n      <td>0</td>\n      <td>0</td>\n      <td>0</td>\n      <td>0</td>\n      <td>...</td>\n      <td>0</td>\n      <td>0</td>\n      <td>0</td>\n      <td>0</td>\n      <td>0</td>\n      <td>0</td>\n      <td>0</td>\n      <td>0</td>\n      <td>0</td>\n      <td>0</td>\n    </tr>\n  </tbody>\n</table>\n<p>23691 rows × 905 columns</p>\n</div>"
     },
     "execution_count": 13,
     "metadata": {},
     "output_type": "execute_result"
    }
   ],
   "source": [
    "item_features = item_features.merge(right=item_features_unstack, left_on='item_id', right_on='item_id')\n",
    "item_features.drop_duplicates(['item_id'], inplace=True)\n",
    "item_features.drop(columns=['category_value', 'value'], inplace=True)\n",
    "item_features = item_features.astype('int64')\n",
    "item_features"
   ],
   "metadata": {
    "collapsed": false,
    "pycharm": {
     "name": "#%%\n"
    }
   }
  },
  {
   "cell_type": "code",
   "execution_count": 14,
   "outputs": [
    {
     "data": {
      "text/plain": "        index  item_id  0  1  2  3  4  5  6  7  ...  autumn_tendency_view  \\\n0           0        2  1  1  1  1  1  1  1  1  ...              0.000000   \n1          13        3  1  0  0  0  1  0  0  0  ...              0.356688   \n2          37        4  1  0  0  0  1  0  0  0  ...              0.000000   \n3          61        7  0  0  0  0  1  0  0  0  ...             -1.000000   \n4          76        8  1  0  1  0  1  0  0  0  ...              0.000000   \n...       ...      ... .. .. .. .. .. .. .. ..  ...                   ...   \n23686  471652    28139  1  0  0  0  1  0  0  0  ...              0.006329   \n23687  471676    28140  1  0  1  0  0  0  0  0  ...              0.641425   \n23688  471694    28141  1  0  0  0  1  0  0  0  ...              0.559211   \n23689  471718    28142  0  0  0  0  1  1  0  0  ...              0.000000   \n23690  471734    28143  1  0  1  0  0  0  0  0  ...              0.000000   \n\n       winter_purchases  spring_purchases  summer_purchases  autumn_purchases  \\\n0                     0                 0                 0                 0   \n1                    14                 0                 0                 5   \n2                     0                80                 0                 0   \n3                     1                 0                 0                 0   \n4                    14                10                 0                 0   \n...                 ...               ...               ...               ...   \n23686                 0                 3                50                 1   \n23687                 8                 0                 0                67   \n23688                17                 3                 0                19   \n23689                 0                 0                 0                 0   \n23690                 3                 2                 0                 0   \n\n       seasonality_tendency_purchases  winter_tendency_purchases  \\\n0                           -1.000000                  -1.000000   \n1                            0.584263                   0.736842   \n2                            1.000000                   0.000000   \n3                            1.000000                   1.000000   \n4                            0.510066                   0.583333   \n...                               ...                        ...   \n23686                        0.779479                   0.000000   \n23687                        0.755110                   0.106667   \n23688                        0.343868                   0.435897   \n23689                       -1.000000                  -1.000000   \n23690                        0.514525                   0.600000   \n\n       spring_tendency_purchases  summer_tendency_purchases  \\\n0                      -1.000000                  -1.000000   \n1                       0.000000                   0.000000   \n2                       1.000000                   0.000000   \n3                       0.000000                   0.000000   \n4                       0.416667                   0.000000   \n...                          ...                        ...   \n23686                   0.055556                   0.925926   \n23687                   0.000000                   0.000000   \n23688                   0.076923                   0.000000   \n23689                  -1.000000                  -1.000000   \n23690                   0.400000                   0.000000   \n\n       autumn_tendency_purchases  \n0                      -1.000000  \n1                       0.263158  \n2                       0.000000  \n3                       0.000000  \n4                       0.000000  \n...                          ...  \n23686                   0.018519  \n23687                   0.893333  \n23688                   0.487179  \n23689                  -1.000000  \n23690                   0.000000  \n\n[23691 rows x 924 columns]",
      "text/html": "<div>\n<style scoped>\n    .dataframe tbody tr th:only-of-type {\n        vertical-align: middle;\n    }\n\n    .dataframe tbody tr th {\n        vertical-align: top;\n    }\n\n    .dataframe thead th {\n        text-align: right;\n    }\n</style>\n<table border=\"1\" class=\"dataframe\">\n  <thead>\n    <tr style=\"text-align: right;\">\n      <th></th>\n      <th>index</th>\n      <th>item_id</th>\n      <th>0</th>\n      <th>1</th>\n      <th>2</th>\n      <th>3</th>\n      <th>4</th>\n      <th>5</th>\n      <th>6</th>\n      <th>7</th>\n      <th>...</th>\n      <th>autumn_tendency_view</th>\n      <th>winter_purchases</th>\n      <th>spring_purchases</th>\n      <th>summer_purchases</th>\n      <th>autumn_purchases</th>\n      <th>seasonality_tendency_purchases</th>\n      <th>winter_tendency_purchases</th>\n      <th>spring_tendency_purchases</th>\n      <th>summer_tendency_purchases</th>\n      <th>autumn_tendency_purchases</th>\n    </tr>\n  </thead>\n  <tbody>\n    <tr>\n      <th>0</th>\n      <td>0</td>\n      <td>2</td>\n      <td>1</td>\n      <td>1</td>\n      <td>1</td>\n      <td>1</td>\n      <td>1</td>\n      <td>1</td>\n      <td>1</td>\n      <td>1</td>\n      <td>...</td>\n      <td>0.000000</td>\n      <td>0</td>\n      <td>0</td>\n      <td>0</td>\n      <td>0</td>\n      <td>-1.000000</td>\n      <td>-1.000000</td>\n      <td>-1.000000</td>\n      <td>-1.000000</td>\n      <td>-1.000000</td>\n    </tr>\n    <tr>\n      <th>1</th>\n      <td>13</td>\n      <td>3</td>\n      <td>1</td>\n      <td>0</td>\n      <td>0</td>\n      <td>0</td>\n      <td>1</td>\n      <td>0</td>\n      <td>0</td>\n      <td>0</td>\n      <td>...</td>\n      <td>0.356688</td>\n      <td>14</td>\n      <td>0</td>\n      <td>0</td>\n      <td>5</td>\n      <td>0.584263</td>\n      <td>0.736842</td>\n      <td>0.000000</td>\n      <td>0.000000</td>\n      <td>0.263158</td>\n    </tr>\n    <tr>\n      <th>2</th>\n      <td>37</td>\n      <td>4</td>\n      <td>1</td>\n      <td>0</td>\n      <td>0</td>\n      <td>0</td>\n      <td>1</td>\n      <td>0</td>\n      <td>0</td>\n      <td>0</td>\n      <td>...</td>\n      <td>0.000000</td>\n      <td>0</td>\n      <td>80</td>\n      <td>0</td>\n      <td>0</td>\n      <td>1.000000</td>\n      <td>0.000000</td>\n      <td>1.000000</td>\n      <td>0.000000</td>\n      <td>0.000000</td>\n    </tr>\n    <tr>\n      <th>3</th>\n      <td>61</td>\n      <td>7</td>\n      <td>0</td>\n      <td>0</td>\n      <td>0</td>\n      <td>0</td>\n      <td>1</td>\n      <td>0</td>\n      <td>0</td>\n      <td>0</td>\n      <td>...</td>\n      <td>-1.000000</td>\n      <td>1</td>\n      <td>0</td>\n      <td>0</td>\n      <td>0</td>\n      <td>1.000000</td>\n      <td>1.000000</td>\n      <td>0.000000</td>\n      <td>0.000000</td>\n      <td>0.000000</td>\n    </tr>\n    <tr>\n      <th>4</th>\n      <td>76</td>\n      <td>8</td>\n      <td>1</td>\n      <td>0</td>\n      <td>1</td>\n      <td>0</td>\n      <td>1</td>\n      <td>0</td>\n      <td>0</td>\n      <td>0</td>\n      <td>...</td>\n      <td>0.000000</td>\n      <td>14</td>\n      <td>10</td>\n      <td>0</td>\n      <td>0</td>\n      <td>0.510066</td>\n      <td>0.583333</td>\n      <td>0.416667</td>\n      <td>0.000000</td>\n      <td>0.000000</td>\n    </tr>\n    <tr>\n      <th>...</th>\n      <td>...</td>\n      <td>...</td>\n      <td>...</td>\n      <td>...</td>\n      <td>...</td>\n      <td>...</td>\n      <td>...</td>\n      <td>...</td>\n      <td>...</td>\n      <td>...</td>\n      <td>...</td>\n      <td>...</td>\n      <td>...</td>\n      <td>...</td>\n      <td>...</td>\n      <td>...</td>\n      <td>...</td>\n      <td>...</td>\n      <td>...</td>\n      <td>...</td>\n      <td>...</td>\n    </tr>\n    <tr>\n      <th>23686</th>\n      <td>471652</td>\n      <td>28139</td>\n      <td>1</td>\n      <td>0</td>\n      <td>0</td>\n      <td>0</td>\n      <td>1</td>\n      <td>0</td>\n      <td>0</td>\n      <td>0</td>\n      <td>...</td>\n      <td>0.006329</td>\n      <td>0</td>\n      <td>3</td>\n      <td>50</td>\n      <td>1</td>\n      <td>0.779479</td>\n      <td>0.000000</td>\n      <td>0.055556</td>\n      <td>0.925926</td>\n      <td>0.018519</td>\n    </tr>\n    <tr>\n      <th>23687</th>\n      <td>471676</td>\n      <td>28140</td>\n      <td>1</td>\n      <td>0</td>\n      <td>1</td>\n      <td>0</td>\n      <td>0</td>\n      <td>0</td>\n      <td>0</td>\n      <td>0</td>\n      <td>...</td>\n      <td>0.641425</td>\n      <td>8</td>\n      <td>0</td>\n      <td>0</td>\n      <td>67</td>\n      <td>0.755110</td>\n      <td>0.106667</td>\n      <td>0.000000</td>\n      <td>0.000000</td>\n      <td>0.893333</td>\n    </tr>\n    <tr>\n      <th>23688</th>\n      <td>471694</td>\n      <td>28141</td>\n      <td>1</td>\n      <td>0</td>\n      <td>0</td>\n      <td>0</td>\n      <td>1</td>\n      <td>0</td>\n      <td>0</td>\n      <td>0</td>\n      <td>...</td>\n      <td>0.559211</td>\n      <td>17</td>\n      <td>3</td>\n      <td>0</td>\n      <td>19</td>\n      <td>0.343868</td>\n      <td>0.435897</td>\n      <td>0.076923</td>\n      <td>0.000000</td>\n      <td>0.487179</td>\n    </tr>\n    <tr>\n      <th>23689</th>\n      <td>471718</td>\n      <td>28142</td>\n      <td>0</td>\n      <td>0</td>\n      <td>0</td>\n      <td>0</td>\n      <td>1</td>\n      <td>1</td>\n      <td>0</td>\n      <td>0</td>\n      <td>...</td>\n      <td>0.000000</td>\n      <td>0</td>\n      <td>0</td>\n      <td>0</td>\n      <td>0</td>\n      <td>-1.000000</td>\n      <td>-1.000000</td>\n      <td>-1.000000</td>\n      <td>-1.000000</td>\n      <td>-1.000000</td>\n    </tr>\n    <tr>\n      <th>23690</th>\n      <td>471734</td>\n      <td>28143</td>\n      <td>1</td>\n      <td>0</td>\n      <td>1</td>\n      <td>0</td>\n      <td>0</td>\n      <td>0</td>\n      <td>0</td>\n      <td>0</td>\n      <td>...</td>\n      <td>0.000000</td>\n      <td>3</td>\n      <td>2</td>\n      <td>0</td>\n      <td>0</td>\n      <td>0.514525</td>\n      <td>0.600000</td>\n      <td>0.400000</td>\n      <td>0.000000</td>\n      <td>0.000000</td>\n    </tr>\n  </tbody>\n</table>\n<p>23691 rows × 924 columns</p>\n</div>"
     },
     "execution_count": 14,
     "metadata": {},
     "output_type": "execute_result"
    }
   ],
   "source": [
    "item_attributes = item_features.merge(right=item_attributes, left_on='item_id', right_index=True)\n",
    "item_attributes.reset_index(inplace=True)\n",
    "item_attributes"
   ],
   "metadata": {
    "collapsed": false,
    "pycharm": {
     "name": "#%%\n"
    }
   }
  },
  {
   "cell_type": "code",
   "execution_count": 15,
   "outputs": [],
   "source": [
    "item_attributes.drop(columns=['index'], inplace=True)"
   ],
   "metadata": {
    "collapsed": false,
    "pycharm": {
     "name": "#%%\n"
    }
   }
  },
  {
   "cell_type": "code",
   "execution_count": 16,
   "outputs": [
    {
     "data": {
      "text/plain": "       item_id  0  1  2  3  4  5  6  7  8  ...  spring_purchases  \\\n0            2  1  1  1  1  1  1  1  1  1  ...                 0   \n1            3  1  0  0  0  1  0  0  0  0  ...                 0   \n2            4  1  0  0  0  1  0  0  0  1  ...                80   \n3            7  0  0  0  0  1  0  0  0  0  ...                 0   \n4            8  1  0  1  0  1  0  0  0  1  ...                10   \n...        ... .. .. .. .. .. .. .. .. ..  ...               ...   \n23686    28139  1  0  0  0  1  0  0  0  0  ...                 3   \n23687    28140  1  0  1  0  0  0  0  0  0  ...                 0   \n23688    28141  1  0  0  0  1  0  0  0  0  ...                 3   \n23689    28142  0  0  0  0  1  1  0  0  0  ...                 0   \n23690    28143  1  0  1  0  0  0  0  0  0  ...                 2   \n\n       summer_purchases  autumn_purchases  seasonality_tendency_purchases  \\\n0                     0                 0                       -1.000000   \n1                     0                 5                        0.584263   \n2                     0                 0                        1.000000   \n3                     0                 0                        1.000000   \n4                     0                 0                        0.510066   \n...                 ...               ...                             ...   \n23686                50                 1                        0.779479   \n23687                 0                67                        0.755110   \n23688                 0                19                        0.343868   \n23689                 0                 0                       -1.000000   \n23690                 0                 0                        0.514525   \n\n       winter_tendency_purchases  spring_tendency_purchases  \\\n0                      -1.000000                  -1.000000   \n1                       0.736842                   0.000000   \n2                       0.000000                   1.000000   \n3                       1.000000                   0.000000   \n4                       0.583333                   0.416667   \n...                          ...                        ...   \n23686                   0.000000                   0.055556   \n23687                   0.106667                   0.000000   \n23688                   0.435897                   0.076923   \n23689                  -1.000000                  -1.000000   \n23690                   0.600000                   0.400000   \n\n       summer_tendency_purchases  autumn_tendency_purchases  total_view  \\\n0                      -1.000000                  -1.000000         1.0   \n1                       0.000000                   0.263158       157.0   \n2                       0.000000                   0.000000       375.0   \n3                       0.000000                   0.000000         0.0   \n4                       0.000000                   0.000000       127.0   \n...                          ...                        ...         ...   \n23686                   0.925926                   0.018519       316.0   \n23687                   0.000000                   0.893333       449.0   \n23688                   0.000000                   0.487179       152.0   \n23689                  -1.000000                  -1.000000         2.0   \n23690                   0.000000                   0.000000        33.0   \n\n       total_purchases  \n0                  0.0  \n1                 19.0  \n2                 80.0  \n3                  1.0  \n4                 24.0  \n...                ...  \n23686             54.0  \n23687             75.0  \n23688             39.0  \n23689              0.0  \n23690              5.0  \n\n[23691 rows x 925 columns]",
      "text/html": "<div>\n<style scoped>\n    .dataframe tbody tr th:only-of-type {\n        vertical-align: middle;\n    }\n\n    .dataframe tbody tr th {\n        vertical-align: top;\n    }\n\n    .dataframe thead th {\n        text-align: right;\n    }\n</style>\n<table border=\"1\" class=\"dataframe\">\n  <thead>\n    <tr style=\"text-align: right;\">\n      <th></th>\n      <th>item_id</th>\n      <th>0</th>\n      <th>1</th>\n      <th>2</th>\n      <th>3</th>\n      <th>4</th>\n      <th>5</th>\n      <th>6</th>\n      <th>7</th>\n      <th>8</th>\n      <th>...</th>\n      <th>spring_purchases</th>\n      <th>summer_purchases</th>\n      <th>autumn_purchases</th>\n      <th>seasonality_tendency_purchases</th>\n      <th>winter_tendency_purchases</th>\n      <th>spring_tendency_purchases</th>\n      <th>summer_tendency_purchases</th>\n      <th>autumn_tendency_purchases</th>\n      <th>total_view</th>\n      <th>total_purchases</th>\n    </tr>\n  </thead>\n  <tbody>\n    <tr>\n      <th>0</th>\n      <td>2</td>\n      <td>1</td>\n      <td>1</td>\n      <td>1</td>\n      <td>1</td>\n      <td>1</td>\n      <td>1</td>\n      <td>1</td>\n      <td>1</td>\n      <td>1</td>\n      <td>...</td>\n      <td>0</td>\n      <td>0</td>\n      <td>0</td>\n      <td>-1.000000</td>\n      <td>-1.000000</td>\n      <td>-1.000000</td>\n      <td>-1.000000</td>\n      <td>-1.000000</td>\n      <td>1.0</td>\n      <td>0.0</td>\n    </tr>\n    <tr>\n      <th>1</th>\n      <td>3</td>\n      <td>1</td>\n      <td>0</td>\n      <td>0</td>\n      <td>0</td>\n      <td>1</td>\n      <td>0</td>\n      <td>0</td>\n      <td>0</td>\n      <td>0</td>\n      <td>...</td>\n      <td>0</td>\n      <td>0</td>\n      <td>5</td>\n      <td>0.584263</td>\n      <td>0.736842</td>\n      <td>0.000000</td>\n      <td>0.000000</td>\n      <td>0.263158</td>\n      <td>157.0</td>\n      <td>19.0</td>\n    </tr>\n    <tr>\n      <th>2</th>\n      <td>4</td>\n      <td>1</td>\n      <td>0</td>\n      <td>0</td>\n      <td>0</td>\n      <td>1</td>\n      <td>0</td>\n      <td>0</td>\n      <td>0</td>\n      <td>1</td>\n      <td>...</td>\n      <td>80</td>\n      <td>0</td>\n      <td>0</td>\n      <td>1.000000</td>\n      <td>0.000000</td>\n      <td>1.000000</td>\n      <td>0.000000</td>\n      <td>0.000000</td>\n      <td>375.0</td>\n      <td>80.0</td>\n    </tr>\n    <tr>\n      <th>3</th>\n      <td>7</td>\n      <td>0</td>\n      <td>0</td>\n      <td>0</td>\n      <td>0</td>\n      <td>1</td>\n      <td>0</td>\n      <td>0</td>\n      <td>0</td>\n      <td>0</td>\n      <td>...</td>\n      <td>0</td>\n      <td>0</td>\n      <td>0</td>\n      <td>1.000000</td>\n      <td>1.000000</td>\n      <td>0.000000</td>\n      <td>0.000000</td>\n      <td>0.000000</td>\n      <td>0.0</td>\n      <td>1.0</td>\n    </tr>\n    <tr>\n      <th>4</th>\n      <td>8</td>\n      <td>1</td>\n      <td>0</td>\n      <td>1</td>\n      <td>0</td>\n      <td>1</td>\n      <td>0</td>\n      <td>0</td>\n      <td>0</td>\n      <td>1</td>\n      <td>...</td>\n      <td>10</td>\n      <td>0</td>\n      <td>0</td>\n      <td>0.510066</td>\n      <td>0.583333</td>\n      <td>0.416667</td>\n      <td>0.000000</td>\n      <td>0.000000</td>\n      <td>127.0</td>\n      <td>24.0</td>\n    </tr>\n    <tr>\n      <th>...</th>\n      <td>...</td>\n      <td>...</td>\n      <td>...</td>\n      <td>...</td>\n      <td>...</td>\n      <td>...</td>\n      <td>...</td>\n      <td>...</td>\n      <td>...</td>\n      <td>...</td>\n      <td>...</td>\n      <td>...</td>\n      <td>...</td>\n      <td>...</td>\n      <td>...</td>\n      <td>...</td>\n      <td>...</td>\n      <td>...</td>\n      <td>...</td>\n      <td>...</td>\n      <td>...</td>\n    </tr>\n    <tr>\n      <th>23686</th>\n      <td>28139</td>\n      <td>1</td>\n      <td>0</td>\n      <td>0</td>\n      <td>0</td>\n      <td>1</td>\n      <td>0</td>\n      <td>0</td>\n      <td>0</td>\n      <td>0</td>\n      <td>...</td>\n      <td>3</td>\n      <td>50</td>\n      <td>1</td>\n      <td>0.779479</td>\n      <td>0.000000</td>\n      <td>0.055556</td>\n      <td>0.925926</td>\n      <td>0.018519</td>\n      <td>316.0</td>\n      <td>54.0</td>\n    </tr>\n    <tr>\n      <th>23687</th>\n      <td>28140</td>\n      <td>1</td>\n      <td>0</td>\n      <td>1</td>\n      <td>0</td>\n      <td>0</td>\n      <td>0</td>\n      <td>0</td>\n      <td>0</td>\n      <td>0</td>\n      <td>...</td>\n      <td>0</td>\n      <td>0</td>\n      <td>67</td>\n      <td>0.755110</td>\n      <td>0.106667</td>\n      <td>0.000000</td>\n      <td>0.000000</td>\n      <td>0.893333</td>\n      <td>449.0</td>\n      <td>75.0</td>\n    </tr>\n    <tr>\n      <th>23688</th>\n      <td>28141</td>\n      <td>1</td>\n      <td>0</td>\n      <td>0</td>\n      <td>0</td>\n      <td>1</td>\n      <td>0</td>\n      <td>0</td>\n      <td>0</td>\n      <td>0</td>\n      <td>...</td>\n      <td>3</td>\n      <td>0</td>\n      <td>19</td>\n      <td>0.343868</td>\n      <td>0.435897</td>\n      <td>0.076923</td>\n      <td>0.000000</td>\n      <td>0.487179</td>\n      <td>152.0</td>\n      <td>39.0</td>\n    </tr>\n    <tr>\n      <th>23689</th>\n      <td>28142</td>\n      <td>0</td>\n      <td>0</td>\n      <td>0</td>\n      <td>0</td>\n      <td>1</td>\n      <td>1</td>\n      <td>0</td>\n      <td>0</td>\n      <td>0</td>\n      <td>...</td>\n      <td>0</td>\n      <td>0</td>\n      <td>0</td>\n      <td>-1.000000</td>\n      <td>-1.000000</td>\n      <td>-1.000000</td>\n      <td>-1.000000</td>\n      <td>-1.000000</td>\n      <td>2.0</td>\n      <td>0.0</td>\n    </tr>\n    <tr>\n      <th>23690</th>\n      <td>28143</td>\n      <td>1</td>\n      <td>0</td>\n      <td>1</td>\n      <td>0</td>\n      <td>0</td>\n      <td>0</td>\n      <td>0</td>\n      <td>0</td>\n      <td>0</td>\n      <td>...</td>\n      <td>2</td>\n      <td>0</td>\n      <td>0</td>\n      <td>0.514525</td>\n      <td>0.600000</td>\n      <td>0.400000</td>\n      <td>0.000000</td>\n      <td>0.000000</td>\n      <td>33.0</td>\n      <td>5.0</td>\n    </tr>\n  </tbody>\n</table>\n<p>23691 rows × 925 columns</p>\n</div>"
     },
     "execution_count": 16,
     "metadata": {},
     "output_type": "execute_result"
    }
   ],
   "source": [
    "item_attributes['total_view'] = item_attributes.apply(lambda x: x.winter_view +\n",
    "                                                         x.spring_view + x.summer_view+\n",
    "                                                         x.autumn_view, axis=1)\n",
    "item_attributes['total_purchases'] = item_attributes.apply(lambda x: x.winter_purchases +\n",
    "                                                         x.spring_purchases + x.summer_purchases+\n",
    "                                                         x.autumn_purchases, axis=1)\n",
    "item_attributes"
   ],
   "metadata": {
    "collapsed": false,
    "pycharm": {
     "name": "#%%\n"
    }
   }
  },
  {
   "cell_type": "code",
   "execution_count": 17,
   "outputs": [],
   "source": [
    "item_attributes.to_csv('../../Dataset/item_attributes.csv', index=False)"
   ],
   "metadata": {
    "collapsed": false,
    "pycharm": {
     "name": "#%%\n"
    }
   }
  }
 ],
 "metadata": {
  "kernelspec": {
   "display_name": "Python 3",
   "language": "python",
   "name": "python3"
  },
  "language_info": {
   "codemirror_mode": {
    "name": "ipython",
    "version": 2
   },
   "file_extension": ".py",
   "mimetype": "text/x-python",
   "name": "python",
   "nbconvert_exporter": "python",
   "pygments_lexer": "ipython2",
   "version": "2.7.6"
  }
 },
 "nbformat": 4,
 "nbformat_minor": 0
}