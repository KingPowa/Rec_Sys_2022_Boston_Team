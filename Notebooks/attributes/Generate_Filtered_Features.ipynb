{
 "cells": [
  {
   "cell_type": "code",
   "execution_count": 1,
   "metadata": {
    "collapsed": true,
    "pycharm": {
     "name": "#%%\n"
    }
   },
   "outputs": [],
   "source": [
    "import sys\n",
    "import os\n",
    "import pandas as pd\n",
    "import numpy as np\n",
    "from tqdm import tqdm\n",
    "import math\n",
    "import gc\n",
    "tqdm.pandas()"
   ]
  },
  {
   "cell_type": "code",
   "execution_count": 2,
   "outputs": [
    {
     "data": {
      "text/plain": "        item_id  feature_category_id  feature_value_id\n0             2                   56               365\n1             2                   62               801\n2             2                   68               351\n3             2                   33               802\n4             2                   72                75\n...         ...                  ...               ...\n471746    28143                   68               351\n471747    28143                   55               390\n471748    28143                   11               109\n471749    28143                   73                91\n471750    28143                   47               549\n\n[471751 rows x 3 columns]",
      "text/html": "<div>\n<style scoped>\n    .dataframe tbody tr th:only-of-type {\n        vertical-align: middle;\n    }\n\n    .dataframe tbody tr th {\n        vertical-align: top;\n    }\n\n    .dataframe thead th {\n        text-align: right;\n    }\n</style>\n<table border=\"1\" class=\"dataframe\">\n  <thead>\n    <tr style=\"text-align: right;\">\n      <th></th>\n      <th>item_id</th>\n      <th>feature_category_id</th>\n      <th>feature_value_id</th>\n    </tr>\n  </thead>\n  <tbody>\n    <tr>\n      <th>0</th>\n      <td>2</td>\n      <td>56</td>\n      <td>365</td>\n    </tr>\n    <tr>\n      <th>1</th>\n      <td>2</td>\n      <td>62</td>\n      <td>801</td>\n    </tr>\n    <tr>\n      <th>2</th>\n      <td>2</td>\n      <td>68</td>\n      <td>351</td>\n    </tr>\n    <tr>\n      <th>3</th>\n      <td>2</td>\n      <td>33</td>\n      <td>802</td>\n    </tr>\n    <tr>\n      <th>4</th>\n      <td>2</td>\n      <td>72</td>\n      <td>75</td>\n    </tr>\n    <tr>\n      <th>...</th>\n      <td>...</td>\n      <td>...</td>\n      <td>...</td>\n    </tr>\n    <tr>\n      <th>471746</th>\n      <td>28143</td>\n      <td>68</td>\n      <td>351</td>\n    </tr>\n    <tr>\n      <th>471747</th>\n      <td>28143</td>\n      <td>55</td>\n      <td>390</td>\n    </tr>\n    <tr>\n      <th>471748</th>\n      <td>28143</td>\n      <td>11</td>\n      <td>109</td>\n    </tr>\n    <tr>\n      <th>471749</th>\n      <td>28143</td>\n      <td>73</td>\n      <td>91</td>\n    </tr>\n    <tr>\n      <th>471750</th>\n      <td>28143</td>\n      <td>47</td>\n      <td>549</td>\n    </tr>\n  </tbody>\n</table>\n<p>471751 rows × 3 columns</p>\n</div>"
     },
     "execution_count": 2,
     "metadata": {},
     "output_type": "execute_result"
    }
   ],
   "source": [
    "item_features = pd.read_csv(\"../../Dataset/item_features.csv\")\n",
    "item_features"
   ],
   "metadata": {
    "collapsed": false,
    "pycharm": {
     "name": "#%%\n"
    }
   }
  },
  {
   "cell_type": "code",
   "execution_count": 24,
   "outputs": [
    {
     "name": "stderr",
     "output_type": "stream",
     "text": [
      "100%|██████████| 23691/23691 [00:19<00:00, 1211.96it/s]\n"
     ]
    },
    {
     "data": {
      "text/plain": "{1, 4, 28, 30, 46, 53}"
     },
     "execution_count": 24,
     "metadata": {},
     "output_type": "execute_result"
    }
   ],
   "source": [
    "unusable_category = set()\n",
    "for item in tqdm(item_features.item_id.unique()):\n",
    "    item_df = item_features.loc[item_features.item_id == item]\n",
    "    duplicates = item_df.loc[item_df.feature_category_id.duplicated(),:].feature_category_id.values\n",
    "    unusable_category.update(duplicates)\n",
    "unusable_category"
   ],
   "metadata": {
    "collapsed": false,
    "pycharm": {
     "name": "#%%\n"
    }
   }
  },
  {
   "cell_type": "code",
   "execution_count": 31,
   "outputs": [
    {
     "data": {
      "text/plain": "        item_id  feature_category_id  feature_value_id\n0             2                   56               365\n1             2                   62               801\n2             2                   68               351\n3             2                   33               802\n4             2                   72                75\n...         ...                  ...               ...\n471746    28143                   68               351\n471747    28143                   55               390\n471748    28143                   11               109\n471749    28143                   73                91\n471750    28143                   47               549\n\n[424547 rows x 3 columns]",
      "text/html": "<div>\n<style scoped>\n    .dataframe tbody tr th:only-of-type {\n        vertical-align: middle;\n    }\n\n    .dataframe tbody tr th {\n        vertical-align: top;\n    }\n\n    .dataframe thead th {\n        text-align: right;\n    }\n</style>\n<table border=\"1\" class=\"dataframe\">\n  <thead>\n    <tr style=\"text-align: right;\">\n      <th></th>\n      <th>item_id</th>\n      <th>feature_category_id</th>\n      <th>feature_value_id</th>\n    </tr>\n  </thead>\n  <tbody>\n    <tr>\n      <th>0</th>\n      <td>2</td>\n      <td>56</td>\n      <td>365</td>\n    </tr>\n    <tr>\n      <th>1</th>\n      <td>2</td>\n      <td>62</td>\n      <td>801</td>\n    </tr>\n    <tr>\n      <th>2</th>\n      <td>2</td>\n      <td>68</td>\n      <td>351</td>\n    </tr>\n    <tr>\n      <th>3</th>\n      <td>2</td>\n      <td>33</td>\n      <td>802</td>\n    </tr>\n    <tr>\n      <th>4</th>\n      <td>2</td>\n      <td>72</td>\n      <td>75</td>\n    </tr>\n    <tr>\n      <th>...</th>\n      <td>...</td>\n      <td>...</td>\n      <td>...</td>\n    </tr>\n    <tr>\n      <th>471746</th>\n      <td>28143</td>\n      <td>68</td>\n      <td>351</td>\n    </tr>\n    <tr>\n      <th>471747</th>\n      <td>28143</td>\n      <td>55</td>\n      <td>390</td>\n    </tr>\n    <tr>\n      <th>471748</th>\n      <td>28143</td>\n      <td>11</td>\n      <td>109</td>\n    </tr>\n    <tr>\n      <th>471749</th>\n      <td>28143</td>\n      <td>73</td>\n      <td>91</td>\n    </tr>\n    <tr>\n      <th>471750</th>\n      <td>28143</td>\n      <td>47</td>\n      <td>549</td>\n    </tr>\n  </tbody>\n</table>\n<p>424547 rows × 3 columns</p>\n</div>"
     },
     "execution_count": 31,
     "metadata": {},
     "output_type": "execute_result"
    }
   ],
   "source": [
    "item_features_filtered = item_features[~(item_features.feature_category_id.isin(unusable_category))]\n",
    "item_features_filtered"
   ],
   "metadata": {
    "collapsed": false,
    "pycharm": {
     "name": "#%%\n"
    }
   }
  },
  {
   "cell_type": "code",
   "execution_count": 32,
   "outputs": [
    {
     "name": "stderr",
     "output_type": "stream",
     "text": [
      "100%|██████████| 67/67 [00:00<00:00, 857.80it/s]\n"
     ]
    }
   ],
   "source": [
    "mapping_dict = {}\n",
    "for cat_id in tqdm(item_features_filtered.feature_category_id.unique()):\n",
    "    values = sorted(item_features_filtered.loc[item_features_filtered.feature_category_id == cat_id].feature_value_id.unique())\n",
    "    mapping_dict[cat_id] = {value: values.index(value) for value in values}"
   ],
   "metadata": {
    "collapsed": false,
    "pycharm": {
     "name": "#%%\n"
    }
   }
  },
  {
   "cell_type": "code",
   "execution_count": 41,
   "outputs": [
    {
     "name": "stderr",
     "output_type": "stream",
     "text": [
      "100%|██████████| 424547/424547 [00:06<00:00, 61545.70it/s]\n",
      "C:\\Users\\menta\\AppData\\Local\\Temp\\ipykernel_3536\\2548406282.py:1: SettingWithCopyWarning: \n",
      "A value is trying to be set on a copy of a slice from a DataFrame.\n",
      "Try using .loc[row_indexer,col_indexer] = value instead\n",
      "\n",
      "See the caveats in the documentation: https://pandas.pydata.org/pandas-docs/stable/user_guide/indexing.html#returning-a-view-versus-a-copy\n",
      "  item_features_filtered['mapped_feature_value_id'] = item_features_filtered.progress_apply(lambda x:\n"
     ]
    },
    {
     "data": {
      "text/plain": "        item_id  feature_category_id  feature_value_id  \\\n0             2                   56               365   \n1             2                   62               801   \n2             2                   68               351   \n3             2                   33               802   \n4             2                   72                75   \n...         ...                  ...               ...   \n471746    28143                   68               351   \n471747    28143                   55               390   \n471748    28143                   11               109   \n471749    28143                   73                91   \n471750    28143                   47               549   \n\n        mapped_feature_value_id  \n0                            30  \n1                             1  \n2                            14  \n3                             8  \n4                             1  \n...                         ...  \n471746                       14  \n471747                       20  \n471748                        0  \n471749                        0  \n471750                       11  \n\n[424547 rows x 4 columns]",
      "text/html": "<div>\n<style scoped>\n    .dataframe tbody tr th:only-of-type {\n        vertical-align: middle;\n    }\n\n    .dataframe tbody tr th {\n        vertical-align: top;\n    }\n\n    .dataframe thead th {\n        text-align: right;\n    }\n</style>\n<table border=\"1\" class=\"dataframe\">\n  <thead>\n    <tr style=\"text-align: right;\">\n      <th></th>\n      <th>item_id</th>\n      <th>feature_category_id</th>\n      <th>feature_value_id</th>\n      <th>mapped_feature_value_id</th>\n    </tr>\n  </thead>\n  <tbody>\n    <tr>\n      <th>0</th>\n      <td>2</td>\n      <td>56</td>\n      <td>365</td>\n      <td>30</td>\n    </tr>\n    <tr>\n      <th>1</th>\n      <td>2</td>\n      <td>62</td>\n      <td>801</td>\n      <td>1</td>\n    </tr>\n    <tr>\n      <th>2</th>\n      <td>2</td>\n      <td>68</td>\n      <td>351</td>\n      <td>14</td>\n    </tr>\n    <tr>\n      <th>3</th>\n      <td>2</td>\n      <td>33</td>\n      <td>802</td>\n      <td>8</td>\n    </tr>\n    <tr>\n      <th>4</th>\n      <td>2</td>\n      <td>72</td>\n      <td>75</td>\n      <td>1</td>\n    </tr>\n    <tr>\n      <th>...</th>\n      <td>...</td>\n      <td>...</td>\n      <td>...</td>\n      <td>...</td>\n    </tr>\n    <tr>\n      <th>471746</th>\n      <td>28143</td>\n      <td>68</td>\n      <td>351</td>\n      <td>14</td>\n    </tr>\n    <tr>\n      <th>471747</th>\n      <td>28143</td>\n      <td>55</td>\n      <td>390</td>\n      <td>20</td>\n    </tr>\n    <tr>\n      <th>471748</th>\n      <td>28143</td>\n      <td>11</td>\n      <td>109</td>\n      <td>0</td>\n    </tr>\n    <tr>\n      <th>471749</th>\n      <td>28143</td>\n      <td>73</td>\n      <td>91</td>\n      <td>0</td>\n    </tr>\n    <tr>\n      <th>471750</th>\n      <td>28143</td>\n      <td>47</td>\n      <td>549</td>\n      <td>11</td>\n    </tr>\n  </tbody>\n</table>\n<p>424547 rows × 4 columns</p>\n</div>"
     },
     "execution_count": 41,
     "metadata": {},
     "output_type": "execute_result"
    }
   ],
   "source": [
    "item_features_filtered['mapped_feature_value_id'] = item_features_filtered.progress_apply(lambda x:\n",
    "                                                                                 mapping_dict[x.feature_category_id][x.feature_value_id], axis=1)\n",
    "item_features_filtered"
   ],
   "metadata": {
    "collapsed": false,
    "pycharm": {
     "name": "#%%\n"
    }
   }
  },
  {
   "cell_type": "code",
   "execution_count": 57,
   "outputs": [
    {
     "data": {
      "text/plain": "feature_category_id   2    3    5    6     7    8    9    10    11   12  ...  \\\nitem_id                                                                  ...   \n2                   -1.0 -1.0 -1.0 -1.0  15.0 -1.0 -1.0 -1.0  -1.0 -1.0  ...   \n3                   -1.0  4.0  9.0 -1.0  18.0 -1.0 -1.0 -1.0  16.0 -1.0  ...   \n4                   -1.0  3.0  9.0 -1.0  33.0 -1.0 -1.0 -1.0  -1.0 -1.0  ...   \n7                   -1.0 -1.0 -1.0 -1.0  23.0 -1.0 -1.0 -1.0  -1.0 -1.0  ...   \n8                   -1.0  3.0  9.0 -1.0  31.0 -1.0 -1.0 -1.0  12.0 -1.0  ...   \n...                  ...  ...  ...  ...   ...  ...  ...  ...   ...  ...  ...   \n28139               -1.0  3.0  9.0 -1.0  31.0 -1.0 -1.0 -1.0  -1.0 -1.0  ...   \n28140                0.0 -1.0 -1.0 -1.0  -1.0 -1.0 -1.0 -1.0  -1.0 -1.0  ...   \n28141               -1.0  4.0  9.0 -1.0   0.0 -1.0 -1.0 -1.0  -1.0 -1.0  ...   \n28142               -1.0 -1.0 -1.0 -1.0  24.0 -1.0 -1.0 -1.0  -1.0 -1.0  ...   \n28143               -1.0 -1.0 -1.0 -1.0  31.0 -1.0 -1.0 -1.0   0.0 -1.0  ...   \n\nfeature_category_id   64   65   66   67    68    69   70   71   72   73  \nitem_id                                                                  \n2                   -1.0 -1.0 -1.0 -1.0  14.0  28.0 -1.0 -1.0  1.0 -1.0  \n3                   -1.0  5.0 -1.0 -1.0   1.0  18.0 -1.0 -1.0  1.0  1.0  \n4                   -1.0  5.0 -1.0 -1.0  15.0  16.0 -1.0 -1.0  1.0  1.0  \n7                   -1.0 -1.0 -1.0 -1.0  38.0  18.0 -1.0 -1.0  1.0 -1.0  \n8                   -1.0  5.0 -1.0 -1.0  14.0  18.0 -1.0 -1.0  1.0  1.0  \n...                  ...  ...  ...  ...   ...   ...  ...  ...  ...  ...  \n28139               -1.0  5.0 -1.0 -1.0   6.0  25.0 -1.0 -1.0  1.0  1.0  \n28140                1.0 -1.0 -1.0  6.0  14.0  -1.0 -1.0  3.0 -1.0  1.0  \n28141               -1.0 -1.0 -1.0 -1.0  16.0  14.0 -1.0 -1.0  1.0  1.0  \n28142               -1.0  9.0 -1.0 -1.0  46.0  23.0 -1.0 -1.0  1.0  0.0  \n28143               -1.0 -1.0 -1.0 -1.0  14.0  14.0 -1.0 -1.0  7.0  0.0  \n\n[23691 rows x 67 columns]",
      "text/html": "<div>\n<style scoped>\n    .dataframe tbody tr th:only-of-type {\n        vertical-align: middle;\n    }\n\n    .dataframe tbody tr th {\n        vertical-align: top;\n    }\n\n    .dataframe thead th {\n        text-align: right;\n    }\n</style>\n<table border=\"1\" class=\"dataframe\">\n  <thead>\n    <tr style=\"text-align: right;\">\n      <th>feature_category_id</th>\n      <th>2</th>\n      <th>3</th>\n      <th>5</th>\n      <th>6</th>\n      <th>7</th>\n      <th>8</th>\n      <th>9</th>\n      <th>10</th>\n      <th>11</th>\n      <th>12</th>\n      <th>...</th>\n      <th>64</th>\n      <th>65</th>\n      <th>66</th>\n      <th>67</th>\n      <th>68</th>\n      <th>69</th>\n      <th>70</th>\n      <th>71</th>\n      <th>72</th>\n      <th>73</th>\n    </tr>\n    <tr>\n      <th>item_id</th>\n      <th></th>\n      <th></th>\n      <th></th>\n      <th></th>\n      <th></th>\n      <th></th>\n      <th></th>\n      <th></th>\n      <th></th>\n      <th></th>\n      <th></th>\n      <th></th>\n      <th></th>\n      <th></th>\n      <th></th>\n      <th></th>\n      <th></th>\n      <th></th>\n      <th></th>\n      <th></th>\n      <th></th>\n    </tr>\n  </thead>\n  <tbody>\n    <tr>\n      <th>2</th>\n      <td>-1.0</td>\n      <td>-1.0</td>\n      <td>-1.0</td>\n      <td>-1.0</td>\n      <td>15.0</td>\n      <td>-1.0</td>\n      <td>-1.0</td>\n      <td>-1.0</td>\n      <td>-1.0</td>\n      <td>-1.0</td>\n      <td>...</td>\n      <td>-1.0</td>\n      <td>-1.0</td>\n      <td>-1.0</td>\n      <td>-1.0</td>\n      <td>14.0</td>\n      <td>28.0</td>\n      <td>-1.0</td>\n      <td>-1.0</td>\n      <td>1.0</td>\n      <td>-1.0</td>\n    </tr>\n    <tr>\n      <th>3</th>\n      <td>-1.0</td>\n      <td>4.0</td>\n      <td>9.0</td>\n      <td>-1.0</td>\n      <td>18.0</td>\n      <td>-1.0</td>\n      <td>-1.0</td>\n      <td>-1.0</td>\n      <td>16.0</td>\n      <td>-1.0</td>\n      <td>...</td>\n      <td>-1.0</td>\n      <td>5.0</td>\n      <td>-1.0</td>\n      <td>-1.0</td>\n      <td>1.0</td>\n      <td>18.0</td>\n      <td>-1.0</td>\n      <td>-1.0</td>\n      <td>1.0</td>\n      <td>1.0</td>\n    </tr>\n    <tr>\n      <th>4</th>\n      <td>-1.0</td>\n      <td>3.0</td>\n      <td>9.0</td>\n      <td>-1.0</td>\n      <td>33.0</td>\n      <td>-1.0</td>\n      <td>-1.0</td>\n      <td>-1.0</td>\n      <td>-1.0</td>\n      <td>-1.0</td>\n      <td>...</td>\n      <td>-1.0</td>\n      <td>5.0</td>\n      <td>-1.0</td>\n      <td>-1.0</td>\n      <td>15.0</td>\n      <td>16.0</td>\n      <td>-1.0</td>\n      <td>-1.0</td>\n      <td>1.0</td>\n      <td>1.0</td>\n    </tr>\n    <tr>\n      <th>7</th>\n      <td>-1.0</td>\n      <td>-1.0</td>\n      <td>-1.0</td>\n      <td>-1.0</td>\n      <td>23.0</td>\n      <td>-1.0</td>\n      <td>-1.0</td>\n      <td>-1.0</td>\n      <td>-1.0</td>\n      <td>-1.0</td>\n      <td>...</td>\n      <td>-1.0</td>\n      <td>-1.0</td>\n      <td>-1.0</td>\n      <td>-1.0</td>\n      <td>38.0</td>\n      <td>18.0</td>\n      <td>-1.0</td>\n      <td>-1.0</td>\n      <td>1.0</td>\n      <td>-1.0</td>\n    </tr>\n    <tr>\n      <th>8</th>\n      <td>-1.0</td>\n      <td>3.0</td>\n      <td>9.0</td>\n      <td>-1.0</td>\n      <td>31.0</td>\n      <td>-1.0</td>\n      <td>-1.0</td>\n      <td>-1.0</td>\n      <td>12.0</td>\n      <td>-1.0</td>\n      <td>...</td>\n      <td>-1.0</td>\n      <td>5.0</td>\n      <td>-1.0</td>\n      <td>-1.0</td>\n      <td>14.0</td>\n      <td>18.0</td>\n      <td>-1.0</td>\n      <td>-1.0</td>\n      <td>1.0</td>\n      <td>1.0</td>\n    </tr>\n    <tr>\n      <th>...</th>\n      <td>...</td>\n      <td>...</td>\n      <td>...</td>\n      <td>...</td>\n      <td>...</td>\n      <td>...</td>\n      <td>...</td>\n      <td>...</td>\n      <td>...</td>\n      <td>...</td>\n      <td>...</td>\n      <td>...</td>\n      <td>...</td>\n      <td>...</td>\n      <td>...</td>\n      <td>...</td>\n      <td>...</td>\n      <td>...</td>\n      <td>...</td>\n      <td>...</td>\n      <td>...</td>\n    </tr>\n    <tr>\n      <th>28139</th>\n      <td>-1.0</td>\n      <td>3.0</td>\n      <td>9.0</td>\n      <td>-1.0</td>\n      <td>31.0</td>\n      <td>-1.0</td>\n      <td>-1.0</td>\n      <td>-1.0</td>\n      <td>-1.0</td>\n      <td>-1.0</td>\n      <td>...</td>\n      <td>-1.0</td>\n      <td>5.0</td>\n      <td>-1.0</td>\n      <td>-1.0</td>\n      <td>6.0</td>\n      <td>25.0</td>\n      <td>-1.0</td>\n      <td>-1.0</td>\n      <td>1.0</td>\n      <td>1.0</td>\n    </tr>\n    <tr>\n      <th>28140</th>\n      <td>0.0</td>\n      <td>-1.0</td>\n      <td>-1.0</td>\n      <td>-1.0</td>\n      <td>-1.0</td>\n      <td>-1.0</td>\n      <td>-1.0</td>\n      <td>-1.0</td>\n      <td>-1.0</td>\n      <td>-1.0</td>\n      <td>...</td>\n      <td>1.0</td>\n      <td>-1.0</td>\n      <td>-1.0</td>\n      <td>6.0</td>\n      <td>14.0</td>\n      <td>-1.0</td>\n      <td>-1.0</td>\n      <td>3.0</td>\n      <td>-1.0</td>\n      <td>1.0</td>\n    </tr>\n    <tr>\n      <th>28141</th>\n      <td>-1.0</td>\n      <td>4.0</td>\n      <td>9.0</td>\n      <td>-1.0</td>\n      <td>0.0</td>\n      <td>-1.0</td>\n      <td>-1.0</td>\n      <td>-1.0</td>\n      <td>-1.0</td>\n      <td>-1.0</td>\n      <td>...</td>\n      <td>-1.0</td>\n      <td>-1.0</td>\n      <td>-1.0</td>\n      <td>-1.0</td>\n      <td>16.0</td>\n      <td>14.0</td>\n      <td>-1.0</td>\n      <td>-1.0</td>\n      <td>1.0</td>\n      <td>1.0</td>\n    </tr>\n    <tr>\n      <th>28142</th>\n      <td>-1.0</td>\n      <td>-1.0</td>\n      <td>-1.0</td>\n      <td>-1.0</td>\n      <td>24.0</td>\n      <td>-1.0</td>\n      <td>-1.0</td>\n      <td>-1.0</td>\n      <td>-1.0</td>\n      <td>-1.0</td>\n      <td>...</td>\n      <td>-1.0</td>\n      <td>9.0</td>\n      <td>-1.0</td>\n      <td>-1.0</td>\n      <td>46.0</td>\n      <td>23.0</td>\n      <td>-1.0</td>\n      <td>-1.0</td>\n      <td>1.0</td>\n      <td>0.0</td>\n    </tr>\n    <tr>\n      <th>28143</th>\n      <td>-1.0</td>\n      <td>-1.0</td>\n      <td>-1.0</td>\n      <td>-1.0</td>\n      <td>31.0</td>\n      <td>-1.0</td>\n      <td>-1.0</td>\n      <td>-1.0</td>\n      <td>0.0</td>\n      <td>-1.0</td>\n      <td>...</td>\n      <td>-1.0</td>\n      <td>-1.0</td>\n      <td>-1.0</td>\n      <td>-1.0</td>\n      <td>14.0</td>\n      <td>14.0</td>\n      <td>-1.0</td>\n      <td>-1.0</td>\n      <td>7.0</td>\n      <td>0.0</td>\n    </tr>\n  </tbody>\n</table>\n<p>23691 rows × 67 columns</p>\n</div>"
     },
     "execution_count": 57,
     "metadata": {},
     "output_type": "execute_result"
    }
   ],
   "source": [
    "item_features_unstack = item_features_filtered.drop(columns=['feature_value_id'])\n",
    "item_features_unstack = item_features_unstack.pivot(index='item_id', columns='feature_category_id', values='mapped_feature_value_id')\n",
    "item_features_unstack.fillna(value=-1, inplace=True)\n",
    "item_features_unstack"
   ],
   "metadata": {
    "collapsed": false,
    "pycharm": {
     "name": "#%%\n"
    }
   }
  },
  {
   "cell_type": "code",
   "execution_count": 58,
   "outputs": [
    {
     "data": {
      "text/plain": "feature_category_id  item_id    2    3    5    6     7    8    9   10    11  \\\n0                          2 -1.0 -1.0 -1.0 -1.0  15.0 -1.0 -1.0 -1.0  -1.0   \n1                          3 -1.0  4.0  9.0 -1.0  18.0 -1.0 -1.0 -1.0  16.0   \n2                          4 -1.0  3.0  9.0 -1.0  33.0 -1.0 -1.0 -1.0  -1.0   \n3                          7 -1.0 -1.0 -1.0 -1.0  23.0 -1.0 -1.0 -1.0  -1.0   \n4                          8 -1.0  3.0  9.0 -1.0  31.0 -1.0 -1.0 -1.0  12.0   \n...                      ...  ...  ...  ...  ...   ...  ...  ...  ...   ...   \n23686                  28139 -1.0  3.0  9.0 -1.0  31.0 -1.0 -1.0 -1.0  -1.0   \n23687                  28140  0.0 -1.0 -1.0 -1.0  -1.0 -1.0 -1.0 -1.0  -1.0   \n23688                  28141 -1.0  4.0  9.0 -1.0   0.0 -1.0 -1.0 -1.0  -1.0   \n23689                  28142 -1.0 -1.0 -1.0 -1.0  24.0 -1.0 -1.0 -1.0  -1.0   \n23690                  28143 -1.0 -1.0 -1.0 -1.0  31.0 -1.0 -1.0 -1.0   0.0   \n\nfeature_category_id  ...   64   65   66   67    68    69   70   71   72   73  \n0                    ... -1.0 -1.0 -1.0 -1.0  14.0  28.0 -1.0 -1.0  1.0 -1.0  \n1                    ... -1.0  5.0 -1.0 -1.0   1.0  18.0 -1.0 -1.0  1.0  1.0  \n2                    ... -1.0  5.0 -1.0 -1.0  15.0  16.0 -1.0 -1.0  1.0  1.0  \n3                    ... -1.0 -1.0 -1.0 -1.0  38.0  18.0 -1.0 -1.0  1.0 -1.0  \n4                    ... -1.0  5.0 -1.0 -1.0  14.0  18.0 -1.0 -1.0  1.0  1.0  \n...                  ...  ...  ...  ...  ...   ...   ...  ...  ...  ...  ...  \n23686                ... -1.0  5.0 -1.0 -1.0   6.0  25.0 -1.0 -1.0  1.0  1.0  \n23687                ...  1.0 -1.0 -1.0  6.0  14.0  -1.0 -1.0  3.0 -1.0  1.0  \n23688                ... -1.0 -1.0 -1.0 -1.0  16.0  14.0 -1.0 -1.0  1.0  1.0  \n23689                ... -1.0  9.0 -1.0 -1.0  46.0  23.0 -1.0 -1.0  1.0  0.0  \n23690                ... -1.0 -1.0 -1.0 -1.0  14.0  14.0 -1.0 -1.0  7.0  0.0  \n\n[23691 rows x 68 columns]",
      "text/html": "<div>\n<style scoped>\n    .dataframe tbody tr th:only-of-type {\n        vertical-align: middle;\n    }\n\n    .dataframe tbody tr th {\n        vertical-align: top;\n    }\n\n    .dataframe thead th {\n        text-align: right;\n    }\n</style>\n<table border=\"1\" class=\"dataframe\">\n  <thead>\n    <tr style=\"text-align: right;\">\n      <th>feature_category_id</th>\n      <th>item_id</th>\n      <th>2</th>\n      <th>3</th>\n      <th>5</th>\n      <th>6</th>\n      <th>7</th>\n      <th>8</th>\n      <th>9</th>\n      <th>10</th>\n      <th>11</th>\n      <th>...</th>\n      <th>64</th>\n      <th>65</th>\n      <th>66</th>\n      <th>67</th>\n      <th>68</th>\n      <th>69</th>\n      <th>70</th>\n      <th>71</th>\n      <th>72</th>\n      <th>73</th>\n    </tr>\n  </thead>\n  <tbody>\n    <tr>\n      <th>0</th>\n      <td>2</td>\n      <td>-1.0</td>\n      <td>-1.0</td>\n      <td>-1.0</td>\n      <td>-1.0</td>\n      <td>15.0</td>\n      <td>-1.0</td>\n      <td>-1.0</td>\n      <td>-1.0</td>\n      <td>-1.0</td>\n      <td>...</td>\n      <td>-1.0</td>\n      <td>-1.0</td>\n      <td>-1.0</td>\n      <td>-1.0</td>\n      <td>14.0</td>\n      <td>28.0</td>\n      <td>-1.0</td>\n      <td>-1.0</td>\n      <td>1.0</td>\n      <td>-1.0</td>\n    </tr>\n    <tr>\n      <th>1</th>\n      <td>3</td>\n      <td>-1.0</td>\n      <td>4.0</td>\n      <td>9.0</td>\n      <td>-1.0</td>\n      <td>18.0</td>\n      <td>-1.0</td>\n      <td>-1.0</td>\n      <td>-1.0</td>\n      <td>16.0</td>\n      <td>...</td>\n      <td>-1.0</td>\n      <td>5.0</td>\n      <td>-1.0</td>\n      <td>-1.0</td>\n      <td>1.0</td>\n      <td>18.0</td>\n      <td>-1.0</td>\n      <td>-1.0</td>\n      <td>1.0</td>\n      <td>1.0</td>\n    </tr>\n    <tr>\n      <th>2</th>\n      <td>4</td>\n      <td>-1.0</td>\n      <td>3.0</td>\n      <td>9.0</td>\n      <td>-1.0</td>\n      <td>33.0</td>\n      <td>-1.0</td>\n      <td>-1.0</td>\n      <td>-1.0</td>\n      <td>-1.0</td>\n      <td>...</td>\n      <td>-1.0</td>\n      <td>5.0</td>\n      <td>-1.0</td>\n      <td>-1.0</td>\n      <td>15.0</td>\n      <td>16.0</td>\n      <td>-1.0</td>\n      <td>-1.0</td>\n      <td>1.0</td>\n      <td>1.0</td>\n    </tr>\n    <tr>\n      <th>3</th>\n      <td>7</td>\n      <td>-1.0</td>\n      <td>-1.0</td>\n      <td>-1.0</td>\n      <td>-1.0</td>\n      <td>23.0</td>\n      <td>-1.0</td>\n      <td>-1.0</td>\n      <td>-1.0</td>\n      <td>-1.0</td>\n      <td>...</td>\n      <td>-1.0</td>\n      <td>-1.0</td>\n      <td>-1.0</td>\n      <td>-1.0</td>\n      <td>38.0</td>\n      <td>18.0</td>\n      <td>-1.0</td>\n      <td>-1.0</td>\n      <td>1.0</td>\n      <td>-1.0</td>\n    </tr>\n    <tr>\n      <th>4</th>\n      <td>8</td>\n      <td>-1.0</td>\n      <td>3.0</td>\n      <td>9.0</td>\n      <td>-1.0</td>\n      <td>31.0</td>\n      <td>-1.0</td>\n      <td>-1.0</td>\n      <td>-1.0</td>\n      <td>12.0</td>\n      <td>...</td>\n      <td>-1.0</td>\n      <td>5.0</td>\n      <td>-1.0</td>\n      <td>-1.0</td>\n      <td>14.0</td>\n      <td>18.0</td>\n      <td>-1.0</td>\n      <td>-1.0</td>\n      <td>1.0</td>\n      <td>1.0</td>\n    </tr>\n    <tr>\n      <th>...</th>\n      <td>...</td>\n      <td>...</td>\n      <td>...</td>\n      <td>...</td>\n      <td>...</td>\n      <td>...</td>\n      <td>...</td>\n      <td>...</td>\n      <td>...</td>\n      <td>...</td>\n      <td>...</td>\n      <td>...</td>\n      <td>...</td>\n      <td>...</td>\n      <td>...</td>\n      <td>...</td>\n      <td>...</td>\n      <td>...</td>\n      <td>...</td>\n      <td>...</td>\n      <td>...</td>\n    </tr>\n    <tr>\n      <th>23686</th>\n      <td>28139</td>\n      <td>-1.0</td>\n      <td>3.0</td>\n      <td>9.0</td>\n      <td>-1.0</td>\n      <td>31.0</td>\n      <td>-1.0</td>\n      <td>-1.0</td>\n      <td>-1.0</td>\n      <td>-1.0</td>\n      <td>...</td>\n      <td>-1.0</td>\n      <td>5.0</td>\n      <td>-1.0</td>\n      <td>-1.0</td>\n      <td>6.0</td>\n      <td>25.0</td>\n      <td>-1.0</td>\n      <td>-1.0</td>\n      <td>1.0</td>\n      <td>1.0</td>\n    </tr>\n    <tr>\n      <th>23687</th>\n      <td>28140</td>\n      <td>0.0</td>\n      <td>-1.0</td>\n      <td>-1.0</td>\n      <td>-1.0</td>\n      <td>-1.0</td>\n      <td>-1.0</td>\n      <td>-1.0</td>\n      <td>-1.0</td>\n      <td>-1.0</td>\n      <td>...</td>\n      <td>1.0</td>\n      <td>-1.0</td>\n      <td>-1.0</td>\n      <td>6.0</td>\n      <td>14.0</td>\n      <td>-1.0</td>\n      <td>-1.0</td>\n      <td>3.0</td>\n      <td>-1.0</td>\n      <td>1.0</td>\n    </tr>\n    <tr>\n      <th>23688</th>\n      <td>28141</td>\n      <td>-1.0</td>\n      <td>4.0</td>\n      <td>9.0</td>\n      <td>-1.0</td>\n      <td>0.0</td>\n      <td>-1.0</td>\n      <td>-1.0</td>\n      <td>-1.0</td>\n      <td>-1.0</td>\n      <td>...</td>\n      <td>-1.0</td>\n      <td>-1.0</td>\n      <td>-1.0</td>\n      <td>-1.0</td>\n      <td>16.0</td>\n      <td>14.0</td>\n      <td>-1.0</td>\n      <td>-1.0</td>\n      <td>1.0</td>\n      <td>1.0</td>\n    </tr>\n    <tr>\n      <th>23689</th>\n      <td>28142</td>\n      <td>-1.0</td>\n      <td>-1.0</td>\n      <td>-1.0</td>\n      <td>-1.0</td>\n      <td>24.0</td>\n      <td>-1.0</td>\n      <td>-1.0</td>\n      <td>-1.0</td>\n      <td>-1.0</td>\n      <td>...</td>\n      <td>-1.0</td>\n      <td>9.0</td>\n      <td>-1.0</td>\n      <td>-1.0</td>\n      <td>46.0</td>\n      <td>23.0</td>\n      <td>-1.0</td>\n      <td>-1.0</td>\n      <td>1.0</td>\n      <td>0.0</td>\n    </tr>\n    <tr>\n      <th>23690</th>\n      <td>28143</td>\n      <td>-1.0</td>\n      <td>-1.0</td>\n      <td>-1.0</td>\n      <td>-1.0</td>\n      <td>31.0</td>\n      <td>-1.0</td>\n      <td>-1.0</td>\n      <td>-1.0</td>\n      <td>0.0</td>\n      <td>...</td>\n      <td>-1.0</td>\n      <td>-1.0</td>\n      <td>-1.0</td>\n      <td>-1.0</td>\n      <td>14.0</td>\n      <td>14.0</td>\n      <td>-1.0</td>\n      <td>-1.0</td>\n      <td>7.0</td>\n      <td>0.0</td>\n    </tr>\n  </tbody>\n</table>\n<p>23691 rows × 68 columns</p>\n</div>"
     },
     "execution_count": 58,
     "metadata": {},
     "output_type": "execute_result"
    }
   ],
   "source": [
    "item_features_unstack = item_features_unstack.reset_index()\n",
    "item_features_unstack"
   ],
   "metadata": {
    "collapsed": false,
    "pycharm": {
     "name": "#%%\n"
    }
   }
  },
  {
   "cell_type": "code",
   "execution_count": 65,
   "outputs": [],
   "source": [
    "item_features_unstack.to_csv('../../Dataset/item_features_filtered.csv', index=False)"
   ],
   "metadata": {
    "collapsed": false,
    "pycharm": {
     "name": "#%%\n"
    }
   }
  }
 ],
 "metadata": {
  "kernelspec": {
   "display_name": "Python 3",
   "language": "python",
   "name": "python3"
  },
  "language_info": {
   "codemirror_mode": {
    "name": "ipython",
    "version": 2
   },
   "file_extension": ".py",
   "mimetype": "text/x-python",
   "name": "python",
   "nbconvert_exporter": "python",
   "pygments_lexer": "ipython2",
   "version": "2.7.6"
  }
 },
 "nbformat": 4,
 "nbformat_minor": 0
}