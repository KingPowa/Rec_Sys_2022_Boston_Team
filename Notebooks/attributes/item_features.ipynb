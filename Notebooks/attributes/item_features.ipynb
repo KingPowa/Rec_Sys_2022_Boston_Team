{
 "cells": [
  {
   "cell_type": "code",
   "execution_count": 4,
   "metadata": {
    "pycharm": {
     "name": "#%%\n"
    }
   },
   "outputs": [],
   "source": [
    "import sys\n",
    "import os\n",
    "import pandas as pd\n",
    "import numpy as np\n",
    "import scipy.sparse as sps\n",
    "from tqdm import tqdm\n",
    "import gc\n",
    "\n",
    "sys.path.append(\"../\")\n",
    "sys.path.append(\"../../\")\n",
    "sys.path.append(\"../../../\")"
   ]
  },
  {
   "cell_type": "code",
   "execution_count": 6,
   "metadata": {
    "pycharm": {
     "name": "#%%\n"
    }
   },
   "outputs": [],
   "source": [
    "candidate_items = pd.read_csv(\"../../Dataset/candidate_items.csv\")\n",
    "item_features = pd.read_csv(\"../../Dataset/item_features.csv\")\n",
    "train_purchases = pd.read_csv(\"../../Dataset/train_purchases.csv\")\n",
    "train_sessions = pd.read_csv(\"../../Dataset/train_sessions.csv\")\n",
    "test_final_sessions = pd.read_csv(\"../../Dataset/test_final_sessions.csv\")\n",
    "test_leaderboard_sessions = pd.read_csv(\"../../Dataset/test_leaderboard_sessions.csv\")"
   ]
  },
  {
   "cell_type": "code",
   "execution_count": 7,
   "metadata": {
    "pycharm": {
     "name": "#%%\n"
    }
   },
   "outputs": [],
   "source": [
    "from RecSys_Course_AT_PoliMi.Pipeline.data_splitting import split_dataframes_val\n",
    "from RecSys_Course_AT_PoliMi.Pipeline.matrices_creation import create_csr_matrix\n",
    "\n",
    "weighted_train_set_df, val_purch_df, val_views_df, train_session_mapping, \\\n",
    "val_session_mapping, item_mapping, mapped_items_to_ignore, mapped_val_sessions_arr = split_dataframes_val(\n",
    "    train_sessions, train_purchases, item_features,\n",
    "    val_start_ts='2021-05-01', val_end_ts='2021-06-01',\n",
    "    unique_interactions=True, view_weight=1, purch_weight=1, abs_half_life=None,\n",
    "    cyclic_decay=False, score_graph=False\n",
    ")\n",
    "\n",
    "URM_train = create_csr_matrix(weighted_train_set_df, len(train_session_mapping), len(item_mapping))\n",
    "URM_val_views = create_csr_matrix(val_views_df, len(val_session_mapping), len(item_mapping))\n",
    "URM_val_purch = create_csr_matrix(val_purch_df, len(val_session_mapping), len(item_mapping))"
   ]
  },
  {
   "cell_type": "code",
   "execution_count": 18,
   "metadata": {
    "pycharm": {
     "name": "#%%\n"
    }
   },
   "outputs": [
    {
     "data": {
      "text/plain": [
       "[918282,\n",
       " 918283,\n",
       " 918284,\n",
       " 918285,\n",
       " 918286,\n",
       " 918287,\n",
       " 918288,\n",
       " 918289,\n",
       " 918290,\n",
       " 918291,\n",
       " 918292,\n",
       " 918293,\n",
       " 918294,\n",
       " 918295,\n",
       " 918296,\n",
       " 918297,\n",
       " 918298,\n",
       " 918299,\n",
       " 918300,\n",
       " 918301,\n",
       " 918302,\n",
       " 918303,\n",
       " 918304,\n",
       " 918305,\n",
       " 918306,\n",
       " 918307,\n",
       " 918308,\n",
       " 918309,\n",
       " 918310,\n",
       " 918311,\n",
       " 918312,\n",
       " 918313,\n",
       " 918314,\n",
       " 918315,\n",
       " 918316,\n",
       " 918317,\n",
       " 918318,\n",
       " 918319,\n",
       " 918320,\n",
       " 918321,\n",
       " 918322,\n",
       " 918323,\n",
       " 918324,\n",
       " 918325,\n",
       " 918326,\n",
       " 918327,\n",
       " 918328,\n",
       " 918329,\n",
       " 918330,\n",
       " 918331,\n",
       " 918332,\n",
       " 918333,\n",
       " 918334,\n",
       " 918335,\n",
       " 918336,\n",
       " 918337,\n",
       " 918338,\n",
       " 918339,\n",
       " 918340,\n",
       " 918341,\n",
       " 918342,\n",
       " 918343,\n",
       " 918344,\n",
       " 918345,\n",
       " 918346,\n",
       " 918347,\n",
       " 918348,\n",
       " 918349,\n",
       " 918350,\n",
       " 918351,\n",
       " 918352,\n",
       " 918353,\n",
       " 918354,\n",
       " 918355,\n",
       " 918356,\n",
       " 918357,\n",
       " 918358,\n",
       " 918359,\n",
       " 918360,\n",
       " 918361,\n",
       " 918362,\n",
       " 918363,\n",
       " 918364,\n",
       " 918365,\n",
       " 918366,\n",
       " 918367,\n",
       " 918368,\n",
       " 918369,\n",
       " 918370,\n",
       " 918371,\n",
       " 918372,\n",
       " 918373,\n",
       " 918374,\n",
       " 918375,\n",
       " 918376,\n",
       " 918377,\n",
       " 918378,\n",
       " 918379,\n",
       " 918380,\n",
       " 918381]"
      ]
     },
     "execution_count": 18,
     "metadata": {},
     "output_type": "execute_result"
    }
   ],
   "source": [
    "list(train_session_mapping.values())[-100:]"
   ]
  },
  {
   "cell_type": "code",
   "execution_count": 87,
   "metadata": {
    "pycharm": {
     "name": "#%%\n"
    }
   },
   "outputs": [],
   "source": [
    "item_values = item_features.drop(columns=['feature_category_id'])\n",
    "item_values = item_values.drop_duplicates()\n",
    "unique_ids = item_values.feature_value_id.unique()\n",
    "mapping_feature = {k:v for k,v in zip(unique_ids, np.arange(len(unique_ids)))}\n",
    "item_values['item_id'] = item_values['item_id'].map(item_mapping)\n",
    "item_values['feature_value_id'] = item_values['feature_value_id'].map(mapping_feature)\n",
    "\n",
    "ICM_feature_values = sps.csr_matrix((np.ones(shape=(len(item_values,))), (item_values.item_id, item_values.feature_value_id)))"
   ]
  },
  {
   "cell_type": "code",
   "execution_count": 11,
   "metadata": {
    "pycharm": {
     "name": "#%%\n"
    }
   },
   "outputs": [],
   "source": [
    "feature_df = item_features.copy()\n",
    "feature_df = feature_df.sort_values(['item_id', 'feature_category_id', 'feature_value_id'])\n",
    "\n",
    "# create new column pair feature_category_id-feature_value_id\n",
    "feature_df['category_value'] = feature_df['feature_category_id'].astype(str) + '-' + feature_df[\n",
    "    'feature_value_id'].astype(str)\n",
    "feature_df = feature_df.drop(['feature_value_id', 'feature_category_id'], axis=1).reset_index(drop=True)\n",
    "\n",
    "# create new index for every pair feature_category_id-feature_value_id\n",
    "category_value_keys = list(feature_df['category_value'].unique())  # list of pairs category-value\n",
    "category_value_vals = [v for v in range(len(category_value_keys))]  # new index -- perché non fare arange?\n",
    "category_value_dict = dict(zip(category_value_keys, category_value_vals))  # create dictionary\n",
    "category_value_id = [category_value_dict[idx] for idx in\n",
    "                        feature_df['category_value'].values]  # list of id category-value for the new column\n",
    "\n",
    "feature_df['category_value_id'] = category_value_id  # A cosa serve modificare il df e aggiungere questa colonna?\n",
    "\n",
    "feature_df['interaction'] = bool(1)  # perché non fare semplicemente un array di len(feature_df) elementi True?\n",
    "\n",
    "# reindexing of item_id\n",
    "mapped_item_id = [item_mapping[idx] for idx in feature_df['item_id'].values]\n",
    "\n",
    "ICM_all = sps.csr_matrix((feature_df['interaction'].values, (mapped_item_id, category_value_id)))\n",
    "# Remove rows and columns with only zeros\n",
    "ICM_all = ICM_all[ICM_all.getnnz(1) > 0][:, ICM_all.getnnz(0) > 0]"
   ]
  },
  {
   "cell_type": "code",
   "execution_count": 85,
   "metadata": {
    "pycharm": {
     "name": "#%%\n"
    }
   },
   "outputs": [],
   "source": [
    "feature_df = item_features.copy()\n",
    "feature_df = feature_df.sort_values(['item_id', 'feature_category_id', 'feature_value_id'])\n",
    "feature_df['category_value'] = feature_df['feature_category_id'].astype(str) + '-' + feature_df[\n",
    "        'feature_value_id'].astype(str)\n",
    "feature_df = feature_df.drop(['feature_value_id', 'feature_category_id'], axis=1).reset_index(drop=True)\n",
    "category_ids = feature_df.category_value.unique()\n",
    "mapping_feature = dict(zip(category_ids, np.arange(len(category_ids))))\n",
    "\n",
    "item_ids = [item_mapping[idx] for idx in feature_df.item_id.values]\n",
    "cat_ids = [mapping_feature[idx] for idx in feature_df.category_value.values]\n",
    "\n",
    "ICM_feature_values = sps.csr_matrix((np.ones(shape=(len(feature_df,))), (item_ids, cat_ids)))"
   ]
  },
  {
   "cell_type": "code",
   "execution_count": 86,
   "metadata": {
    "pycharm": {
     "name": "#%%\n"
    }
   },
   "outputs": [
    {
     "data": {
      "text/plain": [
       "True"
      ]
     },
     "execution_count": 86,
     "metadata": {},
     "output_type": "execute_result"
    }
   ],
   "source": [
    "(ICM_all!=ICM_feature_values).nnz==0 "
   ]
  },
  {
   "cell_type": "code",
   "execution_count": 12,
   "metadata": {
    "pycharm": {
     "name": "#%%\n"
    }
   },
   "outputs": [],
   "source": [
    "def create_ICM(df, item_mapping, which=\"category_value\"):\n",
    "    feature_df = item_features.copy()\n",
    "    feature_df = feature_df.sort_values(['item_id', 'feature_category_id', 'feature_value_id'])\n",
    "\n",
    "    if which == \"category_value\":\n",
    "        feature_df['category_value'] = feature_df['feature_category_id'].astype(str) + '-' + feature_df['feature_value_id'].astype(str)\n",
    "        feature_df = feature_df.drop(['feature_value_id', 'feature_category_id'], axis=1).reset_index(drop=True)\n",
    "        category_ids = feature_df.category_value.unique()\n",
    "        mapping_feature = dict(zip(category_ids, np.arange(len(category_ids))))\n",
    "\n",
    "        item_ids = [item_mapping[idx] for idx in feature_df.item_id.values]\n",
    "        cat_ids = [mapping_feature[idx] for idx in feature_df.category_value.values]\n",
    "\n",
    "        ICM = sps.csr_matrix((np.ones(shape=(len(feature_df,))), (item_ids, cat_ids)))\n",
    "    elif which == \"feature_value\":\n",
    "        feature_df = feature_df.drop(columns=['feature_category_id'])\n",
    "        feature_df = feature_df.drop_duplicates()\n",
    "        unique_ids = feature_df.feature_value_id.unique()\n",
    "        mapping_feature = {k:v for k,v in zip(unique_ids, np.arange(len(unique_ids)))}\n",
    "        \n",
    "        item_ids = [item_mapping[idx] for idx in feature_df.item_id.values]\n",
    "        cat_ids = [mapping_feature[idx] for idx in feature_df.feature_value_id.values]\n",
    "\n",
    "        ICM = sps.csr_matrix((np.ones(shape=(len(feature_df,))), (item_ids, cat_ids)))\n",
    "\n",
    "    else:\n",
    "        raise NotImplementedError\n",
    "\n",
    "    return ICM, mapping_feature"
   ]
  },
  {
   "cell_type": "code",
   "execution_count": 13,
   "metadata": {
    "pycharm": {
     "name": "#%%\n"
    }
   },
   "outputs": [],
   "source": [
    "# Check if equal\n",
    "\n",
    "def create_ICM_old(df, item_mapping):\n",
    "    \"\"\"\n",
    "    Return sparse ICM from item_features dataframe and dictionary {'feature_category_id-feature_value_id': new_category_value_idx}\n",
    "\n",
    "    \"\"\"\n",
    "    feature_df = df.copy()\n",
    "    feature_df = feature_df.sort_values(['item_id', 'feature_category_id', 'feature_value_id'])\n",
    "\n",
    "    # create new column pair feature_category_id-feature_value_id\n",
    "    feature_df['category_value'] = feature_df['feature_category_id'].astype(str) + '-' + feature_df[\n",
    "        'feature_value_id'].astype(str)\n",
    "    feature_df = feature_df.drop(['feature_value_id', 'feature_category_id'], axis=1).reset_index(drop=True)\n",
    "\n",
    "    # create new index for every pair feature_category_id-feature_value_id\n",
    "    category_value_keys = list(feature_df['category_value'].unique())  # list of pairs category-value\n",
    "    category_value_vals = [v for v in range(len(category_value_keys))]  # new index -- perché non fare arange?\n",
    "    category_value_dict = dict(zip(category_value_keys, category_value_vals))  # create dictionary\n",
    "    category_value_id = [category_value_dict[idx] for idx in\n",
    "                         feature_df['category_value'].values]  # list of id category-value for the new column\n",
    "\n",
    "    feature_df['category_value_id'] = category_value_id  # A cosa serve modificare il df e aggiungere questa colonna?\n",
    "    feature_df['interaction'] = bool(1)  # perché non fare semplicemente un array di len(feature_df) elementi True?\n",
    "\n",
    "    # reindexing of item_id\n",
    "    mapped_item_id = [item_mapping[idx] for idx in feature_df['item_id'].values]\n",
    "\n",
    "    ICM_all = sps.csr_matrix((feature_df['interaction'].values, (mapped_item_id, category_value_id)))\n",
    "    # Remove rows and columns with only zeros\n",
    "    ICM_all = ICM_all[ICM_all.getnnz(1) > 0][:, ICM_all.getnnz(0) > 0]\n",
    "\n",
    "    return ICM_all, category_value_dict"
   ]
  },
  {
   "cell_type": "code",
   "execution_count": 94,
   "metadata": {
    "pycharm": {
     "name": "#%%\n"
    }
   },
   "outputs": [
    {
     "data": {
      "text/plain": [
       "True"
      ]
     },
     "execution_count": 94,
     "metadata": {},
     "output_type": "execute_result"
    }
   ],
   "source": [
    "# Check if works\n",
    "(create_ICM(item_features, item_mapping)[0]!=create_ICM_old(item_features, item_mapping)[0]).nnz==0 "
   ]
  },
  {
   "cell_type": "code",
   "execution_count": 15,
   "metadata": {
    "pycharm": {
     "name": "#%%\n"
    }
   },
   "outputs": [
    {
     "name": "stdout",
     "output_type": "stream",
     "text": [
      "ItemKNNCBFRecommender: URM Detected 477 ( 2.0%) items with no interactions.\n",
      "Similarity column 23691 (100.0%), 885.67 column/sec. Elapsed time 26.75 sec\n",
      "EvaluatorHoldout: Ignoring 18922 Items\n",
      "EvaluatorHoldout: Ignoring 77191 Users\n",
      "EvaluatorHoldout: Processed 4427 (100.0%) in 5.75 sec. Users per second: 770\n"
     ]
    },
    {
     "data": {
      "text/plain": [
       "(       PRECISION PRECISION_RECALL_MIN_DEN    RECALL      MAP MAP_MIN_DEN  \\\n",
       " cutoff                                                                     \n",
       " 100     0.004299                 0.429862  0.429862  0.00132    0.131997   \n",
       " \n",
       "              MRR      NDCG        F1  HIT_RATE ARHR_ALL_HITS  ...  \\\n",
       " cutoff                                                        ...   \n",
       " 100     0.131997  0.190302  0.008512  0.429862      0.131997  ...   \n",
       " \n",
       "        COVERAGE_ITEM_CORRECT COVERAGE_USER COVERAGE_USER_CORRECT  \\\n",
       " cutoff                                                             \n",
       " 100                 0.130426           1.0              0.429862   \n",
       " \n",
       "        DIVERSITY_GINI SHANNON_ENTROPY RATIO_DIVERSITY_HERFINDAHL  \\\n",
       " cutoff                                                             \n",
       " 100          0.389709       11.274108                   1.000348   \n",
       " \n",
       "        RATIO_DIVERSITY_GINI RATIO_SHANNON_ENTROPY RATIO_AVERAGE_POPULARITY  \\\n",
       " cutoff                                                                       \n",
       " 100                1.094816                1.0218                 0.377721   \n",
       " \n",
       "        RATIO_NOVELTY  \n",
       " cutoff                \n",
       " 100        24.218567  \n",
       " \n",
       " [1 rows x 25 columns],\n",
       " 'CUTOFF: 100 - PRECISION: 0.0042986, PRECISION_RECALL_MIN_DEN: 0.4298622, RECALL: 0.4298622, MAP: 0.0013200, MAP_MIN_DEN: 0.1319975, MRR: 0.1319975, NDCG: 0.1903015, F1: 0.0085121, HIT_RATE: 0.4298622, ARHR_ALL_HITS: 0.1319975, NOVELTY: 0.0531608, AVERAGE_POPULARITY: 0.0754335, DIVERSITY_MEAN_INTER_LIST: 0.9464341, DIVERSITY_HERFINDAHL: 0.9994622, COVERAGE_ITEM: 0.9113022, COVERAGE_ITEM_CORRECT: 0.1304257, COVERAGE_USER: 1.0000000, COVERAGE_USER_CORRECT: 0.4298622, DIVERSITY_GINI: 0.3897094, SHANNON_ENTROPY: 11.2741077, RATIO_DIVERSITY_HERFINDAHL: 1.0003483, RATIO_DIVERSITY_GINI: 1.0948162, RATIO_SHANNON_ENTROPY: 1.0217997, RATIO_AVERAGE_POPULARITY: 0.3777211, RATIO_NOVELTY: 24.2185668, \\n')"
      ]
     },
     "execution_count": 15,
     "metadata": {},
     "output_type": "execute_result"
    }
   ],
   "source": [
    "# Compare performance \n",
    "\n",
    "from RecSys_Course_AT_PoliMi.Recommenders.KNN.ItemKNNCBFRecommender import ItemKNNCBFRecommender\n",
    "from RecSys_Course_AT_PoliMi.Evaluation.Evaluator import EvaluatorHoldout\n",
    "from RecSys_Course_AT_PoliMi.Pipeline.utils import get_cold_sessions\n",
    "\n",
    "best_hyp = {'topK': 9627, 'shrink': 5404, 'similarity': 'tanimoto', 'feature_weighting': 'none', 'normalize': True}\n",
    "itemknn = ItemKNNCBFRecommender(URM_train=URM_train, ICM_train=create_ICM(item_features, item_mapping, which=\"feature_value\")[0])\n",
    "itemknn.fit(**best_hyp)\n",
    "itemknn.set_URM_train(URM_val_views)\n",
    "_, ignore_users = get_cold_sessions(weighted_train_set_df, val_views_df, item_mapping, item_features)\n",
    "eval_obj = EvaluatorHoldout(URM_val_purch, [100], ignore_items=mapped_items_to_ignore, ignore_users=ignore_users)\n",
    "eval_obj.evaluateRecommender(itemknn)\n"
   ]
  }
 ],
 "metadata": {
  "interpreter": {
   "hash": "5d88d5ac213475c5bc29f87cd91e6c6ecf55472304351e26597a498055d7f38e"
  },
  "kernelspec": {
   "display_name": "Python 3.8.12 ('recsys')",
   "language": "python",
   "name": "python3"
  },
  "language_info": {
   "codemirror_mode": {
    "name": "ipython",
    "version": 3
   },
   "file_extension": ".py",
   "mimetype": "text/x-python",
   "name": "python",
   "nbconvert_exporter": "python",
   "pygments_lexer": "ipython3",
   "version": "3.8.12"
  },
  "orig_nbformat": 4
 },
 "nbformat": 4,
 "nbformat_minor": 2
}