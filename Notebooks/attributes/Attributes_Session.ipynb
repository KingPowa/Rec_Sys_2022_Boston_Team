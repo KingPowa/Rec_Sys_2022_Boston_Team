{
 "cells": [
  {
   "cell_type": "code",
   "execution_count": 1,
   "metadata": {
    "collapsed": true,
    "pycharm": {
     "name": "#%%\n"
    }
   },
   "outputs": [],
   "source": [
    "import sys\n",
    "import os\n",
    "import pandas as pd\n",
    "import numpy as np\n",
    "from tqdm import tqdm\n",
    "import gc\n",
    "tqdm.pandas()"
   ]
  },
  {
   "cell_type": "code",
   "execution_count": 2,
   "outputs": [],
   "source": [
    "candidate_items = pd.read_csv(\"../../Dataset/candidate_items.csv\")\n",
    "item_features = pd.read_csv(\"../../Dataset/item_features.csv\")\n",
    "train_purchases = pd.read_csv(\"../../Dataset/train_purchases.csv\")\n",
    "train_sessions = pd.read_csv(\"../../Dataset/train_sessions.csv\")\n",
    "test_final_sessions = pd.read_csv(\"../../Dataset/test_final_sessions.csv\")\n",
    "test_leaderboard_sessions = pd.read_csv(\"../../Dataset/test_leaderboard_sessions.csv\")"
   ],
   "metadata": {
    "collapsed": false,
    "pycharm": {
     "name": "#%%\n"
    }
   }
  },
  {
   "cell_type": "code",
   "execution_count": 3,
   "outputs": [],
   "source": [
    "session_attributes_train = pd.DataFrame(train_sessions.session_id.unique(), columns=['session_id'])\n",
    "session_attributes_train['session_length'] = train_sessions.groupby('session_id')['item_id'].count().values\n",
    "\n",
    "session_attributes_final = pd.DataFrame(test_final_sessions.session_id.unique(), columns=['session_id'])\n",
    "session_attributes_final['session_length'] = test_final_sessions.groupby('session_id')['item_id'].count().values\n",
    "\n",
    "session_attributes_leaderboard = pd.DataFrame(test_leaderboard_sessions.session_id.unique(), columns=['session_id'])\n",
    "session_attributes_leaderboard['session_length'] = test_leaderboard_sessions.groupby('session_id')['item_id'].count().values"
   ],
   "metadata": {
    "collapsed": false,
    "pycharm": {
     "name": "#%%\n"
    }
   }
  },
  {
   "cell_type": "code",
   "execution_count": 4,
   "outputs": [],
   "source": [
    "train_sessions_unique = train_sessions.drop_duplicates(['session_id', 'item_id'])\n",
    "session_attributes_train['session_length_distinct'] = train_sessions_unique.groupby('session_id')['item_id'].count().values\n",
    "\n",
    "final_sessions_unique = test_final_sessions.drop_duplicates(['session_id', 'item_id'])\n",
    "session_attributes_final['session_length_distinct'] = final_sessions_unique.groupby('session_id')['item_id'].count().values\n",
    "\n",
    "leaderboard_sessions_unique = test_leaderboard_sessions.drop_duplicates(['session_id', 'item_id'])\n",
    "session_attributes_leaderboard['session_length_distinct'] = leaderboard_sessions_unique.groupby('session_id')['item_id'].count().values"
   ],
   "metadata": {
    "collapsed": false,
    "pycharm": {
     "name": "#%%\n"
    }
   }
  },
  {
   "cell_type": "code",
   "execution_count": 5,
   "outputs": [],
   "source": [
    "session_attributes_train = session_attributes_train.merge(train_sessions_unique[['session_id', 'date']],\n",
    "                              left_on=['session_id'], right_on=['session_id'])\n",
    "session_attributes_train.date = pd.to_datetime(session_attributes_train.date)\n",
    "\n",
    "session_attributes_final = session_attributes_final.merge(final_sessions_unique[['session_id', 'date']],\n",
    "                              left_on=['session_id'], right_on=['session_id'])\n",
    "session_attributes_final.date = pd.to_datetime(session_attributes_final.date)\n",
    "\n",
    "session_attributes_leaderboard = session_attributes_leaderboard.merge(leaderboard_sessions_unique[['session_id', 'date']],\n",
    "                              left_on=['session_id'], right_on=['session_id'])\n",
    "session_attributes_leaderboard.date = pd.to_datetime(session_attributes_leaderboard.date)"
   ],
   "metadata": {
    "collapsed": false,
    "pycharm": {
     "name": "#%%\n"
    }
   }
  },
  {
   "cell_type": "code",
   "execution_count": 6,
   "outputs": [],
   "source": [
    "session_attributes_train['day_of_week'] = session_attributes_train.date.map(lambda x: x.day_of_week)\n",
    "session_attributes_train['month'] = session_attributes_train.date.map(lambda x: x.month)\n",
    "session_attributes_train['year'] = session_attributes_train.date.map(lambda x: x.year)\n",
    "session_attributes_train.drop(columns=['date'], inplace=True)\n",
    "\n",
    "session_attributes_final['day_of_week'] = session_attributes_final.date.map(lambda x: x.day_of_week)\n",
    "session_attributes_final['month'] = session_attributes_final.date.map(lambda x: x.month)\n",
    "session_attributes_final['year'] = session_attributes_final.date.map(lambda x: x.year)\n",
    "session_attributes_final.drop(columns=['date'], inplace=True)\n",
    "\n",
    "session_attributes_leaderboard['day_of_week'] = session_attributes_leaderboard.date.map(lambda x: x.day_of_week)\n",
    "session_attributes_leaderboard['month'] = session_attributes_leaderboard.date.map(lambda x: x.month)\n",
    "session_attributes_leaderboard['year'] = session_attributes_leaderboard.date.map(lambda x: x.year)\n",
    "session_attributes_leaderboard.drop(columns=['date'], inplace=True)"
   ],
   "metadata": {
    "collapsed": false,
    "pycharm": {
     "name": "#%%\n"
    }
   }
  },
  {
   "cell_type": "code",
   "execution_count": 7,
   "outputs": [],
   "source": [
    "train_sessions_first = train_sessions.sort_values(by=['date'], ascending=True).drop_duplicates(['session_id']).sort_values(by=['session_id'], ascending=True)\n",
    "train_sessions_first.date = pd.to_datetime(train_sessions_first.date)\n",
    "train_sessions_first.rename(columns={\"date\": \"date_first\"}, inplace=True)\n",
    "train_sessions_last = train_sessions.sort_values(by=['date'], ascending=False).drop_duplicates(['session_id']).sort_values(by=['session_id'], ascending=True)\n",
    "train_sessions_last.date = pd.to_datetime(train_sessions_last.date)\n",
    "train_sessions_last.rename(columns={\"date\": \"date_last\"}, inplace=True)\n",
    "\n",
    "final_sessions_first = test_final_sessions.sort_values(by=['date'], ascending=True).drop_duplicates(['session_id']).sort_values(by=['session_id'], ascending=True)\n",
    "final_sessions_first.date = pd.to_datetime(final_sessions_first.date)\n",
    "final_sessions_first.rename(columns={\"date\": \"date_first\"}, inplace=True)\n",
    "final_sessions_last = test_final_sessions.sort_values(by=['date'], ascending=False).drop_duplicates(['session_id']).sort_values(by=['session_id'], ascending=True)\n",
    "final_sessions_last.date = pd.to_datetime(final_sessions_last.date)\n",
    "final_sessions_last.rename(columns={\"date\": \"date_last\"}, inplace=True)\n",
    "\n",
    "leaderboard_sessions_first = test_leaderboard_sessions.sort_values(by=['date'], ascending=True).drop_duplicates(['session_id']).sort_values(by=['session_id'], ascending=True)\n",
    "leaderboard_sessions_first.date = pd.to_datetime(leaderboard_sessions_first.date)\n",
    "leaderboard_sessions_first.rename(columns={\"date\": \"date_first\"}, inplace=True)\n",
    "leaderboard_sessions_last = test_leaderboard_sessions.sort_values(by=['date'], ascending=False).drop_duplicates(['session_id']).sort_values(by=['session_id'], ascending=True)\n",
    "leaderboard_sessions_last.date = pd.to_datetime(leaderboard_sessions_last.date)\n",
    "leaderboard_sessions_last.rename(columns={\"date\": \"date_last\"}, inplace=True)"
   ],
   "metadata": {
    "collapsed": false,
    "pycharm": {
     "name": "#%%\n"
    }
   }
  },
  {
   "cell_type": "code",
   "execution_count": 8,
   "outputs": [],
   "source": [
    "session_attributes_train = session_attributes_train.merge(train_sessions_first[['session_id', 'date_first']],\n",
    "                              left_on=['session_id'], right_on=['session_id'])\n",
    "session_attributes_train = session_attributes_train.merge(train_sessions_last[['session_id', 'date_last']],\n",
    "                              left_on=['session_id'], right_on=['session_id'])\n",
    "\n",
    "session_attributes_final = session_attributes_final.merge(final_sessions_first[['session_id', 'date_first']],\n",
    "                              left_on=['session_id'], right_on=['session_id'])\n",
    "session_attributes_final = session_attributes_final.merge(final_sessions_last[['session_id', 'date_last']],\n",
    "                              left_on=['session_id'], right_on=['session_id'])\n",
    "\n",
    "session_attributes_leaderboard = session_attributes_leaderboard.merge(leaderboard_sessions_first[['session_id', 'date_first']],\n",
    "                              left_on=['session_id'], right_on=['session_id'])\n",
    "session_attributes_leaderboard = session_attributes_leaderboard.merge(leaderboard_sessions_last[['session_id', 'date_last']],\n",
    "                              left_on=['session_id'], right_on=['session_id'])"
   ],
   "metadata": {
    "collapsed": false,
    "pycharm": {
     "name": "#%%\n"
    }
   }
  },
  {
   "cell_type": "code",
   "execution_count": 9,
   "outputs": [],
   "source": [
    "session_attributes_train['session_delta_time'] = session_attributes_train.apply(lambda x: (x.date_last - x.date_first).seconds, axis=1)\n",
    "\n",
    "session_attributes_final['session_delta_time'] = session_attributes_final.apply(lambda x: (x.date_last - x.date_first).seconds, axis=1)\n",
    "\n",
    "session_attributes_leaderboard['session_delta_time'] = session_attributes_leaderboard.apply(lambda x: (x.date_last - x.date_first).seconds, axis=1)"
   ],
   "metadata": {
    "collapsed": false,
    "pycharm": {
     "name": "#%%\n"
    }
   }
  },
  {
   "cell_type": "code",
   "execution_count": 10,
   "outputs": [],
   "source": [
    "session_attributes_train['session_mean_item_time'] = session_attributes_train.apply(lambda x: x.session_delta_time/x.session_length, axis=1)\n",
    "\n",
    "session_attributes_final['session_mean_item_time'] = session_attributes_final.apply(lambda x: x.session_delta_time/x.session_length, axis=1)\n",
    "\n",
    "session_attributes_leaderboard['session_mean_item_time'] = session_attributes_leaderboard.apply(lambda x: x.session_delta_time/x.session_length, axis=1)"
   ],
   "metadata": {
    "collapsed": false,
    "pycharm": {
     "name": "#%%\n"
    }
   }
  },
  {
   "cell_type": "code",
   "execution_count": 11,
   "outputs": [
    {
     "name": "stderr",
     "output_type": "stream",
     "text": [
      "100%|██████████| 4743820/4743820 [07:06<00:00, 11120.22it/s]\n",
      "100%|██████████| 226138/226138 [00:20<00:00, 11104.44it/s]\n",
      "100%|██████████| 229354/229354 [00:20<00:00, 11280.23it/s]\n"
     ]
    }
   ],
   "source": [
    "seen_items = set()\n",
    "session_score_train = {key:0 for key in train_sessions.session_id.unique()}\n",
    "session_score_final = {key:0 for key in test_final_sessions.session_id.unique()}\n",
    "session_score_leaderboard = {key:0 for key in test_leaderboard_sessions.session_id.unique()}\n",
    "\n",
    "train_sessions.sort_values(by='date', inplace=True, ascending=True)\n",
    "length = train_sessions.shape[0]\n",
    "for i in tqdm(range(length)):\n",
    "    row = train_sessions.iloc[i]\n",
    "    actual_len = len(seen_items)\n",
    "    seen_items.add(row.item_id)\n",
    "    if actual_len < len(seen_items):\n",
    "        session_score_train[row.session_id] += 1\n",
    "\n",
    "test_final_sessions.sort_values(by='date', inplace=True, ascending=True)\n",
    "length = test_final_sessions.shape[0]\n",
    "for i in tqdm(range(length)):\n",
    "    row = test_final_sessions.iloc[i]\n",
    "    if row.item_id not in seen_items:\n",
    "        session_score_final[row.session_id] += 1\n",
    "\n",
    "test_leaderboard_sessions.sort_values(by='date', inplace=True, ascending=True)\n",
    "length = test_leaderboard_sessions.shape[0]\n",
    "for i in tqdm(range(length)):\n",
    "    row = test_leaderboard_sessions.iloc[i]\n",
    "    if row.item_id not in seen_items:\n",
    "        session_score_leaderboard[row.session_id] += 1"
   ],
   "metadata": {
    "collapsed": false,
    "pycharm": {
     "name": "#%%\n"
    }
   }
  },
  {
   "cell_type": "code",
   "execution_count": 12,
   "outputs": [],
   "source": [
    "session_attributes_train['num_never_seen_items'] = session_attributes_train.session_id.map(session_score_train)\n",
    "\n",
    "session_attributes_final['num_never_seen_items'] = session_attributes_final.session_id.map(session_score_final)\n",
    "\n",
    "session_attributes_leaderboard['num_never_seen_items'] = session_attributes_leaderboard.session_id.map(session_score_leaderboard)"
   ],
   "metadata": {
    "collapsed": false,
    "pycharm": {
     "name": "#%%\n"
    }
   }
  },
  {
   "cell_type": "code",
   "execution_count": 13,
   "outputs": [
    {
     "name": "stderr",
     "output_type": "stream",
     "text": [
      "100%|██████████| 5743820/5743820 [10:28<00:00, 9137.91it/s] \n",
      "100%|██████████| 226138/226138 [00:27<00:00, 8354.76it/s]\n",
      "100%|██████████| 229354/229354 [00:25<00:00, 8875.40it/s]\n"
     ]
    }
   ],
   "source": [
    "purchased_items = set()\n",
    "session_purchase_score_train = {key:0 for key in train_sessions.session_id.unique()}\n",
    "session_purchase_score_final = {key:0 for key in test_final_sessions.session_id.unique()}\n",
    "session_purchase_score_leaderboard = {key:0 for key in test_leaderboard_sessions.session_id.unique()}\n",
    "train_sessions['purchase'] = False\n",
    "train_purchases['purchase'] = True\n",
    "train_interactions = pd.concat([train_sessions, train_purchases], axis=0)\n",
    "train_interactions.sort_values(by='date', inplace=True, ascending=True)\n",
    "length = train_interactions.shape[0]\n",
    "for i in tqdm(range(length)):\n",
    "    row = train_interactions.iloc[i]\n",
    "    if row.purchase:\n",
    "        purchased_items.add(row.item_id)\n",
    "    if (not row.purchase) and (row.session_id not in purchased_items):\n",
    "        session_purchase_score_train[row.session_id] += 1\n",
    "\n",
    "\n",
    "test_final_sessions.sort_values(by='date', inplace=True, ascending=True)\n",
    "length = test_final_sessions.shape[0]\n",
    "for i in tqdm(range(length)):\n",
    "    row = test_final_sessions.iloc[i]\n",
    "    if row.session_id not in purchased_items:\n",
    "        session_purchase_score_final[row.session_id] += 1\n",
    "\n",
    "test_leaderboard_sessions.sort_values(by='date', inplace=True, ascending=True)\n",
    "length = test_leaderboard_sessions.shape[0]\n",
    "for i in tqdm(range(length)):\n",
    "    row = test_leaderboard_sessions.iloc[i]\n",
    "    if row.session_id not in purchased_items:\n",
    "        session_purchase_score_leaderboard[row.session_id] += 1"
   ],
   "metadata": {
    "collapsed": false,
    "pycharm": {
     "name": "#%%\n"
    }
   }
  },
  {
   "cell_type": "code",
   "execution_count": 14,
   "outputs": [],
   "source": [
    "session_attributes_train['num_never_purchased_items'] = session_attributes_train.session_id.map(session_purchase_score_train)\n",
    "\n",
    "session_attributes_final['num_never_purchased_items'] = session_attributes_final.session_id.map(session_purchase_score_final)\n",
    "\n",
    "session_attributes_leaderboard['num_never_purchased_items'] = session_attributes_leaderboard.session_id.map(session_purchase_score_leaderboard)"
   ],
   "metadata": {
    "collapsed": false,
    "pycharm": {
     "name": "#%%\n"
    }
   }
  },
  {
   "cell_type": "code",
   "execution_count": 15,
   "outputs": [],
   "source": [
    "session_attributes_train.drop(columns=['date_first', 'date_last'], inplace=True)\n",
    "session_attributes_final.drop(columns=['date_first', 'date_last'], inplace=True)\n",
    "session_attributes_leaderboard.drop(columns=['date_first', 'date_last'], inplace=True)"
   ],
   "metadata": {
    "collapsed": false,
    "pycharm": {
     "name": "#%%\n"
    }
   }
  },
  {
   "cell_type": "code",
   "execution_count": 16,
   "outputs": [
    {
     "data": {
      "text/plain": "         session_id  session_length  session_length_distinct  day_of_week  \\\n0                 3               2                        1            4   \n1                13               1                        1            4   \n2                18               3                        3            2   \n5                19              17                       17            0   \n22               24               9                        8            2   \n...             ...             ...                      ...          ...   \n4108808     4439986               6                        6            3   \n4108814     4439990              11                       10            5   \n4108824     4439994               1                        1            4   \n4108825     4439999               7                        7            4   \n4108832     4440001              19                       18            4   \n\n         month  year  session_delta_time  session_mean_item_time  \\\n0           12  2020                 312              156.000000   \n1            3  2020                   0                0.000000   \n2            8  2020                 163               54.333333   \n5           11  2020                1082               63.647059   \n22           2  2020                3703              411.444444   \n...        ...   ...                 ...                     ...   \n4108808      5  2021                 533               88.833333   \n4108814      8  2020                3458              314.363636   \n4108824     11  2020                   0                0.000000   \n4108825     11  2020                 436               62.285714   \n4108832     10  2020               25091             1320.578947   \n\n         num_never_seen_items  num_never_purchased_items  \n0                           0                          0  \n1                           0                          1  \n2                           0                          0  \n5                           0                         17  \n22                          0                          0  \n...                       ...                        ...  \n4108808                     0                          6  \n4108814                     0                         11  \n4108824                     0                          1  \n4108825                     0                          7  \n4108832                     0                         19  \n\n[1000000 rows x 10 columns]",
      "text/html": "<div>\n<style scoped>\n    .dataframe tbody tr th:only-of-type {\n        vertical-align: middle;\n    }\n\n    .dataframe tbody tr th {\n        vertical-align: top;\n    }\n\n    .dataframe thead th {\n        text-align: right;\n    }\n</style>\n<table border=\"1\" class=\"dataframe\">\n  <thead>\n    <tr style=\"text-align: right;\">\n      <th></th>\n      <th>session_id</th>\n      <th>session_length</th>\n      <th>session_length_distinct</th>\n      <th>day_of_week</th>\n      <th>month</th>\n      <th>year</th>\n      <th>session_delta_time</th>\n      <th>session_mean_item_time</th>\n      <th>num_never_seen_items</th>\n      <th>num_never_purchased_items</th>\n    </tr>\n  </thead>\n  <tbody>\n    <tr>\n      <th>0</th>\n      <td>3</td>\n      <td>2</td>\n      <td>1</td>\n      <td>4</td>\n      <td>12</td>\n      <td>2020</td>\n      <td>312</td>\n      <td>156.000000</td>\n      <td>0</td>\n      <td>0</td>\n    </tr>\n    <tr>\n      <th>1</th>\n      <td>13</td>\n      <td>1</td>\n      <td>1</td>\n      <td>4</td>\n      <td>3</td>\n      <td>2020</td>\n      <td>0</td>\n      <td>0.000000</td>\n      <td>0</td>\n      <td>1</td>\n    </tr>\n    <tr>\n      <th>2</th>\n      <td>18</td>\n      <td>3</td>\n      <td>3</td>\n      <td>2</td>\n      <td>8</td>\n      <td>2020</td>\n      <td>163</td>\n      <td>54.333333</td>\n      <td>0</td>\n      <td>0</td>\n    </tr>\n    <tr>\n      <th>5</th>\n      <td>19</td>\n      <td>17</td>\n      <td>17</td>\n      <td>0</td>\n      <td>11</td>\n      <td>2020</td>\n      <td>1082</td>\n      <td>63.647059</td>\n      <td>0</td>\n      <td>17</td>\n    </tr>\n    <tr>\n      <th>22</th>\n      <td>24</td>\n      <td>9</td>\n      <td>8</td>\n      <td>2</td>\n      <td>2</td>\n      <td>2020</td>\n      <td>3703</td>\n      <td>411.444444</td>\n      <td>0</td>\n      <td>0</td>\n    </tr>\n    <tr>\n      <th>...</th>\n      <td>...</td>\n      <td>...</td>\n      <td>...</td>\n      <td>...</td>\n      <td>...</td>\n      <td>...</td>\n      <td>...</td>\n      <td>...</td>\n      <td>...</td>\n      <td>...</td>\n    </tr>\n    <tr>\n      <th>4108808</th>\n      <td>4439986</td>\n      <td>6</td>\n      <td>6</td>\n      <td>3</td>\n      <td>5</td>\n      <td>2021</td>\n      <td>533</td>\n      <td>88.833333</td>\n      <td>0</td>\n      <td>6</td>\n    </tr>\n    <tr>\n      <th>4108814</th>\n      <td>4439990</td>\n      <td>11</td>\n      <td>10</td>\n      <td>5</td>\n      <td>8</td>\n      <td>2020</td>\n      <td>3458</td>\n      <td>314.363636</td>\n      <td>0</td>\n      <td>11</td>\n    </tr>\n    <tr>\n      <th>4108824</th>\n      <td>4439994</td>\n      <td>1</td>\n      <td>1</td>\n      <td>4</td>\n      <td>11</td>\n      <td>2020</td>\n      <td>0</td>\n      <td>0.000000</td>\n      <td>0</td>\n      <td>1</td>\n    </tr>\n    <tr>\n      <th>4108825</th>\n      <td>4439999</td>\n      <td>7</td>\n      <td>7</td>\n      <td>4</td>\n      <td>11</td>\n      <td>2020</td>\n      <td>436</td>\n      <td>62.285714</td>\n      <td>0</td>\n      <td>7</td>\n    </tr>\n    <tr>\n      <th>4108832</th>\n      <td>4440001</td>\n      <td>19</td>\n      <td>18</td>\n      <td>4</td>\n      <td>10</td>\n      <td>2020</td>\n      <td>25091</td>\n      <td>1320.578947</td>\n      <td>0</td>\n      <td>19</td>\n    </tr>\n  </tbody>\n</table>\n<p>1000000 rows × 10 columns</p>\n</div>"
     },
     "execution_count": 16,
     "metadata": {},
     "output_type": "execute_result"
    }
   ],
   "source": [
    "session_attributes_train.drop_duplicates(['session_id'], inplace=True)\n",
    "session_attributes_train"
   ],
   "metadata": {
    "collapsed": false,
    "pycharm": {
     "name": "#%%\n"
    }
   }
  },
  {
   "cell_type": "code",
   "execution_count": 17,
   "outputs": [
    {
     "data": {
      "text/plain": "        session_id  session_length  session_length_distinct  day_of_week  \\\n0               61               1                        1            1   \n1               96               5                        5            5   \n6              185               5                        3            0   \n9              224               2                        2            0   \n11             285               1                        1            1   \n...            ...             ...                      ...          ...   \n186867     4439646               4                        4            5   \n186871     4439648               1                        1            0   \n186872     4439675               1                        1            1   \n186873     4439868               1                        1            2   \n186874     4439966               2                        2            6   \n\n        month  year  session_delta_time  session_mean_item_time  \\\n0           6  2021                   0                     0.0   \n1           6  2021                 496                    99.2   \n6           6  2021                 116                    23.2   \n9           6  2021               19892                  9946.0   \n11          6  2021                   0                     0.0   \n...       ...   ...                 ...                     ...   \n186867      6  2021                 260                    65.0   \n186871      6  2021                   0                     0.0   \n186872      6  2021                   0                     0.0   \n186873      6  2021                   0                     0.0   \n186874      6  2021                 101                    50.5   \n\n        num_never_seen_items  num_never_purchased_items  \n0                          0                          1  \n1                          0                          5  \n6                          0                          0  \n9                          0                          0  \n11                         0                          0  \n...                      ...                        ...  \n186867                     1                          4  \n186871                     0                          1  \n186872                     0                          1  \n186873                     0                          1  \n186874                     0                          2  \n\n[50000 rows x 10 columns]",
      "text/html": "<div>\n<style scoped>\n    .dataframe tbody tr th:only-of-type {\n        vertical-align: middle;\n    }\n\n    .dataframe tbody tr th {\n        vertical-align: top;\n    }\n\n    .dataframe thead th {\n        text-align: right;\n    }\n</style>\n<table border=\"1\" class=\"dataframe\">\n  <thead>\n    <tr style=\"text-align: right;\">\n      <th></th>\n      <th>session_id</th>\n      <th>session_length</th>\n      <th>session_length_distinct</th>\n      <th>day_of_week</th>\n      <th>month</th>\n      <th>year</th>\n      <th>session_delta_time</th>\n      <th>session_mean_item_time</th>\n      <th>num_never_seen_items</th>\n      <th>num_never_purchased_items</th>\n    </tr>\n  </thead>\n  <tbody>\n    <tr>\n      <th>0</th>\n      <td>61</td>\n      <td>1</td>\n      <td>1</td>\n      <td>1</td>\n      <td>6</td>\n      <td>2021</td>\n      <td>0</td>\n      <td>0.0</td>\n      <td>0</td>\n      <td>1</td>\n    </tr>\n    <tr>\n      <th>1</th>\n      <td>96</td>\n      <td>5</td>\n      <td>5</td>\n      <td>5</td>\n      <td>6</td>\n      <td>2021</td>\n      <td>496</td>\n      <td>99.2</td>\n      <td>0</td>\n      <td>5</td>\n    </tr>\n    <tr>\n      <th>6</th>\n      <td>185</td>\n      <td>5</td>\n      <td>3</td>\n      <td>0</td>\n      <td>6</td>\n      <td>2021</td>\n      <td>116</td>\n      <td>23.2</td>\n      <td>0</td>\n      <td>0</td>\n    </tr>\n    <tr>\n      <th>9</th>\n      <td>224</td>\n      <td>2</td>\n      <td>2</td>\n      <td>0</td>\n      <td>6</td>\n      <td>2021</td>\n      <td>19892</td>\n      <td>9946.0</td>\n      <td>0</td>\n      <td>0</td>\n    </tr>\n    <tr>\n      <th>11</th>\n      <td>285</td>\n      <td>1</td>\n      <td>1</td>\n      <td>1</td>\n      <td>6</td>\n      <td>2021</td>\n      <td>0</td>\n      <td>0.0</td>\n      <td>0</td>\n      <td>0</td>\n    </tr>\n    <tr>\n      <th>...</th>\n      <td>...</td>\n      <td>...</td>\n      <td>...</td>\n      <td>...</td>\n      <td>...</td>\n      <td>...</td>\n      <td>...</td>\n      <td>...</td>\n      <td>...</td>\n      <td>...</td>\n    </tr>\n    <tr>\n      <th>186867</th>\n      <td>4439646</td>\n      <td>4</td>\n      <td>4</td>\n      <td>5</td>\n      <td>6</td>\n      <td>2021</td>\n      <td>260</td>\n      <td>65.0</td>\n      <td>1</td>\n      <td>4</td>\n    </tr>\n    <tr>\n      <th>186871</th>\n      <td>4439648</td>\n      <td>1</td>\n      <td>1</td>\n      <td>0</td>\n      <td>6</td>\n      <td>2021</td>\n      <td>0</td>\n      <td>0.0</td>\n      <td>0</td>\n      <td>1</td>\n    </tr>\n    <tr>\n      <th>186872</th>\n      <td>4439675</td>\n      <td>1</td>\n      <td>1</td>\n      <td>1</td>\n      <td>6</td>\n      <td>2021</td>\n      <td>0</td>\n      <td>0.0</td>\n      <td>0</td>\n      <td>1</td>\n    </tr>\n    <tr>\n      <th>186873</th>\n      <td>4439868</td>\n      <td>1</td>\n      <td>1</td>\n      <td>2</td>\n      <td>6</td>\n      <td>2021</td>\n      <td>0</td>\n      <td>0.0</td>\n      <td>0</td>\n      <td>1</td>\n    </tr>\n    <tr>\n      <th>186874</th>\n      <td>4439966</td>\n      <td>2</td>\n      <td>2</td>\n      <td>6</td>\n      <td>6</td>\n      <td>2021</td>\n      <td>101</td>\n      <td>50.5</td>\n      <td>0</td>\n      <td>2</td>\n    </tr>\n  </tbody>\n</table>\n<p>50000 rows × 10 columns</p>\n</div>"
     },
     "execution_count": 17,
     "metadata": {},
     "output_type": "execute_result"
    }
   ],
   "source": [
    "session_attributes_final.drop_duplicates(['session_id'], inplace=True)\n",
    "session_attributes_final"
   ],
   "metadata": {
    "collapsed": false,
    "pycharm": {
     "name": "#%%\n"
    }
   }
  },
  {
   "cell_type": "code",
   "execution_count": 18,
   "outputs": [
    {
     "data": {
      "text/plain": "        session_id  session_length  session_length_distinct  day_of_week  \\\n0               26               1                        1            2   \n1              200               4                        3            4   \n4              205               1                        1            4   \n5              495               1                        1            0   \n6              521               1                        1            5   \n...            ...             ...                      ...          ...   \n189269     4439446               3                        2            4   \n189271     4439458               2                        2            2   \n189273     4439550               1                        1            2   \n189274     4439653              10                        7            4   \n189281     4439757               3                        2            2   \n\n        month  year  session_delta_time  session_mean_item_time  \\\n0           6  2021                   0                0.000000   \n1           6  2021                  69               17.250000   \n4           6  2021                   0                0.000000   \n5           6  2021                   0                0.000000   \n6           6  2021                   0                0.000000   \n...       ...   ...                 ...                     ...   \n189269      6  2021                  59               19.666667   \n189271      6  2021                 162               81.000000   \n189273      6  2021                   0                0.000000   \n189274      6  2021                 205               20.500000   \n189281      6  2021                 157               52.333333   \n\n        num_never_seen_items  num_never_purchased_items  \n0                          0                          0  \n1                          0                          4  \n4                          0                          0  \n5                          1                          0  \n6                          0                          1  \n...                      ...                        ...  \n189269                     0                          3  \n189271                     0                          2  \n189273                     0                          1  \n189274                     0                         10  \n189281                     0                          3  \n\n[50000 rows x 10 columns]",
      "text/html": "<div>\n<style scoped>\n    .dataframe tbody tr th:only-of-type {\n        vertical-align: middle;\n    }\n\n    .dataframe tbody tr th {\n        vertical-align: top;\n    }\n\n    .dataframe thead th {\n        text-align: right;\n    }\n</style>\n<table border=\"1\" class=\"dataframe\">\n  <thead>\n    <tr style=\"text-align: right;\">\n      <th></th>\n      <th>session_id</th>\n      <th>session_length</th>\n      <th>session_length_distinct</th>\n      <th>day_of_week</th>\n      <th>month</th>\n      <th>year</th>\n      <th>session_delta_time</th>\n      <th>session_mean_item_time</th>\n      <th>num_never_seen_items</th>\n      <th>num_never_purchased_items</th>\n    </tr>\n  </thead>\n  <tbody>\n    <tr>\n      <th>0</th>\n      <td>26</td>\n      <td>1</td>\n      <td>1</td>\n      <td>2</td>\n      <td>6</td>\n      <td>2021</td>\n      <td>0</td>\n      <td>0.000000</td>\n      <td>0</td>\n      <td>0</td>\n    </tr>\n    <tr>\n      <th>1</th>\n      <td>200</td>\n      <td>4</td>\n      <td>3</td>\n      <td>4</td>\n      <td>6</td>\n      <td>2021</td>\n      <td>69</td>\n      <td>17.250000</td>\n      <td>0</td>\n      <td>4</td>\n    </tr>\n    <tr>\n      <th>4</th>\n      <td>205</td>\n      <td>1</td>\n      <td>1</td>\n      <td>4</td>\n      <td>6</td>\n      <td>2021</td>\n      <td>0</td>\n      <td>0.000000</td>\n      <td>0</td>\n      <td>0</td>\n    </tr>\n    <tr>\n      <th>5</th>\n      <td>495</td>\n      <td>1</td>\n      <td>1</td>\n      <td>0</td>\n      <td>6</td>\n      <td>2021</td>\n      <td>0</td>\n      <td>0.000000</td>\n      <td>1</td>\n      <td>0</td>\n    </tr>\n    <tr>\n      <th>6</th>\n      <td>521</td>\n      <td>1</td>\n      <td>1</td>\n      <td>5</td>\n      <td>6</td>\n      <td>2021</td>\n      <td>0</td>\n      <td>0.000000</td>\n      <td>0</td>\n      <td>1</td>\n    </tr>\n    <tr>\n      <th>...</th>\n      <td>...</td>\n      <td>...</td>\n      <td>...</td>\n      <td>...</td>\n      <td>...</td>\n      <td>...</td>\n      <td>...</td>\n      <td>...</td>\n      <td>...</td>\n      <td>...</td>\n    </tr>\n    <tr>\n      <th>189269</th>\n      <td>4439446</td>\n      <td>3</td>\n      <td>2</td>\n      <td>4</td>\n      <td>6</td>\n      <td>2021</td>\n      <td>59</td>\n      <td>19.666667</td>\n      <td>0</td>\n      <td>3</td>\n    </tr>\n    <tr>\n      <th>189271</th>\n      <td>4439458</td>\n      <td>2</td>\n      <td>2</td>\n      <td>2</td>\n      <td>6</td>\n      <td>2021</td>\n      <td>162</td>\n      <td>81.000000</td>\n      <td>0</td>\n      <td>2</td>\n    </tr>\n    <tr>\n      <th>189273</th>\n      <td>4439550</td>\n      <td>1</td>\n      <td>1</td>\n      <td>2</td>\n      <td>6</td>\n      <td>2021</td>\n      <td>0</td>\n      <td>0.000000</td>\n      <td>0</td>\n      <td>1</td>\n    </tr>\n    <tr>\n      <th>189274</th>\n      <td>4439653</td>\n      <td>10</td>\n      <td>7</td>\n      <td>4</td>\n      <td>6</td>\n      <td>2021</td>\n      <td>205</td>\n      <td>20.500000</td>\n      <td>0</td>\n      <td>10</td>\n    </tr>\n    <tr>\n      <th>189281</th>\n      <td>4439757</td>\n      <td>3</td>\n      <td>2</td>\n      <td>2</td>\n      <td>6</td>\n      <td>2021</td>\n      <td>157</td>\n      <td>52.333333</td>\n      <td>0</td>\n      <td>3</td>\n    </tr>\n  </tbody>\n</table>\n<p>50000 rows × 10 columns</p>\n</div>"
     },
     "execution_count": 18,
     "metadata": {},
     "output_type": "execute_result"
    }
   ],
   "source": [
    "session_attributes_leaderboard.drop_duplicates(['session_id'], inplace=True)\n",
    "session_attributes_leaderboard"
   ],
   "metadata": {
    "collapsed": false,
    "pycharm": {
     "name": "#%%\n"
    }
   }
  },
  {
   "cell_type": "code",
   "execution_count": 25,
   "outputs": [],
   "source": [
    "session_attributes_train.to_csv('../../Dataset/session_attributes_train.csv', index=False)\n",
    "session_attributes_final.to_csv('../../Dataset/session_attributes_final.csv', index=False)\n",
    "session_attributes_leaderboard.to_csv('../../Dataset/session_attributes_leaderboard.csv', index=False)"
   ],
   "metadata": {
    "collapsed": false,
    "pycharm": {
     "name": "#%%\n"
    }
   }
  }
 ],
 "metadata": {
  "kernelspec": {
   "display_name": "Python 3",
   "language": "python",
   "name": "python3"
  },
  "language_info": {
   "codemirror_mode": {
    "name": "ipython",
    "version": 2
   },
   "file_extension": ".py",
   "mimetype": "text/x-python",
   "name": "python",
   "nbconvert_exporter": "python",
   "pygments_lexer": "ipython2",
   "version": "2.7.6"
  }
 },
 "nbformat": 4,
 "nbformat_minor": 0
}