{
 "cells": [
  {
   "cell_type": "code",
   "execution_count": 24,
   "metadata": {},
   "outputs": [],
   "source": [
    "import sys\n",
    "import os\n",
    "import pandas as pd\n",
    "import numpy as np\n",
    "from tqdm import tqdm\n",
    "import math\n",
    "import gc\n",
    "tqdm.pandas()"
   ]
  },
  {
   "cell_type": "code",
   "execution_count": 25,
   "metadata": {},
   "outputs": [],
   "source": [
    "candidate_items = pd.read_csv(\"../../Dataset/candidate_items.csv\")\n",
    "item_features = pd.read_csv(\"../../Dataset/item_features.csv\")\n",
    "train_purchases = pd.read_csv(\"../../Dataset/train_purchases.csv\")\n",
    "train_sessions = pd.read_csv(\"../../Dataset/train_sessions.csv\")\n",
    "test_final_sessions = pd.read_csv(\"../../Dataset/test_final_sessions.csv\")\n",
    "test_leaderboard_sessions = pd.read_csv(\"../../Dataset/test_leaderboard_sessions.csv\")"
   ]
  },
  {
   "cell_type": "code",
   "execution_count": 29,
   "metadata": {},
   "outputs": [],
   "source": [
    "item_list = item_features.item_id.unique()"
   ]
  },
  {
   "cell_type": "code",
   "execution_count": 28,
   "metadata": {},
   "outputs": [],
   "source": [
    "def is_cold_df(train_df, item_list):\n",
    "    df = train_df.groupby('item_id').count().reset_index()[['item_id', 'session_id']]\n",
    "    df['session_id'] = True\n",
    "    item_df = pd.DataFrame(item_list, columns=['item_id'])\n",
    "    item_df = pd.merge(right=item_df, left=df, on='item_id', how=\"right\").fillna(False).rename(columns={'session_id':'is_cold'})\n",
    "    return item_df"
   ]
  }
 ],
 "metadata": {
  "interpreter": {
   "hash": "5d88d5ac213475c5bc29f87cd91e6c6ecf55472304351e26597a498055d7f38e"
  },
  "kernelspec": {
   "display_name": "Python 3.8.12 ('recsys')",
   "language": "python",
   "name": "python3"
  },
  "language_info": {
   "codemirror_mode": {
    "name": "ipython",
    "version": 3
   },
   "file_extension": ".py",
   "mimetype": "text/x-python",
   "name": "python",
   "nbconvert_exporter": "python",
   "pygments_lexer": "ipython3",
   "version": "3.8.12"
  },
  "orig_nbformat": 4
 },
 "nbformat": 4,
 "nbformat_minor": 2
}
