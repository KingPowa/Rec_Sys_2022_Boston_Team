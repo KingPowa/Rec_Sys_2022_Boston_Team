{
 "nbformat": 4,
 "nbformat_minor": 0,
 "metadata": {
  "colab": {
   "name": "Data Exploration.ipynb",
   "provenance": [],
   "authorship_tag": "ABX9TyPacQ3hNn5FTBF0ZDZ5/9ye"
  },
  "kernelspec": {
   "name": "python3",
   "display_name": "Python 3"
  },
  "language_info": {
   "name": "python"
  }
 },
 "cells": [
  {
   "cell_type": "markdown",
   "source": [
    "Dataset available for download at: https://www.dressipi-recsys2022.com/profile/download_dataset"
   ],
   "metadata": {
    "id": "23T7fa1XVS2S",
    "pycharm": {
     "name": "#%% md\n"
    }
   }
  },
  {
   "cell_type": "code",
   "source": [
    "import pandas as pd\n",
    "import numpy as np\n",
    "import matplotlib.pyplot as plt\n",
    "from tqdm.notebook import tqdm\n",
    "from datetime import datetime\n",
    "from numpy.lib.function_base import average"
   ],
   "metadata": {
    "id": "r8QxYi71SjrV",
    "executionInfo": {
     "status": "ok",
     "timestamp": 1657728585460,
     "user_tz": -120,
     "elapsed": 260,
     "user": {
      "displayName": "Riccardo Pala",
      "userId": "14726583371054773727"
     }
    },
    "pycharm": {
     "name": "#%%\n"
    }
   },
   "execution_count": 1,
   "outputs": []
  },
  {
   "cell_type": "markdown",
   "source": [
    "# Data Exploration"
   ],
   "metadata": {
    "id": "H4dX47paRi-G",
    "pycharm": {
     "name": "#%% md\n"
    }
   }
  },
  {
   "cell_type": "markdown",
   "source": [
    "## *Dataframes*"
   ],
   "metadata": {
    "id": "v7NE7SpfT0KN",
    "pycharm": {
     "name": "#%% md\n"
    }
   }
  },
  {
   "cell_type": "code",
   "source": [
    "train_sessions_df = pd.read_csv(\"../Dataset/train_sessions.csv\", sep=',')\n",
    "train_sessions_df"
   ],
   "metadata": {
    "colab": {
     "base_uri": "https://localhost:8080/",
     "height": 424
    },
    "id": "Fq-RcCSNTcgM",
    "executionInfo": {
     "status": "ok",
     "timestamp": 1657728596053,
     "user_tz": -120,
     "elapsed": 8737,
     "user": {
      "displayName": "Riccardo Pala",
      "userId": "14726583371054773727"
     }
    },
    "outputId": "190ea9bc-8568-44be-ee30-618d3bf01bb5",
    "pycharm": {
     "name": "#%%\n"
    }
   },
   "execution_count": 4,
   "outputs": [
    {
     "output_type": "execute_result",
     "data": {
      "text/plain": [
       "         session_id  item_id                     date\n",
       "0                 3     9655  2020-12-18 21:25:00.373\n",
       "1                 3     9655  2020-12-18 21:19:48.093\n",
       "2                13    15654  2020-03-13 19:35:27.136\n",
       "3                18    18316  2020-08-26 19:18:30.833\n",
       "4                18     2507  2020-08-26 19:16:31.211\n",
       "...             ...      ...                      ...\n",
       "4743815     4440001    20409  2020-10-30 23:37:20.658\n",
       "4743816     4440001    14155  2020-10-30 23:31:56.607\n",
       "4743817     4440001    14303  2020-10-30 23:36:17.934\n",
       "4743818     4440001    27852  2020-10-30 23:39:55.186\n",
       "4743819     4440001      305  2020-10-30 23:27:37.873\n",
       "\n",
       "[4743820 rows x 3 columns]"
      ],
      "text/html": [
       "\n",
       "  <div id=\"df-e3078c0e-15c0-4b73-b3ef-7ee7c16db2c4\">\n",
       "    <div class=\"colab-df-container\">\n",
       "      <div>\n",
       "<style scoped>\n",
       "    .dataframe tbody tr th:only-of-type {\n",
       "        vertical-align: middle;\n",
       "    }\n",
       "\n",
       "    .dataframe tbody tr th {\n",
       "        vertical-align: top;\n",
       "    }\n",
       "\n",
       "    .dataframe thead th {\n",
       "        text-align: right;\n",
       "    }\n",
       "</style>\n",
       "<table border=\"1\" class=\"dataframe\">\n",
       "  <thead>\n",
       "    <tr style=\"text-align: right;\">\n",
       "      <th></th>\n",
       "      <th>session_id</th>\n",
       "      <th>item_id</th>\n",
       "      <th>date</th>\n",
       "    </tr>\n",
       "  </thead>\n",
       "  <tbody>\n",
       "    <tr>\n",
       "      <th>0</th>\n",
       "      <td>3</td>\n",
       "      <td>9655</td>\n",
       "      <td>2020-12-18 21:25:00.373</td>\n",
       "    </tr>\n",
       "    <tr>\n",
       "      <th>1</th>\n",
       "      <td>3</td>\n",
       "      <td>9655</td>\n",
       "      <td>2020-12-18 21:19:48.093</td>\n",
       "    </tr>\n",
       "    <tr>\n",
       "      <th>2</th>\n",
       "      <td>13</td>\n",
       "      <td>15654</td>\n",
       "      <td>2020-03-13 19:35:27.136</td>\n",
       "    </tr>\n",
       "    <tr>\n",
       "      <th>3</th>\n",
       "      <td>18</td>\n",
       "      <td>18316</td>\n",
       "      <td>2020-08-26 19:18:30.833</td>\n",
       "    </tr>\n",
       "    <tr>\n",
       "      <th>4</th>\n",
       "      <td>18</td>\n",
       "      <td>2507</td>\n",
       "      <td>2020-08-26 19:16:31.211</td>\n",
       "    </tr>\n",
       "    <tr>\n",
       "      <th>...</th>\n",
       "      <td>...</td>\n",
       "      <td>...</td>\n",
       "      <td>...</td>\n",
       "    </tr>\n",
       "    <tr>\n",
       "      <th>4743815</th>\n",
       "      <td>4440001</td>\n",
       "      <td>20409</td>\n",
       "      <td>2020-10-30 23:37:20.658</td>\n",
       "    </tr>\n",
       "    <tr>\n",
       "      <th>4743816</th>\n",
       "      <td>4440001</td>\n",
       "      <td>14155</td>\n",
       "      <td>2020-10-30 23:31:56.607</td>\n",
       "    </tr>\n",
       "    <tr>\n",
       "      <th>4743817</th>\n",
       "      <td>4440001</td>\n",
       "      <td>14303</td>\n",
       "      <td>2020-10-30 23:36:17.934</td>\n",
       "    </tr>\n",
       "    <tr>\n",
       "      <th>4743818</th>\n",
       "      <td>4440001</td>\n",
       "      <td>27852</td>\n",
       "      <td>2020-10-30 23:39:55.186</td>\n",
       "    </tr>\n",
       "    <tr>\n",
       "      <th>4743819</th>\n",
       "      <td>4440001</td>\n",
       "      <td>305</td>\n",
       "      <td>2020-10-30 23:27:37.873</td>\n",
       "    </tr>\n",
       "  </tbody>\n",
       "</table>\n",
       "<p>4743820 rows × 3 columns</p>\n",
       "</div>\n",
       "      <button class=\"colab-df-convert\" onclick=\"convertToInteractive('df-e3078c0e-15c0-4b73-b3ef-7ee7c16db2c4')\"\n",
       "              title=\"Convert this dataframe to an interactive table.\"\n",
       "              style=\"display:none;\">\n",
       "        \n",
       "  <svg xmlns=\"http://www.w3.org/2000/svg\" height=\"24px\"viewBox=\"0 0 24 24\"\n",
       "       width=\"24px\">\n",
       "    <path d=\"M0 0h24v24H0V0z\" fill=\"none\"/>\n",
       "    <path d=\"M18.56 5.44l.94 2.06.94-2.06 2.06-.94-2.06-.94-.94-2.06-.94 2.06-2.06.94zm-11 1L8.5 8.5l.94-2.06 2.06-.94-2.06-.94L8.5 2.5l-.94 2.06-2.06.94zm10 10l.94 2.06.94-2.06 2.06-.94-2.06-.94-.94-2.06-.94 2.06-2.06.94z\"/><path d=\"M17.41 7.96l-1.37-1.37c-.4-.4-.92-.59-1.43-.59-.52 0-1.04.2-1.43.59L10.3 9.45l-7.72 7.72c-.78.78-.78 2.05 0 2.83L4 21.41c.39.39.9.59 1.41.59.51 0 1.02-.2 1.41-.59l7.78-7.78 2.81-2.81c.8-.78.8-2.07 0-2.86zM5.41 20L4 18.59l7.72-7.72 1.47 1.35L5.41 20z\"/>\n",
       "  </svg>\n",
       "      </button>\n",
       "      \n",
       "  <style>\n",
       "    .colab-df-container {\n",
       "      display:flex;\n",
       "      flex-wrap:wrap;\n",
       "      gap: 12px;\n",
       "    }\n",
       "\n",
       "    .colab-df-convert {\n",
       "      background-color: #E8F0FE;\n",
       "      border: none;\n",
       "      border-radius: 50%;\n",
       "      cursor: pointer;\n",
       "      display: none;\n",
       "      fill: #1967D2;\n",
       "      height: 32px;\n",
       "      padding: 0 0 0 0;\n",
       "      width: 32px;\n",
       "    }\n",
       "\n",
       "    .colab-df-convert:hover {\n",
       "      background-color: #E2EBFA;\n",
       "      box-shadow: 0px 1px 2px rgba(60, 64, 67, 0.3), 0px 1px 3px 1px rgba(60, 64, 67, 0.15);\n",
       "      fill: #174EA6;\n",
       "    }\n",
       "\n",
       "    [theme=dark] .colab-df-convert {\n",
       "      background-color: #3B4455;\n",
       "      fill: #D2E3FC;\n",
       "    }\n",
       "\n",
       "    [theme=dark] .colab-df-convert:hover {\n",
       "      background-color: #434B5C;\n",
       "      box-shadow: 0px 1px 3px 1px rgba(0, 0, 0, 0.15);\n",
       "      filter: drop-shadow(0px 1px 2px rgba(0, 0, 0, 0.3));\n",
       "      fill: #FFFFFF;\n",
       "    }\n",
       "  </style>\n",
       "\n",
       "      <script>\n",
       "        const buttonEl =\n",
       "          document.querySelector('#df-e3078c0e-15c0-4b73-b3ef-7ee7c16db2c4 button.colab-df-convert');\n",
       "        buttonEl.style.display =\n",
       "          google.colab.kernel.accessAllowed ? 'block' : 'none';\n",
       "\n",
       "        async function convertToInteractive(key) {\n",
       "          const element = document.querySelector('#df-e3078c0e-15c0-4b73-b3ef-7ee7c16db2c4');\n",
       "          const dataTable =\n",
       "            await google.colab.kernel.invokeFunction('convertToInteractive',\n",
       "                                                     [key], {});\n",
       "          if (!dataTable) return;\n",
       "\n",
       "          const docLinkHtml = 'Like what you see? Visit the ' +\n",
       "            '<a target=\"_blank\" href=https://colab.research.google.com/notebooks/data_table.ipynb>data table notebook</a>'\n",
       "            + ' to learn more about interactive tables.';\n",
       "          element.innerHTML = '';\n",
       "          dataTable['output_type'] = 'display_data';\n",
       "          await google.colab.output.renderOutput(dataTable, element);\n",
       "          const docLink = document.createElement('div');\n",
       "          docLink.innerHTML = docLinkHtml;\n",
       "          element.appendChild(docLink);\n",
       "        }\n",
       "      </script>\n",
       "    </div>\n",
       "  </div>\n",
       "  "
      ]
     },
     "metadata": {},
     "execution_count": 4
    }
   ]
  },
  {
   "cell_type": "code",
   "source": [
    "train_purchases_df = pd.read_csv(\"../Dataset/train_purchases.csv\", sep=',')\n",
    "train_purchases_df"
   ],
   "metadata": {
    "colab": {
     "base_uri": "https://localhost:8080/",
     "height": 424
    },
    "executionInfo": {
     "status": "ok",
     "timestamp": 1657728598071,
     "user_tz": -120,
     "elapsed": 2022,
     "user": {
      "displayName": "Riccardo Pala",
      "userId": "14726583371054773727"
     }
    },
    "outputId": "b43f40b1-dc90-4ae3-b512-e980e91490e4",
    "id": "Pdy1nbR_TuN_",
    "pycharm": {
     "name": "#%%\n"
    }
   },
   "execution_count": 5,
   "outputs": [
    {
     "output_type": "execute_result",
     "data": {
      "text/plain": [
       "        session_id  item_id                     date\n",
       "0                3    15085  2020-12-18 21:26:47.986\n",
       "1               13    18626  2020-03-13 19:36:15.507\n",
       "2               18    24911  2020-08-26 19:20:32.049\n",
       "3               19    12534   2020-11-02 17:16:45.92\n",
       "4               24    13226  2020-02-26 18:27:44.114\n",
       "...            ...      ...                      ...\n",
       "999995     4439986     2915  2021-05-13 11:56:37.464\n",
       "999996     4439990     8786  2020-08-22 14:28:22.382\n",
       "999997     4439994    21630  2020-11-27 20:10:28.961\n",
       "999998     4439999    16962  2020-11-27 11:01:41.356\n",
       "999999     4440001    16631  2020-10-30 23:46:05.218\n",
       "\n",
       "[1000000 rows x 3 columns]"
      ],
      "text/html": [
       "\n",
       "  <div id=\"df-432a893a-65dd-464b-990e-489956036840\">\n",
       "    <div class=\"colab-df-container\">\n",
       "      <div>\n",
       "<style scoped>\n",
       "    .dataframe tbody tr th:only-of-type {\n",
       "        vertical-align: middle;\n",
       "    }\n",
       "\n",
       "    .dataframe tbody tr th {\n",
       "        vertical-align: top;\n",
       "    }\n",
       "\n",
       "    .dataframe thead th {\n",
       "        text-align: right;\n",
       "    }\n",
       "</style>\n",
       "<table border=\"1\" class=\"dataframe\">\n",
       "  <thead>\n",
       "    <tr style=\"text-align: right;\">\n",
       "      <th></th>\n",
       "      <th>session_id</th>\n",
       "      <th>item_id</th>\n",
       "      <th>date</th>\n",
       "    </tr>\n",
       "  </thead>\n",
       "  <tbody>\n",
       "    <tr>\n",
       "      <th>0</th>\n",
       "      <td>3</td>\n",
       "      <td>15085</td>\n",
       "      <td>2020-12-18 21:26:47.986</td>\n",
       "    </tr>\n",
       "    <tr>\n",
       "      <th>1</th>\n",
       "      <td>13</td>\n",
       "      <td>18626</td>\n",
       "      <td>2020-03-13 19:36:15.507</td>\n",
       "    </tr>\n",
       "    <tr>\n",
       "      <th>2</th>\n",
       "      <td>18</td>\n",
       "      <td>24911</td>\n",
       "      <td>2020-08-26 19:20:32.049</td>\n",
       "    </tr>\n",
       "    <tr>\n",
       "      <th>3</th>\n",
       "      <td>19</td>\n",
       "      <td>12534</td>\n",
       "      <td>2020-11-02 17:16:45.92</td>\n",
       "    </tr>\n",
       "    <tr>\n",
       "      <th>4</th>\n",
       "      <td>24</td>\n",
       "      <td>13226</td>\n",
       "      <td>2020-02-26 18:27:44.114</td>\n",
       "    </tr>\n",
       "    <tr>\n",
       "      <th>...</th>\n",
       "      <td>...</td>\n",
       "      <td>...</td>\n",
       "      <td>...</td>\n",
       "    </tr>\n",
       "    <tr>\n",
       "      <th>999995</th>\n",
       "      <td>4439986</td>\n",
       "      <td>2915</td>\n",
       "      <td>2021-05-13 11:56:37.464</td>\n",
       "    </tr>\n",
       "    <tr>\n",
       "      <th>999996</th>\n",
       "      <td>4439990</td>\n",
       "      <td>8786</td>\n",
       "      <td>2020-08-22 14:28:22.382</td>\n",
       "    </tr>\n",
       "    <tr>\n",
       "      <th>999997</th>\n",
       "      <td>4439994</td>\n",
       "      <td>21630</td>\n",
       "      <td>2020-11-27 20:10:28.961</td>\n",
       "    </tr>\n",
       "    <tr>\n",
       "      <th>999998</th>\n",
       "      <td>4439999</td>\n",
       "      <td>16962</td>\n",
       "      <td>2020-11-27 11:01:41.356</td>\n",
       "    </tr>\n",
       "    <tr>\n",
       "      <th>999999</th>\n",
       "      <td>4440001</td>\n",
       "      <td>16631</td>\n",
       "      <td>2020-10-30 23:46:05.218</td>\n",
       "    </tr>\n",
       "  </tbody>\n",
       "</table>\n",
       "<p>1000000 rows × 3 columns</p>\n",
       "</div>\n",
       "      <button class=\"colab-df-convert\" onclick=\"convertToInteractive('df-432a893a-65dd-464b-990e-489956036840')\"\n",
       "              title=\"Convert this dataframe to an interactive table.\"\n",
       "              style=\"display:none;\">\n",
       "        \n",
       "  <svg xmlns=\"http://www.w3.org/2000/svg\" height=\"24px\"viewBox=\"0 0 24 24\"\n",
       "       width=\"24px\">\n",
       "    <path d=\"M0 0h24v24H0V0z\" fill=\"none\"/>\n",
       "    <path d=\"M18.56 5.44l.94 2.06.94-2.06 2.06-.94-2.06-.94-.94-2.06-.94 2.06-2.06.94zm-11 1L8.5 8.5l.94-2.06 2.06-.94-2.06-.94L8.5 2.5l-.94 2.06-2.06.94zm10 10l.94 2.06.94-2.06 2.06-.94-2.06-.94-.94-2.06-.94 2.06-2.06.94z\"/><path d=\"M17.41 7.96l-1.37-1.37c-.4-.4-.92-.59-1.43-.59-.52 0-1.04.2-1.43.59L10.3 9.45l-7.72 7.72c-.78.78-.78 2.05 0 2.83L4 21.41c.39.39.9.59 1.41.59.51 0 1.02-.2 1.41-.59l7.78-7.78 2.81-2.81c.8-.78.8-2.07 0-2.86zM5.41 20L4 18.59l7.72-7.72 1.47 1.35L5.41 20z\"/>\n",
       "  </svg>\n",
       "      </button>\n",
       "      \n",
       "  <style>\n",
       "    .colab-df-container {\n",
       "      display:flex;\n",
       "      flex-wrap:wrap;\n",
       "      gap: 12px;\n",
       "    }\n",
       "\n",
       "    .colab-df-convert {\n",
       "      background-color: #E8F0FE;\n",
       "      border: none;\n",
       "      border-radius: 50%;\n",
       "      cursor: pointer;\n",
       "      display: none;\n",
       "      fill: #1967D2;\n",
       "      height: 32px;\n",
       "      padding: 0 0 0 0;\n",
       "      width: 32px;\n",
       "    }\n",
       "\n",
       "    .colab-df-convert:hover {\n",
       "      background-color: #E2EBFA;\n",
       "      box-shadow: 0px 1px 2px rgba(60, 64, 67, 0.3), 0px 1px 3px 1px rgba(60, 64, 67, 0.15);\n",
       "      fill: #174EA6;\n",
       "    }\n",
       "\n",
       "    [theme=dark] .colab-df-convert {\n",
       "      background-color: #3B4455;\n",
       "      fill: #D2E3FC;\n",
       "    }\n",
       "\n",
       "    [theme=dark] .colab-df-convert:hover {\n",
       "      background-color: #434B5C;\n",
       "      box-shadow: 0px 1px 3px 1px rgba(0, 0, 0, 0.15);\n",
       "      filter: drop-shadow(0px 1px 2px rgba(0, 0, 0, 0.3));\n",
       "      fill: #FFFFFF;\n",
       "    }\n",
       "  </style>\n",
       "\n",
       "      <script>\n",
       "        const buttonEl =\n",
       "          document.querySelector('#df-432a893a-65dd-464b-990e-489956036840 button.colab-df-convert');\n",
       "        buttonEl.style.display =\n",
       "          google.colab.kernel.accessAllowed ? 'block' : 'none';\n",
       "\n",
       "        async function convertToInteractive(key) {\n",
       "          const element = document.querySelector('#df-432a893a-65dd-464b-990e-489956036840');\n",
       "          const dataTable =\n",
       "            await google.colab.kernel.invokeFunction('convertToInteractive',\n",
       "                                                     [key], {});\n",
       "          if (!dataTable) return;\n",
       "\n",
       "          const docLinkHtml = 'Like what you see? Visit the ' +\n",
       "            '<a target=\"_blank\" href=https://colab.research.google.com/notebooks/data_table.ipynb>data table notebook</a>'\n",
       "            + ' to learn more about interactive tables.';\n",
       "          element.innerHTML = '';\n",
       "          dataTable['output_type'] = 'display_data';\n",
       "          await google.colab.output.renderOutput(dataTable, element);\n",
       "          const docLink = document.createElement('div');\n",
       "          docLink.innerHTML = docLinkHtml;\n",
       "          element.appendChild(docLink);\n",
       "        }\n",
       "      </script>\n",
       "    </div>\n",
       "  </div>\n",
       "  "
      ]
     },
     "metadata": {},
     "execution_count": 5
    }
   ]
  },
  {
   "cell_type": "code",
   "source": [
    "test_leaderboard_sessions_df = pd.read_csv(\"../Dataset/test_leaderboard_sessions.csv\", sep=',')\n",
    "test_leaderboard_sessions_df"
   ],
   "metadata": {
    "colab": {
     "base_uri": "https://localhost:8080/",
     "height": 424
    },
    "executionInfo": {
     "status": "ok",
     "timestamp": 1657728599096,
     "user_tz": -120,
     "elapsed": 1027,
     "user": {
      "displayName": "Riccardo Pala",
      "userId": "14726583371054773727"
     }
    },
    "outputId": "08dbbeac-951a-4a8d-8c76-fe515285c1cb",
    "id": "D8CO5LXUT59y",
    "pycharm": {
     "name": "#%%\n"
    }
   },
   "execution_count": 6,
   "outputs": [
    {
     "output_type": "execute_result",
     "data": {
      "text/plain": [
       "        session_id  item_id                     date\n",
       "0               26    19185  2021-06-16 09:53:54.158\n",
       "1              200    17089  2021-06-25 12:23:40.811\n",
       "2              200    17089  2021-06-25 12:24:36.631\n",
       "3              200     8060  2021-06-25 12:24:41.677\n",
       "4              200     4758  2021-06-25 12:24:50.692\n",
       "...            ...      ...                      ...\n",
       "229349     4439653    25955   2021-06-11 10:22:57.47\n",
       "229350     4439653    12179  2021-06-11 10:23:00.663\n",
       "229351     4439757     2078  2021-06-30 11:42:15.073\n",
       "229352     4439757     2078  2021-06-30 11:43:13.725\n",
       "229353     4439757     6790  2021-06-30 11:44:52.704\n",
       "\n",
       "[229354 rows x 3 columns]"
      ],
      "text/html": [
       "\n",
       "  <div id=\"df-8ee1ed03-1501-4c98-b831-eab43a8cf457\">\n",
       "    <div class=\"colab-df-container\">\n",
       "      <div>\n",
       "<style scoped>\n",
       "    .dataframe tbody tr th:only-of-type {\n",
       "        vertical-align: middle;\n",
       "    }\n",
       "\n",
       "    .dataframe tbody tr th {\n",
       "        vertical-align: top;\n",
       "    }\n",
       "\n",
       "    .dataframe thead th {\n",
       "        text-align: right;\n",
       "    }\n",
       "</style>\n",
       "<table border=\"1\" class=\"dataframe\">\n",
       "  <thead>\n",
       "    <tr style=\"text-align: right;\">\n",
       "      <th></th>\n",
       "      <th>session_id</th>\n",
       "      <th>item_id</th>\n",
       "      <th>date</th>\n",
       "    </tr>\n",
       "  </thead>\n",
       "  <tbody>\n",
       "    <tr>\n",
       "      <th>0</th>\n",
       "      <td>26</td>\n",
       "      <td>19185</td>\n",
       "      <td>2021-06-16 09:53:54.158</td>\n",
       "    </tr>\n",
       "    <tr>\n",
       "      <th>1</th>\n",
       "      <td>200</td>\n",
       "      <td>17089</td>\n",
       "      <td>2021-06-25 12:23:40.811</td>\n",
       "    </tr>\n",
       "    <tr>\n",
       "      <th>2</th>\n",
       "      <td>200</td>\n",
       "      <td>17089</td>\n",
       "      <td>2021-06-25 12:24:36.631</td>\n",
       "    </tr>\n",
       "    <tr>\n",
       "      <th>3</th>\n",
       "      <td>200</td>\n",
       "      <td>8060</td>\n",
       "      <td>2021-06-25 12:24:41.677</td>\n",
       "    </tr>\n",
       "    <tr>\n",
       "      <th>4</th>\n",
       "      <td>200</td>\n",
       "      <td>4758</td>\n",
       "      <td>2021-06-25 12:24:50.692</td>\n",
       "    </tr>\n",
       "    <tr>\n",
       "      <th>...</th>\n",
       "      <td>...</td>\n",
       "      <td>...</td>\n",
       "      <td>...</td>\n",
       "    </tr>\n",
       "    <tr>\n",
       "      <th>229349</th>\n",
       "      <td>4439653</td>\n",
       "      <td>25955</td>\n",
       "      <td>2021-06-11 10:22:57.47</td>\n",
       "    </tr>\n",
       "    <tr>\n",
       "      <th>229350</th>\n",
       "      <td>4439653</td>\n",
       "      <td>12179</td>\n",
       "      <td>2021-06-11 10:23:00.663</td>\n",
       "    </tr>\n",
       "    <tr>\n",
       "      <th>229351</th>\n",
       "      <td>4439757</td>\n",
       "      <td>2078</td>\n",
       "      <td>2021-06-30 11:42:15.073</td>\n",
       "    </tr>\n",
       "    <tr>\n",
       "      <th>229352</th>\n",
       "      <td>4439757</td>\n",
       "      <td>2078</td>\n",
       "      <td>2021-06-30 11:43:13.725</td>\n",
       "    </tr>\n",
       "    <tr>\n",
       "      <th>229353</th>\n",
       "      <td>4439757</td>\n",
       "      <td>6790</td>\n",
       "      <td>2021-06-30 11:44:52.704</td>\n",
       "    </tr>\n",
       "  </tbody>\n",
       "</table>\n",
       "<p>229354 rows × 3 columns</p>\n",
       "</div>\n",
       "      <button class=\"colab-df-convert\" onclick=\"convertToInteractive('df-8ee1ed03-1501-4c98-b831-eab43a8cf457')\"\n",
       "              title=\"Convert this dataframe to an interactive table.\"\n",
       "              style=\"display:none;\">\n",
       "        \n",
       "  <svg xmlns=\"http://www.w3.org/2000/svg\" height=\"24px\"viewBox=\"0 0 24 24\"\n",
       "       width=\"24px\">\n",
       "    <path d=\"M0 0h24v24H0V0z\" fill=\"none\"/>\n",
       "    <path d=\"M18.56 5.44l.94 2.06.94-2.06 2.06-.94-2.06-.94-.94-2.06-.94 2.06-2.06.94zm-11 1L8.5 8.5l.94-2.06 2.06-.94-2.06-.94L8.5 2.5l-.94 2.06-2.06.94zm10 10l.94 2.06.94-2.06 2.06-.94-2.06-.94-.94-2.06-.94 2.06-2.06.94z\"/><path d=\"M17.41 7.96l-1.37-1.37c-.4-.4-.92-.59-1.43-.59-.52 0-1.04.2-1.43.59L10.3 9.45l-7.72 7.72c-.78.78-.78 2.05 0 2.83L4 21.41c.39.39.9.59 1.41.59.51 0 1.02-.2 1.41-.59l7.78-7.78 2.81-2.81c.8-.78.8-2.07 0-2.86zM5.41 20L4 18.59l7.72-7.72 1.47 1.35L5.41 20z\"/>\n",
       "  </svg>\n",
       "      </button>\n",
       "      \n",
       "  <style>\n",
       "    .colab-df-container {\n",
       "      display:flex;\n",
       "      flex-wrap:wrap;\n",
       "      gap: 12px;\n",
       "    }\n",
       "\n",
       "    .colab-df-convert {\n",
       "      background-color: #E8F0FE;\n",
       "      border: none;\n",
       "      border-radius: 50%;\n",
       "      cursor: pointer;\n",
       "      display: none;\n",
       "      fill: #1967D2;\n",
       "      height: 32px;\n",
       "      padding: 0 0 0 0;\n",
       "      width: 32px;\n",
       "    }\n",
       "\n",
       "    .colab-df-convert:hover {\n",
       "      background-color: #E2EBFA;\n",
       "      box-shadow: 0px 1px 2px rgba(60, 64, 67, 0.3), 0px 1px 3px 1px rgba(60, 64, 67, 0.15);\n",
       "      fill: #174EA6;\n",
       "    }\n",
       "\n",
       "    [theme=dark] .colab-df-convert {\n",
       "      background-color: #3B4455;\n",
       "      fill: #D2E3FC;\n",
       "    }\n",
       "\n",
       "    [theme=dark] .colab-df-convert:hover {\n",
       "      background-color: #434B5C;\n",
       "      box-shadow: 0px 1px 3px 1px rgba(0, 0, 0, 0.15);\n",
       "      filter: drop-shadow(0px 1px 2px rgba(0, 0, 0, 0.3));\n",
       "      fill: #FFFFFF;\n",
       "    }\n",
       "  </style>\n",
       "\n",
       "      <script>\n",
       "        const buttonEl =\n",
       "          document.querySelector('#df-8ee1ed03-1501-4c98-b831-eab43a8cf457 button.colab-df-convert');\n",
       "        buttonEl.style.display =\n",
       "          google.colab.kernel.accessAllowed ? 'block' : 'none';\n",
       "\n",
       "        async function convertToInteractive(key) {\n",
       "          const element = document.querySelector('#df-8ee1ed03-1501-4c98-b831-eab43a8cf457');\n",
       "          const dataTable =\n",
       "            await google.colab.kernel.invokeFunction('convertToInteractive',\n",
       "                                                     [key], {});\n",
       "          if (!dataTable) return;\n",
       "\n",
       "          const docLinkHtml = 'Like what you see? Visit the ' +\n",
       "            '<a target=\"_blank\" href=https://colab.research.google.com/notebooks/data_table.ipynb>data table notebook</a>'\n",
       "            + ' to learn more about interactive tables.';\n",
       "          element.innerHTML = '';\n",
       "          dataTable['output_type'] = 'display_data';\n",
       "          await google.colab.output.renderOutput(dataTable, element);\n",
       "          const docLink = document.createElement('div');\n",
       "          docLink.innerHTML = docLinkHtml;\n",
       "          element.appendChild(docLink);\n",
       "        }\n",
       "      </script>\n",
       "    </div>\n",
       "  </div>\n",
       "  "
      ]
     },
     "metadata": {},
     "execution_count": 6
    }
   ]
  },
  {
   "cell_type": "code",
   "source": [
    "test_final_sessions_df = pd.read_csv(\"../Dataset/test_final_sessions.csv\", sep=',')\n",
    "test_final_sessions_df"
   ],
   "metadata": {
    "colab": {
     "base_uri": "https://localhost:8080/",
     "height": 424
    },
    "id": "z1d2AqcxTzHf",
    "executionInfo": {
     "status": "ok",
     "timestamp": 1657728599905,
     "user_tz": -120,
     "elapsed": 811,
     "user": {
      "displayName": "Riccardo Pala",
      "userId": "14726583371054773727"
     }
    },
    "outputId": "76d3c9dc-805d-4770-fecb-b4db990d2e6c",
    "pycharm": {
     "name": "#%%\n"
    }
   },
   "execution_count": 7,
   "outputs": [
    {
     "output_type": "execute_result",
     "data": {
      "text/plain": [
       "        session_id  item_id                     date\n",
       "0               61    27088  2021-06-01 08:12:39.664\n",
       "1               96    11693  2021-06-19 17:48:05.227\n",
       "2               96    18298  2021-06-19 17:49:08.589\n",
       "3               96     4738  2021-06-19 17:49:15.838\n",
       "4               96      495   2021-06-19 17:49:20.88\n",
       "...            ...      ...                      ...\n",
       "226133     4439648     7154  2021-06-14 08:03:19.024\n",
       "226134     4439675    23067  2021-06-01 12:21:07.959\n",
       "226135     4439868    26085  2021-06-16 22:18:27.509\n",
       "226136     4439966    19483  2021-06-06 20:05:06.457\n",
       "226137     4439966    20782  2021-06-06 20:06:47.779\n",
       "\n",
       "[226138 rows x 3 columns]"
      ],
      "text/html": [
       "\n",
       "  <div id=\"df-fbe17099-60a4-4ba0-8b3b-3a1f3771d09c\">\n",
       "    <div class=\"colab-df-container\">\n",
       "      <div>\n",
       "<style scoped>\n",
       "    .dataframe tbody tr th:only-of-type {\n",
       "        vertical-align: middle;\n",
       "    }\n",
       "\n",
       "    .dataframe tbody tr th {\n",
       "        vertical-align: top;\n",
       "    }\n",
       "\n",
       "    .dataframe thead th {\n",
       "        text-align: right;\n",
       "    }\n",
       "</style>\n",
       "<table border=\"1\" class=\"dataframe\">\n",
       "  <thead>\n",
       "    <tr style=\"text-align: right;\">\n",
       "      <th></th>\n",
       "      <th>session_id</th>\n",
       "      <th>item_id</th>\n",
       "      <th>date</th>\n",
       "    </tr>\n",
       "  </thead>\n",
       "  <tbody>\n",
       "    <tr>\n",
       "      <th>0</th>\n",
       "      <td>61</td>\n",
       "      <td>27088</td>\n",
       "      <td>2021-06-01 08:12:39.664</td>\n",
       "    </tr>\n",
       "    <tr>\n",
       "      <th>1</th>\n",
       "      <td>96</td>\n",
       "      <td>11693</td>\n",
       "      <td>2021-06-19 17:48:05.227</td>\n",
       "    </tr>\n",
       "    <tr>\n",
       "      <th>2</th>\n",
       "      <td>96</td>\n",
       "      <td>18298</td>\n",
       "      <td>2021-06-19 17:49:08.589</td>\n",
       "    </tr>\n",
       "    <tr>\n",
       "      <th>3</th>\n",
       "      <td>96</td>\n",
       "      <td>4738</td>\n",
       "      <td>2021-06-19 17:49:15.838</td>\n",
       "    </tr>\n",
       "    <tr>\n",
       "      <th>4</th>\n",
       "      <td>96</td>\n",
       "      <td>495</td>\n",
       "      <td>2021-06-19 17:49:20.88</td>\n",
       "    </tr>\n",
       "    <tr>\n",
       "      <th>...</th>\n",
       "      <td>...</td>\n",
       "      <td>...</td>\n",
       "      <td>...</td>\n",
       "    </tr>\n",
       "    <tr>\n",
       "      <th>226133</th>\n",
       "      <td>4439648</td>\n",
       "      <td>7154</td>\n",
       "      <td>2021-06-14 08:03:19.024</td>\n",
       "    </tr>\n",
       "    <tr>\n",
       "      <th>226134</th>\n",
       "      <td>4439675</td>\n",
       "      <td>23067</td>\n",
       "      <td>2021-06-01 12:21:07.959</td>\n",
       "    </tr>\n",
       "    <tr>\n",
       "      <th>226135</th>\n",
       "      <td>4439868</td>\n",
       "      <td>26085</td>\n",
       "      <td>2021-06-16 22:18:27.509</td>\n",
       "    </tr>\n",
       "    <tr>\n",
       "      <th>226136</th>\n",
       "      <td>4439966</td>\n",
       "      <td>19483</td>\n",
       "      <td>2021-06-06 20:05:06.457</td>\n",
       "    </tr>\n",
       "    <tr>\n",
       "      <th>226137</th>\n",
       "      <td>4439966</td>\n",
       "      <td>20782</td>\n",
       "      <td>2021-06-06 20:06:47.779</td>\n",
       "    </tr>\n",
       "  </tbody>\n",
       "</table>\n",
       "<p>226138 rows × 3 columns</p>\n",
       "</div>\n",
       "      <button class=\"colab-df-convert\" onclick=\"convertToInteractive('df-fbe17099-60a4-4ba0-8b3b-3a1f3771d09c')\"\n",
       "              title=\"Convert this dataframe to an interactive table.\"\n",
       "              style=\"display:none;\">\n",
       "        \n",
       "  <svg xmlns=\"http://www.w3.org/2000/svg\" height=\"24px\"viewBox=\"0 0 24 24\"\n",
       "       width=\"24px\">\n",
       "    <path d=\"M0 0h24v24H0V0z\" fill=\"none\"/>\n",
       "    <path d=\"M18.56 5.44l.94 2.06.94-2.06 2.06-.94-2.06-.94-.94-2.06-.94 2.06-2.06.94zm-11 1L8.5 8.5l.94-2.06 2.06-.94-2.06-.94L8.5 2.5l-.94 2.06-2.06.94zm10 10l.94 2.06.94-2.06 2.06-.94-2.06-.94-.94-2.06-.94 2.06-2.06.94z\"/><path d=\"M17.41 7.96l-1.37-1.37c-.4-.4-.92-.59-1.43-.59-.52 0-1.04.2-1.43.59L10.3 9.45l-7.72 7.72c-.78.78-.78 2.05 0 2.83L4 21.41c.39.39.9.59 1.41.59.51 0 1.02-.2 1.41-.59l7.78-7.78 2.81-2.81c.8-.78.8-2.07 0-2.86zM5.41 20L4 18.59l7.72-7.72 1.47 1.35L5.41 20z\"/>\n",
       "  </svg>\n",
       "      </button>\n",
       "      \n",
       "  <style>\n",
       "    .colab-df-container {\n",
       "      display:flex;\n",
       "      flex-wrap:wrap;\n",
       "      gap: 12px;\n",
       "    }\n",
       "\n",
       "    .colab-df-convert {\n",
       "      background-color: #E8F0FE;\n",
       "      border: none;\n",
       "      border-radius: 50%;\n",
       "      cursor: pointer;\n",
       "      display: none;\n",
       "      fill: #1967D2;\n",
       "      height: 32px;\n",
       "      padding: 0 0 0 0;\n",
       "      width: 32px;\n",
       "    }\n",
       "\n",
       "    .colab-df-convert:hover {\n",
       "      background-color: #E2EBFA;\n",
       "      box-shadow: 0px 1px 2px rgba(60, 64, 67, 0.3), 0px 1px 3px 1px rgba(60, 64, 67, 0.15);\n",
       "      fill: #174EA6;\n",
       "    }\n",
       "\n",
       "    [theme=dark] .colab-df-convert {\n",
       "      background-color: #3B4455;\n",
       "      fill: #D2E3FC;\n",
       "    }\n",
       "\n",
       "    [theme=dark] .colab-df-convert:hover {\n",
       "      background-color: #434B5C;\n",
       "      box-shadow: 0px 1px 3px 1px rgba(0, 0, 0, 0.15);\n",
       "      filter: drop-shadow(0px 1px 2px rgba(0, 0, 0, 0.3));\n",
       "      fill: #FFFFFF;\n",
       "    }\n",
       "  </style>\n",
       "\n",
       "      <script>\n",
       "        const buttonEl =\n",
       "          document.querySelector('#df-fbe17099-60a4-4ba0-8b3b-3a1f3771d09c button.colab-df-convert');\n",
       "        buttonEl.style.display =\n",
       "          google.colab.kernel.accessAllowed ? 'block' : 'none';\n",
       "\n",
       "        async function convertToInteractive(key) {\n",
       "          const element = document.querySelector('#df-fbe17099-60a4-4ba0-8b3b-3a1f3771d09c');\n",
       "          const dataTable =\n",
       "            await google.colab.kernel.invokeFunction('convertToInteractive',\n",
       "                                                     [key], {});\n",
       "          if (!dataTable) return;\n",
       "\n",
       "          const docLinkHtml = 'Like what you see? Visit the ' +\n",
       "            '<a target=\"_blank\" href=https://colab.research.google.com/notebooks/data_table.ipynb>data table notebook</a>'\n",
       "            + ' to learn more about interactive tables.';\n",
       "          element.innerHTML = '';\n",
       "          dataTable['output_type'] = 'display_data';\n",
       "          await google.colab.output.renderOutput(dataTable, element);\n",
       "          const docLink = document.createElement('div');\n",
       "          docLink.innerHTML = docLinkHtml;\n",
       "          element.appendChild(docLink);\n",
       "        }\n",
       "      </script>\n",
       "    </div>\n",
       "  </div>\n",
       "  "
      ]
     },
     "metadata": {},
     "execution_count": 7
    }
   ]
  },
  {
   "cell_type": "code",
   "source": [
    "item_features_df = pd.read_csv(\"../Dataset/item_features.csv\", sep=',')\n",
    "item_features_df"
   ],
   "metadata": {
    "colab": {
     "base_uri": "https://localhost:8080/",
     "height": 424
    },
    "id": "m4eKF30mUl8l",
    "executionInfo": {
     "status": "ok",
     "timestamp": 1657728600655,
     "user_tz": -120,
     "elapsed": 753,
     "user": {
      "displayName": "Riccardo Pala",
      "userId": "14726583371054773727"
     }
    },
    "outputId": "12605d1b-a136-4d02-eb2c-3ae10c30d40c",
    "pycharm": {
     "name": "#%%\n"
    }
   },
   "execution_count": 8,
   "outputs": [
    {
     "output_type": "execute_result",
     "data": {
      "text/plain": [
       "        item_id  feature_category_id  feature_value_id\n",
       "0             2                   56               365\n",
       "1             2                   62               801\n",
       "2             2                   68               351\n",
       "3             2                   33               802\n",
       "4             2                   72                75\n",
       "...         ...                  ...               ...\n",
       "471746    28143                   68               351\n",
       "471747    28143                   55               390\n",
       "471748    28143                   11               109\n",
       "471749    28143                   73                91\n",
       "471750    28143                   47               549\n",
       "\n",
       "[471751 rows x 3 columns]"
      ],
      "text/html": [
       "\n",
       "  <div id=\"df-ea8e1ddc-ece9-470d-9981-1e3fc1628cb5\">\n",
       "    <div class=\"colab-df-container\">\n",
       "      <div>\n",
       "<style scoped>\n",
       "    .dataframe tbody tr th:only-of-type {\n",
       "        vertical-align: middle;\n",
       "    }\n",
       "\n",
       "    .dataframe tbody tr th {\n",
       "        vertical-align: top;\n",
       "    }\n",
       "\n",
       "    .dataframe thead th {\n",
       "        text-align: right;\n",
       "    }\n",
       "</style>\n",
       "<table border=\"1\" class=\"dataframe\">\n",
       "  <thead>\n",
       "    <tr style=\"text-align: right;\">\n",
       "      <th></th>\n",
       "      <th>item_id</th>\n",
       "      <th>feature_category_id</th>\n",
       "      <th>feature_value_id</th>\n",
       "    </tr>\n",
       "  </thead>\n",
       "  <tbody>\n",
       "    <tr>\n",
       "      <th>0</th>\n",
       "      <td>2</td>\n",
       "      <td>56</td>\n",
       "      <td>365</td>\n",
       "    </tr>\n",
       "    <tr>\n",
       "      <th>1</th>\n",
       "      <td>2</td>\n",
       "      <td>62</td>\n",
       "      <td>801</td>\n",
       "    </tr>\n",
       "    <tr>\n",
       "      <th>2</th>\n",
       "      <td>2</td>\n",
       "      <td>68</td>\n",
       "      <td>351</td>\n",
       "    </tr>\n",
       "    <tr>\n",
       "      <th>3</th>\n",
       "      <td>2</td>\n",
       "      <td>33</td>\n",
       "      <td>802</td>\n",
       "    </tr>\n",
       "    <tr>\n",
       "      <th>4</th>\n",
       "      <td>2</td>\n",
       "      <td>72</td>\n",
       "      <td>75</td>\n",
       "    </tr>\n",
       "    <tr>\n",
       "      <th>...</th>\n",
       "      <td>...</td>\n",
       "      <td>...</td>\n",
       "      <td>...</td>\n",
       "    </tr>\n",
       "    <tr>\n",
       "      <th>471746</th>\n",
       "      <td>28143</td>\n",
       "      <td>68</td>\n",
       "      <td>351</td>\n",
       "    </tr>\n",
       "    <tr>\n",
       "      <th>471747</th>\n",
       "      <td>28143</td>\n",
       "      <td>55</td>\n",
       "      <td>390</td>\n",
       "    </tr>\n",
       "    <tr>\n",
       "      <th>471748</th>\n",
       "      <td>28143</td>\n",
       "      <td>11</td>\n",
       "      <td>109</td>\n",
       "    </tr>\n",
       "    <tr>\n",
       "      <th>471749</th>\n",
       "      <td>28143</td>\n",
       "      <td>73</td>\n",
       "      <td>91</td>\n",
       "    </tr>\n",
       "    <tr>\n",
       "      <th>471750</th>\n",
       "      <td>28143</td>\n",
       "      <td>47</td>\n",
       "      <td>549</td>\n",
       "    </tr>\n",
       "  </tbody>\n",
       "</table>\n",
       "<p>471751 rows × 3 columns</p>\n",
       "</div>\n",
       "      <button class=\"colab-df-convert\" onclick=\"convertToInteractive('df-ea8e1ddc-ece9-470d-9981-1e3fc1628cb5')\"\n",
       "              title=\"Convert this dataframe to an interactive table.\"\n",
       "              style=\"display:none;\">\n",
       "        \n",
       "  <svg xmlns=\"http://www.w3.org/2000/svg\" height=\"24px\"viewBox=\"0 0 24 24\"\n",
       "       width=\"24px\">\n",
       "    <path d=\"M0 0h24v24H0V0z\" fill=\"none\"/>\n",
       "    <path d=\"M18.56 5.44l.94 2.06.94-2.06 2.06-.94-2.06-.94-.94-2.06-.94 2.06-2.06.94zm-11 1L8.5 8.5l.94-2.06 2.06-.94-2.06-.94L8.5 2.5l-.94 2.06-2.06.94zm10 10l.94 2.06.94-2.06 2.06-.94-2.06-.94-.94-2.06-.94 2.06-2.06.94z\"/><path d=\"M17.41 7.96l-1.37-1.37c-.4-.4-.92-.59-1.43-.59-.52 0-1.04.2-1.43.59L10.3 9.45l-7.72 7.72c-.78.78-.78 2.05 0 2.83L4 21.41c.39.39.9.59 1.41.59.51 0 1.02-.2 1.41-.59l7.78-7.78 2.81-2.81c.8-.78.8-2.07 0-2.86zM5.41 20L4 18.59l7.72-7.72 1.47 1.35L5.41 20z\"/>\n",
       "  </svg>\n",
       "      </button>\n",
       "      \n",
       "  <style>\n",
       "    .colab-df-container {\n",
       "      display:flex;\n",
       "      flex-wrap:wrap;\n",
       "      gap: 12px;\n",
       "    }\n",
       "\n",
       "    .colab-df-convert {\n",
       "      background-color: #E8F0FE;\n",
       "      border: none;\n",
       "      border-radius: 50%;\n",
       "      cursor: pointer;\n",
       "      display: none;\n",
       "      fill: #1967D2;\n",
       "      height: 32px;\n",
       "      padding: 0 0 0 0;\n",
       "      width: 32px;\n",
       "    }\n",
       "\n",
       "    .colab-df-convert:hover {\n",
       "      background-color: #E2EBFA;\n",
       "      box-shadow: 0px 1px 2px rgba(60, 64, 67, 0.3), 0px 1px 3px 1px rgba(60, 64, 67, 0.15);\n",
       "      fill: #174EA6;\n",
       "    }\n",
       "\n",
       "    [theme=dark] .colab-df-convert {\n",
       "      background-color: #3B4455;\n",
       "      fill: #D2E3FC;\n",
       "    }\n",
       "\n",
       "    [theme=dark] .colab-df-convert:hover {\n",
       "      background-color: #434B5C;\n",
       "      box-shadow: 0px 1px 3px 1px rgba(0, 0, 0, 0.15);\n",
       "      filter: drop-shadow(0px 1px 2px rgba(0, 0, 0, 0.3));\n",
       "      fill: #FFFFFF;\n",
       "    }\n",
       "  </style>\n",
       "\n",
       "      <script>\n",
       "        const buttonEl =\n",
       "          document.querySelector('#df-ea8e1ddc-ece9-470d-9981-1e3fc1628cb5 button.colab-df-convert');\n",
       "        buttonEl.style.display =\n",
       "          google.colab.kernel.accessAllowed ? 'block' : 'none';\n",
       "\n",
       "        async function convertToInteractive(key) {\n",
       "          const element = document.querySelector('#df-ea8e1ddc-ece9-470d-9981-1e3fc1628cb5');\n",
       "          const dataTable =\n",
       "            await google.colab.kernel.invokeFunction('convertToInteractive',\n",
       "                                                     [key], {});\n",
       "          if (!dataTable) return;\n",
       "\n",
       "          const docLinkHtml = 'Like what you see? Visit the ' +\n",
       "            '<a target=\"_blank\" href=https://colab.research.google.com/notebooks/data_table.ipynb>data table notebook</a>'\n",
       "            + ' to learn more about interactive tables.';\n",
       "          element.innerHTML = '';\n",
       "          dataTable['output_type'] = 'display_data';\n",
       "          await google.colab.output.renderOutput(dataTable, element);\n",
       "          const docLink = document.createElement('div');\n",
       "          docLink.innerHTML = docLinkHtml;\n",
       "          element.appendChild(docLink);\n",
       "        }\n",
       "      </script>\n",
       "    </div>\n",
       "  </div>\n",
       "  "
      ]
     },
     "metadata": {},
     "execution_count": 8
    }
   ]
  },
  {
   "cell_type": "code",
   "source": [
    "candidate_items_df = pd.read_csv(\"../Dataset/candidate_items.csv\", sep=',')\n",
    "candidate_items_df"
   ],
   "metadata": {
    "colab": {
     "base_uri": "https://localhost:8080/",
     "height": 424
    },
    "id": "0i_LijYSU7f6",
    "executionInfo": {
     "status": "ok",
     "timestamp": 1657728600933,
     "user_tz": -120,
     "elapsed": 281,
     "user": {
      "displayName": "Riccardo Pala",
      "userId": "14726583371054773727"
     }
    },
    "outputId": "439ac0f0-aad1-4927-9832-03e9c9cf57f0",
    "pycharm": {
     "name": "#%%\n"
    }
   },
   "execution_count": 9,
   "outputs": [
    {
     "output_type": "execute_result",
     "data": {
      "text/plain": [
       "      item_id\n",
       "0           4\n",
       "1           8\n",
       "2           9\n",
       "3          19\n",
       "4          20\n",
       "...       ...\n",
       "4985    28128\n",
       "4986    28131\n",
       "4987    28132\n",
       "4988    28133\n",
       "4989    28137\n",
       "\n",
       "[4990 rows x 1 columns]"
      ],
      "text/html": [
       "\n",
       "  <div id=\"df-6c15d24b-b4f0-48ec-95a0-973fefe801fc\">\n",
       "    <div class=\"colab-df-container\">\n",
       "      <div>\n",
       "<style scoped>\n",
       "    .dataframe tbody tr th:only-of-type {\n",
       "        vertical-align: middle;\n",
       "    }\n",
       "\n",
       "    .dataframe tbody tr th {\n",
       "        vertical-align: top;\n",
       "    }\n",
       "\n",
       "    .dataframe thead th {\n",
       "        text-align: right;\n",
       "    }\n",
       "</style>\n",
       "<table border=\"1\" class=\"dataframe\">\n",
       "  <thead>\n",
       "    <tr style=\"text-align: right;\">\n",
       "      <th></th>\n",
       "      <th>item_id</th>\n",
       "    </tr>\n",
       "  </thead>\n",
       "  <tbody>\n",
       "    <tr>\n",
       "      <th>0</th>\n",
       "      <td>4</td>\n",
       "    </tr>\n",
       "    <tr>\n",
       "      <th>1</th>\n",
       "      <td>8</td>\n",
       "    </tr>\n",
       "    <tr>\n",
       "      <th>2</th>\n",
       "      <td>9</td>\n",
       "    </tr>\n",
       "    <tr>\n",
       "      <th>3</th>\n",
       "      <td>19</td>\n",
       "    </tr>\n",
       "    <tr>\n",
       "      <th>4</th>\n",
       "      <td>20</td>\n",
       "    </tr>\n",
       "    <tr>\n",
       "      <th>...</th>\n",
       "      <td>...</td>\n",
       "    </tr>\n",
       "    <tr>\n",
       "      <th>4985</th>\n",
       "      <td>28128</td>\n",
       "    </tr>\n",
       "    <tr>\n",
       "      <th>4986</th>\n",
       "      <td>28131</td>\n",
       "    </tr>\n",
       "    <tr>\n",
       "      <th>4987</th>\n",
       "      <td>28132</td>\n",
       "    </tr>\n",
       "    <tr>\n",
       "      <th>4988</th>\n",
       "      <td>28133</td>\n",
       "    </tr>\n",
       "    <tr>\n",
       "      <th>4989</th>\n",
       "      <td>28137</td>\n",
       "    </tr>\n",
       "  </tbody>\n",
       "</table>\n",
       "<p>4990 rows × 1 columns</p>\n",
       "</div>\n",
       "      <button class=\"colab-df-convert\" onclick=\"convertToInteractive('df-6c15d24b-b4f0-48ec-95a0-973fefe801fc')\"\n",
       "              title=\"Convert this dataframe to an interactive table.\"\n",
       "              style=\"display:none;\">\n",
       "        \n",
       "  <svg xmlns=\"http://www.w3.org/2000/svg\" height=\"24px\"viewBox=\"0 0 24 24\"\n",
       "       width=\"24px\">\n",
       "    <path d=\"M0 0h24v24H0V0z\" fill=\"none\"/>\n",
       "    <path d=\"M18.56 5.44l.94 2.06.94-2.06 2.06-.94-2.06-.94-.94-2.06-.94 2.06-2.06.94zm-11 1L8.5 8.5l.94-2.06 2.06-.94-2.06-.94L8.5 2.5l-.94 2.06-2.06.94zm10 10l.94 2.06.94-2.06 2.06-.94-2.06-.94-.94-2.06-.94 2.06-2.06.94z\"/><path d=\"M17.41 7.96l-1.37-1.37c-.4-.4-.92-.59-1.43-.59-.52 0-1.04.2-1.43.59L10.3 9.45l-7.72 7.72c-.78.78-.78 2.05 0 2.83L4 21.41c.39.39.9.59 1.41.59.51 0 1.02-.2 1.41-.59l7.78-7.78 2.81-2.81c.8-.78.8-2.07 0-2.86zM5.41 20L4 18.59l7.72-7.72 1.47 1.35L5.41 20z\"/>\n",
       "  </svg>\n",
       "      </button>\n",
       "      \n",
       "  <style>\n",
       "    .colab-df-container {\n",
       "      display:flex;\n",
       "      flex-wrap:wrap;\n",
       "      gap: 12px;\n",
       "    }\n",
       "\n",
       "    .colab-df-convert {\n",
       "      background-color: #E8F0FE;\n",
       "      border: none;\n",
       "      border-radius: 50%;\n",
       "      cursor: pointer;\n",
       "      display: none;\n",
       "      fill: #1967D2;\n",
       "      height: 32px;\n",
       "      padding: 0 0 0 0;\n",
       "      width: 32px;\n",
       "    }\n",
       "\n",
       "    .colab-df-convert:hover {\n",
       "      background-color: #E2EBFA;\n",
       "      box-shadow: 0px 1px 2px rgba(60, 64, 67, 0.3), 0px 1px 3px 1px rgba(60, 64, 67, 0.15);\n",
       "      fill: #174EA6;\n",
       "    }\n",
       "\n",
       "    [theme=dark] .colab-df-convert {\n",
       "      background-color: #3B4455;\n",
       "      fill: #D2E3FC;\n",
       "    }\n",
       "\n",
       "    [theme=dark] .colab-df-convert:hover {\n",
       "      background-color: #434B5C;\n",
       "      box-shadow: 0px 1px 3px 1px rgba(0, 0, 0, 0.15);\n",
       "      filter: drop-shadow(0px 1px 2px rgba(0, 0, 0, 0.3));\n",
       "      fill: #FFFFFF;\n",
       "    }\n",
       "  </style>\n",
       "\n",
       "      <script>\n",
       "        const buttonEl =\n",
       "          document.querySelector('#df-6c15d24b-b4f0-48ec-95a0-973fefe801fc button.colab-df-convert');\n",
       "        buttonEl.style.display =\n",
       "          google.colab.kernel.accessAllowed ? 'block' : 'none';\n",
       "\n",
       "        async function convertToInteractive(key) {\n",
       "          const element = document.querySelector('#df-6c15d24b-b4f0-48ec-95a0-973fefe801fc');\n",
       "          const dataTable =\n",
       "            await google.colab.kernel.invokeFunction('convertToInteractive',\n",
       "                                                     [key], {});\n",
       "          if (!dataTable) return;\n",
       "\n",
       "          const docLinkHtml = 'Like what you see? Visit the ' +\n",
       "            '<a target=\"_blank\" href=https://colab.research.google.com/notebooks/data_table.ipynb>data table notebook</a>'\n",
       "            + ' to learn more about interactive tables.';\n",
       "          element.innerHTML = '';\n",
       "          dataTable['output_type'] = 'display_data';\n",
       "          await google.colab.output.renderOutput(dataTable, element);\n",
       "          const docLink = document.createElement('div');\n",
       "          docLink.innerHTML = docLinkHtml;\n",
       "          element.appendChild(docLink);\n",
       "        }\n",
       "      </script>\n",
       "    </div>\n",
       "  </div>\n",
       "  "
      ]
     },
     "metadata": {},
     "execution_count": 9
    }
   ]
  },
  {
   "cell_type": "markdown",
   "source": [
    "## *General Information*"
   ],
   "metadata": {
    "id": "ceAb2d8LkF8N",
    "pycharm": {
     "name": "#%% md\n"
    }
   }
  },
  {
   "cell_type": "code",
   "execution_count": 10,
   "metadata": {
    "id": "oaLZHWjFRU97",
    "colab": {
     "base_uri": "https://localhost:8080/"
    },
    "executionInfo": {
     "status": "ok",
     "timestamp": 1657728601620,
     "user_tz": -120,
     "elapsed": 690,
     "user": {
      "displayName": "Riccardo Pala",
      "userId": "14726583371054773727"
     }
    },
    "outputId": "9d3ca716-df78-448f-aa50-1325bac7af97",
    "pycharm": {
     "name": "#%%\n"
    }
   },
   "outputs": [
    {
     "output_type": "stream",
     "name": "stdout",
     "text": [
      "Train sessions dataframe\n",
      "\n",
      "Number of total views: 4743820\n",
      "Number of unique sessions: 1000000\n",
      "Number of unique items: 23496\n",
      "Min ID sessions: 3, Max ID sessions: 4440001\n",
      "Min ID items: 2, Max ID items: 28143\n"
     ]
    }
   ],
   "source": [
    "print(\"Train sessions dataframe\\n\")\n",
    "\n",
    "session_ids_train = train_sessions_df['session_id'].unique()\n",
    "item_ids_train = train_sessions_df['item_id'].unique()\n",
    "\n",
    "n_sessions_train = len(session_ids_train)\n",
    "n_items_train = len(item_ids_train)\n",
    "\n",
    "print(\"Number of total views: {}\".format(len(train_sessions_df)))\n",
    "print(\"Number of unique sessions: {}\".format(n_sessions_train))\n",
    "print(\"Number of unique items: {}\".format(n_items_train))\n",
    "print(\"Min ID sessions: {}, Max ID sessions: {}\".format(min(session_ids_train), max(session_ids_train)))\n",
    "print(\"Min ID items: {}, Max ID items: {}\".format(min(item_ids_train), max(item_ids_train)))"
   ]
  },
  {
   "cell_type": "code",
   "source": [
    "print(\"Train purchases dataframe\\n\")\n",
    "\n",
    "session_ids_purchases = train_purchases_df['session_id'].unique()\n",
    "item_ids_purchases = train_purchases_df['item_id'].unique()\n",
    "\n",
    "n_sessions_purchases = len(session_ids_purchases)\n",
    "n_items_purchases = len(item_ids_purchases)\n",
    "\n",
    "print(\"Number of total purchases: {}\".format(len(train_purchases_df)))\n",
    "print(\"Number of unique sessions: {}\".format(n_sessions_purchases))\n",
    "print(\"Number of unique items: {}\".format(n_items_purchases))\n",
    "print(\"Min ID sessions: {}, Max ID sessions: {}\".format(min(session_ids_purchases), max(session_ids_purchases)))\n",
    "print(\"Min ID items: {}, Max ID items: {}\".format(min(item_ids_purchases), max(item_ids_purchases)))"
   ],
   "metadata": {
    "colab": {
     "base_uri": "https://localhost:8080/"
    },
    "id": "DxHJTTI3bpdN",
    "executionInfo": {
     "status": "ok",
     "timestamp": 1657728602335,
     "user_tz": -120,
     "elapsed": 718,
     "user": {
      "displayName": "Riccardo Pala",
      "userId": "14726583371054773727"
     }
    },
    "outputId": "e8c03e26-53a7-488d-9a20-22dca8ff1c02",
    "pycharm": {
     "name": "#%%\n"
    }
   },
   "execution_count": 11,
   "outputs": [
    {
     "output_type": "stream",
     "name": "stdout",
     "text": [
      "Train purchases dataframe\n",
      "\n",
      "Number of total purchases: 1000000\n",
      "Number of unique sessions: 1000000\n",
      "Number of unique items: 18907\n",
      "Min ID sessions: 3, Max ID sessions: 4440001\n",
      "Min ID items: 3, Max ID items: 28143\n"
     ]
    }
   ]
  },
  {
   "cell_type": "code",
   "source": [
    "print(\"Test leaderboard sessions dataframe\\n\")\n",
    "\n",
    "session_ids_leaderboard = test_leaderboard_sessions_df['session_id'].unique()\n",
    "item_ids_leaderboard = test_leaderboard_sessions_df['item_id'].unique()\n",
    "\n",
    "n_sessions_leaderboard = len(session_ids_leaderboard)\n",
    "n_items_leaderboard = len(item_ids_leaderboard)\n",
    "\n",
    "print(\"Number of total views: {}\".format(len(test_leaderboard_sessions_df)))\n",
    "print(\"Number of unique sessions: {}\".format(n_sessions_leaderboard))\n",
    "print(\"Number of unique items: {}\".format(n_items_leaderboard))\n",
    "print(\"Min ID sessions: {}, Max ID sessions: {}\".format(min(session_ids_leaderboard), max(session_ids_leaderboard)))\n",
    "print(\"Min ID items: {}, Max ID items: {}\".format(min(item_ids_leaderboard), max(item_ids_leaderboard)))"
   ],
   "metadata": {
    "colab": {
     "base_uri": "https://localhost:8080/"
    },
    "id": "BuDdg2qJei1d",
    "executionInfo": {
     "status": "ok",
     "timestamp": 1657728602335,
     "user_tz": -120,
     "elapsed": 11,
     "user": {
      "displayName": "Riccardo Pala",
      "userId": "14726583371054773727"
     }
    },
    "outputId": "12020ac3-d7a4-4d5a-9f0f-b1bc4fe3528b",
    "pycharm": {
     "name": "#%%\n"
    }
   },
   "execution_count": 12,
   "outputs": [
    {
     "output_type": "stream",
     "name": "stdout",
     "text": [
      "Test leaderboard sessions dataframe\n",
      "\n",
      "Number of total views: 229354\n",
      "Number of unique sessions: 50000\n",
      "Number of unique items: 5647\n",
      "Min ID sessions: 26, Max ID sessions: 4439757\n",
      "Min ID items: 4, Max ID items: 28137\n"
     ]
    }
   ]
  },
  {
   "cell_type": "code",
   "source": [
    "print(\"Test final sessions dataframe\\n\")\n",
    "\n",
    "session_ids_final = test_final_sessions_df['session_id'].unique()\n",
    "item_ids_final = test_final_sessions_df['item_id'].unique()\n",
    "\n",
    "n_sessions_final = len(session_ids_final)\n",
    "n_items_final = len(item_ids_final)\n",
    "\n",
    "print(\"Number of total views: {}\".format(len(test_final_sessions_df)))\n",
    "print(\"Number of unique sessions: {}\".format(n_sessions_final))\n",
    "print(\"Number of unique items: {}\".format(n_items_final))\n",
    "print(\"Min ID sessions: {}, Max ID sessions: {}\".format(min(session_ids_final), max(session_ids_final)))\n",
    "print(\"Min ID items: {}, Max ID items: {}\".format(min(item_ids_final), max(item_ids_final)))"
   ],
   "metadata": {
    "colab": {
     "base_uri": "https://localhost:8080/"
    },
    "id": "L_43tPqtfRv6",
    "executionInfo": {
     "status": "ok",
     "timestamp": 1657728602335,
     "user_tz": -120,
     "elapsed": 7,
     "user": {
      "displayName": "Riccardo Pala",
      "userId": "14726583371054773727"
     }
    },
    "outputId": "deacec76-72d2-483a-95bf-726276543c9c",
    "pycharm": {
     "name": "#%%\n"
    }
   },
   "execution_count": 13,
   "outputs": [
    {
     "output_type": "stream",
     "name": "stdout",
     "text": [
      "Test final sessions dataframe\n",
      "\n",
      "Number of total views: 226138\n",
      "Number of unique sessions: 50000\n",
      "Number of unique items: 5648\n",
      "Min ID sessions: 61, Max ID sessions: 4439966\n",
      "Min ID items: 3, Max ID items: 28137\n"
     ]
    }
   ]
  },
  {
   "cell_type": "code",
   "source": [
    "print(\"Candidate items dataframe\\n\")\n",
    "\n",
    "items_ids_candidate = candidate_items_df['item_id'].unique()\n",
    "\n",
    "print(\"Number of candidate items: {}\".format(len(items_ids_candidate)))"
   ],
   "metadata": {
    "colab": {
     "base_uri": "https://localhost:8080/"
    },
    "id": "V2kSWymghxH8",
    "executionInfo": {
     "status": "ok",
     "timestamp": 1657728602336,
     "user_tz": -120,
     "elapsed": 6,
     "user": {
      "displayName": "Riccardo Pala",
      "userId": "14726583371054773727"
     }
    },
    "outputId": "6f474888-74b4-4377-b9e4-a05d3b53728f",
    "pycharm": {
     "name": "#%%\n"
    }
   },
   "execution_count": 14,
   "outputs": [
    {
     "output_type": "stream",
     "name": "stdout",
     "text": [
      "Candidate items dataframe\n",
      "\n",
      "Number of candidate items: 4990\n"
     ]
    }
   ]
  },
  {
   "cell_type": "code",
   "source": [
    "print(\"Item features dataframe\\n\")\n",
    "\n",
    "item_ids_features = item_features_df['item_id'].unique()\n",
    "\n",
    "print(\"Number of unique items: {}\".format(len(item_ids_features)))\n",
    "print(\"Min ID items: {}, Max ID items: {}\".format(min(item_ids_features), max(item_ids_features)))"
   ],
   "metadata": {
    "colab": {
     "base_uri": "https://localhost:8080/"
    },
    "id": "mU8bLfdhiE4K",
    "executionInfo": {
     "status": "ok",
     "timestamp": 1657728602694,
     "user_tz": -120,
     "elapsed": 362,
     "user": {
      "displayName": "Riccardo Pala",
      "userId": "14726583371054773727"
     }
    },
    "outputId": "9b050ccd-6dfa-4e7e-a67a-8de70c774c6b",
    "pycharm": {
     "name": "#%%\n"
    }
   },
   "execution_count": 15,
   "outputs": [
    {
     "output_type": "stream",
     "name": "stdout",
     "text": [
      "Item features dataframe\n",
      "\n",
      "Number of unique items: 23691\n",
      "Min ID items: 2, Max ID items: 28143\n"
     ]
    }
   ]
  },
  {
   "cell_type": "markdown",
   "source": [
    "## **Anomaly Detection**"
   ],
   "metadata": {
    "id": "OYfQ1V1JRg53",
    "pycharm": {
     "name": "#%% md\n"
    }
   }
  },
  {
   "cell_type": "code",
   "source": [
    "print(train_sessions_df.isnull().values.any())\n",
    "print(train_purchases_df.isnull().values.any())\n",
    "print(test_leaderboard_sessions_df.isnull().values.any())\n",
    "print(test_final_sessions_df.isnull().values.any())\n",
    "print(item_features_df.isnull().values.any())\n",
    "print(candidate_items_df.isnull().values.any())"
   ],
   "metadata": {
    "colab": {
     "base_uri": "https://localhost:8080/"
    },
    "id": "YaFknTaXVuyC",
    "executionInfo": {
     "status": "ok",
     "timestamp": 1657728603304,
     "user_tz": -120,
     "elapsed": 613,
     "user": {
      "displayName": "Riccardo Pala",
      "userId": "14726583371054773727"
     }
    },
    "outputId": "8f09a309-bd70-4141-9e82-5cbde9474671",
    "pycharm": {
     "name": "#%%\n"
    }
   },
   "execution_count": 16,
   "outputs": [
    {
     "output_type": "stream",
     "name": "stdout",
     "text": [
      "False\n",
      "False\n",
      "False\n",
      "False\n",
      "False\n",
      "False\n"
     ]
    }
   ]
  },
  {
   "cell_type": "markdown",
   "source": [
    "There are no NULL values in the dataframes"
   ],
   "metadata": {
    "id": "dtoHWMjSVzoA",
    "pycharm": {
     "name": "#%% md\n"
    }
   }
  },
  {
   "cell_type": "code",
   "source": [
    "train_sessions_df_sorted = train_sessions_df.sort_values('date')\n",
    "train_sessions_df_sorted"
   ],
   "metadata": {
    "colab": {
     "base_uri": "https://localhost:8080/",
     "height": 424
    },
    "id": "CEBMTTDBardJ",
    "executionInfo": {
     "status": "ok",
     "timestamp": 1657728617350,
     "user_tz": -120,
     "elapsed": 14048,
     "user": {
      "displayName": "Riccardo Pala",
      "userId": "14726583371054773727"
     }
    },
    "outputId": "d73d3849-713c-4381-baf0-3db43cd80399",
    "pycharm": {
     "name": "#%%\n"
    }
   },
   "execution_count": 17,
   "outputs": [
    {
     "output_type": "execute_result",
     "data": {
      "text/plain": [
       "         session_id  item_id                     date\n",
       "4005618     3747794    11234  2020-01-01 00:00:01.359\n",
       "3699175     3458777     3868   2020-01-01 00:00:21.44\n",
       "4005616     3747794     9214  2020-01-01 00:00:22.294\n",
       "4649622     4350716    10861  2020-01-01 00:00:48.505\n",
       "4005614     3747794    27092  2020-01-01 00:02:14.538\n",
       "...             ...      ...                      ...\n",
       "2007607     1876524    18969  2021-05-31 23:41:37.372\n",
       "3927982     3674124     2267  2021-05-31 23:41:49.965\n",
       "2007606     1876524    11226  2021-05-31 23:42:01.479\n",
       "3927983     3674124    23412  2021-05-31 23:43:02.747\n",
       "3927985     3674124    17618  2021-05-31 23:43:33.865\n",
       "\n",
       "[4743820 rows x 3 columns]"
      ],
      "text/html": [
       "\n",
       "  <div id=\"df-9f3d47c4-99a1-405f-b616-df3c53428690\">\n",
       "    <div class=\"colab-df-container\">\n",
       "      <div>\n",
       "<style scoped>\n",
       "    .dataframe tbody tr th:only-of-type {\n",
       "        vertical-align: middle;\n",
       "    }\n",
       "\n",
       "    .dataframe tbody tr th {\n",
       "        vertical-align: top;\n",
       "    }\n",
       "\n",
       "    .dataframe thead th {\n",
       "        text-align: right;\n",
       "    }\n",
       "</style>\n",
       "<table border=\"1\" class=\"dataframe\">\n",
       "  <thead>\n",
       "    <tr style=\"text-align: right;\">\n",
       "      <th></th>\n",
       "      <th>session_id</th>\n",
       "      <th>item_id</th>\n",
       "      <th>date</th>\n",
       "    </tr>\n",
       "  </thead>\n",
       "  <tbody>\n",
       "    <tr>\n",
       "      <th>4005618</th>\n",
       "      <td>3747794</td>\n",
       "      <td>11234</td>\n",
       "      <td>2020-01-01 00:00:01.359</td>\n",
       "    </tr>\n",
       "    <tr>\n",
       "      <th>3699175</th>\n",
       "      <td>3458777</td>\n",
       "      <td>3868</td>\n",
       "      <td>2020-01-01 00:00:21.44</td>\n",
       "    </tr>\n",
       "    <tr>\n",
       "      <th>4005616</th>\n",
       "      <td>3747794</td>\n",
       "      <td>9214</td>\n",
       "      <td>2020-01-01 00:00:22.294</td>\n",
       "    </tr>\n",
       "    <tr>\n",
       "      <th>4649622</th>\n",
       "      <td>4350716</td>\n",
       "      <td>10861</td>\n",
       "      <td>2020-01-01 00:00:48.505</td>\n",
       "    </tr>\n",
       "    <tr>\n",
       "      <th>4005614</th>\n",
       "      <td>3747794</td>\n",
       "      <td>27092</td>\n",
       "      <td>2020-01-01 00:02:14.538</td>\n",
       "    </tr>\n",
       "    <tr>\n",
       "      <th>...</th>\n",
       "      <td>...</td>\n",
       "      <td>...</td>\n",
       "      <td>...</td>\n",
       "    </tr>\n",
       "    <tr>\n",
       "      <th>2007607</th>\n",
       "      <td>1876524</td>\n",
       "      <td>18969</td>\n",
       "      <td>2021-05-31 23:41:37.372</td>\n",
       "    </tr>\n",
       "    <tr>\n",
       "      <th>3927982</th>\n",
       "      <td>3674124</td>\n",
       "      <td>2267</td>\n",
       "      <td>2021-05-31 23:41:49.965</td>\n",
       "    </tr>\n",
       "    <tr>\n",
       "      <th>2007606</th>\n",
       "      <td>1876524</td>\n",
       "      <td>11226</td>\n",
       "      <td>2021-05-31 23:42:01.479</td>\n",
       "    </tr>\n",
       "    <tr>\n",
       "      <th>3927983</th>\n",
       "      <td>3674124</td>\n",
       "      <td>23412</td>\n",
       "      <td>2021-05-31 23:43:02.747</td>\n",
       "    </tr>\n",
       "    <tr>\n",
       "      <th>3927985</th>\n",
       "      <td>3674124</td>\n",
       "      <td>17618</td>\n",
       "      <td>2021-05-31 23:43:33.865</td>\n",
       "    </tr>\n",
       "  </tbody>\n",
       "</table>\n",
       "<p>4743820 rows × 3 columns</p>\n",
       "</div>\n",
       "      <button class=\"colab-df-convert\" onclick=\"convertToInteractive('df-9f3d47c4-99a1-405f-b616-df3c53428690')\"\n",
       "              title=\"Convert this dataframe to an interactive table.\"\n",
       "              style=\"display:none;\">\n",
       "        \n",
       "  <svg xmlns=\"http://www.w3.org/2000/svg\" height=\"24px\"viewBox=\"0 0 24 24\"\n",
       "       width=\"24px\">\n",
       "    <path d=\"M0 0h24v24H0V0z\" fill=\"none\"/>\n",
       "    <path d=\"M18.56 5.44l.94 2.06.94-2.06 2.06-.94-2.06-.94-.94-2.06-.94 2.06-2.06.94zm-11 1L8.5 8.5l.94-2.06 2.06-.94-2.06-.94L8.5 2.5l-.94 2.06-2.06.94zm10 10l.94 2.06.94-2.06 2.06-.94-2.06-.94-.94-2.06-.94 2.06-2.06.94z\"/><path d=\"M17.41 7.96l-1.37-1.37c-.4-.4-.92-.59-1.43-.59-.52 0-1.04.2-1.43.59L10.3 9.45l-7.72 7.72c-.78.78-.78 2.05 0 2.83L4 21.41c.39.39.9.59 1.41.59.51 0 1.02-.2 1.41-.59l7.78-7.78 2.81-2.81c.8-.78.8-2.07 0-2.86zM5.41 20L4 18.59l7.72-7.72 1.47 1.35L5.41 20z\"/>\n",
       "  </svg>\n",
       "      </button>\n",
       "      \n",
       "  <style>\n",
       "    .colab-df-container {\n",
       "      display:flex;\n",
       "      flex-wrap:wrap;\n",
       "      gap: 12px;\n",
       "    }\n",
       "\n",
       "    .colab-df-convert {\n",
       "      background-color: #E8F0FE;\n",
       "      border: none;\n",
       "      border-radius: 50%;\n",
       "      cursor: pointer;\n",
       "      display: none;\n",
       "      fill: #1967D2;\n",
       "      height: 32px;\n",
       "      padding: 0 0 0 0;\n",
       "      width: 32px;\n",
       "    }\n",
       "\n",
       "    .colab-df-convert:hover {\n",
       "      background-color: #E2EBFA;\n",
       "      box-shadow: 0px 1px 2px rgba(60, 64, 67, 0.3), 0px 1px 3px 1px rgba(60, 64, 67, 0.15);\n",
       "      fill: #174EA6;\n",
       "    }\n",
       "\n",
       "    [theme=dark] .colab-df-convert {\n",
       "      background-color: #3B4455;\n",
       "      fill: #D2E3FC;\n",
       "    }\n",
       "\n",
       "    [theme=dark] .colab-df-convert:hover {\n",
       "      background-color: #434B5C;\n",
       "      box-shadow: 0px 1px 3px 1px rgba(0, 0, 0, 0.15);\n",
       "      filter: drop-shadow(0px 1px 2px rgba(0, 0, 0, 0.3));\n",
       "      fill: #FFFFFF;\n",
       "    }\n",
       "  </style>\n",
       "\n",
       "      <script>\n",
       "        const buttonEl =\n",
       "          document.querySelector('#df-9f3d47c4-99a1-405f-b616-df3c53428690 button.colab-df-convert');\n",
       "        buttonEl.style.display =\n",
       "          google.colab.kernel.accessAllowed ? 'block' : 'none';\n",
       "\n",
       "        async function convertToInteractive(key) {\n",
       "          const element = document.querySelector('#df-9f3d47c4-99a1-405f-b616-df3c53428690');\n",
       "          const dataTable =\n",
       "            await google.colab.kernel.invokeFunction('convertToInteractive',\n",
       "                                                     [key], {});\n",
       "          if (!dataTable) return;\n",
       "\n",
       "          const docLinkHtml = 'Like what you see? Visit the ' +\n",
       "            '<a target=\"_blank\" href=https://colab.research.google.com/notebooks/data_table.ipynb>data table notebook</a>'\n",
       "            + ' to learn more about interactive tables.';\n",
       "          element.innerHTML = '';\n",
       "          dataTable['output_type'] = 'display_data';\n",
       "          await google.colab.output.renderOutput(dataTable, element);\n",
       "          const docLink = document.createElement('div');\n",
       "          docLink.innerHTML = docLinkHtml;\n",
       "          element.appendChild(docLink);\n",
       "        }\n",
       "      </script>\n",
       "    </div>\n",
       "  </div>\n",
       "  "
      ]
     },
     "metadata": {},
     "execution_count": 17
    }
   ]
  },
  {
   "cell_type": "markdown",
   "source": [
    "train_sessions_df: 17 months of data, from 1st Jan 2020 to 31st May 2021"
   ],
   "metadata": {
    "id": "yhKdCpXWbFwm",
    "pycharm": {
     "name": "#%% md\n"
    }
   }
  },
  {
   "cell_type": "code",
   "source": [
    "session_ids_sorted = np.sort(train_sessions_df['session_id'].unique())\n",
    "session_purchase_ids_sorted = np.sort(train_purchases_df['session_id'].unique())\n",
    "print(\"Session ids correspond: {}\".format((session_ids_sorted == session_purchase_ids_sorted).all()))\n",
    "session_ids_sorted, session_purchase_ids_sorted"
   ],
   "metadata": {
    "colab": {
     "base_uri": "https://localhost:8080/"
    },
    "id": "0mq0ndTYbD-j",
    "executionInfo": {
     "status": "ok",
     "timestamp": 1657728617714,
     "user_tz": -120,
     "elapsed": 368,
     "user": {
      "displayName": "Riccardo Pala",
      "userId": "14726583371054773727"
     }
    },
    "outputId": "0a7cc322-a648-4780-90e3-0020bdeade31",
    "pycharm": {
     "name": "#%%\n"
    }
   },
   "execution_count": 18,
   "outputs": [
    {
     "output_type": "stream",
     "name": "stdout",
     "text": [
      "Session ids correspond: True\n"
     ]
    },
    {
     "output_type": "execute_result",
     "data": {
      "text/plain": [
       "(array([      3,      13,      18, ..., 4439994, 4439999, 4440001]),\n",
       " array([      3,      13,      18, ..., 4439994, 4439999, 4440001]))"
      ]
     },
     "metadata": {},
     "execution_count": 18
    }
   ]
  },
  {
   "cell_type": "markdown",
   "source": [
    "Every session of train_sessions_df corresponds to a purchased item in train_purchases_df"
   ],
   "metadata": {
    "id": "GVii7OvBcvAT",
    "pycharm": {
     "name": "#%% md\n"
    }
   }
  },
  {
   "cell_type": "code",
   "source": [
    "train_sessions_sort_arr = np.array(train_sessions_df.sort_values('session_id'))\n",
    "train_purchases_sort_arr = np.array(train_purchases_df.sort_values('session_id'))\n",
    "\n",
    "train_sessions_idx = 0\n",
    "error = False\n",
    "\n",
    "for train_purchases_idx in range(len(train_purchases_sort_arr)):\n",
    "\n",
    "  # index 0 - session_id, index 1 - item_id, index 2 - date\n",
    "  while train_sessions_idx < len(train_sessions_sort_arr) and train_sessions_sort_arr[train_sessions_idx][0] == train_purchases_sort_arr[train_purchases_idx][0]:  # session\n",
    "\n",
    "    if train_sessions_sort_arr[train_sessions_idx][1] == train_purchases_sort_arr[train_purchases_idx][1]:  # item\n",
    "      print(\"Same item, error!\")\n",
    "      error = True\n",
    "\n",
    "    if train_sessions_sort_arr[train_sessions_idx][2] > train_purchases_sort_arr[train_purchases_idx][2]:  # date\n",
    "      print(\"Wrong purchase date, error!\")\n",
    "      error = True\n",
    "      \n",
    "    train_sessions_idx += 1\n",
    "\n",
    "if not error:\n",
    "  print(\"No errors!\")"
   ],
   "metadata": {
    "colab": {
     "base_uri": "https://localhost:8080/"
    },
    "id": "mFL2HpqNdDZB",
    "executionInfo": {
     "status": "ok",
     "timestamp": 1657728628369,
     "user_tz": -120,
     "elapsed": 10657,
     "user": {
      "displayName": "Riccardo Pala",
      "userId": "14726583371054773727"
     }
    },
    "outputId": "e883e149-2ec0-4358-f4ff-e959d5ddc142",
    "pycharm": {
     "name": "#%%\n"
    }
   },
   "execution_count": 19,
   "outputs": [
    {
     "output_type": "stream",
     "name": "stdout",
     "text": [
      "No errors!\n"
     ]
    }
   ]
  },
  {
   "cell_type": "markdown",
   "source": [
    "All purchased items are NOT in their corresponding session"
   ],
   "metadata": {
    "id": "E-V1SdQCdLBL",
    "pycharm": {
     "name": "#%% md\n"
    }
   }
  },
  {
   "cell_type": "markdown",
   "source": [
    "All purchased items have timestamp strictly larger than the corresponding views"
   ],
   "metadata": {
    "id": "RFRytNsIeZTB",
    "pycharm": {
     "name": "#%% md\n"
    }
   }
  },
  {
   "cell_type": "code",
   "source": [
    "test_leaderboard_sessions_df_sorted = test_leaderboard_sessions_df.sort_values('date')\n",
    "test_leaderboard_sessions_df_sorted"
   ],
   "metadata": {
    "colab": {
     "base_uri": "https://localhost:8080/",
     "height": 424
    },
    "id": "i4To9M9Df0Ae",
    "executionInfo": {
     "status": "ok",
     "timestamp": 1657728628729,
     "user_tz": -120,
     "elapsed": 363,
     "user": {
      "displayName": "Riccardo Pala",
      "userId": "14726583371054773727"
     }
    },
    "outputId": "bc8478b7-7347-4747-bcbd-3bbc6cda5a4d",
    "pycharm": {
     "name": "#%%\n"
    }
   },
   "execution_count": 20,
   "outputs": [
    {
     "output_type": "execute_result",
     "data": {
      "text/plain": [
       "        session_id  item_id                     date\n",
       "88990      1719459    18156  2021-06-01 00:01:01.019\n",
       "193239     3740715    12205  2021-06-01 00:01:36.571\n",
       "135216     2614780     8060  2021-06-01 00:01:36.689\n",
       "88991      1719459    21138  2021-06-01 00:01:37.836\n",
       "182243     3540851    23315  2021-06-01 00:02:28.161\n",
       "...            ...      ...                      ...\n",
       "26443       502146    12179  2021-06-30 23:47:57.863\n",
       "60446      1164531    25699  2021-06-30 23:48:34.124\n",
       "60447      1164531    19245  2021-06-30 23:48:41.642\n",
       "60448      1164531    17574  2021-06-30 23:48:51.731\n",
       "16496       304116    17089  2021-06-30 23:51:32.466\n",
       "\n",
       "[229354 rows x 3 columns]"
      ],
      "text/html": [
       "\n",
       "  <div id=\"df-92f336cd-defe-44db-b3c4-80b13494d48a\">\n",
       "    <div class=\"colab-df-container\">\n",
       "      <div>\n",
       "<style scoped>\n",
       "    .dataframe tbody tr th:only-of-type {\n",
       "        vertical-align: middle;\n",
       "    }\n",
       "\n",
       "    .dataframe tbody tr th {\n",
       "        vertical-align: top;\n",
       "    }\n",
       "\n",
       "    .dataframe thead th {\n",
       "        text-align: right;\n",
       "    }\n",
       "</style>\n",
       "<table border=\"1\" class=\"dataframe\">\n",
       "  <thead>\n",
       "    <tr style=\"text-align: right;\">\n",
       "      <th></th>\n",
       "      <th>session_id</th>\n",
       "      <th>item_id</th>\n",
       "      <th>date</th>\n",
       "    </tr>\n",
       "  </thead>\n",
       "  <tbody>\n",
       "    <tr>\n",
       "      <th>88990</th>\n",
       "      <td>1719459</td>\n",
       "      <td>18156</td>\n",
       "      <td>2021-06-01 00:01:01.019</td>\n",
       "    </tr>\n",
       "    <tr>\n",
       "      <th>193239</th>\n",
       "      <td>3740715</td>\n",
       "      <td>12205</td>\n",
       "      <td>2021-06-01 00:01:36.571</td>\n",
       "    </tr>\n",
       "    <tr>\n",
       "      <th>135216</th>\n",
       "      <td>2614780</td>\n",
       "      <td>8060</td>\n",
       "      <td>2021-06-01 00:01:36.689</td>\n",
       "    </tr>\n",
       "    <tr>\n",
       "      <th>88991</th>\n",
       "      <td>1719459</td>\n",
       "      <td>21138</td>\n",
       "      <td>2021-06-01 00:01:37.836</td>\n",
       "    </tr>\n",
       "    <tr>\n",
       "      <th>182243</th>\n",
       "      <td>3540851</td>\n",
       "      <td>23315</td>\n",
       "      <td>2021-06-01 00:02:28.161</td>\n",
       "    </tr>\n",
       "    <tr>\n",
       "      <th>...</th>\n",
       "      <td>...</td>\n",
       "      <td>...</td>\n",
       "      <td>...</td>\n",
       "    </tr>\n",
       "    <tr>\n",
       "      <th>26443</th>\n",
       "      <td>502146</td>\n",
       "      <td>12179</td>\n",
       "      <td>2021-06-30 23:47:57.863</td>\n",
       "    </tr>\n",
       "    <tr>\n",
       "      <th>60446</th>\n",
       "      <td>1164531</td>\n",
       "      <td>25699</td>\n",
       "      <td>2021-06-30 23:48:34.124</td>\n",
       "    </tr>\n",
       "    <tr>\n",
       "      <th>60447</th>\n",
       "      <td>1164531</td>\n",
       "      <td>19245</td>\n",
       "      <td>2021-06-30 23:48:41.642</td>\n",
       "    </tr>\n",
       "    <tr>\n",
       "      <th>60448</th>\n",
       "      <td>1164531</td>\n",
       "      <td>17574</td>\n",
       "      <td>2021-06-30 23:48:51.731</td>\n",
       "    </tr>\n",
       "    <tr>\n",
       "      <th>16496</th>\n",
       "      <td>304116</td>\n",
       "      <td>17089</td>\n",
       "      <td>2021-06-30 23:51:32.466</td>\n",
       "    </tr>\n",
       "  </tbody>\n",
       "</table>\n",
       "<p>229354 rows × 3 columns</p>\n",
       "</div>\n",
       "      <button class=\"colab-df-convert\" onclick=\"convertToInteractive('df-92f336cd-defe-44db-b3c4-80b13494d48a')\"\n",
       "              title=\"Convert this dataframe to an interactive table.\"\n",
       "              style=\"display:none;\">\n",
       "        \n",
       "  <svg xmlns=\"http://www.w3.org/2000/svg\" height=\"24px\"viewBox=\"0 0 24 24\"\n",
       "       width=\"24px\">\n",
       "    <path d=\"M0 0h24v24H0V0z\" fill=\"none\"/>\n",
       "    <path d=\"M18.56 5.44l.94 2.06.94-2.06 2.06-.94-2.06-.94-.94-2.06-.94 2.06-2.06.94zm-11 1L8.5 8.5l.94-2.06 2.06-.94-2.06-.94L8.5 2.5l-.94 2.06-2.06.94zm10 10l.94 2.06.94-2.06 2.06-.94-2.06-.94-.94-2.06-.94 2.06-2.06.94z\"/><path d=\"M17.41 7.96l-1.37-1.37c-.4-.4-.92-.59-1.43-.59-.52 0-1.04.2-1.43.59L10.3 9.45l-7.72 7.72c-.78.78-.78 2.05 0 2.83L4 21.41c.39.39.9.59 1.41.59.51 0 1.02-.2 1.41-.59l7.78-7.78 2.81-2.81c.8-.78.8-2.07 0-2.86zM5.41 20L4 18.59l7.72-7.72 1.47 1.35L5.41 20z\"/>\n",
       "  </svg>\n",
       "      </button>\n",
       "      \n",
       "  <style>\n",
       "    .colab-df-container {\n",
       "      display:flex;\n",
       "      flex-wrap:wrap;\n",
       "      gap: 12px;\n",
       "    }\n",
       "\n",
       "    .colab-df-convert {\n",
       "      background-color: #E8F0FE;\n",
       "      border: none;\n",
       "      border-radius: 50%;\n",
       "      cursor: pointer;\n",
       "      display: none;\n",
       "      fill: #1967D2;\n",
       "      height: 32px;\n",
       "      padding: 0 0 0 0;\n",
       "      width: 32px;\n",
       "    }\n",
       "\n",
       "    .colab-df-convert:hover {\n",
       "      background-color: #E2EBFA;\n",
       "      box-shadow: 0px 1px 2px rgba(60, 64, 67, 0.3), 0px 1px 3px 1px rgba(60, 64, 67, 0.15);\n",
       "      fill: #174EA6;\n",
       "    }\n",
       "\n",
       "    [theme=dark] .colab-df-convert {\n",
       "      background-color: #3B4455;\n",
       "      fill: #D2E3FC;\n",
       "    }\n",
       "\n",
       "    [theme=dark] .colab-df-convert:hover {\n",
       "      background-color: #434B5C;\n",
       "      box-shadow: 0px 1px 3px 1px rgba(0, 0, 0, 0.15);\n",
       "      filter: drop-shadow(0px 1px 2px rgba(0, 0, 0, 0.3));\n",
       "      fill: #FFFFFF;\n",
       "    }\n",
       "  </style>\n",
       "\n",
       "      <script>\n",
       "        const buttonEl =\n",
       "          document.querySelector('#df-92f336cd-defe-44db-b3c4-80b13494d48a button.colab-df-convert');\n",
       "        buttonEl.style.display =\n",
       "          google.colab.kernel.accessAllowed ? 'block' : 'none';\n",
       "\n",
       "        async function convertToInteractive(key) {\n",
       "          const element = document.querySelector('#df-92f336cd-defe-44db-b3c4-80b13494d48a');\n",
       "          const dataTable =\n",
       "            await google.colab.kernel.invokeFunction('convertToInteractive',\n",
       "                                                     [key], {});\n",
       "          if (!dataTable) return;\n",
       "\n",
       "          const docLinkHtml = 'Like what you see? Visit the ' +\n",
       "            '<a target=\"_blank\" href=https://colab.research.google.com/notebooks/data_table.ipynb>data table notebook</a>'\n",
       "            + ' to learn more about interactive tables.';\n",
       "          element.innerHTML = '';\n",
       "          dataTable['output_type'] = 'display_data';\n",
       "          await google.colab.output.renderOutput(dataTable, element);\n",
       "          const docLink = document.createElement('div');\n",
       "          docLink.innerHTML = docLinkHtml;\n",
       "          element.appendChild(docLink);\n",
       "        }\n",
       "      </script>\n",
       "    </div>\n",
       "  </div>\n",
       "  "
      ]
     },
     "metadata": {},
     "execution_count": 20
    }
   ]
  },
  {
   "cell_type": "markdown",
   "source": [
    "test_leaderboard_sessions_df: last month of data, from 1st Jun 2021 to 30th Jun 2021"
   ],
   "metadata": {
    "id": "jYT9whH7f696",
    "pycharm": {
     "name": "#%% md\n"
    }
   }
  },
  {
   "cell_type": "code",
   "source": [
    "np.isin(session_ids_leaderboard, session_ids_train).any()"
   ],
   "metadata": {
    "colab": {
     "base_uri": "https://localhost:8080/"
    },
    "id": "D_fKW0BLgByI",
    "executionInfo": {
     "status": "ok",
     "timestamp": 1657728628730,
     "user_tz": -120,
     "elapsed": 9,
     "user": {
      "displayName": "Riccardo Pala",
      "userId": "14726583371054773727"
     }
    },
    "outputId": "1290b646-e797-45b7-95f1-826b15e1a922",
    "pycharm": {
     "name": "#%%\n"
    }
   },
   "execution_count": 21,
   "outputs": [
    {
     "output_type": "execute_result",
     "data": {
      "text/plain": [
       "False"
      ]
     },
     "metadata": {},
     "execution_count": 21
    }
   ]
  },
  {
   "cell_type": "markdown",
   "source": [
    "No leaderboard test session id matches with a train session id"
   ],
   "metadata": {
    "id": "ucQURjCXgDd5",
    "pycharm": {
     "name": "#%% md\n"
    }
   }
  },
  {
   "cell_type": "code",
   "source": [
    "test_final_sessions_df_sorted = test_final_sessions_df.sort_values('date')\n",
    "test_final_sessions_df_sorted"
   ],
   "metadata": {
    "colab": {
     "base_uri": "https://localhost:8080/",
     "height": 424
    },
    "id": "Zv9ngSgGgUBr",
    "executionInfo": {
     "status": "ok",
     "timestamp": 1657728629000,
     "user_tz": -120,
     "elapsed": 276,
     "user": {
      "displayName": "Riccardo Pala",
      "userId": "14726583371054773727"
     }
    },
    "outputId": "db95c11c-8887-4b84-c9e2-e6de5e9b2269",
    "pycharm": {
     "name": "#%%\n"
    }
   },
   "execution_count": 22,
   "outputs": [
    {
     "output_type": "execute_result",
     "data": {
      "text/plain": [
       "        session_id  item_id                     date\n",
       "64022      1261706    25389  2021-06-01 00:00:09.399\n",
       "109254     2136231     4981   2021-06-01 00:00:16.52\n",
       "64023      1261706    21310  2021-06-01 00:00:31.451\n",
       "31384       621029    11226  2021-06-01 00:00:33.528\n",
       "121673     2377643    12901  2021-06-01 00:00:34.844\n",
       "...            ...      ...                      ...\n",
       "79023      1557119      366  2021-06-30 23:20:46.049\n",
       "47094       920628    13095  2021-06-30 23:20:59.132\n",
       "176665     3475398      289  2021-06-30 23:22:19.131\n",
       "54146      1051350    11693  2021-06-30 23:32:32.921\n",
       "54147      1051350    13243   2021-06-30 23:32:44.28\n",
       "\n",
       "[226138 rows x 3 columns]"
      ],
      "text/html": [
       "\n",
       "  <div id=\"df-5c79635e-146c-4691-99cd-35445ded6bad\">\n",
       "    <div class=\"colab-df-container\">\n",
       "      <div>\n",
       "<style scoped>\n",
       "    .dataframe tbody tr th:only-of-type {\n",
       "        vertical-align: middle;\n",
       "    }\n",
       "\n",
       "    .dataframe tbody tr th {\n",
       "        vertical-align: top;\n",
       "    }\n",
       "\n",
       "    .dataframe thead th {\n",
       "        text-align: right;\n",
       "    }\n",
       "</style>\n",
       "<table border=\"1\" class=\"dataframe\">\n",
       "  <thead>\n",
       "    <tr style=\"text-align: right;\">\n",
       "      <th></th>\n",
       "      <th>session_id</th>\n",
       "      <th>item_id</th>\n",
       "      <th>date</th>\n",
       "    </tr>\n",
       "  </thead>\n",
       "  <tbody>\n",
       "    <tr>\n",
       "      <th>64022</th>\n",
       "      <td>1261706</td>\n",
       "      <td>25389</td>\n",
       "      <td>2021-06-01 00:00:09.399</td>\n",
       "    </tr>\n",
       "    <tr>\n",
       "      <th>109254</th>\n",
       "      <td>2136231</td>\n",
       "      <td>4981</td>\n",
       "      <td>2021-06-01 00:00:16.52</td>\n",
       "    </tr>\n",
       "    <tr>\n",
       "      <th>64023</th>\n",
       "      <td>1261706</td>\n",
       "      <td>21310</td>\n",
       "      <td>2021-06-01 00:00:31.451</td>\n",
       "    </tr>\n",
       "    <tr>\n",
       "      <th>31384</th>\n",
       "      <td>621029</td>\n",
       "      <td>11226</td>\n",
       "      <td>2021-06-01 00:00:33.528</td>\n",
       "    </tr>\n",
       "    <tr>\n",
       "      <th>121673</th>\n",
       "      <td>2377643</td>\n",
       "      <td>12901</td>\n",
       "      <td>2021-06-01 00:00:34.844</td>\n",
       "    </tr>\n",
       "    <tr>\n",
       "      <th>...</th>\n",
       "      <td>...</td>\n",
       "      <td>...</td>\n",
       "      <td>...</td>\n",
       "    </tr>\n",
       "    <tr>\n",
       "      <th>79023</th>\n",
       "      <td>1557119</td>\n",
       "      <td>366</td>\n",
       "      <td>2021-06-30 23:20:46.049</td>\n",
       "    </tr>\n",
       "    <tr>\n",
       "      <th>47094</th>\n",
       "      <td>920628</td>\n",
       "      <td>13095</td>\n",
       "      <td>2021-06-30 23:20:59.132</td>\n",
       "    </tr>\n",
       "    <tr>\n",
       "      <th>176665</th>\n",
       "      <td>3475398</td>\n",
       "      <td>289</td>\n",
       "      <td>2021-06-30 23:22:19.131</td>\n",
       "    </tr>\n",
       "    <tr>\n",
       "      <th>54146</th>\n",
       "      <td>1051350</td>\n",
       "      <td>11693</td>\n",
       "      <td>2021-06-30 23:32:32.921</td>\n",
       "    </tr>\n",
       "    <tr>\n",
       "      <th>54147</th>\n",
       "      <td>1051350</td>\n",
       "      <td>13243</td>\n",
       "      <td>2021-06-30 23:32:44.28</td>\n",
       "    </tr>\n",
       "  </tbody>\n",
       "</table>\n",
       "<p>226138 rows × 3 columns</p>\n",
       "</div>\n",
       "      <button class=\"colab-df-convert\" onclick=\"convertToInteractive('df-5c79635e-146c-4691-99cd-35445ded6bad')\"\n",
       "              title=\"Convert this dataframe to an interactive table.\"\n",
       "              style=\"display:none;\">\n",
       "        \n",
       "  <svg xmlns=\"http://www.w3.org/2000/svg\" height=\"24px\"viewBox=\"0 0 24 24\"\n",
       "       width=\"24px\">\n",
       "    <path d=\"M0 0h24v24H0V0z\" fill=\"none\"/>\n",
       "    <path d=\"M18.56 5.44l.94 2.06.94-2.06 2.06-.94-2.06-.94-.94-2.06-.94 2.06-2.06.94zm-11 1L8.5 8.5l.94-2.06 2.06-.94-2.06-.94L8.5 2.5l-.94 2.06-2.06.94zm10 10l.94 2.06.94-2.06 2.06-.94-2.06-.94-.94-2.06-.94 2.06-2.06.94z\"/><path d=\"M17.41 7.96l-1.37-1.37c-.4-.4-.92-.59-1.43-.59-.52 0-1.04.2-1.43.59L10.3 9.45l-7.72 7.72c-.78.78-.78 2.05 0 2.83L4 21.41c.39.39.9.59 1.41.59.51 0 1.02-.2 1.41-.59l7.78-7.78 2.81-2.81c.8-.78.8-2.07 0-2.86zM5.41 20L4 18.59l7.72-7.72 1.47 1.35L5.41 20z\"/>\n",
       "  </svg>\n",
       "      </button>\n",
       "      \n",
       "  <style>\n",
       "    .colab-df-container {\n",
       "      display:flex;\n",
       "      flex-wrap:wrap;\n",
       "      gap: 12px;\n",
       "    }\n",
       "\n",
       "    .colab-df-convert {\n",
       "      background-color: #E8F0FE;\n",
       "      border: none;\n",
       "      border-radius: 50%;\n",
       "      cursor: pointer;\n",
       "      display: none;\n",
       "      fill: #1967D2;\n",
       "      height: 32px;\n",
       "      padding: 0 0 0 0;\n",
       "      width: 32px;\n",
       "    }\n",
       "\n",
       "    .colab-df-convert:hover {\n",
       "      background-color: #E2EBFA;\n",
       "      box-shadow: 0px 1px 2px rgba(60, 64, 67, 0.3), 0px 1px 3px 1px rgba(60, 64, 67, 0.15);\n",
       "      fill: #174EA6;\n",
       "    }\n",
       "\n",
       "    [theme=dark] .colab-df-convert {\n",
       "      background-color: #3B4455;\n",
       "      fill: #D2E3FC;\n",
       "    }\n",
       "\n",
       "    [theme=dark] .colab-df-convert:hover {\n",
       "      background-color: #434B5C;\n",
       "      box-shadow: 0px 1px 3px 1px rgba(0, 0, 0, 0.15);\n",
       "      filter: drop-shadow(0px 1px 2px rgba(0, 0, 0, 0.3));\n",
       "      fill: #FFFFFF;\n",
       "    }\n",
       "  </style>\n",
       "\n",
       "      <script>\n",
       "        const buttonEl =\n",
       "          document.querySelector('#df-5c79635e-146c-4691-99cd-35445ded6bad button.colab-df-convert');\n",
       "        buttonEl.style.display =\n",
       "          google.colab.kernel.accessAllowed ? 'block' : 'none';\n",
       "\n",
       "        async function convertToInteractive(key) {\n",
       "          const element = document.querySelector('#df-5c79635e-146c-4691-99cd-35445ded6bad');\n",
       "          const dataTable =\n",
       "            await google.colab.kernel.invokeFunction('convertToInteractive',\n",
       "                                                     [key], {});\n",
       "          if (!dataTable) return;\n",
       "\n",
       "          const docLinkHtml = 'Like what you see? Visit the ' +\n",
       "            '<a target=\"_blank\" href=https://colab.research.google.com/notebooks/data_table.ipynb>data table notebook</a>'\n",
       "            + ' to learn more about interactive tables.';\n",
       "          element.innerHTML = '';\n",
       "          dataTable['output_type'] = 'display_data';\n",
       "          await google.colab.output.renderOutput(dataTable, element);\n",
       "          const docLink = document.createElement('div');\n",
       "          docLink.innerHTML = docLinkHtml;\n",
       "          element.appendChild(docLink);\n",
       "        }\n",
       "      </script>\n",
       "    </div>\n",
       "  </div>\n",
       "  "
      ]
     },
     "metadata": {},
     "execution_count": 22
    }
   ]
  },
  {
   "cell_type": "markdown",
   "source": [
    "test_final_sessions_df: last month of data, from 1st Jun 2021 to 30th Jun 2021"
   ],
   "metadata": {
    "id": "OFnbwlFQhK9c",
    "pycharm": {
     "name": "#%% md\n"
    }
   }
  },
  {
   "cell_type": "markdown",
   "source": [
    "**Test sessions have been randomly splitted between leaderboard and final test datasets**"
   ],
   "metadata": {
    "id": "vDelfpoLhUwr",
    "pycharm": {
     "name": "#%% md\n"
    }
   }
  },
  {
   "cell_type": "code",
   "source": [
    "np.isin(session_ids_final, session_ids_train).any()"
   ],
   "metadata": {
    "colab": {
     "base_uri": "https://localhost:8080/"
    },
    "id": "L-MsP6sqhZlh",
    "executionInfo": {
     "status": "ok",
     "timestamp": 1657728629001,
     "user_tz": -120,
     "elapsed": 12,
     "user": {
      "displayName": "Riccardo Pala",
      "userId": "14726583371054773727"
     }
    },
    "outputId": "052d2ed7-dfd2-4876-dbdc-11b7eba4725f",
    "pycharm": {
     "name": "#%%\n"
    }
   },
   "execution_count": 23,
   "outputs": [
    {
     "output_type": "execute_result",
     "data": {
      "text/plain": [
       "False"
      ]
     },
     "metadata": {},
     "execution_count": 23
    }
   ]
  },
  {
   "cell_type": "code",
   "source": [
    "np.isin(session_ids_final, session_ids_leaderboard).any()"
   ],
   "metadata": {
    "colab": {
     "base_uri": "https://localhost:8080/"
    },
    "id": "DhLDxCQihdfR",
    "executionInfo": {
     "status": "ok",
     "timestamp": 1657728629003,
     "user_tz": -120,
     "elapsed": 12,
     "user": {
      "displayName": "Riccardo Pala",
      "userId": "14726583371054773727"
     }
    },
    "outputId": "e902c554-c05a-4a9a-80ed-c26468d2f08f",
    "pycharm": {
     "name": "#%%\n"
    }
   },
   "execution_count": 24,
   "outputs": [
    {
     "output_type": "execute_result",
     "data": {
      "text/plain": [
       "False"
      ]
     },
     "metadata": {},
     "execution_count": 24
    }
   ]
  },
  {
   "cell_type": "markdown",
   "source": [
    "No final test session id matches with a train session id or a test leaderboard session id"
   ],
   "metadata": {
    "id": "NvDB7Ox7hi7l",
    "pycharm": {
     "name": "#%% md\n"
    }
   }
  },
  {
   "cell_type": "code",
   "source": [
    "comp_item_ids = np.isin(item_ids_train, item_ids_features)\n",
    "len(comp_item_ids[comp_item_ids==False])"
   ],
   "metadata": {
    "colab": {
     "base_uri": "https://localhost:8080/"
    },
    "id": "oc8LmIAqit8a",
    "executionInfo": {
     "status": "ok",
     "timestamp": 1657728629004,
     "user_tz": -120,
     "elapsed": 11,
     "user": {
      "displayName": "Riccardo Pala",
      "userId": "14726583371054773727"
     }
    },
    "outputId": "1c087201-d230-4763-a8fc-1d16e27cc2ef",
    "pycharm": {
     "name": "#%%\n"
    }
   },
   "execution_count": 25,
   "outputs": [
    {
     "output_type": "execute_result",
     "data": {
      "text/plain": [
       "0"
      ]
     },
     "metadata": {},
     "execution_count": 25
    }
   ]
  },
  {
   "cell_type": "code",
   "source": [
    "comp_item_ids = np.isin(item_ids_purchases, item_ids_features)\n",
    "len(comp_item_ids[comp_item_ids==False])"
   ],
   "metadata": {
    "colab": {
     "base_uri": "https://localhost:8080/"
    },
    "id": "qaxyOfztjcMD",
    "executionInfo": {
     "status": "ok",
     "timestamp": 1657728629006,
     "user_tz": -120,
     "elapsed": 12,
     "user": {
      "displayName": "Riccardo Pala",
      "userId": "14726583371054773727"
     }
    },
    "outputId": "d071a797-4c27-433f-fa99-117aad346946",
    "pycharm": {
     "name": "#%%\n"
    }
   },
   "execution_count": 26,
   "outputs": [
    {
     "output_type": "execute_result",
     "data": {
      "text/plain": [
       "0"
      ]
     },
     "metadata": {},
     "execution_count": 26
    }
   ]
  },
  {
   "cell_type": "code",
   "source": [
    "comp_item_ids = np.isin(item_ids_leaderboard, item_ids_features)\n",
    "len(comp_item_ids[comp_item_ids==False])"
   ],
   "metadata": {
    "colab": {
     "base_uri": "https://localhost:8080/"
    },
    "id": "k1G48_HI373E",
    "executionInfo": {
     "status": "ok",
     "timestamp": 1657728629246,
     "user_tz": -120,
     "elapsed": 251,
     "user": {
      "displayName": "Riccardo Pala",
      "userId": "14726583371054773727"
     }
    },
    "outputId": "faac077e-3b7d-4ed4-dc94-5a0fd3757bc4",
    "pycharm": {
     "name": "#%%\n"
    }
   },
   "execution_count": 27,
   "outputs": [
    {
     "output_type": "execute_result",
     "data": {
      "text/plain": [
       "0"
      ]
     },
     "metadata": {},
     "execution_count": 27
    }
   ]
  },
  {
   "cell_type": "code",
   "source": [
    "comp_item_ids = np.isin(item_ids_final, item_ids_features)\n",
    "len(comp_item_ids[comp_item_ids==False])"
   ],
   "metadata": {
    "colab": {
     "base_uri": "https://localhost:8080/"
    },
    "id": "c56mHMSx4GRx",
    "executionInfo": {
     "status": "ok",
     "timestamp": 1657728629247,
     "user_tz": -120,
     "elapsed": 10,
     "user": {
      "displayName": "Riccardo Pala",
      "userId": "14726583371054773727"
     }
    },
    "outputId": "b7c36acc-8b17-4b6d-8271-11977cc5bd9f",
    "pycharm": {
     "name": "#%%\n"
    }
   },
   "execution_count": 28,
   "outputs": [
    {
     "output_type": "execute_result",
     "data": {
      "text/plain": [
       "0"
      ]
     },
     "metadata": {},
     "execution_count": 28
    }
   ]
  },
  {
   "cell_type": "code",
   "source": [
    "comp_item_ids = np.isin(items_ids_candidate, item_ids_features)\n",
    "len(comp_item_ids[comp_item_ids==False])"
   ],
   "metadata": {
    "colab": {
     "base_uri": "https://localhost:8080/"
    },
    "id": "7agUhskh4JuW",
    "executionInfo": {
     "status": "ok",
     "timestamp": 1657728629247,
     "user_tz": -120,
     "elapsed": 7,
     "user": {
      "displayName": "Riccardo Pala",
      "userId": "14726583371054773727"
     }
    },
    "outputId": "bf69a1b6-d109-427f-802b-e57b34d878d4",
    "pycharm": {
     "name": "#%%\n"
    }
   },
   "execution_count": 29,
   "outputs": [
    {
     "output_type": "execute_result",
     "data": {
      "text/plain": [
       "0"
      ]
     },
     "metadata": {},
     "execution_count": 29
    }
   ]
  },
  {
   "cell_type": "markdown",
   "source": [
    "Items of all dataframes have content data"
   ],
   "metadata": {
    "id": "SHhWi_Hgji6Q",
    "pycharm": {
     "name": "#%% md\n"
    }
   }
  },
  {
   "cell_type": "markdown",
   "source": [
    "## **Features Analysis**"
   ],
   "metadata": {
    "id": "jUGVtru_kXEX",
    "pycharm": {
     "name": "#%% md\n"
    }
   }
  },
  {
   "cell_type": "code",
   "source": [
    "feature_category_groupby = item_features_df.groupby(['feature_category_id'])\n",
    "feature_value_groupby = item_features_df.groupby(['feature_value_id'])\n",
    "\n",
    "print('Number of Feature Categories: {}'.format(len(feature_category_groupby)))\n",
    "print('Number of Feature Values: {}'.format(len(feature_value_groupby)))"
   ],
   "metadata": {
    "colab": {
     "base_uri": "https://localhost:8080/"
    },
    "id": "w3sjSm8tkbAU",
    "executionInfo": {
     "status": "ok",
     "timestamp": 1657728629247,
     "user_tz": -120,
     "elapsed": 6,
     "user": {
      "displayName": "Riccardo Pala",
      "userId": "14726583371054773727"
     }
    },
    "outputId": "dab3049b-602e-4d85-bf1a-2232ab6e4867",
    "pycharm": {
     "name": "#%%\n"
    }
   },
   "execution_count": 30,
   "outputs": [
    {
     "output_type": "stream",
     "name": "stdout",
     "text": [
      "Number of Feature Categories: 73\n",
      "Number of Feature Values: 890\n"
     ]
    }
   ]
  },
  {
   "cell_type": "markdown",
   "metadata": {
    "id": "oAA5B-Jco6Kx",
    "pycharm": {
     "name": "#%% md\n"
    }
   },
   "source": [
    "### Items distribution over Feature Categories"
   ]
  },
  {
   "cell_type": "code",
   "execution_count": 31,
   "metadata": {
    "executionInfo": {
     "elapsed": 6,
     "status": "ok",
     "timestamp": 1657728629247,
     "user": {
      "displayName": "Riccardo Pala",
      "userId": "14726583371054773727"
     },
     "user_tz": -120
    },
    "id": "f1NH-8_uWd4-",
    "pycharm": {
     "name": "#%%\n"
    }
   },
   "outputs": [],
   "source": [
    "category_itemcount = item_features_df[['item_id', 'feature_category_id']].drop_duplicates().groupby(['feature_category_id']).count()\n",
    "category_itemcount.rename(columns={\"item_id\": \"item_count\"}, inplace=True)"
   ]
  },
  {
   "cell_type": "code",
   "execution_count": 32,
   "metadata": {
    "colab": {
     "base_uri": "https://localhost:8080/",
     "height": 445
    },
    "executionInfo": {
     "elapsed": 968,
     "status": "ok",
     "timestamp": 1657728630210,
     "user": {
      "displayName": "Riccardo Pala",
      "userId": "14726583371054773727"
     },
     "user_tz": -120
    },
    "id": "UJXJnJLnlUZD",
    "outputId": "2b83408d-67e4-4a08-d367-b69ddd26ebd0",
    "pycharm": {
     "name": "#%%\n"
    }
   },
   "outputs": [
    {
     "output_type": "display_data",
     "data": {
      "text/plain": [
       "<Figure size 1728x504 with 1 Axes>"
      ],
      "image/png": "[encoded data removed]"
     },
     "metadata": {
      "needs_background": "light"
     }
    }
   ],
   "source": [
    "sorted_category_itemcount = category_itemcount['item_count'].sort_values(ascending=False)\n",
    "\n",
    "sorted_category_itemcount.plot(kind='bar', figsize=(24,7))\n",
    "plt.xlabel('Feature Category IDs')\n",
    "plt.ylabel('Number of Items per Feature Category')\n",
    "plt.show()"
   ]
  },
  {
   "cell_type": "markdown",
   "metadata": {
    "id": "sGW-zFSwsh2Q",
    "pycharm": {
     "name": "#%% md\n"
    }
   },
   "source": [
    "### Feature Values distribution over Feature Categories"
   ]
  },
  {
   "cell_type": "code",
   "execution_count": 33,
   "metadata": {
    "executionInfo": {
     "elapsed": 4,
     "status": "ok",
     "timestamp": 1657728630211,
     "user": {
      "displayName": "Riccardo Pala",
      "userId": "14726583371054773727"
     },
     "user_tz": -120
    },
    "id": "3uUs-_0Csm-m",
    "pycharm": {
     "name": "#%%\n"
    }
   },
   "outputs": [],
   "source": [
    "category_valuecount = item_features_df[['feature_category_id', 'feature_value_id']].drop_duplicates().groupby(['feature_category_id']).count()\n",
    "category_valuecount.rename(columns={\"feature_value_id\": \"feature_value_count\"}, inplace=True)"
   ]
  },
  {
   "cell_type": "code",
   "execution_count": 34,
   "metadata": {
    "colab": {
     "base_uri": "https://localhost:8080/",
     "height": 447
    },
    "executionInfo": {
     "elapsed": 858,
     "status": "ok",
     "timestamp": 1657728631066,
     "user": {
      "displayName": "Riccardo Pala",
      "userId": "14726583371054773727"
     },
     "user_tz": -120
    },
    "id": "TQyeJiWR6pUf",
    "outputId": "742aad87-8ed8-4c48-d2d5-0e66ad03151d",
    "pycharm": {
     "name": "#%%\n"
    }
   },
   "outputs": [
    {
     "output_type": "display_data",
     "data": {
      "text/plain": [
       "<Figure size 1728x504 with 1 Axes>"
      ],
      "image/png": "[encoded data removed]"
     },
     "metadata": {
      "needs_background": "light"
     }
    }
   ],
   "source": [
    "sorted_category_valuecount = category_valuecount['feature_value_count'].sort_values(ascending=False)\n",
    "\n",
    "sorted_category_valuecount.plot(kind='bar', figsize=(24,7))\n",
    "plt.xlabel('Feature Category IDs')\n",
    "plt.ylabel('Number of Distinct Possible Values per Feature Category')\n",
    "plt.show()"
   ]
  },
  {
   "cell_type": "markdown",
   "metadata": {
    "id": "0qVs0WvkrSp5",
    "pycharm": {
     "name": "#%% md\n"
    }
   },
   "source": [
    "### Items distribution over Feature Values"
   ]
  },
  {
   "cell_type": "code",
   "execution_count": 35,
   "metadata": {
    "executionInfo": {
     "elapsed": 4,
     "status": "ok",
     "timestamp": 1657728631067,
     "user": {
      "displayName": "Riccardo Pala",
      "userId": "14726583371054773727"
     },
     "user_tz": -120
    },
    "id": "oBsOJwQmo1AE",
    "pycharm": {
     "name": "#%%\n"
    }
   },
   "outputs": [],
   "source": [
    "value_itemcount = item_features_df[['item_id', 'feature_value_id']].drop_duplicates().groupby(['feature_value_id']).count()\n",
    "value_itemcount.rename(columns={\"item_id\": \"item_count\"}, inplace=True)"
   ]
  },
  {
   "cell_type": "code",
   "execution_count": 36,
   "metadata": {
    "colab": {
     "base_uri": "https://localhost:8080/",
     "height": 452
    },
    "executionInfo": {
     "elapsed": 1034,
     "status": "ok",
     "timestamp": 1657728632098,
     "user": {
      "displayName": "Riccardo Pala",
      "userId": "14726583371054773727"
     },
     "user_tz": -120
    },
    "id": "2izId-ezra4C",
    "outputId": "74aa15db-868d-4376-8766-8f5548fe9c21",
    "pycharm": {
     "name": "#%%\n"
    }
   },
   "outputs": [
    {
     "output_type": "display_data",
     "data": {
      "text/plain": [
       "<Figure size 1728x504 with 1 Axes>"
      ],
      "image/png": "[encoded data removed]"
     },
     "metadata": {
      "needs_background": "light"
     }
    }
   ],
   "source": [
    "sorted_value_itemcount = value_itemcount['item_count'].sort_values(ascending=False)\n",
    "\n",
    "sorted_value_itemcount[:100].plot(kind='bar', figsize=(24,7))\n",
    "plt.xlabel('Feature Value IDs')\n",
    "plt.ylabel('Number of Items per Feature Value')\n",
    "plt.show()"
   ]
  },
  {
   "cell_type": "markdown",
   "source": [
    "Note: only the first 100 values are shown"
   ],
   "metadata": {
    "id": "vIi9i0UMmqQR",
    "pycharm": {
     "name": "#%% md\n"
    }
   }
  },
  {
   "cell_type": "markdown",
   "metadata": {
    "id": "ygM3oCV8cy7Z",
    "pycharm": {
     "name": "#%% md\n"
    }
   },
   "source": [
    "### Feature Categories distribution over Items"
   ]
  },
  {
   "cell_type": "code",
   "execution_count": 37,
   "metadata": {
    "executionInfo": {
     "elapsed": 9,
     "status": "ok",
     "timestamp": 1657728632099,
     "user": {
      "displayName": "Riccardo Pala",
      "userId": "14726583371054773727"
     },
     "user_tz": -120
    },
    "id": "q3TbASSrc9s8",
    "pycharm": {
     "name": "#%%\n"
    }
   },
   "outputs": [],
   "source": [
    "value_categorycount = item_features_df[['item_id', 'feature_category_id']].drop_duplicates().groupby(['item_id']).count()\n",
    "value_categorycount.rename(columns={\"feature_category_id\": \"feature_category_count\"}, inplace=True)"
   ]
  },
  {
   "cell_type": "code",
   "execution_count": 38,
   "metadata": {
    "colab": {
     "base_uri": "https://localhost:8080/"
    },
    "executionInfo": {
     "elapsed": 8,
     "status": "ok",
     "timestamp": 1657728632099,
     "user": {
      "displayName": "Riccardo Pala",
      "userId": "14726583371054773727"
     },
     "user_tz": -120
    },
    "id": "YjSX3jgZfXcQ",
    "outputId": "edc8be43-7b3e-4228-b9cf-a3be69198633",
    "pycharm": {
     "name": "#%%\n"
    }
   },
   "outputs": [
    {
     "output_type": "stream",
     "name": "stdout",
     "text": [
      "Max number of feature categories per item: 27\n",
      "Min number of feature categories per item: 2\n",
      "Average number of feature categories per item: 19\n",
      "Median number of feature categories per item: 20\n"
     ]
    }
   ],
   "source": [
    "sorted_value_categorycount = value_categorycount['feature_category_count'].sort_values(ascending=False)\n",
    "\n",
    "print('Max number of feature categories per item: {}'.format(max(value_categorycount['feature_category_count'])))\n",
    "print('Min number of feature categories per item: {}'.format(min(value_categorycount['feature_category_count'])))\n",
    "print('Average number of feature categories per item: {}'.format(round(np.average(value_categorycount['feature_category_count']))))\n",
    "print('Median number of feature categories per item: {}'.format(sorted_value_categorycount[int(len(sorted_value_categorycount) / 2)]))"
   ]
  },
  {
   "cell_type": "code",
   "execution_count": 39,
   "metadata": {
    "colab": {
     "base_uri": "https://localhost:8080/",
     "height": 464
    },
    "executionInfo": {
     "elapsed": 1244,
     "status": "ok",
     "timestamp": 1657728633339,
     "user": {
      "displayName": "Riccardo Pala",
      "userId": "14726583371054773727"
     },
     "user_tz": -120
    },
    "id": "esjiDRleeGk9",
    "outputId": "e0c30553-bf2e-418b-f595-0100e9167c64",
    "pycharm": {
     "name": "#%%\n"
    }
   },
   "outputs": [
    {
     "output_type": "display_data",
     "data": {
      "text/plain": [
       "<Figure size 1728x504 with 1 Axes>"
      ],
      "image/png": "[encoded data removed]"
     },
     "metadata": {
      "needs_background": "light"
     }
    }
   ],
   "source": [
    "sorted_value_categorycount[:100].plot(kind='bar', figsize=(24,7))\n",
    "plt.xlabel('Item IDs')\n",
    "plt.ylabel('Number of Feature Categories per Item')\n",
    "plt.show()"
   ]
  },
  {
   "cell_type": "markdown",
   "source": [
    "Note: only the first 100 values are shown"
   ],
   "metadata": {
    "id": "mIN0y8sbnDpt",
    "pycharm": {
     "name": "#%% md\n"
    }
   }
  },
  {
   "cell_type": "markdown",
   "metadata": {
    "id": "lRMxTYD0AVxk",
    "pycharm": {
     "name": "#%% md\n"
    }
   },
   "source": [
    "### Multi-category Value IDs"
   ]
  },
  {
   "cell_type": "code",
   "execution_count": 40,
   "metadata": {
    "colab": {
     "base_uri": "https://localhost:8080/"
    },
    "executionInfo": {
     "elapsed": 11,
     "status": "ok",
     "timestamp": 1657728633340,
     "user": {
      "displayName": "Riccardo Pala",
      "userId": "14726583371054773727"
     },
     "user_tz": -120
    },
    "id": "QxyTy_ViAaSP",
    "outputId": "e59afa52-3470-4639-dab5-bfa7e98b936d",
    "pycharm": {
     "name": "#%%\n"
    }
   },
   "outputs": [
    {
     "output_type": "stream",
     "name": "stdout",
     "text": [
      "Some Value-IDs are multi-category\n"
     ]
    }
   ],
   "source": [
    "category_value_df = item_features_df[['feature_category_id', 'feature_value_id']].drop_duplicates()\n",
    "\n",
    "# If the feature_value_id column has some repeated values, it means that a single value-id can be associated to different feature categories\n",
    "\n",
    "if not category_value_df['feature_value_id'].is_unique:\n",
    "  print('Some Value-IDs are multi-category')"
   ]
  },
  {
   "cell_type": "code",
   "source": [
    "multi_category_value_ids = category_value_df[category_value_df['feature_value_id'].duplicated()]['feature_value_id'].values\n",
    "multi_category_value_ids"
   ],
   "metadata": {
    "colab": {
     "base_uri": "https://localhost:8080/"
    },
    "id": "mPlkZ2JIn5E3",
    "executionInfo": {
     "status": "ok",
     "timestamp": 1657728633340,
     "user_tz": -120,
     "elapsed": 8,
     "user": {
      "displayName": "Riccardo Pala",
      "userId": "14726583371054773727"
     }
    },
    "outputId": "ac9743c4-481d-4bcc-9359-b4f31c119e22",
    "pycharm": {
     "name": "#%%\n"
    }
   },
   "execution_count": 41,
   "outputs": [
    {
     "output_type": "execute_result",
     "data": {
      "text/plain": [
       "array([123,  96, 194,  36, 418, 541,  32, 752, 273, 439, 400,  39, 184,\n",
       "       164])"
      ]
     },
     "metadata": {},
     "execution_count": 41
    }
   ]
  },
  {
   "cell_type": "code",
   "source": [
    "print(\"There are {} multi-category value IDs\".format(len(multi_category_value_ids)))"
   ],
   "metadata": {
    "colab": {
     "base_uri": "https://localhost:8080/"
    },
    "id": "oFElKgk-oMXF",
    "executionInfo": {
     "status": "ok",
     "timestamp": 1657728633340,
     "user_tz": -120,
     "elapsed": 7,
     "user": {
      "displayName": "Riccardo Pala",
      "userId": "14726583371054773727"
     }
    },
    "outputId": "a118444c-779a-45ce-df8e-9e5d7dd3fde7",
    "pycharm": {
     "name": "#%%\n"
    }
   },
   "execution_count": 42,
   "outputs": [
    {
     "output_type": "stream",
     "name": "stdout",
     "text": [
      "There are 14 multi-category value IDs\n"
     ]
    }
   ]
  },
  {
   "cell_type": "markdown",
   "metadata": {
    "id": "jAm_0l07U6nd",
    "pycharm": {
     "name": "#%% md\n"
    }
   },
   "source": [
    "### Items with Features but without Interactions"
   ]
  },
  {
   "cell_type": "code",
   "execution_count": 43,
   "metadata": {
    "colab": {
     "base_uri": "https://localhost:8080/"
    },
    "executionInfo": {
     "elapsed": 7,
     "status": "ok",
     "timestamp": 1657728633341,
     "user": {
      "displayName": "Riccardo Pala",
      "userId": "14726583371054773727"
     },
     "user_tz": -120
    },
    "id": "wuNR0lfZVqKH",
    "outputId": "a3aaa26b-1988-4e97-be1a-e92960c7959a",
    "pycharm": {
     "name": "#%%\n"
    }
   },
   "outputs": [
    {
     "output_type": "execute_result",
     "data": {
      "text/plain": [
       "(array([    2,     3,     4, ..., 28141, 28142, 28143]), 23691)"
      ]
     },
     "metadata": {},
     "execution_count": 43
    }
   ],
   "source": [
    "item_features_arr = item_features_df['item_id'].unique()\n",
    "item_features_arr, len(item_features_arr)"
   ]
  },
  {
   "cell_type": "code",
   "execution_count": 44,
   "metadata": {
    "id": "XqpnR9s9a5Hb",
    "executionInfo": {
     "status": "ok",
     "timestamp": 1657728633341,
     "user_tz": -120,
     "elapsed": 7,
     "user": {
      "displayName": "Riccardo Pala",
      "userId": "14726583371054773727"
     }
    },
    "pycharm": {
     "name": "#%%\n"
    }
   },
   "outputs": [],
   "source": [
    "train_item_ids = train_sessions_df['item_id'].unique()\n",
    "train_purchases_item_ids = train_purchases_df['item_id'].unique()\n",
    "leaderboard_item_ids = test_leaderboard_sessions_df['item_id'].unique()\n",
    "final_item_ids = test_final_sessions_df['item_id'].unique()\n",
    "candidate_item_ids = candidate_items_df['item_id'].unique()"
   ]
  },
  {
   "cell_type": "code",
   "execution_count": 45,
   "metadata": {
    "colab": {
     "base_uri": "https://localhost:8080/"
    },
    "executionInfo": {
     "elapsed": 6,
     "status": "ok",
     "timestamp": 1657728633341,
     "user": {
      "displayName": "Riccardo Pala",
      "userId": "14726583371054773727"
     },
     "user_tz": -120
    },
    "id": "rZTd1vY0b-6M",
    "outputId": "a03ba562-6a0b-4cab-95b2-f537b1b4e9eb",
    "pycharm": {
     "name": "#%%\n"
    }
   },
   "outputs": [
    {
     "output_type": "execute_result",
     "data": {
      "text/plain": [
       "(array([ 8814, 17576, 20237, 26201]), 4)"
      ]
     },
     "metadata": {},
     "execution_count": 45
    }
   ],
   "source": [
    "items_no_interactions = item_features_arr[~np.isin(item_features_arr, train_item_ids)]\n",
    "items_no_interactions = items_no_interactions[~np.isin(items_no_interactions, train_purchases_item_ids)]\n",
    "items_no_interactions = items_no_interactions[~np.isin(items_no_interactions, leaderboard_item_ids)]\n",
    "items_no_interactions = items_no_interactions[~np.isin(items_no_interactions, final_item_ids)]\n",
    "items_no_interactions, len(items_no_interactions)"
   ]
  },
  {
   "cell_type": "markdown",
   "metadata": {
    "id": "cN4veDy8hs9w",
    "pycharm": {
     "name": "#%% md\n"
    }
   },
   "source": [
    "Only 4 items have no interactions in the entire dataset (less than 0.02% of total items)"
   ]
  },
  {
   "cell_type": "markdown",
   "source": [
    "## **Session Analysis**"
   ],
   "metadata": {
    "id": "4JqYd_XeyGTG",
    "pycharm": {
     "name": "#%% md\n"
    }
   }
  },
  {
   "cell_type": "markdown",
   "source": [
    "### Sessions with multiple-viewed items"
   ],
   "metadata": {
    "id": "bjBnyHob7e3N",
    "pycharm": {
     "name": "#%% md\n"
    }
   }
  },
  {
   "cell_type": "code",
   "source": [
    "train_sessions_with_duplicates = train_sessions_df[train_sessions_df.duplicated(['session_id', 'item_id'])]['session_id'].unique()\n",
    "print(len(train_sessions_with_duplicates)/train_sessions_df['session_id'].nunique() * 100)"
   ],
   "metadata": {
    "colab": {
     "base_uri": "https://localhost:8080/"
    },
    "id": "FXyDUeW-1LWV",
    "executionInfo": {
     "status": "ok",
     "timestamp": 1657728634482,
     "user_tz": -120,
     "elapsed": 1147,
     "user": {
      "displayName": "Riccardo Pala",
      "userId": "14726583371054773727"
     }
    },
    "outputId": "501154cc-5e36-4172-d9dd-11ebdff6b17f",
    "pycharm": {
     "name": "#%%\n"
    }
   },
   "execution_count": 46,
   "outputs": [
    {
     "output_type": "stream",
     "name": "stdout",
     "text": [
      "28.4972\n"
     ]
    }
   ]
  },
  {
   "cell_type": "markdown",
   "source": [
    "About 28% of the train sessions have multiple views with the same items"
   ],
   "metadata": {
    "id": "YOdy7yF06Ocb",
    "pycharm": {
     "name": "#%% md\n"
    }
   }
  },
  {
   "cell_type": "code",
   "source": [
    "lb_sessions_with_duplicates = test_leaderboard_sessions_df[test_leaderboard_sessions_df.duplicated(['session_id', 'item_id'])]['session_id'].unique()\n",
    "print(len(lb_sessions_with_duplicates)/test_leaderboard_sessions_df['session_id'].nunique() * 100)"
   ],
   "metadata": {
    "colab": {
     "base_uri": "https://localhost:8080/"
    },
    "id": "Tj6Dxlt36ePa",
    "executionInfo": {
     "status": "ok",
     "timestamp": 1657728634483,
     "user_tz": -120,
     "elapsed": 7,
     "user": {
      "displayName": "Riccardo Pala",
      "userId": "14726583371054773727"
     }
    },
    "outputId": "0c900ced-6109-451f-d6b7-6038e2511a5d",
    "pycharm": {
     "name": "#%%\n"
    }
   },
   "execution_count": 47,
   "outputs": [
    {
     "output_type": "stream",
     "name": "stdout",
     "text": [
      "33.454\n"
     ]
    }
   ]
  },
  {
   "cell_type": "markdown",
   "source": [
    "About 33% of the test leaderboard sessions have multiple views with the same items"
   ],
   "metadata": {
    "id": "7LHEWwSW6n3X",
    "pycharm": {
     "name": "#%% md\n"
    }
   }
  },
  {
   "cell_type": "code",
   "source": [
    "fin_sessions_with_duplicates = test_final_sessions_df[test_final_sessions_df.duplicated(['session_id', 'item_id'])]['session_id'].unique()\n",
    "print(len(fin_sessions_with_duplicates)/test_final_sessions_df['session_id'].nunique() * 100)"
   ],
   "metadata": {
    "colab": {
     "base_uri": "https://localhost:8080/"
    },
    "id": "hwU6GYWj6p-9",
    "executionInfo": {
     "status": "ok",
     "timestamp": 1657728634483,
     "user_tz": -120,
     "elapsed": 5,
     "user": {
      "displayName": "Riccardo Pala",
      "userId": "14726583371054773727"
     }
    },
    "outputId": "92c4b3fb-1a6a-40c5-e8e7-c1279ea6d597",
    "pycharm": {
     "name": "#%%\n"
    }
   },
   "execution_count": 48,
   "outputs": [
    {
     "output_type": "stream",
     "name": "stdout",
     "text": [
      "33.116\n"
     ]
    }
   ]
  },
  {
   "cell_type": "markdown",
   "source": [
    "About 33% of the test final sessions have multiple views with the same items"
   ],
   "metadata": {
    "id": "B9XHik-C685H",
    "pycharm": {
     "name": "#%% md\n"
    }
   }
  },
  {
   "cell_type": "markdown",
   "source": [
    "### Session length"
   ],
   "metadata": {
    "id": "T3Nl5_lo7lBs",
    "pycharm": {
     "name": "#%% md\n"
    }
   }
  },
  {
   "cell_type": "markdown",
   "source": [
    "**Train sessions**"
   ],
   "metadata": {
    "id": "PGsTjv9G6_6Z",
    "pycharm": {
     "name": "#%% md\n"
    }
   }
  },
  {
   "cell_type": "code",
   "source": [
    "train_sessions_length = train_sessions_df.groupby('session_id').count().reset_index()\n",
    "train_sessions_length = train_sessions_length.drop('date', 1)\n",
    "train_sessions_length.columns = ['session_id', 'length']\n",
    "train_sessions_length = train_sessions_length.sort_values(by='length', ascending=False)\n",
    "\n",
    "train_sessions_length"
   ],
   "metadata": {
    "colab": {
     "base_uri": "https://localhost:8080/",
     "height": 478
    },
    "id": "wqhliJpm7n0Z",
    "executionInfo": {
     "status": "ok",
     "timestamp": 1657728635333,
     "user_tz": -120,
     "elapsed": 854,
     "user": {
      "displayName": "Riccardo Pala",
      "userId": "14726583371054773727"
     }
    },
    "outputId": "6bb35fdd-022b-4be0-c5b3-e7e2a0ec4b53",
    "pycharm": {
     "name": "#%%\n"
    }
   },
   "execution_count": 49,
   "outputs": [
    {
     "output_type": "stream",
     "name": "stderr",
     "text": [
      "/usr/local/lib/python3.7/dist-packages/ipykernel_launcher.py:2: FutureWarning: In a future version of pandas all arguments of DataFrame.drop except for the argument 'labels' will be keyword-only\n",
      "  \n"
     ]
    },
    {
     "output_type": "execute_result",
     "data": {
      "text/plain": [
       "        session_id  length\n",
       "836726     3715268     100\n",
       "12190        54433     100\n",
       "204926      913190     100\n",
       "68427       305141     100\n",
       "690587     3067101     100\n",
       "...            ...     ...\n",
       "745835     3311121       1\n",
       "364451     1619540       1\n",
       "745832     3311099       1\n",
       "364464     1619592       1\n",
       "500000     2220270       1\n",
       "\n",
       "[1000000 rows x 2 columns]"
      ],
      "text/html": [
       "\n",
       "  <div id=\"df-317d243e-def0-4703-8760-2771916bae60\">\n",
       "    <div class=\"colab-df-container\">\n",
       "      <div>\n",
       "<style scoped>\n",
       "    .dataframe tbody tr th:only-of-type {\n",
       "        vertical-align: middle;\n",
       "    }\n",
       "\n",
       "    .dataframe tbody tr th {\n",
       "        vertical-align: top;\n",
       "    }\n",
       "\n",
       "    .dataframe thead th {\n",
       "        text-align: right;\n",
       "    }\n",
       "</style>\n",
       "<table border=\"1\" class=\"dataframe\">\n",
       "  <thead>\n",
       "    <tr style=\"text-align: right;\">\n",
       "      <th></th>\n",
       "      <th>session_id</th>\n",
       "      <th>length</th>\n",
       "    </tr>\n",
       "  </thead>\n",
       "  <tbody>\n",
       "    <tr>\n",
       "      <th>836726</th>\n",
       "      <td>3715268</td>\n",
       "      <td>100</td>\n",
       "    </tr>\n",
       "    <tr>\n",
       "      <th>12190</th>\n",
       "      <td>54433</td>\n",
       "      <td>100</td>\n",
       "    </tr>\n",
       "    <tr>\n",
       "      <th>204926</th>\n",
       "      <td>913190</td>\n",
       "      <td>100</td>\n",
       "    </tr>\n",
       "    <tr>\n",
       "      <th>68427</th>\n",
       "      <td>305141</td>\n",
       "      <td>100</td>\n",
       "    </tr>\n",
       "    <tr>\n",
       "      <th>690587</th>\n",
       "      <td>3067101</td>\n",
       "      <td>100</td>\n",
       "    </tr>\n",
       "    <tr>\n",
       "      <th>...</th>\n",
       "      <td>...</td>\n",
       "      <td>...</td>\n",
       "    </tr>\n",
       "    <tr>\n",
       "      <th>745835</th>\n",
       "      <td>3311121</td>\n",
       "      <td>1</td>\n",
       "    </tr>\n",
       "    <tr>\n",
       "      <th>364451</th>\n",
       "      <td>1619540</td>\n",
       "      <td>1</td>\n",
       "    </tr>\n",
       "    <tr>\n",
       "      <th>745832</th>\n",
       "      <td>3311099</td>\n",
       "      <td>1</td>\n",
       "    </tr>\n",
       "    <tr>\n",
       "      <th>364464</th>\n",
       "      <td>1619592</td>\n",
       "      <td>1</td>\n",
       "    </tr>\n",
       "    <tr>\n",
       "      <th>500000</th>\n",
       "      <td>2220270</td>\n",
       "      <td>1</td>\n",
       "    </tr>\n",
       "  </tbody>\n",
       "</table>\n",
       "<p>1000000 rows × 2 columns</p>\n",
       "</div>\n",
       "      <button class=\"colab-df-convert\" onclick=\"convertToInteractive('df-317d243e-def0-4703-8760-2771916bae60')\"\n",
       "              title=\"Convert this dataframe to an interactive table.\"\n",
       "              style=\"display:none;\">\n",
       "        \n",
       "  <svg xmlns=\"http://www.w3.org/2000/svg\" height=\"24px\"viewBox=\"0 0 24 24\"\n",
       "       width=\"24px\">\n",
       "    <path d=\"M0 0h24v24H0V0z\" fill=\"none\"/>\n",
       "    <path d=\"M18.56 5.44l.94 2.06.94-2.06 2.06-.94-2.06-.94-.94-2.06-.94 2.06-2.06.94zm-11 1L8.5 8.5l.94-2.06 2.06-.94-2.06-.94L8.5 2.5l-.94 2.06-2.06.94zm10 10l.94 2.06.94-2.06 2.06-.94-2.06-.94-.94-2.06-.94 2.06-2.06.94z\"/><path d=\"M17.41 7.96l-1.37-1.37c-.4-.4-.92-.59-1.43-.59-.52 0-1.04.2-1.43.59L10.3 9.45l-7.72 7.72c-.78.78-.78 2.05 0 2.83L4 21.41c.39.39.9.59 1.41.59.51 0 1.02-.2 1.41-.59l7.78-7.78 2.81-2.81c.8-.78.8-2.07 0-2.86zM5.41 20L4 18.59l7.72-7.72 1.47 1.35L5.41 20z\"/>\n",
       "  </svg>\n",
       "      </button>\n",
       "      \n",
       "  <style>\n",
       "    .colab-df-container {\n",
       "      display:flex;\n",
       "      flex-wrap:wrap;\n",
       "      gap: 12px;\n",
       "    }\n",
       "\n",
       "    .colab-df-convert {\n",
       "      background-color: #E8F0FE;\n",
       "      border: none;\n",
       "      border-radius: 50%;\n",
       "      cursor: pointer;\n",
       "      display: none;\n",
       "      fill: #1967D2;\n",
       "      height: 32px;\n",
       "      padding: 0 0 0 0;\n",
       "      width: 32px;\n",
       "    }\n",
       "\n",
       "    .colab-df-convert:hover {\n",
       "      background-color: #E2EBFA;\n",
       "      box-shadow: 0px 1px 2px rgba(60, 64, 67, 0.3), 0px 1px 3px 1px rgba(60, 64, 67, 0.15);\n",
       "      fill: #174EA6;\n",
       "    }\n",
       "\n",
       "    [theme=dark] .colab-df-convert {\n",
       "      background-color: #3B4455;\n",
       "      fill: #D2E3FC;\n",
       "    }\n",
       "\n",
       "    [theme=dark] .colab-df-convert:hover {\n",
       "      background-color: #434B5C;\n",
       "      box-shadow: 0px 1px 3px 1px rgba(0, 0, 0, 0.15);\n",
       "      filter: drop-shadow(0px 1px 2px rgba(0, 0, 0, 0.3));\n",
       "      fill: #FFFFFF;\n",
       "    }\n",
       "  </style>\n",
       "\n",
       "      <script>\n",
       "        const buttonEl =\n",
       "          document.querySelector('#df-317d243e-def0-4703-8760-2771916bae60 button.colab-df-convert');\n",
       "        buttonEl.style.display =\n",
       "          google.colab.kernel.accessAllowed ? 'block' : 'none';\n",
       "\n",
       "        async function convertToInteractive(key) {\n",
       "          const element = document.querySelector('#df-317d243e-def0-4703-8760-2771916bae60');\n",
       "          const dataTable =\n",
       "            await google.colab.kernel.invokeFunction('convertToInteractive',\n",
       "                                                     [key], {});\n",
       "          if (!dataTable) return;\n",
       "\n",
       "          const docLinkHtml = 'Like what you see? Visit the ' +\n",
       "            '<a target=\"_blank\" href=https://colab.research.google.com/notebooks/data_table.ipynb>data table notebook</a>'\n",
       "            + ' to learn more about interactive tables.';\n",
       "          element.innerHTML = '';\n",
       "          dataTable['output_type'] = 'display_data';\n",
       "          await google.colab.output.renderOutput(dataTable, element);\n",
       "          const docLink = document.createElement('div');\n",
       "          docLink.innerHTML = docLinkHtml;\n",
       "          element.appendChild(docLink);\n",
       "        }\n",
       "      </script>\n",
       "    </div>\n",
       "  </div>\n",
       "  "
      ]
     },
     "metadata": {},
     "execution_count": 49
    }
   ]
  },
  {
   "cell_type": "code",
   "source": [
    "train_sessions_length['length'].value_counts().sort_index()"
   ],
   "metadata": {
    "colab": {
     "base_uri": "https://localhost:8080/"
    },
    "id": "xetRpTW8-Yze",
    "executionInfo": {
     "status": "ok",
     "timestamp": 1657728635334,
     "user_tz": -120,
     "elapsed": 7,
     "user": {
      "displayName": "Riccardo Pala",
      "userId": "14726583371054773727"
     }
    },
    "outputId": "11c017c6-a247-4a3f-e2b6-29bc2b0f606e",
    "pycharm": {
     "name": "#%%\n"
    }
   },
   "execution_count": 50,
   "outputs": [
    {
     "output_type": "execute_result",
     "data": {
      "text/plain": [
       "1      307698\n",
       "2      174775\n",
       "3      115499\n",
       "4       82306\n",
       "5       60695\n",
       "        ...  \n",
       "96          6\n",
       "97         12\n",
       "98          5\n",
       "99          5\n",
       "100         6\n",
       "Name: length, Length: 100, dtype: int64"
      ]
     },
     "metadata": {},
     "execution_count": 50
    }
   ]
  },
  {
   "cell_type": "code",
   "source": [
    "train_sessions_length['length'].value_counts().sort_index().plot(kind='bar', width=0.9, figsize=(20, 10))\n",
    "plt.xlabel(\"Session length\")\n",
    "plt.ylabel(\"Number of sessions\")\n",
    "plt.show()"
   ],
   "metadata": {
    "colab": {
     "base_uri": "https://localhost:8080/",
     "height": 614
    },
    "id": "xRKhLJqm9FLZ",
    "executionInfo": {
     "status": "ok",
     "timestamp": 1657728636368,
     "user_tz": -120,
     "elapsed": 1040,
     "user": {
      "displayName": "Riccardo Pala",
      "userId": "14726583371054773727"
     }
    },
    "outputId": "efb56bd1-2700-4866-b3e8-a07a1cc2a2fe",
    "pycharm": {
     "name": "#%%\n"
    }
   },
   "execution_count": 51,
   "outputs": [
    {
     "output_type": "display_data",
     "data": {
      "text/plain": [
       "<Figure size 1440x720 with 1 Axes>"
      ],
      "image/png": "[encoded data removed]"
     },
     "metadata": {
      "needs_background": "light"
     }
    }
   ]
  },
  {
   "cell_type": "code",
   "source": [
    "mean_session_itemcount = train_sessions_length['length'].mean()\n",
    "print('Mean sessions length: ' +str(mean_session_itemcount) + ' item')\n",
    "median_session_itemcount = train_sessions_length['length'].median()\n",
    "print('Median sessions length: ' +str(median_session_itemcount) + ' item')\n",
    "mode_session_itemcount = train_sessions_length['length'].mode()[0]\n",
    "print('Mode sessions length: ' +str(mode_session_itemcount) + ' item')\n",
    "max_session_itemcount = train_sessions_length['length'].max()\n",
    "print('Session with the longest number of view is of: ' + str(max_session_itemcount) + ' item')\n",
    "min_session_itemcount = train_sessions_length['length'].min()\n",
    "print('Min session length: ' + str(min_session_itemcount) + ' item')"
   ],
   "metadata": {
    "colab": {
     "base_uri": "https://localhost:8080/"
    },
    "id": "kIm8MYpE_XYf",
    "executionInfo": {
     "status": "ok",
     "timestamp": 1657728636368,
     "user_tz": -120,
     "elapsed": 10,
     "user": {
      "displayName": "Riccardo Pala",
      "userId": "14726583371054773727"
     }
    },
    "outputId": "aa76bf81-87f6-40a8-ab7d-c6b350fa1cc1",
    "pycharm": {
     "name": "#%%\n"
    }
   },
   "execution_count": 52,
   "outputs": [
    {
     "output_type": "stream",
     "name": "stdout",
     "text": [
      "Mean sessions length: 4.74382 item\n",
      "Median sessions length: 3.0 item\n",
      "Mode sessions length: 1 item\n",
      "Session with the longest number of view is of: 100 item\n",
      "Min session length: 1 item\n"
     ]
    }
   ]
  },
  {
   "cell_type": "markdown",
   "source": [
    "**Test Leaderboard Sessions**"
   ],
   "metadata": {
    "id": "rcvD3qPI7GaL",
    "pycharm": {
     "name": "#%% md\n"
    }
   }
  },
  {
   "cell_type": "code",
   "source": [
    "test_lb_sessions_length = test_leaderboard_sessions_df.groupby('session_id').count().reset_index()\n",
    "test_lb_sessions_length = test_lb_sessions_length.drop('date', 1)\n",
    "test_lb_sessions_length.columns = ['session_id', 'length']\n",
    "test_lb_sessions_length = test_lb_sessions_length.sort_values(by='length', ascending=False)\n",
    "\n",
    "test_lb_sessions_length"
   ],
   "metadata": {
    "colab": {
     "base_uri": "https://localhost:8080/",
     "height": 478
    },
    "executionInfo": {
     "status": "ok",
     "timestamp": 1657728636369,
     "user_tz": -120,
     "elapsed": 8,
     "user": {
      "displayName": "Riccardo Pala",
      "userId": "14726583371054773727"
     }
    },
    "outputId": "611517a0-4a48-4afb-96ed-906f2dad3b7c",
    "id": "48IzJwth7NG_",
    "pycharm": {
     "name": "#%%\n"
    }
   },
   "execution_count": 53,
   "outputs": [
    {
     "output_type": "stream",
     "name": "stderr",
     "text": [
      "/usr/local/lib/python3.7/dist-packages/ipykernel_launcher.py:2: FutureWarning: In a future version of pandas all arguments of DataFrame.drop except for the argument 'labels' will be keyword-only\n",
      "  \n"
     ]
    },
    {
     "output_type": "execute_result",
     "data": {
      "text/plain": [
       "       session_id  length\n",
       "40818     3637162      72\n",
       "28472     2538928      71\n",
       "18642     1664732      70\n",
       "47292     4201903      69\n",
       "16403     1467067      69\n",
       "...           ...     ...\n",
       "25120     2242551       1\n",
       "25114     2241626       1\n",
       "25113     2241520       1\n",
       "25110     2241245       1\n",
       "25000     2230527       1\n",
       "\n",
       "[50000 rows x 2 columns]"
      ],
      "text/html": [
       "\n",
       "  <div id=\"df-7ddd1656-3976-4feb-a14a-39ba6b6c7c61\">\n",
       "    <div class=\"colab-df-container\">\n",
       "      <div>\n",
       "<style scoped>\n",
       "    .dataframe tbody tr th:only-of-type {\n",
       "        vertical-align: middle;\n",
       "    }\n",
       "\n",
       "    .dataframe tbody tr th {\n",
       "        vertical-align: top;\n",
       "    }\n",
       "\n",
       "    .dataframe thead th {\n",
       "        text-align: right;\n",
       "    }\n",
       "</style>\n",
       "<table border=\"1\" class=\"dataframe\">\n",
       "  <thead>\n",
       "    <tr style=\"text-align: right;\">\n",
       "      <th></th>\n",
       "      <th>session_id</th>\n",
       "      <th>length</th>\n",
       "    </tr>\n",
       "  </thead>\n",
       "  <tbody>\n",
       "    <tr>\n",
       "      <th>40818</th>\n",
       "      <td>3637162</td>\n",
       "      <td>72</td>\n",
       "    </tr>\n",
       "    <tr>\n",
       "      <th>28472</th>\n",
       "      <td>2538928</td>\n",
       "      <td>71</td>\n",
       "    </tr>\n",
       "    <tr>\n",
       "      <th>18642</th>\n",
       "      <td>1664732</td>\n",
       "      <td>70</td>\n",
       "    </tr>\n",
       "    <tr>\n",
       "      <th>47292</th>\n",
       "      <td>4201903</td>\n",
       "      <td>69</td>\n",
       "    </tr>\n",
       "    <tr>\n",
       "      <th>16403</th>\n",
       "      <td>1467067</td>\n",
       "      <td>69</td>\n",
       "    </tr>\n",
       "    <tr>\n",
       "      <th>...</th>\n",
       "      <td>...</td>\n",
       "      <td>...</td>\n",
       "    </tr>\n",
       "    <tr>\n",
       "      <th>25120</th>\n",
       "      <td>2242551</td>\n",
       "      <td>1</td>\n",
       "    </tr>\n",
       "    <tr>\n",
       "      <th>25114</th>\n",
       "      <td>2241626</td>\n",
       "      <td>1</td>\n",
       "    </tr>\n",
       "    <tr>\n",
       "      <th>25113</th>\n",
       "      <td>2241520</td>\n",
       "      <td>1</td>\n",
       "    </tr>\n",
       "    <tr>\n",
       "      <th>25110</th>\n",
       "      <td>2241245</td>\n",
       "      <td>1</td>\n",
       "    </tr>\n",
       "    <tr>\n",
       "      <th>25000</th>\n",
       "      <td>2230527</td>\n",
       "      <td>1</td>\n",
       "    </tr>\n",
       "  </tbody>\n",
       "</table>\n",
       "<p>50000 rows × 2 columns</p>\n",
       "</div>\n",
       "      <button class=\"colab-df-convert\" onclick=\"convertToInteractive('df-7ddd1656-3976-4feb-a14a-39ba6b6c7c61')\"\n",
       "              title=\"Convert this dataframe to an interactive table.\"\n",
       "              style=\"display:none;\">\n",
       "        \n",
       "  <svg xmlns=\"http://www.w3.org/2000/svg\" height=\"24px\"viewBox=\"0 0 24 24\"\n",
       "       width=\"24px\">\n",
       "    <path d=\"M0 0h24v24H0V0z\" fill=\"none\"/>\n",
       "    <path d=\"M18.56 5.44l.94 2.06.94-2.06 2.06-.94-2.06-.94-.94-2.06-.94 2.06-2.06.94zm-11 1L8.5 8.5l.94-2.06 2.06-.94-2.06-.94L8.5 2.5l-.94 2.06-2.06.94zm10 10l.94 2.06.94-2.06 2.06-.94-2.06-.94-.94-2.06-.94 2.06-2.06.94z\"/><path d=\"M17.41 7.96l-1.37-1.37c-.4-.4-.92-.59-1.43-.59-.52 0-1.04.2-1.43.59L10.3 9.45l-7.72 7.72c-.78.78-.78 2.05 0 2.83L4 21.41c.39.39.9.59 1.41.59.51 0 1.02-.2 1.41-.59l7.78-7.78 2.81-2.81c.8-.78.8-2.07 0-2.86zM5.41 20L4 18.59l7.72-7.72 1.47 1.35L5.41 20z\"/>\n",
       "  </svg>\n",
       "      </button>\n",
       "      \n",
       "  <style>\n",
       "    .colab-df-container {\n",
       "      display:flex;\n",
       "      flex-wrap:wrap;\n",
       "      gap: 12px;\n",
       "    }\n",
       "\n",
       "    .colab-df-convert {\n",
       "      background-color: #E8F0FE;\n",
       "      border: none;\n",
       "      border-radius: 50%;\n",
       "      cursor: pointer;\n",
       "      display: none;\n",
       "      fill: #1967D2;\n",
       "      height: 32px;\n",
       "      padding: 0 0 0 0;\n",
       "      width: 32px;\n",
       "    }\n",
       "\n",
       "    .colab-df-convert:hover {\n",
       "      background-color: #E2EBFA;\n",
       "      box-shadow: 0px 1px 2px rgba(60, 64, 67, 0.3), 0px 1px 3px 1px rgba(60, 64, 67, 0.15);\n",
       "      fill: #174EA6;\n",
       "    }\n",
       "\n",
       "    [theme=dark] .colab-df-convert {\n",
       "      background-color: #3B4455;\n",
       "      fill: #D2E3FC;\n",
       "    }\n",
       "\n",
       "    [theme=dark] .colab-df-convert:hover {\n",
       "      background-color: #434B5C;\n",
       "      box-shadow: 0px 1px 3px 1px rgba(0, 0, 0, 0.15);\n",
       "      filter: drop-shadow(0px 1px 2px rgba(0, 0, 0, 0.3));\n",
       "      fill: #FFFFFF;\n",
       "    }\n",
       "  </style>\n",
       "\n",
       "      <script>\n",
       "        const buttonEl =\n",
       "          document.querySelector('#df-7ddd1656-3976-4feb-a14a-39ba6b6c7c61 button.colab-df-convert');\n",
       "        buttonEl.style.display =\n",
       "          google.colab.kernel.accessAllowed ? 'block' : 'none';\n",
       "\n",
       "        async function convertToInteractive(key) {\n",
       "          const element = document.querySelector('#df-7ddd1656-3976-4feb-a14a-39ba6b6c7c61');\n",
       "          const dataTable =\n",
       "            await google.colab.kernel.invokeFunction('convertToInteractive',\n",
       "                                                     [key], {});\n",
       "          if (!dataTable) return;\n",
       "\n",
       "          const docLinkHtml = 'Like what you see? Visit the ' +\n",
       "            '<a target=\"_blank\" href=https://colab.research.google.com/notebooks/data_table.ipynb>data table notebook</a>'\n",
       "            + ' to learn more about interactive tables.';\n",
       "          element.innerHTML = '';\n",
       "          dataTable['output_type'] = 'display_data';\n",
       "          await google.colab.output.renderOutput(dataTable, element);\n",
       "          const docLink = document.createElement('div');\n",
       "          docLink.innerHTML = docLinkHtml;\n",
       "          element.appendChild(docLink);\n",
       "        }\n",
       "      </script>\n",
       "    </div>\n",
       "  </div>\n",
       "  "
      ]
     },
     "metadata": {},
     "execution_count": 53
    }
   ]
  },
  {
   "cell_type": "code",
   "source": [
    "test_lb_sessions_length['length'].value_counts().sort_index()"
   ],
   "metadata": {
    "colab": {
     "base_uri": "https://localhost:8080/"
    },
    "executionInfo": {
     "status": "ok",
     "timestamp": 1657728636370,
     "user_tz": -120,
     "elapsed": 7,
     "user": {
      "displayName": "Riccardo Pala",
      "userId": "14726583371054773727"
     }
    },
    "outputId": "40189f20-a832-4998-c8cb-8153925bb13a",
    "id": "pXYy3VBC7NG_",
    "pycharm": {
     "name": "#%%\n"
    }
   },
   "execution_count": 54,
   "outputs": [
    {
     "output_type": "execute_result",
     "data": {
      "text/plain": [
       "1     17036\n",
       "2      7994\n",
       "3      5444\n",
       "4      3766\n",
       "5      2844\n",
       "      ...  \n",
       "68        4\n",
       "69        3\n",
       "70        1\n",
       "71        1\n",
       "72        1\n",
       "Name: length, Length: 69, dtype: int64"
      ]
     },
     "metadata": {},
     "execution_count": 54
    }
   ]
  },
  {
   "cell_type": "code",
   "source": [
    "test_lb_sessions_length['length'].value_counts().sort_index().plot(kind='bar', width=0.9, figsize=(20, 10))\n",
    "plt.xlabel(\"Session length\")\n",
    "plt.ylabel(\"Number of sessions\")\n",
    "plt.show()"
   ],
   "metadata": {
    "colab": {
     "base_uri": "https://localhost:8080/",
     "height": 608
    },
    "executionInfo": {
     "status": "ok",
     "timestamp": 1657728637373,
     "user_tz": -120,
     "elapsed": 1009,
     "user": {
      "displayName": "Riccardo Pala",
      "userId": "14726583371054773727"
     }
    },
    "outputId": "48e2c5ea-74ba-4ac7-94ae-4066ddb969ba",
    "id": "tRs3AEwM7NHA",
    "pycharm": {
     "name": "#%%\n"
    }
   },
   "execution_count": 55,
   "outputs": [
    {
     "output_type": "display_data",
     "data": {
      "text/plain": [
       "<Figure size 1440x720 with 1 Axes>"
      ],
      "image/png": "[encoded data removed]"
     },
     "metadata": {
      "needs_background": "light"
     }
    }
   ]
  },
  {
   "cell_type": "code",
   "source": [
    "mean_session_itemcount = test_lb_sessions_length['length'].mean()\n",
    "print('Mean sessions length: ' +str(mean_session_itemcount) + ' item')\n",
    "median_session_itemcount = test_lb_sessions_length['length'].median()\n",
    "print('Median sessions length: ' +str(median_session_itemcount) + ' item')\n",
    "mode_session_itemcount = test_lb_sessions_length['length'].mode()[0]\n",
    "print('Mode sessions length: ' +str(mode_session_itemcount) + ' item')\n",
    "max_session_itemcount = test_lb_sessions_length['length'].max()\n",
    "print('Session with the longest number of view is of: ' + str(max_session_itemcount) + ' item')\n",
    "min_session_itemcount = test_lb_sessions_length['length'].min()\n",
    "print('Min session length: ' + str(min_session_itemcount) + ' item')"
   ],
   "metadata": {
    "colab": {
     "base_uri": "https://localhost:8080/"
    },
    "executionInfo": {
     "status": "ok",
     "timestamp": 1657728637374,
     "user_tz": -120,
     "elapsed": 11,
     "user": {
      "displayName": "Riccardo Pala",
      "userId": "14726583371054773727"
     }
    },
    "outputId": "a0710d42-3af5-45e8-8cf4-200076b7547c",
    "id": "3dBBIGJh7NHA",
    "pycharm": {
     "name": "#%%\n"
    }
   },
   "execution_count": 56,
   "outputs": [
    {
     "output_type": "stream",
     "name": "stdout",
     "text": [
      "Mean sessions length: 4.58708 item\n",
      "Median sessions length: 2.0 item\n",
      "Mode sessions length: 1 item\n",
      "Session with the longest number of view is of: 72 item\n",
      "Min session length: 1 item\n"
     ]
    }
   ]
  },
  {
   "cell_type": "markdown",
   "source": [
    "**Test Final Sessions**"
   ],
   "metadata": {
    "id": "7mkvK5x27gr5",
    "pycharm": {
     "name": "#%% md\n"
    }
   }
  },
  {
   "cell_type": "code",
   "source": [
    "test_fin_sessions_length = test_final_sessions_df.groupby('session_id').count().reset_index()\n",
    "test_fin_sessions_length = test_fin_sessions_length.drop('date', 1)\n",
    "test_fin_sessions_length.columns = ['session_id', 'length']\n",
    "test_fin_sessions_length = test_fin_sessions_length.sort_values(by='length', ascending=False)\n",
    "\n",
    "test_fin_sessions_length"
   ],
   "metadata": {
    "colab": {
     "base_uri": "https://localhost:8080/",
     "height": 478
    },
    "executionInfo": {
     "status": "ok",
     "timestamp": 1657728637375,
     "user_tz": -120,
     "elapsed": 10,
     "user": {
      "displayName": "Riccardo Pala",
      "userId": "14726583371054773727"
     }
    },
    "outputId": "923566e8-c87f-41a8-87f0-08a0a74966f3",
    "id": "76bOMg3G7gr6",
    "pycharm": {
     "name": "#%%\n"
    }
   },
   "execution_count": 57,
   "outputs": [
    {
     "output_type": "stream",
     "name": "stderr",
     "text": [
      "/usr/local/lib/python3.7/dist-packages/ipykernel_launcher.py:2: FutureWarning: In a future version of pandas all arguments of DataFrame.drop except for the argument 'labels' will be keyword-only\n",
      "  \n"
     ]
    },
    {
     "output_type": "execute_result",
     "data": {
      "text/plain": [
       "       session_id  length\n",
       "7652       683170      74\n",
       "10232      908390      73\n",
       "10600      942349      72\n",
       "258         22304      71\n",
       "1096        92071      71\n",
       "...           ...     ...\n",
       "17851     1588404       1\n",
       "36528     3240231       1\n",
       "17854     1588665       1\n",
       "36526     3240111       1\n",
       "0              61       1\n",
       "\n",
       "[50000 rows x 2 columns]"
      ],
      "text/html": [
       "\n",
       "  <div id=\"df-be1778b1-e880-4cd9-9929-079dad1c95d3\">\n",
       "    <div class=\"colab-df-container\">\n",
       "      <div>\n",
       "<style scoped>\n",
       "    .dataframe tbody tr th:only-of-type {\n",
       "        vertical-align: middle;\n",
       "    }\n",
       "\n",
       "    .dataframe tbody tr th {\n",
       "        vertical-align: top;\n",
       "    }\n",
       "\n",
       "    .dataframe thead th {\n",
       "        text-align: right;\n",
       "    }\n",
       "</style>\n",
       "<table border=\"1\" class=\"dataframe\">\n",
       "  <thead>\n",
       "    <tr style=\"text-align: right;\">\n",
       "      <th></th>\n",
       "      <th>session_id</th>\n",
       "      <th>length</th>\n",
       "    </tr>\n",
       "  </thead>\n",
       "  <tbody>\n",
       "    <tr>\n",
       "      <th>7652</th>\n",
       "      <td>683170</td>\n",
       "      <td>74</td>\n",
       "    </tr>\n",
       "    <tr>\n",
       "      <th>10232</th>\n",
       "      <td>908390</td>\n",
       "      <td>73</td>\n",
       "    </tr>\n",
       "    <tr>\n",
       "      <th>10600</th>\n",
       "      <td>942349</td>\n",
       "      <td>72</td>\n",
       "    </tr>\n",
       "    <tr>\n",
       "      <th>258</th>\n",
       "      <td>22304</td>\n",
       "      <td>71</td>\n",
       "    </tr>\n",
       "    <tr>\n",
       "      <th>1096</th>\n",
       "      <td>92071</td>\n",
       "      <td>71</td>\n",
       "    </tr>\n",
       "    <tr>\n",
       "      <th>...</th>\n",
       "      <td>...</td>\n",
       "      <td>...</td>\n",
       "    </tr>\n",
       "    <tr>\n",
       "      <th>17851</th>\n",
       "      <td>1588404</td>\n",
       "      <td>1</td>\n",
       "    </tr>\n",
       "    <tr>\n",
       "      <th>36528</th>\n",
       "      <td>3240231</td>\n",
       "      <td>1</td>\n",
       "    </tr>\n",
       "    <tr>\n",
       "      <th>17854</th>\n",
       "      <td>1588665</td>\n",
       "      <td>1</td>\n",
       "    </tr>\n",
       "    <tr>\n",
       "      <th>36526</th>\n",
       "      <td>3240111</td>\n",
       "      <td>1</td>\n",
       "    </tr>\n",
       "    <tr>\n",
       "      <th>0</th>\n",
       "      <td>61</td>\n",
       "      <td>1</td>\n",
       "    </tr>\n",
       "  </tbody>\n",
       "</table>\n",
       "<p>50000 rows × 2 columns</p>\n",
       "</div>\n",
       "      <button class=\"colab-df-convert\" onclick=\"convertToInteractive('df-be1778b1-e880-4cd9-9929-079dad1c95d3')\"\n",
       "              title=\"Convert this dataframe to an interactive table.\"\n",
       "              style=\"display:none;\">\n",
       "        \n",
       "  <svg xmlns=\"http://www.w3.org/2000/svg\" height=\"24px\"viewBox=\"0 0 24 24\"\n",
       "       width=\"24px\">\n",
       "    <path d=\"M0 0h24v24H0V0z\" fill=\"none\"/>\n",
       "    <path d=\"M18.56 5.44l.94 2.06.94-2.06 2.06-.94-2.06-.94-.94-2.06-.94 2.06-2.06.94zm-11 1L8.5 8.5l.94-2.06 2.06-.94-2.06-.94L8.5 2.5l-.94 2.06-2.06.94zm10 10l.94 2.06.94-2.06 2.06-.94-2.06-.94-.94-2.06-.94 2.06-2.06.94z\"/><path d=\"M17.41 7.96l-1.37-1.37c-.4-.4-.92-.59-1.43-.59-.52 0-1.04.2-1.43.59L10.3 9.45l-7.72 7.72c-.78.78-.78 2.05 0 2.83L4 21.41c.39.39.9.59 1.41.59.51 0 1.02-.2 1.41-.59l7.78-7.78 2.81-2.81c.8-.78.8-2.07 0-2.86zM5.41 20L4 18.59l7.72-7.72 1.47 1.35L5.41 20z\"/>\n",
       "  </svg>\n",
       "      </button>\n",
       "      \n",
       "  <style>\n",
       "    .colab-df-container {\n",
       "      display:flex;\n",
       "      flex-wrap:wrap;\n",
       "      gap: 12px;\n",
       "    }\n",
       "\n",
       "    .colab-df-convert {\n",
       "      background-color: #E8F0FE;\n",
       "      border: none;\n",
       "      border-radius: 50%;\n",
       "      cursor: pointer;\n",
       "      display: none;\n",
       "      fill: #1967D2;\n",
       "      height: 32px;\n",
       "      padding: 0 0 0 0;\n",
       "      width: 32px;\n",
       "    }\n",
       "\n",
       "    .colab-df-convert:hover {\n",
       "      background-color: #E2EBFA;\n",
       "      box-shadow: 0px 1px 2px rgba(60, 64, 67, 0.3), 0px 1px 3px 1px rgba(60, 64, 67, 0.15);\n",
       "      fill: #174EA6;\n",
       "    }\n",
       "\n",
       "    [theme=dark] .colab-df-convert {\n",
       "      background-color: #3B4455;\n",
       "      fill: #D2E3FC;\n",
       "    }\n",
       "\n",
       "    [theme=dark] .colab-df-convert:hover {\n",
       "      background-color: #434B5C;\n",
       "      box-shadow: 0px 1px 3px 1px rgba(0, 0, 0, 0.15);\n",
       "      filter: drop-shadow(0px 1px 2px rgba(0, 0, 0, 0.3));\n",
       "      fill: #FFFFFF;\n",
       "    }\n",
       "  </style>\n",
       "\n",
       "      <script>\n",
       "        const buttonEl =\n",
       "          document.querySelector('#df-be1778b1-e880-4cd9-9929-079dad1c95d3 button.colab-df-convert');\n",
       "        buttonEl.style.display =\n",
       "          google.colab.kernel.accessAllowed ? 'block' : 'none';\n",
       "\n",
       "        async function convertToInteractive(key) {\n",
       "          const element = document.querySelector('#df-be1778b1-e880-4cd9-9929-079dad1c95d3');\n",
       "          const dataTable =\n",
       "            await google.colab.kernel.invokeFunction('convertToInteractive',\n",
       "                                                     [key], {});\n",
       "          if (!dataTable) return;\n",
       "\n",
       "          const docLinkHtml = 'Like what you see? Visit the ' +\n",
       "            '<a target=\"_blank\" href=https://colab.research.google.com/notebooks/data_table.ipynb>data table notebook</a>'\n",
       "            + ' to learn more about interactive tables.';\n",
       "          element.innerHTML = '';\n",
       "          dataTable['output_type'] = 'display_data';\n",
       "          await google.colab.output.renderOutput(dataTable, element);\n",
       "          const docLink = document.createElement('div');\n",
       "          docLink.innerHTML = docLinkHtml;\n",
       "          element.appendChild(docLink);\n",
       "        }\n",
       "      </script>\n",
       "    </div>\n",
       "  </div>\n",
       "  "
      ]
     },
     "metadata": {},
     "execution_count": 57
    }
   ]
  },
  {
   "cell_type": "code",
   "source": [
    "test_fin_sessions_length['length'].value_counts().sort_index()"
   ],
   "metadata": {
    "colab": {
     "base_uri": "https://localhost:8080/"
    },
    "executionInfo": {
     "status": "ok",
     "timestamp": 1657728637375,
     "user_tz": -120,
     "elapsed": 8,
     "user": {
      "displayName": "Riccardo Pala",
      "userId": "14726583371054773727"
     }
    },
    "outputId": "b51ca6da-0e57-40fa-c53b-ab7d9d777adf",
    "id": "p41-Ut1J7gr6",
    "pycharm": {
     "name": "#%%\n"
    }
   },
   "execution_count": 58,
   "outputs": [
    {
     "output_type": "execute_result",
     "data": {
      "text/plain": [
       "1     16943\n",
       "2      8008\n",
       "3      5427\n",
       "4      3983\n",
       "5      2915\n",
       "      ...  \n",
       "69        2\n",
       "71        4\n",
       "72        1\n",
       "73        1\n",
       "74        1\n",
       "Name: length, Length: 71, dtype: int64"
      ]
     },
     "metadata": {},
     "execution_count": 58
    }
   ]
  },
  {
   "cell_type": "code",
   "source": [
    "test_fin_sessions_length['length'].value_counts().sort_index().plot(kind='bar', width=0.9, figsize=(20, 10))\n",
    "plt.xlabel(\"Session length\")\n",
    "plt.ylabel(\"Number of sessions\")\n",
    "plt.show()"
   ],
   "metadata": {
    "colab": {
     "base_uri": "https://localhost:8080/",
     "height": 608
    },
    "executionInfo": {
     "status": "ok",
     "timestamp": 1657728638292,
     "user_tz": -120,
     "elapsed": 924,
     "user": {
      "displayName": "Riccardo Pala",
      "userId": "14726583371054773727"
     }
    },
    "outputId": "6b67be10-4d8d-4212-bebc-283e9f49994b",
    "id": "jK8OwMuJ7gr6",
    "pycharm": {
     "name": "#%%\n"
    }
   },
   "execution_count": 59,
   "outputs": [
    {
     "output_type": "display_data",
     "data": {
      "text/plain": [
       "<Figure size 1440x720 with 1 Axes>"
      ],
      "image/png": "[encoded data removed]"
     },
     "metadata": {
      "needs_background": "light"
     }
    }
   ]
  },
  {
   "cell_type": "code",
   "source": [
    "mean_session_itemcount = test_fin_sessions_length['length'].mean()\n",
    "print('Mean sessions length: ' +str(mean_session_itemcount) + ' item')\n",
    "median_session_itemcount = test_fin_sessions_length['length'].median()\n",
    "print('Median sessions length: ' +str(median_session_itemcount) + ' item')\n",
    "mode_session_itemcount = test_fin_sessions_length['length'].mode()[0]\n",
    "print('Mode sessions length: ' +str(mode_session_itemcount) + ' item')\n",
    "max_session_itemcount = test_fin_sessions_length['length'].max()\n",
    "print('Session with the longest number of view is of: ' + str(max_session_itemcount) + ' item')\n",
    "min_session_itemcount = test_fin_sessions_length['length'].min()\n",
    "print('Min session length: ' + str(min_session_itemcount) + ' item')"
   ],
   "metadata": {
    "colab": {
     "base_uri": "https://localhost:8080/"
    },
    "executionInfo": {
     "status": "ok",
     "timestamp": 1657728638293,
     "user_tz": -120,
     "elapsed": 17,
     "user": {
      "displayName": "Riccardo Pala",
      "userId": "14726583371054773727"
     }
    },
    "outputId": "95630248-2ae4-4db9-8d6e-642d13137818",
    "id": "LUfXDlpV7gr7",
    "pycharm": {
     "name": "#%%\n"
    }
   },
   "execution_count": 60,
   "outputs": [
    {
     "output_type": "stream",
     "name": "stdout",
     "text": [
      "Mean sessions length: 4.52276 item\n",
      "Median sessions length: 3.0 item\n",
      "Mode sessions length: 1 item\n",
      "Session with the longest number of view is of: 74 item\n",
      "Min session length: 1 item\n"
     ]
    }
   ]
  },
  {
   "cell_type": "markdown",
   "source": [
    "### \"Cold\" sessions"
   ],
   "metadata": {
    "id": "mjiABqpy8IqD",
    "pycharm": {
     "name": "#%% md\n"
    }
   }
  },
  {
   "cell_type": "code",
   "source": [
    "all_items = item_features_df['item_id'].unique()\n",
    "train_items = pd.concat([train_sessions_df['item_id'], train_purchases_df['item_id']]).unique()\n",
    "\n",
    "cold_items = all_items[~np.isin(all_items, train_items)]\n",
    "\n",
    "cold_items, len(cold_items)"
   ],
   "metadata": {
    "colab": {
     "base_uri": "https://localhost:8080/"
    },
    "id": "ABq__CDG8pgX",
    "executionInfo": {
     "status": "ok",
     "timestamp": 1657728638293,
     "user_tz": -120,
     "elapsed": 14,
     "user": {
      "displayName": "Riccardo Pala",
      "userId": "14726583371054773727"
     }
    },
    "outputId": "ad4fff0a-0b1a-4511-863e-abc793fe5d87",
    "pycharm": {
     "name": "#%%\n"
    }
   },
   "execution_count": 61,
   "outputs": [
    {
     "output_type": "execute_result",
     "data": {
      "text/plain": [
       "(array([  313,   366,   575,  1152,  1364,  1883,  2497,  2523,  2677,\n",
       "         2694,  3185,  3529,  3754,  3835,  4042,  4514,  5214,  5394,\n",
       "         6171,  6853,  6873,  6916,  7204,  7780,  8758,  8771,  8814,\n",
       "         9384,  9418,  9589, 10463, 10671, 11125, 11933, 12667, 13376,\n",
       "        13618, 13943, 13972, 14395, 14622, 14723, 14967, 15601, 15629,\n",
       "        16206, 17046, 17206, 17576, 18482, 18690, 18837, 19637, 20237,\n",
       "        21241, 21444, 21904, 21927, 21998, 22030, 22316, 22703, 22746,\n",
       "        24303, 25035, 25277, 25521, 26201, 26232, 26742, 27377, 27728,\n",
       "        27826]), 73)"
      ]
     },
     "metadata": {},
     "execution_count": 61
    }
   ]
  },
  {
   "cell_type": "markdown",
   "source": [
    "**Test Leaderboard Sessions**"
   ],
   "metadata": {
    "id": "BetESPId8fc3",
    "pycharm": {
     "name": "#%% md\n"
    }
   }
  },
  {
   "cell_type": "code",
   "source": [
    "lb_warm_sessions_df = test_leaderboard_sessions_df[~test_leaderboard_sessions_df['item_id'].isin(cold_items)]\n",
    "lb_warm_sessions_df"
   ],
   "metadata": {
    "colab": {
     "base_uri": "https://localhost:8080/",
     "height": 424
    },
    "id": "rn9PVdxC8boB",
    "executionInfo": {
     "status": "ok",
     "timestamp": 1657728638294,
     "user_tz": -120,
     "elapsed": 14,
     "user": {
      "displayName": "Riccardo Pala",
      "userId": "14726583371054773727"
     }
    },
    "outputId": "b49983d5-147b-49e3-e496-24601144d092",
    "pycharm": {
     "name": "#%%\n"
    }
   },
   "execution_count": 62,
   "outputs": [
    {
     "output_type": "execute_result",
     "data": {
      "text/plain": [
       "        session_id  item_id                     date\n",
       "0               26    19185  2021-06-16 09:53:54.158\n",
       "1              200    17089  2021-06-25 12:23:40.811\n",
       "2              200    17089  2021-06-25 12:24:36.631\n",
       "3              200     8060  2021-06-25 12:24:41.677\n",
       "4              200     4758  2021-06-25 12:24:50.692\n",
       "...            ...      ...                      ...\n",
       "229349     4439653    25955   2021-06-11 10:22:57.47\n",
       "229350     4439653    12179  2021-06-11 10:23:00.663\n",
       "229351     4439757     2078  2021-06-30 11:42:15.073\n",
       "229352     4439757     2078  2021-06-30 11:43:13.725\n",
       "229353     4439757     6790  2021-06-30 11:44:52.704\n",
       "\n",
       "[224850 rows x 3 columns]"
      ],
      "text/html": [
       "\n",
       "  <div id=\"df-e0e71ff0-f1d7-4a53-9f2b-b3adda31e727\">\n",
       "    <div class=\"colab-df-container\">\n",
       "      <div>\n",
       "<style scoped>\n",
       "    .dataframe tbody tr th:only-of-type {\n",
       "        vertical-align: middle;\n",
       "    }\n",
       "\n",
       "    .dataframe tbody tr th {\n",
       "        vertical-align: top;\n",
       "    }\n",
       "\n",
       "    .dataframe thead th {\n",
       "        text-align: right;\n",
       "    }\n",
       "</style>\n",
       "<table border=\"1\" class=\"dataframe\">\n",
       "  <thead>\n",
       "    <tr style=\"text-align: right;\">\n",
       "      <th></th>\n",
       "      <th>session_id</th>\n",
       "      <th>item_id</th>\n",
       "      <th>date</th>\n",
       "    </tr>\n",
       "  </thead>\n",
       "  <tbody>\n",
       "    <tr>\n",
       "      <th>0</th>\n",
       "      <td>26</td>\n",
       "      <td>19185</td>\n",
       "      <td>2021-06-16 09:53:54.158</td>\n",
       "    </tr>\n",
       "    <tr>\n",
       "      <th>1</th>\n",
       "      <td>200</td>\n",
       "      <td>17089</td>\n",
       "      <td>2021-06-25 12:23:40.811</td>\n",
       "    </tr>\n",
       "    <tr>\n",
       "      <th>2</th>\n",
       "      <td>200</td>\n",
       "      <td>17089</td>\n",
       "      <td>2021-06-25 12:24:36.631</td>\n",
       "    </tr>\n",
       "    <tr>\n",
       "      <th>3</th>\n",
       "      <td>200</td>\n",
       "      <td>8060</td>\n",
       "      <td>2021-06-25 12:24:41.677</td>\n",
       "    </tr>\n",
       "    <tr>\n",
       "      <th>4</th>\n",
       "      <td>200</td>\n",
       "      <td>4758</td>\n",
       "      <td>2021-06-25 12:24:50.692</td>\n",
       "    </tr>\n",
       "    <tr>\n",
       "      <th>...</th>\n",
       "      <td>...</td>\n",
       "      <td>...</td>\n",
       "      <td>...</td>\n",
       "    </tr>\n",
       "    <tr>\n",
       "      <th>229349</th>\n",
       "      <td>4439653</td>\n",
       "      <td>25955</td>\n",
       "      <td>2021-06-11 10:22:57.47</td>\n",
       "    </tr>\n",
       "    <tr>\n",
       "      <th>229350</th>\n",
       "      <td>4439653</td>\n",
       "      <td>12179</td>\n",
       "      <td>2021-06-11 10:23:00.663</td>\n",
       "    </tr>\n",
       "    <tr>\n",
       "      <th>229351</th>\n",
       "      <td>4439757</td>\n",
       "      <td>2078</td>\n",
       "      <td>2021-06-30 11:42:15.073</td>\n",
       "    </tr>\n",
       "    <tr>\n",
       "      <th>229352</th>\n",
       "      <td>4439757</td>\n",
       "      <td>2078</td>\n",
       "      <td>2021-06-30 11:43:13.725</td>\n",
       "    </tr>\n",
       "    <tr>\n",
       "      <th>229353</th>\n",
       "      <td>4439757</td>\n",
       "      <td>6790</td>\n",
       "      <td>2021-06-30 11:44:52.704</td>\n",
       "    </tr>\n",
       "  </tbody>\n",
       "</table>\n",
       "<p>224850 rows × 3 columns</p>\n",
       "</div>\n",
       "      <button class=\"colab-df-convert\" onclick=\"convertToInteractive('df-e0e71ff0-f1d7-4a53-9f2b-b3adda31e727')\"\n",
       "              title=\"Convert this dataframe to an interactive table.\"\n",
       "              style=\"display:none;\">\n",
       "        \n",
       "  <svg xmlns=\"http://www.w3.org/2000/svg\" height=\"24px\"viewBox=\"0 0 24 24\"\n",
       "       width=\"24px\">\n",
       "    <path d=\"M0 0h24v24H0V0z\" fill=\"none\"/>\n",
       "    <path d=\"M18.56 5.44l.94 2.06.94-2.06 2.06-.94-2.06-.94-.94-2.06-.94 2.06-2.06.94zm-11 1L8.5 8.5l.94-2.06 2.06-.94-2.06-.94L8.5 2.5l-.94 2.06-2.06.94zm10 10l.94 2.06.94-2.06 2.06-.94-2.06-.94-.94-2.06-.94 2.06-2.06.94z\"/><path d=\"M17.41 7.96l-1.37-1.37c-.4-.4-.92-.59-1.43-.59-.52 0-1.04.2-1.43.59L10.3 9.45l-7.72 7.72c-.78.78-.78 2.05 0 2.83L4 21.41c.39.39.9.59 1.41.59.51 0 1.02-.2 1.41-.59l7.78-7.78 2.81-2.81c.8-.78.8-2.07 0-2.86zM5.41 20L4 18.59l7.72-7.72 1.47 1.35L5.41 20z\"/>\n",
       "  </svg>\n",
       "      </button>\n",
       "      \n",
       "  <style>\n",
       "    .colab-df-container {\n",
       "      display:flex;\n",
       "      flex-wrap:wrap;\n",
       "      gap: 12px;\n",
       "    }\n",
       "\n",
       "    .colab-df-convert {\n",
       "      background-color: #E8F0FE;\n",
       "      border: none;\n",
       "      border-radius: 50%;\n",
       "      cursor: pointer;\n",
       "      display: none;\n",
       "      fill: #1967D2;\n",
       "      height: 32px;\n",
       "      padding: 0 0 0 0;\n",
       "      width: 32px;\n",
       "    }\n",
       "\n",
       "    .colab-df-convert:hover {\n",
       "      background-color: #E2EBFA;\n",
       "      box-shadow: 0px 1px 2px rgba(60, 64, 67, 0.3), 0px 1px 3px 1px rgba(60, 64, 67, 0.15);\n",
       "      fill: #174EA6;\n",
       "    }\n",
       "\n",
       "    [theme=dark] .colab-df-convert {\n",
       "      background-color: #3B4455;\n",
       "      fill: #D2E3FC;\n",
       "    }\n",
       "\n",
       "    [theme=dark] .colab-df-convert:hover {\n",
       "      background-color: #434B5C;\n",
       "      box-shadow: 0px 1px 3px 1px rgba(0, 0, 0, 0.15);\n",
       "      filter: drop-shadow(0px 1px 2px rgba(0, 0, 0, 0.3));\n",
       "      fill: #FFFFFF;\n",
       "    }\n",
       "  </style>\n",
       "\n",
       "      <script>\n",
       "        const buttonEl =\n",
       "          document.querySelector('#df-e0e71ff0-f1d7-4a53-9f2b-b3adda31e727 button.colab-df-convert');\n",
       "        buttonEl.style.display =\n",
       "          google.colab.kernel.accessAllowed ? 'block' : 'none';\n",
       "\n",
       "        async function convertToInteractive(key) {\n",
       "          const element = document.querySelector('#df-e0e71ff0-f1d7-4a53-9f2b-b3adda31e727');\n",
       "          const dataTable =\n",
       "            await google.colab.kernel.invokeFunction('convertToInteractive',\n",
       "                                                     [key], {});\n",
       "          if (!dataTable) return;\n",
       "\n",
       "          const docLinkHtml = 'Like what you see? Visit the ' +\n",
       "            '<a target=\"_blank\" href=https://colab.research.google.com/notebooks/data_table.ipynb>data table notebook</a>'\n",
       "            + ' to learn more about interactive tables.';\n",
       "          element.innerHTML = '';\n",
       "          dataTable['output_type'] = 'display_data';\n",
       "          await google.colab.output.renderOutput(dataTable, element);\n",
       "          const docLink = document.createElement('div');\n",
       "          docLink.innerHTML = docLinkHtml;\n",
       "          element.appendChild(docLink);\n",
       "        }\n",
       "      </script>\n",
       "    </div>\n",
       "  </div>\n",
       "  "
      ]
     },
     "metadata": {},
     "execution_count": 62
    }
   ]
  },
  {
   "cell_type": "code",
   "source": [
    "lb_all_session_ids = test_leaderboard_sessions_df['session_id'].unique()\n",
    "lb_warm_session_ids = lb_warm_sessions_df['session_id'].unique()\n",
    "\n",
    "lb_cold_session_ids = lb_all_session_ids[~np.isin(lb_all_session_ids, lb_warm_session_ids)]\n",
    "\n",
    "lb_cold_session_ids, len(lb_cold_session_ids)"
   ],
   "metadata": {
    "colab": {
     "base_uri": "https://localhost:8080/"
    },
    "id": "IYcsLHFT-cbE",
    "executionInfo": {
     "status": "ok",
     "timestamp": 1657728638295,
     "user_tz": -120,
     "elapsed": 14,
     "user": {
      "displayName": "Riccardo Pala",
      "userId": "14726583371054773727"
     }
    },
    "outputId": "b38e7a6e-ca07-4ac2-b89d-350eade0007e",
    "pycharm": {
     "name": "#%%\n"
    }
   },
   "execution_count": 63,
   "outputs": [
    {
     "output_type": "execute_result",
     "data": {
      "text/plain": [
       "(array([    495,   11443,   16681,   17574,   19921,   28709,   34724,\n",
       "          38448,   39655,   48592,   64967,   68965,   69366,   71080,\n",
       "          73426,   90188,  104097,  115995,  123072,  123083,  132529,\n",
       "         137849,  139547,  139905,  142114,  147844,  156575,  158405,\n",
       "         160495,  163338,  168382,  173739,  175024,  175317,  176027,\n",
       "         179741,  182926,  187761,  188104,  195556,  216168,  219118,\n",
       "         230704,  238522,  242484,  243673,  243739,  261755,  263855,\n",
       "         279292,  280152,  305682,  305763,  307823,  312286,  316322,\n",
       "         341123,  359729,  363368,  369177,  369899,  378740,  383174,\n",
       "         391019,  393279,  393493,  395293,  404208,  404894,  409487,\n",
       "         409762,  411543,  413510,  423656,  426705,  433188,  436738,\n",
       "         439876,  443620,  450396,  454642,  457216,  465832,  468622,\n",
       "         495173,  522396,  536311,  545611,  554624,  561321,  570235,\n",
       "         572552,  580428,  585205,  592806,  597856,  614718,  615903,\n",
       "         617429,  622425,  626995,  627074,  635593,  637904,  639961,\n",
       "         645506,  647501,  648887,  651077,  659445,  666808,  675543,\n",
       "         677496,  677840,  683880,  686035,  695498,  701739,  702603,\n",
       "         712640,  735059,  740973,  750830,  756599,  757910,  758090,\n",
       "         758301,  765918,  770077,  771656,  772767,  788391,  790385,\n",
       "         800888,  801361,  807191,  814993,  816466,  817334,  818898,\n",
       "         824592,  826703,  827322,  830177,  835145,  838550,  852922,\n",
       "         863644,  865158,  868828,  876658,  881985,  883018,  892795,\n",
       "         902975,  909699,  920044,  933189,  933642,  940771,  946816,\n",
       "         959240,  967964,  969950,  970476,  972692,  975289,  975452,\n",
       "         981579,  986913,  993924, 1009375, 1020378, 1020539, 1029711,\n",
       "        1035434, 1038659, 1040327, 1045214, 1047602, 1051566, 1067976,\n",
       "        1077405, 1093026, 1094488, 1102355, 1113141, 1118613, 1123842,\n",
       "        1128582, 1130715, 1131249, 1144141, 1154741, 1161444, 1165523,\n",
       "        1166655, 1176472, 1182000, 1194639, 1209091, 1210044, 1220173,\n",
       "        1239704, 1246529, 1247764, 1248302, 1259523, 1263920, 1267333,\n",
       "        1271487, 1273028, 1273922, 1277526, 1286103, 1294477, 1299249,\n",
       "        1315903, 1332671, 1336161, 1342608, 1346077, 1353552, 1353992,\n",
       "        1361571, 1382632, 1385131, 1385432, 1390037, 1390180, 1390533,\n",
       "        1396147, 1424147, 1439442, 1441498, 1458133, 1465885, 1467654,\n",
       "        1470737, 1484324, 1486290, 1486877, 1491912, 1495992, 1499061,\n",
       "        1502947, 1506823, 1519114, 1528110, 1528874, 1535317, 1535837,\n",
       "        1537994, 1542003, 1565465, 1569074, 1575943, 1576927, 1587936,\n",
       "        1590228, 1590430, 1611200, 1611863, 1617250, 1619410, 1627099,\n",
       "        1627468, 1628109, 1629055, 1630192, 1646825, 1653128, 1657482,\n",
       "        1668243, 1671900, 1675268, 1680150, 1721460, 1724550, 1727586,\n",
       "        1734722, 1755293, 1766581, 1779264, 1779871, 1792270, 1818682,\n",
       "        1825965, 1829217, 1839183, 1840765, 1846653, 1856308, 1856329,\n",
       "        1859792, 1860555, 1873472, 1874149, 1886294, 1896326, 1901279,\n",
       "        1902356, 1914028, 1925585, 1937372, 1952625, 1957531, 1957930,\n",
       "        1959105, 1960549, 1962580, 1974903, 1987310, 1987353, 1989143,\n",
       "        1993542, 2005374, 2015770, 2037339, 2044337, 2066498, 2089009,\n",
       "        2100100, 2106818, 2115591, 2125429, 2137109, 2139605, 2140114,\n",
       "        2145476, 2146588, 2156621, 2161366, 2166843, 2167961, 2169600,\n",
       "        2171157, 2173065, 2174962, 2179364, 2179667, 2185480, 2194229,\n",
       "        2195921, 2201224, 2202500, 2209129, 2212525, 2214391, 2219300,\n",
       "        2220193, 2222001, 2230411, 2239876, 2241520, 2256595, 2257372,\n",
       "        2268039, 2273832, 2275181, 2276505, 2280540, 2286879, 2288955,\n",
       "        2292131, 2292197, 2293235, 2314985, 2325023, 2327032, 2329235,\n",
       "        2334745, 2336062, 2337263, 2339031, 2359433, 2366695, 2368373,\n",
       "        2386949, 2392034, 2398976, 2399671, 2401555, 2403897, 2404166,\n",
       "        2412531, 2414864, 2418913, 2419063, 2421164, 2443039, 2444258,\n",
       "        2457815, 2459997, 2492370, 2501473, 2501929, 2510138, 2523884,\n",
       "        2525679, 2530261, 2550822, 2560427, 2588062, 2596458, 2605546,\n",
       "        2620040, 2622217, 2643474, 2649149, 2649189, 2652480, 2671790,\n",
       "        2675008, 2676680, 2685791, 2692270, 2692695, 2732111, 2735094,\n",
       "        2736042, 2737075, 2749004, 2755117, 2763254, 2769344, 2777324,\n",
       "        2783808, 2784650, 2786381, 2787343, 2787700, 2789546, 2796177,\n",
       "        2807410, 2814510, 2815433, 2816668, 2830599, 2845159, 2852790,\n",
       "        2866150, 2887761, 2908599, 2921280, 2922768, 2928429, 2929659,\n",
       "        2930321, 2935260, 2939595, 2944635, 2947051, 2964743, 2973544,\n",
       "        2993226, 3002473, 3002863, 3003779, 3012426, 3014605, 3023622,\n",
       "        3026926, 3028505, 3034036, 3036769, 3064840, 3085778, 3089273,\n",
       "        3099531, 3118554, 3120229, 3122803, 3139195, 3145927, 3146398,\n",
       "        3146740, 3155020, 3186100, 3190180, 3191399, 3192846, 3193131,\n",
       "        3193409, 3194462, 3211992, 3234158, 3237231, 3241725, 3245600,\n",
       "        3249621, 3261762, 3262148, 3269186, 3269236, 3277800, 3306773,\n",
       "        3308204, 3312849, 3315749, 3321070, 3328477, 3343870, 3351083,\n",
       "        3355077, 3380913, 3391940, 3393953, 3394951, 3396334, 3405936,\n",
       "        3407400, 3407934, 3427559, 3429845, 3432333, 3433735, 3435088,\n",
       "        3436497, 3442824, 3444413, 3445212, 3457127, 3471088, 3474768,\n",
       "        3477652, 3485180, 3487333, 3491449, 3500958, 3505758, 3507595,\n",
       "        3512343, 3526350, 3529975, 3530608, 3537554, 3551007, 3552405,\n",
       "        3556325, 3557313, 3562540, 3586847, 3590114, 3592849, 3596454,\n",
       "        3610426, 3615565, 3619538, 3620688, 3629120, 3632996, 3633774,\n",
       "        3635688, 3638894, 3649085, 3659013, 3660159, 3661018, 3661147,\n",
       "        3668107, 3669768, 3681424, 3691921, 3704073, 3705616, 3720325,\n",
       "        3724986, 3726849, 3735327, 3736587, 3737831, 3742170, 3746538,\n",
       "        3748175, 3753215, 3753892, 3755993, 3756004, 3760238, 3765096,\n",
       "        3770842, 3794878, 3796000, 3796211, 3796305, 3797560, 3799246,\n",
       "        3803415, 3817788, 3834128, 3841633, 3843849, 3844949, 3844967,\n",
       "        3845340, 3855117, 3857074, 3868895, 3874795, 3882556, 3887313,\n",
       "        3907382, 3917730, 3925212, 3930177, 3938877, 3969901, 3972188,\n",
       "        4006054, 4006103, 4008327, 4011832, 4023084, 4044434, 4049193,\n",
       "        4050426, 4056268, 4075050, 4104304, 4115416, 4117881, 4121111,\n",
       "        4127706, 4128347, 4141767, 4150829, 4151236, 4154582, 4155903,\n",
       "        4156171, 4157931, 4188212, 4192127, 4196071, 4201620, 4202477,\n",
       "        4225583, 4227386, 4227841, 4233293, 4236108, 4238415, 4261036,\n",
       "        4266851, 4275090, 4281596, 4289653, 4308497, 4310731, 4343381,\n",
       "        4345957, 4346199, 4350227, 4357295, 4367283, 4380290, 4385803,\n",
       "        4387416, 4392361, 4392528, 4393266, 4396236, 4398914, 4406079,\n",
       "        4414845, 4420971, 4432999, 4436334, 4438525]), 670)"
      ]
     },
     "metadata": {},
     "execution_count": 63
    }
   ]
  },
  {
   "cell_type": "code",
   "source": [
    "print(len(lb_cold_session_ids)/len(lb_all_session_ids) * 100)"
   ],
   "metadata": {
    "colab": {
     "base_uri": "https://localhost:8080/"
    },
    "id": "Uzf-lDnQ_Jc1",
    "executionInfo": {
     "status": "ok",
     "timestamp": 1657728638296,
     "user_tz": -120,
     "elapsed": 14,
     "user": {
      "displayName": "Riccardo Pala",
      "userId": "14726583371054773727"
     }
    },
    "outputId": "f0d8e549-6522-4bb9-90c6-0244a4457d30",
    "pycharm": {
     "name": "#%%\n"
    }
   },
   "execution_count": 64,
   "outputs": [
    {
     "output_type": "stream",
     "name": "stdout",
     "text": [
      "1.34\n"
     ]
    }
   ]
  },
  {
   "cell_type": "markdown",
   "source": [
    "1.34% of test leaderboard sessions ONLY contains cold item views!"
   ],
   "metadata": {
    "id": "Sb-nQgp0_U1V",
    "pycharm": {
     "name": "#%% md\n"
    }
   }
  },
  {
   "cell_type": "markdown",
   "source": [
    "**Test Final Sessions**"
   ],
   "metadata": {
    "id": "qcLf9-Tn_gd0",
    "pycharm": {
     "name": "#%% md\n"
    }
   }
  },
  {
   "cell_type": "code",
   "source": [
    "fin_warm_sessions_df = test_final_sessions_df[~test_final_sessions_df['item_id'].isin(cold_items)]\n",
    "fin_warm_sessions_df"
   ],
   "metadata": {
    "colab": {
     "base_uri": "https://localhost:8080/",
     "height": 424
    },
    "executionInfo": {
     "status": "ok",
     "timestamp": 1657728638296,
     "user_tz": -120,
     "elapsed": 14,
     "user": {
      "displayName": "Riccardo Pala",
      "userId": "14726583371054773727"
     }
    },
    "outputId": "d1540a51-ae8c-4c54-b76c-93f6936e5dc4",
    "id": "YvBF7N75_gd1",
    "pycharm": {
     "name": "#%%\n"
    }
   },
   "execution_count": 65,
   "outputs": [
    {
     "output_type": "execute_result",
     "data": {
      "text/plain": [
       "        session_id  item_id                     date\n",
       "0               61    27088  2021-06-01 08:12:39.664\n",
       "1               96    11693  2021-06-19 17:48:05.227\n",
       "2               96    18298  2021-06-19 17:49:08.589\n",
       "3               96     4738  2021-06-19 17:49:15.838\n",
       "4               96      495   2021-06-19 17:49:20.88\n",
       "...            ...      ...                      ...\n",
       "226133     4439648     7154  2021-06-14 08:03:19.024\n",
       "226134     4439675    23067  2021-06-01 12:21:07.959\n",
       "226135     4439868    26085  2021-06-16 22:18:27.509\n",
       "226136     4439966    19483  2021-06-06 20:05:06.457\n",
       "226137     4439966    20782  2021-06-06 20:06:47.779\n",
       "\n",
       "[221606 rows x 3 columns]"
      ],
      "text/html": [
       "\n",
       "  <div id=\"df-1c46f4f0-d82c-4cac-9c81-1ef88a810a5d\">\n",
       "    <div class=\"colab-df-container\">\n",
       "      <div>\n",
       "<style scoped>\n",
       "    .dataframe tbody tr th:only-of-type {\n",
       "        vertical-align: middle;\n",
       "    }\n",
       "\n",
       "    .dataframe tbody tr th {\n",
       "        vertical-align: top;\n",
       "    }\n",
       "\n",
       "    .dataframe thead th {\n",
       "        text-align: right;\n",
       "    }\n",
       "</style>\n",
       "<table border=\"1\" class=\"dataframe\">\n",
       "  <thead>\n",
       "    <tr style=\"text-align: right;\">\n",
       "      <th></th>\n",
       "      <th>session_id</th>\n",
       "      <th>item_id</th>\n",
       "      <th>date</th>\n",
       "    </tr>\n",
       "  </thead>\n",
       "  <tbody>\n",
       "    <tr>\n",
       "      <th>0</th>\n",
       "      <td>61</td>\n",
       "      <td>27088</td>\n",
       "      <td>2021-06-01 08:12:39.664</td>\n",
       "    </tr>\n",
       "    <tr>\n",
       "      <th>1</th>\n",
       "      <td>96</td>\n",
       "      <td>11693</td>\n",
       "      <td>2021-06-19 17:48:05.227</td>\n",
       "    </tr>\n",
       "    <tr>\n",
       "      <th>2</th>\n",
       "      <td>96</td>\n",
       "      <td>18298</td>\n",
       "      <td>2021-06-19 17:49:08.589</td>\n",
       "    </tr>\n",
       "    <tr>\n",
       "      <th>3</th>\n",
       "      <td>96</td>\n",
       "      <td>4738</td>\n",
       "      <td>2021-06-19 17:49:15.838</td>\n",
       "    </tr>\n",
       "    <tr>\n",
       "      <th>4</th>\n",
       "      <td>96</td>\n",
       "      <td>495</td>\n",
       "      <td>2021-06-19 17:49:20.88</td>\n",
       "    </tr>\n",
       "    <tr>\n",
       "      <th>...</th>\n",
       "      <td>...</td>\n",
       "      <td>...</td>\n",
       "      <td>...</td>\n",
       "    </tr>\n",
       "    <tr>\n",
       "      <th>226133</th>\n",
       "      <td>4439648</td>\n",
       "      <td>7154</td>\n",
       "      <td>2021-06-14 08:03:19.024</td>\n",
       "    </tr>\n",
       "    <tr>\n",
       "      <th>226134</th>\n",
       "      <td>4439675</td>\n",
       "      <td>23067</td>\n",
       "      <td>2021-06-01 12:21:07.959</td>\n",
       "    </tr>\n",
       "    <tr>\n",
       "      <th>226135</th>\n",
       "      <td>4439868</td>\n",
       "      <td>26085</td>\n",
       "      <td>2021-06-16 22:18:27.509</td>\n",
       "    </tr>\n",
       "    <tr>\n",
       "      <th>226136</th>\n",
       "      <td>4439966</td>\n",
       "      <td>19483</td>\n",
       "      <td>2021-06-06 20:05:06.457</td>\n",
       "    </tr>\n",
       "    <tr>\n",
       "      <th>226137</th>\n",
       "      <td>4439966</td>\n",
       "      <td>20782</td>\n",
       "      <td>2021-06-06 20:06:47.779</td>\n",
       "    </tr>\n",
       "  </tbody>\n",
       "</table>\n",
       "<p>221606 rows × 3 columns</p>\n",
       "</div>\n",
       "      <button class=\"colab-df-convert\" onclick=\"convertToInteractive('df-1c46f4f0-d82c-4cac-9c81-1ef88a810a5d')\"\n",
       "              title=\"Convert this dataframe to an interactive table.\"\n",
       "              style=\"display:none;\">\n",
       "        \n",
       "  <svg xmlns=\"http://www.w3.org/2000/svg\" height=\"24px\"viewBox=\"0 0 24 24\"\n",
       "       width=\"24px\">\n",
       "    <path d=\"M0 0h24v24H0V0z\" fill=\"none\"/>\n",
       "    <path d=\"M18.56 5.44l.94 2.06.94-2.06 2.06-.94-2.06-.94-.94-2.06-.94 2.06-2.06.94zm-11 1L8.5 8.5l.94-2.06 2.06-.94-2.06-.94L8.5 2.5l-.94 2.06-2.06.94zm10 10l.94 2.06.94-2.06 2.06-.94-2.06-.94-.94-2.06-.94 2.06-2.06.94z\"/><path d=\"M17.41 7.96l-1.37-1.37c-.4-.4-.92-.59-1.43-.59-.52 0-1.04.2-1.43.59L10.3 9.45l-7.72 7.72c-.78.78-.78 2.05 0 2.83L4 21.41c.39.39.9.59 1.41.59.51 0 1.02-.2 1.41-.59l7.78-7.78 2.81-2.81c.8-.78.8-2.07 0-2.86zM5.41 20L4 18.59l7.72-7.72 1.47 1.35L5.41 20z\"/>\n",
       "  </svg>\n",
       "      </button>\n",
       "      \n",
       "  <style>\n",
       "    .colab-df-container {\n",
       "      display:flex;\n",
       "      flex-wrap:wrap;\n",
       "      gap: 12px;\n",
       "    }\n",
       "\n",
       "    .colab-df-convert {\n",
       "      background-color: #E8F0FE;\n",
       "      border: none;\n",
       "      border-radius: 50%;\n",
       "      cursor: pointer;\n",
       "      display: none;\n",
       "      fill: #1967D2;\n",
       "      height: 32px;\n",
       "      padding: 0 0 0 0;\n",
       "      width: 32px;\n",
       "    }\n",
       "\n",
       "    .colab-df-convert:hover {\n",
       "      background-color: #E2EBFA;\n",
       "      box-shadow: 0px 1px 2px rgba(60, 64, 67, 0.3), 0px 1px 3px 1px rgba(60, 64, 67, 0.15);\n",
       "      fill: #174EA6;\n",
       "    }\n",
       "\n",
       "    [theme=dark] .colab-df-convert {\n",
       "      background-color: #3B4455;\n",
       "      fill: #D2E3FC;\n",
       "    }\n",
       "\n",
       "    [theme=dark] .colab-df-convert:hover {\n",
       "      background-color: #434B5C;\n",
       "      box-shadow: 0px 1px 3px 1px rgba(0, 0, 0, 0.15);\n",
       "      filter: drop-shadow(0px 1px 2px rgba(0, 0, 0, 0.3));\n",
       "      fill: #FFFFFF;\n",
       "    }\n",
       "  </style>\n",
       "\n",
       "      <script>\n",
       "        const buttonEl =\n",
       "          document.querySelector('#df-1c46f4f0-d82c-4cac-9c81-1ef88a810a5d button.colab-df-convert');\n",
       "        buttonEl.style.display =\n",
       "          google.colab.kernel.accessAllowed ? 'block' : 'none';\n",
       "\n",
       "        async function convertToInteractive(key) {\n",
       "          const element = document.querySelector('#df-1c46f4f0-d82c-4cac-9c81-1ef88a810a5d');\n",
       "          const dataTable =\n",
       "            await google.colab.kernel.invokeFunction('convertToInteractive',\n",
       "                                                     [key], {});\n",
       "          if (!dataTable) return;\n",
       "\n",
       "          const docLinkHtml = 'Like what you see? Visit the ' +\n",
       "            '<a target=\"_blank\" href=https://colab.research.google.com/notebooks/data_table.ipynb>data table notebook</a>'\n",
       "            + ' to learn more about interactive tables.';\n",
       "          element.innerHTML = '';\n",
       "          dataTable['output_type'] = 'display_data';\n",
       "          await google.colab.output.renderOutput(dataTable, element);\n",
       "          const docLink = document.createElement('div');\n",
       "          docLink.innerHTML = docLinkHtml;\n",
       "          element.appendChild(docLink);\n",
       "        }\n",
       "      </script>\n",
       "    </div>\n",
       "  </div>\n",
       "  "
      ]
     },
     "metadata": {},
     "execution_count": 65
    }
   ]
  },
  {
   "cell_type": "code",
   "source": [
    "fin_all_session_ids = test_final_sessions_df['session_id'].unique()\n",
    "fin_warm_session_ids = fin_warm_sessions_df['session_id'].unique()\n",
    "\n",
    "fin_cold_session_ids = fin_all_session_ids[~np.isin(fin_all_session_ids, fin_warm_session_ids)]\n",
    "\n",
    "fin_cold_session_ids, len(fin_cold_session_ids)"
   ],
   "metadata": {
    "colab": {
     "base_uri": "https://localhost:8080/"
    },
    "executionInfo": {
     "status": "ok",
     "timestamp": 1657728638297,
     "user_tz": -120,
     "elapsed": 14,
     "user": {
      "displayName": "Riccardo Pala",
      "userId": "14726583371054773727"
     }
    },
    "outputId": "40a5cebf-4835-4768-b872-95c1cf1f87bb",
    "id": "LQ0DLPh5_gd1",
    "pycharm": {
     "name": "#%%\n"
    }
   },
   "execution_count": 66,
   "outputs": [
    {
     "output_type": "execute_result",
     "data": {
      "text/plain": [
       "(array([   3183,    4657,    5531,    6857,   11738,   12076,   28833,\n",
       "          49315,   49791,   50748,   55646,   79146,   84471,   90448,\n",
       "          98232,  104024,  132062,  144033,  145327,  151790,  153962,\n",
       "         168158,  170782,  178913,  187805,  200235,  201392,  204723,\n",
       "         206287,  217122,  221079,  230793,  243587,  257165,  258265,\n",
       "         262167,  267692,  269511,  290581,  292644,  295221,  301159,\n",
       "         311122,  313238,  320349,  322570,  323055,  326080,  326671,\n",
       "         331194,  334339,  341483,  346397,  351308,  352252,  353269,\n",
       "         359109,  360453,  366458,  368996,  374580,  376844,  379337,\n",
       "         385421,  386975,  389100,  400556,  400896,  415143,  420426,\n",
       "         422501,  428375,  434575,  434989,  437630,  438714,  442463,\n",
       "         449203,  464397,  473508,  478361,  484345,  484631,  492564,\n",
       "         494231,  501397,  508196,  512223,  518620,  519525,  533869,\n",
       "         535201,  535693,  537746,  541660,  551386,  552540,  560347,\n",
       "         565441,  592178,  595596,  595713,  598561,  609105,  609513,\n",
       "         633759,  635776,  636454,  644789,  655208,  661905,  663297,\n",
       "         671445,  680589,  691288,  723480,  729364,  730351,  736093,\n",
       "         742587,  742992,  746984,  748658,  751274,  759313,  761655,\n",
       "         766146,  768968,  779633,  780313,  787458,  789849,  796945,\n",
       "         801880,  805516,  806794,  807469,  821632,  823799,  828285,\n",
       "         833864,  840345,  841513,  841682,  846618,  847498,  849957,\n",
       "         862856,  870377,  880861,  886121,  891305,  897549,  899846,\n",
       "         906965,  922424,  927698,  933645,  936267,  940379,  942394,\n",
       "         943859,  950412,  951301,  956747,  968156,  971086,  977626,\n",
       "         982311,  984578,  987010,  997691, 1001421, 1009056, 1013573,\n",
       "        1022794, 1022965, 1033787, 1037413, 1038096, 1040505, 1043608,\n",
       "        1051749, 1064439, 1066966, 1068175, 1073685, 1073904, 1086916,\n",
       "        1091983, 1098229, 1123744, 1134571, 1142429, 1143213, 1147859,\n",
       "        1169248, 1169515, 1177854, 1186948, 1201622, 1203727, 1203937,\n",
       "        1223749, 1225803, 1241680, 1242168, 1242687, 1244018, 1244057,\n",
       "        1260750, 1274948, 1298203, 1301675, 1321941, 1326642, 1333176,\n",
       "        1344602, 1353630, 1359174, 1359360, 1360621, 1370447, 1388958,\n",
       "        1389172, 1391814, 1392067, 1410990, 1417077, 1420570, 1425453,\n",
       "        1428745, 1430774, 1434050, 1453096, 1456275, 1456547, 1462454,\n",
       "        1465292, 1473015, 1475516, 1480745, 1481692, 1488705, 1489724,\n",
       "        1492551, 1498852, 1500107, 1510956, 1530110, 1531310, 1543169,\n",
       "        1545567, 1550359, 1553124, 1557119, 1559454, 1564344, 1574886,\n",
       "        1575023, 1578332, 1581957, 1583629, 1585611, 1591148, 1593636,\n",
       "        1594238, 1594690, 1603032, 1603357, 1604872, 1618396, 1625285,\n",
       "        1626538, 1627542, 1663311, 1664574, 1665505, 1667637, 1670382,\n",
       "        1672515, 1675920, 1680882, 1694815, 1697280, 1702559, 1717932,\n",
       "        1721114, 1723365, 1729295, 1739334, 1748638, 1749033, 1762376,\n",
       "        1763848, 1765204, 1766553, 1772624, 1783225, 1783540, 1784685,\n",
       "        1790458, 1797688, 1806556, 1809570, 1814452, 1823999, 1828806,\n",
       "        1830259, 1831491, 1835802, 1840322, 1851767, 1855887, 1857357,\n",
       "        1864823, 1866342, 1892185, 1895028, 1902761, 1907340, 1911760,\n",
       "        1929890, 1934134, 1940041, 1946734, 1952128, 1955250, 1962995,\n",
       "        1986550, 1991095, 2001914, 2003901, 2025882, 2029659, 2040118,\n",
       "        2042208, 2047534, 2053624, 2058256, 2058575, 2069660, 2072008,\n",
       "        2091328, 2093006, 2095962, 2097697, 2102321, 2113107, 2115915,\n",
       "        2116246, 2125590, 2127346, 2132310, 2143127, 2150509, 2153231,\n",
       "        2156575, 2158737, 2163725, 2167555, 2170701, 2175233, 2188531,\n",
       "        2195562, 2217586, 2224725, 2229759, 2233689, 2236021, 2248981,\n",
       "        2249341, 2259867, 2263682, 2267661, 2271404, 2286850, 2288562,\n",
       "        2288579, 2296913, 2297275, 2301696, 2303276, 2324426, 2327827,\n",
       "        2338202, 2346640, 2353366, 2357570, 2359409, 2361111, 2362896,\n",
       "        2371062, 2374010, 2380449, 2397328, 2397469, 2398086, 2399232,\n",
       "        2399917, 2405248, 2412131, 2415773, 2418686, 2420464, 2421184,\n",
       "        2424478, 2427042, 2432069, 2440482, 2440688, 2446953, 2453143,\n",
       "        2453379, 2456067, 2456609, 2461083, 2475663, 2480604, 2482081,\n",
       "        2483209, 2486574, 2491629, 2498565, 2503305, 2504086, 2504471,\n",
       "        2505563, 2506929, 2517766, 2521514, 2523873, 2526971, 2529379,\n",
       "        2548013, 2548985, 2577099, 2578310, 2578838, 2579723, 2583787,\n",
       "        2587283, 2603842, 2605325, 2624015, 2625395, 2625546, 2628641,\n",
       "        2630643, 2633328, 2635219, 2642186, 2647929, 2658211, 2665659,\n",
       "        2704402, 2718128, 2718373, 2727170, 2727838, 2729737, 2740350,\n",
       "        2751484, 2751975, 2754942, 2757681, 2770167, 2777232, 2777479,\n",
       "        2778706, 2780520, 2780812, 2785522, 2790626, 2792462, 2799294,\n",
       "        2809069, 2811738, 2861335, 2868805, 2869067, 2871172, 2896916,\n",
       "        2905907, 2907327, 2913082, 2940841, 2941766, 2943108, 2947543,\n",
       "        2951629, 2953346, 2954836, 2957784, 2957892, 2959558, 2968577,\n",
       "        2977841, 2982938, 2991295, 2993097, 2993541, 2994229, 3000123,\n",
       "        3014402, 3028150, 3037166, 3037238, 3051144, 3054902, 3064497,\n",
       "        3065814, 3077999, 3090126, 3091813, 3096210, 3097237, 3100462,\n",
       "        3108258, 3110483, 3111489, 3113883, 3113891, 3121093, 3132479,\n",
       "        3135961, 3153225, 3156119, 3156140, 3162063, 3167615, 3171974,\n",
       "        3173907, 3175664, 3177690, 3180196, 3182653, 3191102, 3198309,\n",
       "        3200979, 3207110, 3216452, 3219622, 3221988, 3235793, 3246876,\n",
       "        3262929, 3268595, 3284697, 3288168, 3291750, 3297295, 3301291,\n",
       "        3309980, 3314337, 3317682, 3336626, 3338962, 3339038, 3342543,\n",
       "        3342683, 3346480, 3349664, 3367927, 3371727, 3371935, 3389739,\n",
       "        3396337, 3432990, 3433684, 3433843, 3442675, 3446944, 3464005,\n",
       "        3469622, 3470199, 3473472, 3497215, 3517699, 3524084, 3534392,\n",
       "        3541259, 3545112, 3549004, 3564388, 3565331, 3565853, 3568418,\n",
       "        3569104, 3583517, 3631650, 3633803, 3643753, 3645514, 3646698,\n",
       "        3651122, 3657319, 3674505, 3681397, 3682039, 3692419, 3696949,\n",
       "        3705311, 3715463, 3718348, 3722634, 3728236, 3729640, 3736210,\n",
       "        3736386, 3738161, 3740084, 3753594, 3756536, 3756865, 3756910,\n",
       "        3770863, 3774119, 3778798, 3790226, 3794399, 3806328, 3812474,\n",
       "        3813648, 3815071, 3817381, 3825806, 3826790, 3840010, 3841623,\n",
       "        3843901, 3847750, 3868082, 3868446, 3875067, 3876707, 3880405,\n",
       "        3886312, 3893791, 3909055, 3918342, 3928727, 3929325, 3939869,\n",
       "        3942144, 3950722, 3952182, 3953190, 3958854, 3961263, 3962212,\n",
       "        3964574, 3967230, 3970814, 3985417, 3992778, 3996112, 4008983,\n",
       "        4034815, 4039416, 4040453, 4045811, 4047251, 4050318, 4055922,\n",
       "        4067558, 4072690, 4073000, 4081868, 4105278, 4108114, 4111489,\n",
       "        4113120, 4125624, 4139151, 4141082, 4145786, 4150592, 4153943,\n",
       "        4172464, 4182855, 4194679, 4197062, 4210519, 4211225, 4228338,\n",
       "        4232760, 4253559, 4256206, 4262235, 4266549, 4269794, 4270433,\n",
       "        4280361, 4282668, 4291378, 4296941, 4299531, 4301596, 4310341,\n",
       "        4325887, 4334517, 4334974, 4340784, 4344072, 4348210, 4351166,\n",
       "        4380094, 4389770, 4395950, 4397199, 4415908, 4417045]), 713)"
      ]
     },
     "metadata": {},
     "execution_count": 66
    }
   ]
  },
  {
   "cell_type": "code",
   "source": [
    "print(len(fin_cold_session_ids)/len(fin_all_session_ids) * 100)"
   ],
   "metadata": {
    "colab": {
     "base_uri": "https://localhost:8080/"
    },
    "executionInfo": {
     "status": "ok",
     "timestamp": 1657728638649,
     "user_tz": -120,
     "elapsed": 364,
     "user": {
      "displayName": "Riccardo Pala",
      "userId": "14726583371054773727"
     }
    },
    "outputId": "9c2ece16-42d8-400e-d8b6-2cd86740b594",
    "id": "Ycr7Ida2_gd1",
    "pycharm": {
     "name": "#%%\n"
    }
   },
   "execution_count": 67,
   "outputs": [
    {
     "output_type": "stream",
     "name": "stdout",
     "text": [
      "1.426\n"
     ]
    }
   ]
  },
  {
   "cell_type": "markdown",
   "source": [
    "1.426% of test final sessions ONLY contains cold item views!"
   ],
   "metadata": {
    "id": "uzmQgVFE_gd2",
    "pycharm": {
     "name": "#%% md\n"
    }
   }
  },
  {
   "cell_type": "code",
   "source": [
    "print((len(lb_cold_session_ids) + len(fin_cold_session_ids)) / (len(lb_all_session_ids) + len(fin_all_session_ids)) * 100)"
   ],
   "metadata": {
    "colab": {
     "base_uri": "https://localhost:8080/"
    },
    "id": "0NxkDJrF_45a",
    "executionInfo": {
     "status": "ok",
     "timestamp": 1657728638650,
     "user_tz": -120,
     "elapsed": 7,
     "user": {
      "displayName": "Riccardo Pala",
      "userId": "14726583371054773727"
     }
    },
    "outputId": "818c6ede-d34a-40d8-9ee0-6cc27d884325",
    "pycharm": {
     "name": "#%%\n"
    }
   },
   "execution_count": 68,
   "outputs": [
    {
     "output_type": "stream",
     "name": "stdout",
     "text": [
      "1.383\n"
     ]
    }
   ]
  },
  {
   "cell_type": "markdown",
   "source": [
    "1.383% of all test sessions ONLY contains cold item views!"
   ],
   "metadata": {
    "id": "D26t0TVGAGIj",
    "pycharm": {
     "name": "#%% md\n"
    }
   }
  },
  {
   "cell_type": "markdown",
   "source": [
    "## **Seasonalities**"
   ],
   "metadata": {
    "id": "M1GdZcGDAfyK",
    "pycharm": {
     "name": "#%% md\n"
    }
   }
  },
  {
   "cell_type": "code",
   "source": [
    "train_purchases_df_2020 = train_purchases_df[train_purchases_df['date'] <= '2020-12-31 23:59:59']\n",
    "train_purchases_df_2021 = train_purchases_df[train_purchases_df['date'] > '2020-12-31 23:59:59']"
   ],
   "metadata": {
    "id": "Fbgfh1VFjPpI",
    "executionInfo": {
     "status": "ok",
     "timestamp": 1657728638650,
     "user_tz": -120,
     "elapsed": 6,
     "user": {
      "displayName": "Riccardo Pala",
      "userId": "14726583371054773727"
     }
    },
    "pycharm": {
     "name": "#%%\n"
    }
   },
   "execution_count": 69,
   "outputs": []
  },
  {
   "cell_type": "markdown",
   "source": [
    "### Number of purchases by time slot"
   ],
   "metadata": {
    "id": "EGIR6cWlrEg7",
    "pycharm": {
     "name": "#%% md\n"
    }
   }
  },
  {
   "cell_type": "markdown",
   "source": [
    "#### 2020"
   ],
   "metadata": {
    "id": "5jVaZqMFrSlf",
    "pycharm": {
     "name": "#%% md\n"
    }
   }
  },
  {
   "cell_type": "code",
   "source": [
    "purchases_per_period_2020 = train_purchases_df_2020.copy()\n",
    "\n",
    "purchases_per_period_2020['period'] = [(pd.Timestamp(elem).hour // 4 + 1) for elem in purchases_per_period_2020['date']]\n",
    "purchases_per_period_2020['period'].replace({1: '00:00 - 03:59',\n",
    "                                             2: '04:00 - 07:59',\n",
    "                                             3: '08:00 - 11:59',\n",
    "                                             4: '12:00 - 15:59',\n",
    "                                             5: '16:00 - 19:59',\n",
    "                                             6: '20:00 - 23:59'},\n",
    "                                            inplace=True)\n",
    "purchases_per_period_2020"
   ],
   "metadata": {
    "id": "e7BC4LGVrO-H",
    "colab": {
     "base_uri": "https://localhost:8080/",
     "height": 424
    },
    "executionInfo": {
     "status": "ok",
     "timestamp": 1657728640855,
     "user_tz": -120,
     "elapsed": 2210,
     "user": {
      "displayName": "Riccardo Pala",
      "userId": "14726583371054773727"
     }
    },
    "outputId": "dacd7657-e4d6-4e55-c23f-e97691ef8d99",
    "pycharm": {
     "name": "#%%\n"
    }
   },
   "execution_count": 70,
   "outputs": [
    {
     "output_type": "execute_result",
     "data": {
      "text/plain": [
       "        session_id  item_id                     date         period\n",
       "0                3    15085  2020-12-18 21:26:47.986  20:00 - 23:59\n",
       "1               13    18626  2020-03-13 19:36:15.507  16:00 - 19:59\n",
       "2               18    24911  2020-08-26 19:20:32.049  16:00 - 19:59\n",
       "3               19    12534   2020-11-02 17:16:45.92  16:00 - 19:59\n",
       "4               24    13226  2020-02-26 18:27:44.114  16:00 - 19:59\n",
       "...            ...      ...                      ...            ...\n",
       "999994     4439982    25770  2020-05-06 14:26:22.778  12:00 - 15:59\n",
       "999996     4439990     8786  2020-08-22 14:28:22.382  12:00 - 15:59\n",
       "999997     4439994    21630  2020-11-27 20:10:28.961  20:00 - 23:59\n",
       "999998     4439999    16962  2020-11-27 11:01:41.356  08:00 - 11:59\n",
       "999999     4440001    16631  2020-10-30 23:46:05.218  20:00 - 23:59\n",
       "\n",
       "[687093 rows x 4 columns]"
      ],
      "text/html": [
       "\n",
       "  <div id=\"df-596240a2-0c06-4403-ab5e-88ffb5654acb\">\n",
       "    <div class=\"colab-df-container\">\n",
       "      <div>\n",
       "<style scoped>\n",
       "    .dataframe tbody tr th:only-of-type {\n",
       "        vertical-align: middle;\n",
       "    }\n",
       "\n",
       "    .dataframe tbody tr th {\n",
       "        vertical-align: top;\n",
       "    }\n",
       "\n",
       "    .dataframe thead th {\n",
       "        text-align: right;\n",
       "    }\n",
       "</style>\n",
       "<table border=\"1\" class=\"dataframe\">\n",
       "  <thead>\n",
       "    <tr style=\"text-align: right;\">\n",
       "      <th></th>\n",
       "      <th>session_id</th>\n",
       "      <th>item_id</th>\n",
       "      <th>date</th>\n",
       "      <th>period</th>\n",
       "    </tr>\n",
       "  </thead>\n",
       "  <tbody>\n",
       "    <tr>\n",
       "      <th>0</th>\n",
       "      <td>3</td>\n",
       "      <td>15085</td>\n",
       "      <td>2020-12-18 21:26:47.986</td>\n",
       "      <td>20:00 - 23:59</td>\n",
       "    </tr>\n",
       "    <tr>\n",
       "      <th>1</th>\n",
       "      <td>13</td>\n",
       "      <td>18626</td>\n",
       "      <td>2020-03-13 19:36:15.507</td>\n",
       "      <td>16:00 - 19:59</td>\n",
       "    </tr>\n",
       "    <tr>\n",
       "      <th>2</th>\n",
       "      <td>18</td>\n",
       "      <td>24911</td>\n",
       "      <td>2020-08-26 19:20:32.049</td>\n",
       "      <td>16:00 - 19:59</td>\n",
       "    </tr>\n",
       "    <tr>\n",
       "      <th>3</th>\n",
       "      <td>19</td>\n",
       "      <td>12534</td>\n",
       "      <td>2020-11-02 17:16:45.92</td>\n",
       "      <td>16:00 - 19:59</td>\n",
       "    </tr>\n",
       "    <tr>\n",
       "      <th>4</th>\n",
       "      <td>24</td>\n",
       "      <td>13226</td>\n",
       "      <td>2020-02-26 18:27:44.114</td>\n",
       "      <td>16:00 - 19:59</td>\n",
       "    </tr>\n",
       "    <tr>\n",
       "      <th>...</th>\n",
       "      <td>...</td>\n",
       "      <td>...</td>\n",
       "      <td>...</td>\n",
       "      <td>...</td>\n",
       "    </tr>\n",
       "    <tr>\n",
       "      <th>999994</th>\n",
       "      <td>4439982</td>\n",
       "      <td>25770</td>\n",
       "      <td>2020-05-06 14:26:22.778</td>\n",
       "      <td>12:00 - 15:59</td>\n",
       "    </tr>\n",
       "    <tr>\n",
       "      <th>999996</th>\n",
       "      <td>4439990</td>\n",
       "      <td>8786</td>\n",
       "      <td>2020-08-22 14:28:22.382</td>\n",
       "      <td>12:00 - 15:59</td>\n",
       "    </tr>\n",
       "    <tr>\n",
       "      <th>999997</th>\n",
       "      <td>4439994</td>\n",
       "      <td>21630</td>\n",
       "      <td>2020-11-27 20:10:28.961</td>\n",
       "      <td>20:00 - 23:59</td>\n",
       "    </tr>\n",
       "    <tr>\n",
       "      <th>999998</th>\n",
       "      <td>4439999</td>\n",
       "      <td>16962</td>\n",
       "      <td>2020-11-27 11:01:41.356</td>\n",
       "      <td>08:00 - 11:59</td>\n",
       "    </tr>\n",
       "    <tr>\n",
       "      <th>999999</th>\n",
       "      <td>4440001</td>\n",
       "      <td>16631</td>\n",
       "      <td>2020-10-30 23:46:05.218</td>\n",
       "      <td>20:00 - 23:59</td>\n",
       "    </tr>\n",
       "  </tbody>\n",
       "</table>\n",
       "<p>687093 rows × 4 columns</p>\n",
       "</div>\n",
       "      <button class=\"colab-df-convert\" onclick=\"convertToInteractive('df-596240a2-0c06-4403-ab5e-88ffb5654acb')\"\n",
       "              title=\"Convert this dataframe to an interactive table.\"\n",
       "              style=\"display:none;\">\n",
       "        \n",
       "  <svg xmlns=\"http://www.w3.org/2000/svg\" height=\"24px\"viewBox=\"0 0 24 24\"\n",
       "       width=\"24px\">\n",
       "    <path d=\"M0 0h24v24H0V0z\" fill=\"none\"/>\n",
       "    <path d=\"M18.56 5.44l.94 2.06.94-2.06 2.06-.94-2.06-.94-.94-2.06-.94 2.06-2.06.94zm-11 1L8.5 8.5l.94-2.06 2.06-.94-2.06-.94L8.5 2.5l-.94 2.06-2.06.94zm10 10l.94 2.06.94-2.06 2.06-.94-2.06-.94-.94-2.06-.94 2.06-2.06.94z\"/><path d=\"M17.41 7.96l-1.37-1.37c-.4-.4-.92-.59-1.43-.59-.52 0-1.04.2-1.43.59L10.3 9.45l-7.72 7.72c-.78.78-.78 2.05 0 2.83L4 21.41c.39.39.9.59 1.41.59.51 0 1.02-.2 1.41-.59l7.78-7.78 2.81-2.81c.8-.78.8-2.07 0-2.86zM5.41 20L4 18.59l7.72-7.72 1.47 1.35L5.41 20z\"/>\n",
       "  </svg>\n",
       "      </button>\n",
       "      \n",
       "  <style>\n",
       "    .colab-df-container {\n",
       "      display:flex;\n",
       "      flex-wrap:wrap;\n",
       "      gap: 12px;\n",
       "    }\n",
       "\n",
       "    .colab-df-convert {\n",
       "      background-color: #E8F0FE;\n",
       "      border: none;\n",
       "      border-radius: 50%;\n",
       "      cursor: pointer;\n",
       "      display: none;\n",
       "      fill: #1967D2;\n",
       "      height: 32px;\n",
       "      padding: 0 0 0 0;\n",
       "      width: 32px;\n",
       "    }\n",
       "\n",
       "    .colab-df-convert:hover {\n",
       "      background-color: #E2EBFA;\n",
       "      box-shadow: 0px 1px 2px rgba(60, 64, 67, 0.3), 0px 1px 3px 1px rgba(60, 64, 67, 0.15);\n",
       "      fill: #174EA6;\n",
       "    }\n",
       "\n",
       "    [theme=dark] .colab-df-convert {\n",
       "      background-color: #3B4455;\n",
       "      fill: #D2E3FC;\n",
       "    }\n",
       "\n",
       "    [theme=dark] .colab-df-convert:hover {\n",
       "      background-color: #434B5C;\n",
       "      box-shadow: 0px 1px 3px 1px rgba(0, 0, 0, 0.15);\n",
       "      filter: drop-shadow(0px 1px 2px rgba(0, 0, 0, 0.3));\n",
       "      fill: #FFFFFF;\n",
       "    }\n",
       "  </style>\n",
       "\n",
       "      <script>\n",
       "        const buttonEl =\n",
       "          document.querySelector('#df-596240a2-0c06-4403-ab5e-88ffb5654acb button.colab-df-convert');\n",
       "        buttonEl.style.display =\n",
       "          google.colab.kernel.accessAllowed ? 'block' : 'none';\n",
       "\n",
       "        async function convertToInteractive(key) {\n",
       "          const element = document.querySelector('#df-596240a2-0c06-4403-ab5e-88ffb5654acb');\n",
       "          const dataTable =\n",
       "            await google.colab.kernel.invokeFunction('convertToInteractive',\n",
       "                                                     [key], {});\n",
       "          if (!dataTable) return;\n",
       "\n",
       "          const docLinkHtml = 'Like what you see? Visit the ' +\n",
       "            '<a target=\"_blank\" href=https://colab.research.google.com/notebooks/data_table.ipynb>data table notebook</a>'\n",
       "            + ' to learn more about interactive tables.';\n",
       "          element.innerHTML = '';\n",
       "          dataTable['output_type'] = 'display_data';\n",
       "          await google.colab.output.renderOutput(dataTable, element);\n",
       "          const docLink = document.createElement('div');\n",
       "          docLink.innerHTML = docLinkHtml;\n",
       "          element.appendChild(docLink);\n",
       "        }\n",
       "      </script>\n",
       "    </div>\n",
       "  </div>\n",
       "  "
      ]
     },
     "metadata": {},
     "execution_count": 70
    }
   ]
  },
  {
   "cell_type": "code",
   "source": [
    "purchases_per_period_2020_count = purchases_per_period_2020.groupby(['period'])['session_id'].nunique()\n",
    "\n",
    "purchases_per_period_2020_count"
   ],
   "metadata": {
    "colab": {
     "base_uri": "https://localhost:8080/"
    },
    "id": "0gPU4_qFRpAC",
    "executionInfo": {
     "status": "ok",
     "timestamp": 1657728640855,
     "user_tz": -120,
     "elapsed": 7,
     "user": {
      "displayName": "Riccardo Pala",
      "userId": "14726583371054773727"
     }
    },
    "outputId": "b9060f13-9499-43e7-d02d-570d89b03241",
    "pycharm": {
     "name": "#%%\n"
    }
   },
   "execution_count": 71,
   "outputs": [
    {
     "output_type": "execute_result",
     "data": {
      "text/plain": [
       "period\n",
       "00:00 - 03:59     23945\n",
       "04:00 - 07:59     47914\n",
       "08:00 - 11:59    136721\n",
       "12:00 - 15:59    149965\n",
       "16:00 - 19:59    182537\n",
       "20:00 - 23:59    146011\n",
       "Name: session_id, dtype: int64"
      ]
     },
     "metadata": {},
     "execution_count": 71
    }
   ]
  },
  {
   "cell_type": "code",
   "source": [
    "plt.figure(figsize=(23, 7))\n",
    "plt.bar(purchases_per_period_2020_count.index, purchases_per_period_2020_count)\n",
    "plt.show()"
   ],
   "metadata": {
    "colab": {
     "base_uri": "https://localhost:8080/",
     "height": 428
    },
    "id": "gdsr_pZ0T0U3",
    "executionInfo": {
     "status": "ok",
     "timestamp": 1657728641336,
     "user_tz": -120,
     "elapsed": 486,
     "user": {
      "displayName": "Riccardo Pala",
      "userId": "14726583371054773727"
     }
    },
    "outputId": "d5525b5d-7d85-4c6f-af07-a1583b46f833",
    "pycharm": {
     "name": "#%%\n"
    }
   },
   "execution_count": 72,
   "outputs": [
    {
     "output_type": "display_data",
     "data": {
      "text/plain": [
       "<Figure size 1656x504 with 1 Axes>"
      ],
      "image/png": "[encoded data removed]"
     },
     "metadata": {
      "needs_background": "light"
     }
    }
   ]
  },
  {
   "cell_type": "markdown",
   "source": [
    "#### 2021"
   ],
   "metadata": {
    "id": "mxtHaLhPrUF4",
    "pycharm": {
     "name": "#%% md\n"
    }
   }
  },
  {
   "cell_type": "code",
   "source": [
    "purchases_per_period_2021 = train_purchases_df_2021.copy()\n",
    "\n",
    "purchases_per_period_2021['period'] = [(pd.Timestamp(elem).hour // 4 + 1) for elem in purchases_per_period_2021['date']]\n",
    "purchases_per_period_2021['period'].replace({1: '00:00 - 03:59',\n",
    "                                             2: '04:00 - 07:59',\n",
    "                                             3: '08:00 - 11:59',\n",
    "                                             4: '12:00 - 15:59',\n",
    "                                             5: '16:00 - 19:59',\n",
    "                                             6: '20:00 - 23:59'},\n",
    "                                            inplace=True)\n",
    "purchases_per_period_2021"
   ],
   "metadata": {
    "colab": {
     "base_uri": "https://localhost:8080/",
     "height": 424
    },
    "id": "c9O81bHWMF-r",
    "executionInfo": {
     "status": "ok",
     "timestamp": 1657728642241,
     "user_tz": -120,
     "elapsed": 910,
     "user": {
      "displayName": "Riccardo Pala",
      "userId": "14726583371054773727"
     }
    },
    "outputId": "6f5d53ca-ce4a-45f7-8d1a-f4ca8a4d83fa",
    "pycharm": {
     "name": "#%%\n"
    }
   },
   "execution_count": 73,
   "outputs": [
    {
     "output_type": "execute_result",
     "data": {
      "text/plain": [
       "        session_id  item_id                     date         period\n",
       "6               31     8345  2021-04-20 19:46:42.594  16:00 - 19:59\n",
       "8               42    11784  2021-03-01 15:17:04.264  12:00 - 15:59\n",
       "17             113    21107  2021-05-05 14:15:07.278  12:00 - 15:59\n",
       "18             115    25976  2021-05-27 10:24:05.043  08:00 - 11:59\n",
       "22             140    23502  2021-04-28 13:45:31.202  12:00 - 15:59\n",
       "...            ...      ...                      ...            ...\n",
       "999982     4439936     8060  2021-04-16 14:52:33.804  12:00 - 15:59\n",
       "999986     4439949    16439  2021-05-12 05:49:24.294  04:00 - 07:59\n",
       "999987     4439952    12845  2021-03-03 19:34:55.343  16:00 - 19:59\n",
       "999988     4439953     2612  2021-04-02 11:31:29.357  08:00 - 11:59\n",
       "999995     4439986     2915  2021-05-13 11:56:37.464  08:00 - 11:59\n",
       "\n",
       "[312907 rows x 4 columns]"
      ],
      "text/html": [
       "\n",
       "  <div id=\"df-72216d21-b19a-4ab0-8e62-cc38f582363b\">\n",
       "    <div class=\"colab-df-container\">\n",
       "      <div>\n",
       "<style scoped>\n",
       "    .dataframe tbody tr th:only-of-type {\n",
       "        vertical-align: middle;\n",
       "    }\n",
       "\n",
       "    .dataframe tbody tr th {\n",
       "        vertical-align: top;\n",
       "    }\n",
       "\n",
       "    .dataframe thead th {\n",
       "        text-align: right;\n",
       "    }\n",
       "</style>\n",
       "<table border=\"1\" class=\"dataframe\">\n",
       "  <thead>\n",
       "    <tr style=\"text-align: right;\">\n",
       "      <th></th>\n",
       "      <th>session_id</th>\n",
       "      <th>item_id</th>\n",
       "      <th>date</th>\n",
       "      <th>period</th>\n",
       "    </tr>\n",
       "  </thead>\n",
       "  <tbody>\n",
       "    <tr>\n",
       "      <th>6</th>\n",
       "      <td>31</td>\n",
       "      <td>8345</td>\n",
       "      <td>2021-04-20 19:46:42.594</td>\n",
       "      <td>16:00 - 19:59</td>\n",
       "    </tr>\n",
       "    <tr>\n",
       "      <th>8</th>\n",
       "      <td>42</td>\n",
       "      <td>11784</td>\n",
       "      <td>2021-03-01 15:17:04.264</td>\n",
       "      <td>12:00 - 15:59</td>\n",
       "    </tr>\n",
       "    <tr>\n",
       "      <th>17</th>\n",
       "      <td>113</td>\n",
       "      <td>21107</td>\n",
       "      <td>2021-05-05 14:15:07.278</td>\n",
       "      <td>12:00 - 15:59</td>\n",
       "    </tr>\n",
       "    <tr>\n",
       "      <th>18</th>\n",
       "      <td>115</td>\n",
       "      <td>25976</td>\n",
       "      <td>2021-05-27 10:24:05.043</td>\n",
       "      <td>08:00 - 11:59</td>\n",
       "    </tr>\n",
       "    <tr>\n",
       "      <th>22</th>\n",
       "      <td>140</td>\n",
       "      <td>23502</td>\n",
       "      <td>2021-04-28 13:45:31.202</td>\n",
       "      <td>12:00 - 15:59</td>\n",
       "    </tr>\n",
       "    <tr>\n",
       "      <th>...</th>\n",
       "      <td>...</td>\n",
       "      <td>...</td>\n",
       "      <td>...</td>\n",
       "      <td>...</td>\n",
       "    </tr>\n",
       "    <tr>\n",
       "      <th>999982</th>\n",
       "      <td>4439936</td>\n",
       "      <td>8060</td>\n",
       "      <td>2021-04-16 14:52:33.804</td>\n",
       "      <td>12:00 - 15:59</td>\n",
       "    </tr>\n",
       "    <tr>\n",
       "      <th>999986</th>\n",
       "      <td>4439949</td>\n",
       "      <td>16439</td>\n",
       "      <td>2021-05-12 05:49:24.294</td>\n",
       "      <td>04:00 - 07:59</td>\n",
       "    </tr>\n",
       "    <tr>\n",
       "      <th>999987</th>\n",
       "      <td>4439952</td>\n",
       "      <td>12845</td>\n",
       "      <td>2021-03-03 19:34:55.343</td>\n",
       "      <td>16:00 - 19:59</td>\n",
       "    </tr>\n",
       "    <tr>\n",
       "      <th>999988</th>\n",
       "      <td>4439953</td>\n",
       "      <td>2612</td>\n",
       "      <td>2021-04-02 11:31:29.357</td>\n",
       "      <td>08:00 - 11:59</td>\n",
       "    </tr>\n",
       "    <tr>\n",
       "      <th>999995</th>\n",
       "      <td>4439986</td>\n",
       "      <td>2915</td>\n",
       "      <td>2021-05-13 11:56:37.464</td>\n",
       "      <td>08:00 - 11:59</td>\n",
       "    </tr>\n",
       "  </tbody>\n",
       "</table>\n",
       "<p>312907 rows × 4 columns</p>\n",
       "</div>\n",
       "      <button class=\"colab-df-convert\" onclick=\"convertToInteractive('df-72216d21-b19a-4ab0-8e62-cc38f582363b')\"\n",
       "              title=\"Convert this dataframe to an interactive table.\"\n",
       "              style=\"display:none;\">\n",
       "        \n",
       "  <svg xmlns=\"http://www.w3.org/2000/svg\" height=\"24px\"viewBox=\"0 0 24 24\"\n",
       "       width=\"24px\">\n",
       "    <path d=\"M0 0h24v24H0V0z\" fill=\"none\"/>\n",
       "    <path d=\"M18.56 5.44l.94 2.06.94-2.06 2.06-.94-2.06-.94-.94-2.06-.94 2.06-2.06.94zm-11 1L8.5 8.5l.94-2.06 2.06-.94-2.06-.94L8.5 2.5l-.94 2.06-2.06.94zm10 10l.94 2.06.94-2.06 2.06-.94-2.06-.94-.94-2.06-.94 2.06-2.06.94z\"/><path d=\"M17.41 7.96l-1.37-1.37c-.4-.4-.92-.59-1.43-.59-.52 0-1.04.2-1.43.59L10.3 9.45l-7.72 7.72c-.78.78-.78 2.05 0 2.83L4 21.41c.39.39.9.59 1.41.59.51 0 1.02-.2 1.41-.59l7.78-7.78 2.81-2.81c.8-.78.8-2.07 0-2.86zM5.41 20L4 18.59l7.72-7.72 1.47 1.35L5.41 20z\"/>\n",
       "  </svg>\n",
       "      </button>\n",
       "      \n",
       "  <style>\n",
       "    .colab-df-container {\n",
       "      display:flex;\n",
       "      flex-wrap:wrap;\n",
       "      gap: 12px;\n",
       "    }\n",
       "\n",
       "    .colab-df-convert {\n",
       "      background-color: #E8F0FE;\n",
       "      border: none;\n",
       "      border-radius: 50%;\n",
       "      cursor: pointer;\n",
       "      display: none;\n",
       "      fill: #1967D2;\n",
       "      height: 32px;\n",
       "      padding: 0 0 0 0;\n",
       "      width: 32px;\n",
       "    }\n",
       "\n",
       "    .colab-df-convert:hover {\n",
       "      background-color: #E2EBFA;\n",
       "      box-shadow: 0px 1px 2px rgba(60, 64, 67, 0.3), 0px 1px 3px 1px rgba(60, 64, 67, 0.15);\n",
       "      fill: #174EA6;\n",
       "    }\n",
       "\n",
       "    [theme=dark] .colab-df-convert {\n",
       "      background-color: #3B4455;\n",
       "      fill: #D2E3FC;\n",
       "    }\n",
       "\n",
       "    [theme=dark] .colab-df-convert:hover {\n",
       "      background-color: #434B5C;\n",
       "      box-shadow: 0px 1px 3px 1px rgba(0, 0, 0, 0.15);\n",
       "      filter: drop-shadow(0px 1px 2px rgba(0, 0, 0, 0.3));\n",
       "      fill: #FFFFFF;\n",
       "    }\n",
       "  </style>\n",
       "\n",
       "      <script>\n",
       "        const buttonEl =\n",
       "          document.querySelector('#df-72216d21-b19a-4ab0-8e62-cc38f582363b button.colab-df-convert');\n",
       "        buttonEl.style.display =\n",
       "          google.colab.kernel.accessAllowed ? 'block' : 'none';\n",
       "\n",
       "        async function convertToInteractive(key) {\n",
       "          const element = document.querySelector('#df-72216d21-b19a-4ab0-8e62-cc38f582363b');\n",
       "          const dataTable =\n",
       "            await google.colab.kernel.invokeFunction('convertToInteractive',\n",
       "                                                     [key], {});\n",
       "          if (!dataTable) return;\n",
       "\n",
       "          const docLinkHtml = 'Like what you see? Visit the ' +\n",
       "            '<a target=\"_blank\" href=https://colab.research.google.com/notebooks/data_table.ipynb>data table notebook</a>'\n",
       "            + ' to learn more about interactive tables.';\n",
       "          element.innerHTML = '';\n",
       "          dataTable['output_type'] = 'display_data';\n",
       "          await google.colab.output.renderOutput(dataTable, element);\n",
       "          const docLink = document.createElement('div');\n",
       "          docLink.innerHTML = docLinkHtml;\n",
       "          element.appendChild(docLink);\n",
       "        }\n",
       "      </script>\n",
       "    </div>\n",
       "  </div>\n",
       "  "
      ]
     },
     "metadata": {},
     "execution_count": 73
    }
   ]
  },
  {
   "cell_type": "code",
   "source": [
    "purchases_per_period_2021_count = purchases_per_period_2021.groupby(['period'])['session_id'].nunique()\n",
    "\n",
    "purchases_per_period_2021_count"
   ],
   "metadata": {
    "colab": {
     "base_uri": "https://localhost:8080/"
    },
    "executionInfo": {
     "status": "ok",
     "timestamp": 1657728642242,
     "user_tz": -120,
     "elapsed": 6,
     "user": {
      "displayName": "Riccardo Pala",
      "userId": "14726583371054773727"
     }
    },
    "outputId": "da062499-8d09-492b-f7fc-d53f5e532bea",
    "id": "QwimwPYvMT3g",
    "pycharm": {
     "name": "#%%\n"
    }
   },
   "execution_count": 74,
   "outputs": [
    {
     "output_type": "execute_result",
     "data": {
      "text/plain": [
       "period\n",
       "00:00 - 03:59    10184\n",
       "04:00 - 07:59    15818\n",
       "08:00 - 11:59    67742\n",
       "12:00 - 15:59    76568\n",
       "16:00 - 19:59    79526\n",
       "20:00 - 23:59    63069\n",
       "Name: session_id, dtype: int64"
      ]
     },
     "metadata": {},
     "execution_count": 74
    }
   ]
  },
  {
   "cell_type": "code",
   "source": [
    "plt.figure(figsize=(23, 7))\n",
    "plt.bar(purchases_per_period_2021_count.index, purchases_per_period_2021_count)\n",
    "plt.show()"
   ],
   "metadata": {
    "colab": {
     "base_uri": "https://localhost:8080/",
     "height": 428
    },
    "executionInfo": {
     "status": "ok",
     "timestamp": 1657728642578,
     "user_tz": -120,
     "elapsed": 340,
     "user": {
      "displayName": "Riccardo Pala",
      "userId": "14726583371054773727"
     }
    },
    "outputId": "01ebaa26-4f01-49cb-bd15-9e9ef83a0bd0",
    "id": "MGcdjmciMT3h",
    "pycharm": {
     "name": "#%%\n"
    }
   },
   "execution_count": 75,
   "outputs": [
    {
     "output_type": "display_data",
     "data": {
      "text/plain": [
       "<Figure size 1656x504 with 1 Axes>"
      ],
      "image/png": "[encoded data removed]"
     },
     "metadata": {
      "needs_background": "light"
     }
    }
   ]
  },
  {
   "cell_type": "markdown",
   "source": [
    "### Number of purchases by hour"
   ],
   "metadata": {
    "id": "92_9hQPGNoGe",
    "pycharm": {
     "name": "#%% md\n"
    }
   }
  },
  {
   "cell_type": "markdown",
   "source": [
    "#### 2020"
   ],
   "metadata": {
    "id": "VuBxo0AsNxSE",
    "pycharm": {
     "name": "#%% md\n"
    }
   }
  },
  {
   "cell_type": "code",
   "source": [
    "purchases_per_hour_2020 = train_purchases_df_2020.copy()\n",
    "\n",
    "purchases_per_hour_2020['hour'] = ['0{}:00 - 0{}:59'.format(pd.Timestamp(elem).hour, pd.Timestamp(elem).hour) if pd.Timestamp(elem).hour < 10\n",
    "                                   else '{}:00 - {}:59'.format(pd.Timestamp(elem).hour, pd.Timestamp(elem).hour)\n",
    "                                   for elem in purchases_per_hour_2020['date']]\n",
    "\n",
    "purchases_per_hour_2020"
   ],
   "metadata": {
    "colab": {
     "base_uri": "https://localhost:8080/",
     "height": 424
    },
    "executionInfo": {
     "status": "ok",
     "timestamp": 1657728648084,
     "user_tz": -120,
     "elapsed": 5511,
     "user": {
      "displayName": "Riccardo Pala",
      "userId": "14726583371054773727"
     }
    },
    "outputId": "846468c4-9967-46ab-cade-4b8073810dab",
    "id": "99GQytnlN4-i",
    "pycharm": {
     "name": "#%%\n"
    }
   },
   "execution_count": 76,
   "outputs": [
    {
     "output_type": "execute_result",
     "data": {
      "text/plain": [
       "        session_id  item_id                     date           hour\n",
       "0                3    15085  2020-12-18 21:26:47.986  21:00 - 21:59\n",
       "1               13    18626  2020-03-13 19:36:15.507  19:00 - 19:59\n",
       "2               18    24911  2020-08-26 19:20:32.049  19:00 - 19:59\n",
       "3               19    12534   2020-11-02 17:16:45.92  17:00 - 17:59\n",
       "4               24    13226  2020-02-26 18:27:44.114  18:00 - 18:59\n",
       "...            ...      ...                      ...            ...\n",
       "999994     4439982    25770  2020-05-06 14:26:22.778  14:00 - 14:59\n",
       "999996     4439990     8786  2020-08-22 14:28:22.382  14:00 - 14:59\n",
       "999997     4439994    21630  2020-11-27 20:10:28.961  20:00 - 20:59\n",
       "999998     4439999    16962  2020-11-27 11:01:41.356  11:00 - 11:59\n",
       "999999     4440001    16631  2020-10-30 23:46:05.218  23:00 - 23:59\n",
       "\n",
       "[687093 rows x 4 columns]"
      ],
      "text/html": [
       "\n",
       "  <div id=\"df-5c1fa787-6932-4371-8e95-c69d5613876f\">\n",
       "    <div class=\"colab-df-container\">\n",
       "      <div>\n",
       "<style scoped>\n",
       "    .dataframe tbody tr th:only-of-type {\n",
       "        vertical-align: middle;\n",
       "    }\n",
       "\n",
       "    .dataframe tbody tr th {\n",
       "        vertical-align: top;\n",
       "    }\n",
       "\n",
       "    .dataframe thead th {\n",
       "        text-align: right;\n",
       "    }\n",
       "</style>\n",
       "<table border=\"1\" class=\"dataframe\">\n",
       "  <thead>\n",
       "    <tr style=\"text-align: right;\">\n",
       "      <th></th>\n",
       "      <th>session_id</th>\n",
       "      <th>item_id</th>\n",
       "      <th>date</th>\n",
       "      <th>hour</th>\n",
       "    </tr>\n",
       "  </thead>\n",
       "  <tbody>\n",
       "    <tr>\n",
       "      <th>0</th>\n",
       "      <td>3</td>\n",
       "      <td>15085</td>\n",
       "      <td>2020-12-18 21:26:47.986</td>\n",
       "      <td>21:00 - 21:59</td>\n",
       "    </tr>\n",
       "    <tr>\n",
       "      <th>1</th>\n",
       "      <td>13</td>\n",
       "      <td>18626</td>\n",
       "      <td>2020-03-13 19:36:15.507</td>\n",
       "      <td>19:00 - 19:59</td>\n",
       "    </tr>\n",
       "    <tr>\n",
       "      <th>2</th>\n",
       "      <td>18</td>\n",
       "      <td>24911</td>\n",
       "      <td>2020-08-26 19:20:32.049</td>\n",
       "      <td>19:00 - 19:59</td>\n",
       "    </tr>\n",
       "    <tr>\n",
       "      <th>3</th>\n",
       "      <td>19</td>\n",
       "      <td>12534</td>\n",
       "      <td>2020-11-02 17:16:45.92</td>\n",
       "      <td>17:00 - 17:59</td>\n",
       "    </tr>\n",
       "    <tr>\n",
       "      <th>4</th>\n",
       "      <td>24</td>\n",
       "      <td>13226</td>\n",
       "      <td>2020-02-26 18:27:44.114</td>\n",
       "      <td>18:00 - 18:59</td>\n",
       "    </tr>\n",
       "    <tr>\n",
       "      <th>...</th>\n",
       "      <td>...</td>\n",
       "      <td>...</td>\n",
       "      <td>...</td>\n",
       "      <td>...</td>\n",
       "    </tr>\n",
       "    <tr>\n",
       "      <th>999994</th>\n",
       "      <td>4439982</td>\n",
       "      <td>25770</td>\n",
       "      <td>2020-05-06 14:26:22.778</td>\n",
       "      <td>14:00 - 14:59</td>\n",
       "    </tr>\n",
       "    <tr>\n",
       "      <th>999996</th>\n",
       "      <td>4439990</td>\n",
       "      <td>8786</td>\n",
       "      <td>2020-08-22 14:28:22.382</td>\n",
       "      <td>14:00 - 14:59</td>\n",
       "    </tr>\n",
       "    <tr>\n",
       "      <th>999997</th>\n",
       "      <td>4439994</td>\n",
       "      <td>21630</td>\n",
       "      <td>2020-11-27 20:10:28.961</td>\n",
       "      <td>20:00 - 20:59</td>\n",
       "    </tr>\n",
       "    <tr>\n",
       "      <th>999998</th>\n",
       "      <td>4439999</td>\n",
       "      <td>16962</td>\n",
       "      <td>2020-11-27 11:01:41.356</td>\n",
       "      <td>11:00 - 11:59</td>\n",
       "    </tr>\n",
       "    <tr>\n",
       "      <th>999999</th>\n",
       "      <td>4440001</td>\n",
       "      <td>16631</td>\n",
       "      <td>2020-10-30 23:46:05.218</td>\n",
       "      <td>23:00 - 23:59</td>\n",
       "    </tr>\n",
       "  </tbody>\n",
       "</table>\n",
       "<p>687093 rows × 4 columns</p>\n",
       "</div>\n",
       "      <button class=\"colab-df-convert\" onclick=\"convertToInteractive('df-5c1fa787-6932-4371-8e95-c69d5613876f')\"\n",
       "              title=\"Convert this dataframe to an interactive table.\"\n",
       "              style=\"display:none;\">\n",
       "        \n",
       "  <svg xmlns=\"http://www.w3.org/2000/svg\" height=\"24px\"viewBox=\"0 0 24 24\"\n",
       "       width=\"24px\">\n",
       "    <path d=\"M0 0h24v24H0V0z\" fill=\"none\"/>\n",
       "    <path d=\"M18.56 5.44l.94 2.06.94-2.06 2.06-.94-2.06-.94-.94-2.06-.94 2.06-2.06.94zm-11 1L8.5 8.5l.94-2.06 2.06-.94-2.06-.94L8.5 2.5l-.94 2.06-2.06.94zm10 10l.94 2.06.94-2.06 2.06-.94-2.06-.94-.94-2.06-.94 2.06-2.06.94z\"/><path d=\"M17.41 7.96l-1.37-1.37c-.4-.4-.92-.59-1.43-.59-.52 0-1.04.2-1.43.59L10.3 9.45l-7.72 7.72c-.78.78-.78 2.05 0 2.83L4 21.41c.39.39.9.59 1.41.59.51 0 1.02-.2 1.41-.59l7.78-7.78 2.81-2.81c.8-.78.8-2.07 0-2.86zM5.41 20L4 18.59l7.72-7.72 1.47 1.35L5.41 20z\"/>\n",
       "  </svg>\n",
       "      </button>\n",
       "      \n",
       "  <style>\n",
       "    .colab-df-container {\n",
       "      display:flex;\n",
       "      flex-wrap:wrap;\n",
       "      gap: 12px;\n",
       "    }\n",
       "\n",
       "    .colab-df-convert {\n",
       "      background-color: #E8F0FE;\n",
       "      border: none;\n",
       "      border-radius: 50%;\n",
       "      cursor: pointer;\n",
       "      display: none;\n",
       "      fill: #1967D2;\n",
       "      height: 32px;\n",
       "      padding: 0 0 0 0;\n",
       "      width: 32px;\n",
       "    }\n",
       "\n",
       "    .colab-df-convert:hover {\n",
       "      background-color: #E2EBFA;\n",
       "      box-shadow: 0px 1px 2px rgba(60, 64, 67, 0.3), 0px 1px 3px 1px rgba(60, 64, 67, 0.15);\n",
       "      fill: #174EA6;\n",
       "    }\n",
       "\n",
       "    [theme=dark] .colab-df-convert {\n",
       "      background-color: #3B4455;\n",
       "      fill: #D2E3FC;\n",
       "    }\n",
       "\n",
       "    [theme=dark] .colab-df-convert:hover {\n",
       "      background-color: #434B5C;\n",
       "      box-shadow: 0px 1px 3px 1px rgba(0, 0, 0, 0.15);\n",
       "      filter: drop-shadow(0px 1px 2px rgba(0, 0, 0, 0.3));\n",
       "      fill: #FFFFFF;\n",
       "    }\n",
       "  </style>\n",
       "\n",
       "      <script>\n",
       "        const buttonEl =\n",
       "          document.querySelector('#df-5c1fa787-6932-4371-8e95-c69d5613876f button.colab-df-convert');\n",
       "        buttonEl.style.display =\n",
       "          google.colab.kernel.accessAllowed ? 'block' : 'none';\n",
       "\n",
       "        async function convertToInteractive(key) {\n",
       "          const element = document.querySelector('#df-5c1fa787-6932-4371-8e95-c69d5613876f');\n",
       "          const dataTable =\n",
       "            await google.colab.kernel.invokeFunction('convertToInteractive',\n",
       "                                                     [key], {});\n",
       "          if (!dataTable) return;\n",
       "\n",
       "          const docLinkHtml = 'Like what you see? Visit the ' +\n",
       "            '<a target=\"_blank\" href=https://colab.research.google.com/notebooks/data_table.ipynb>data table notebook</a>'\n",
       "            + ' to learn more about interactive tables.';\n",
       "          element.innerHTML = '';\n",
       "          dataTable['output_type'] = 'display_data';\n",
       "          await google.colab.output.renderOutput(dataTable, element);\n",
       "          const docLink = document.createElement('div');\n",
       "          docLink.innerHTML = docLinkHtml;\n",
       "          element.appendChild(docLink);\n",
       "        }\n",
       "      </script>\n",
       "    </div>\n",
       "  </div>\n",
       "  "
      ]
     },
     "metadata": {},
     "execution_count": 76
    }
   ]
  },
  {
   "cell_type": "code",
   "source": [
    "purchases_per_hour_2020_count = purchases_per_hour_2020.groupby(['hour'])['session_id'].nunique()\n",
    "\n",
    "purchases_per_hour_2020_count"
   ],
   "metadata": {
    "colab": {
     "base_uri": "https://localhost:8080/"
    },
    "executionInfo": {
     "status": "ok",
     "timestamp": 1657728648084,
     "user_tz": -120,
     "elapsed": 6,
     "user": {
      "displayName": "Riccardo Pala",
      "userId": "14726583371054773727"
     }
    },
    "outputId": "114282ab-0533-4f47-f23f-61e267bb337b",
    "id": "hoHom-rtN4-j",
    "pycharm": {
     "name": "#%%\n"
    }
   },
   "execution_count": 77,
   "outputs": [
    {
     "output_type": "execute_result",
     "data": {
      "text/plain": [
       "hour\n",
       "00:00 - 00:59     9830\n",
       "01:00 - 01:59     5915\n",
       "02:00 - 02:59     4457\n",
       "03:00 - 03:59     3743\n",
       "04:00 - 04:59     3881\n",
       "05:00 - 05:59     6246\n",
       "06:00 - 06:59    14009\n",
       "07:00 - 07:59    23778\n",
       "08:00 - 08:59    31019\n",
       "09:00 - 09:59    34524\n",
       "10:00 - 10:59    35146\n",
       "11:00 - 11:59    36032\n",
       "12:00 - 12:59    37877\n",
       "13:00 - 13:59    37800\n",
       "14:00 - 14:59    36327\n",
       "15:00 - 15:59    37961\n",
       "16:00 - 16:59    39448\n",
       "17:00 - 17:59    41818\n",
       "18:00 - 18:59    46790\n",
       "19:00 - 19:59    54481\n",
       "20:00 - 20:59    56061\n",
       "21:00 - 21:59    46780\n",
       "22:00 - 22:59    30823\n",
       "23:00 - 23:59    12347\n",
       "Name: session_id, dtype: int64"
      ]
     },
     "metadata": {},
     "execution_count": 77
    }
   ]
  },
  {
   "cell_type": "code",
   "source": [
    "plt.figure(figsize=(23, 7))\n",
    "plt.bar(purchases_per_hour_2020_count.index, purchases_per_hour_2020_count)\n",
    "plt.xticks(rotation=90)\n",
    "plt.show()"
   ],
   "metadata": {
    "colab": {
     "base_uri": "https://localhost:8080/",
     "height": 486
    },
    "executionInfo": {
     "status": "ok",
     "timestamp": 1657728648585,
     "user_tz": -120,
     "elapsed": 504,
     "user": {
      "displayName": "Riccardo Pala",
      "userId": "14726583371054773727"
     }
    },
    "outputId": "78e06748-a006-45ba-e5a3-628ee6f21238",
    "id": "6vBqfRBHN4-j",
    "pycharm": {
     "name": "#%%\n"
    }
   },
   "execution_count": 78,
   "outputs": [
    {
     "output_type": "display_data",
     "data": {
      "text/plain": [
       "<Figure size 1656x504 with 1 Axes>"
      ],
      "image/png": "[encoded data removed]"
     },
     "metadata": {
      "needs_background": "light"
     }
    }
   ]
  },
  {
   "cell_type": "markdown",
   "source": [
    "#### 2021"
   ],
   "metadata": {
    "id": "3w4MZdV1cB9B",
    "pycharm": {
     "name": "#%% md\n"
    }
   }
  },
  {
   "cell_type": "code",
   "source": [
    "purchases_per_hour_2021 = train_purchases_df_2021.copy()\n",
    "\n",
    "purchases_per_hour_2021['hour'] = ['0{}:00 - 0{}:59'.format(pd.Timestamp(elem).hour, pd.Timestamp(elem).hour) if pd.Timestamp(elem).hour < 10\n",
    "                                   else '{}:00 - {}:59'.format(pd.Timestamp(elem).hour, pd.Timestamp(elem).hour)\n",
    "                                   for elem in purchases_per_hour_2021['date']]\n",
    "\n",
    "purchases_per_hour_2021"
   ],
   "metadata": {
    "colab": {
     "base_uri": "https://localhost:8080/",
     "height": 424
    },
    "executionInfo": {
     "status": "ok",
     "timestamp": 1657728651266,
     "user_tz": -120,
     "elapsed": 2686,
     "user": {
      "displayName": "Riccardo Pala",
      "userId": "14726583371054773727"
     }
    },
    "outputId": "8e3457dc-1906-4820-9b9d-3735912ac534",
    "id": "1kUh5bvFcB9D",
    "pycharm": {
     "name": "#%%\n"
    }
   },
   "execution_count": 79,
   "outputs": [
    {
     "output_type": "execute_result",
     "data": {
      "text/plain": [
       "        session_id  item_id                     date           hour\n",
       "6               31     8345  2021-04-20 19:46:42.594  19:00 - 19:59\n",
       "8               42    11784  2021-03-01 15:17:04.264  15:00 - 15:59\n",
       "17             113    21107  2021-05-05 14:15:07.278  14:00 - 14:59\n",
       "18             115    25976  2021-05-27 10:24:05.043  10:00 - 10:59\n",
       "22             140    23502  2021-04-28 13:45:31.202  13:00 - 13:59\n",
       "...            ...      ...                      ...            ...\n",
       "999982     4439936     8060  2021-04-16 14:52:33.804  14:00 - 14:59\n",
       "999986     4439949    16439  2021-05-12 05:49:24.294  05:00 - 05:59\n",
       "999987     4439952    12845  2021-03-03 19:34:55.343  19:00 - 19:59\n",
       "999988     4439953     2612  2021-04-02 11:31:29.357  11:00 - 11:59\n",
       "999995     4439986     2915  2021-05-13 11:56:37.464  11:00 - 11:59\n",
       "\n",
       "[312907 rows x 4 columns]"
      ],
      "text/html": [
       "\n",
       "  <div id=\"df-a461240f-0e79-44c4-8437-12314fadba3b\">\n",
       "    <div class=\"colab-df-container\">\n",
       "      <div>\n",
       "<style scoped>\n",
       "    .dataframe tbody tr th:only-of-type {\n",
       "        vertical-align: middle;\n",
       "    }\n",
       "\n",
       "    .dataframe tbody tr th {\n",
       "        vertical-align: top;\n",
       "    }\n",
       "\n",
       "    .dataframe thead th {\n",
       "        text-align: right;\n",
       "    }\n",
       "</style>\n",
       "<table border=\"1\" class=\"dataframe\">\n",
       "  <thead>\n",
       "    <tr style=\"text-align: right;\">\n",
       "      <th></th>\n",
       "      <th>session_id</th>\n",
       "      <th>item_id</th>\n",
       "      <th>date</th>\n",
       "      <th>hour</th>\n",
       "    </tr>\n",
       "  </thead>\n",
       "  <tbody>\n",
       "    <tr>\n",
       "      <th>6</th>\n",
       "      <td>31</td>\n",
       "      <td>8345</td>\n",
       "      <td>2021-04-20 19:46:42.594</td>\n",
       "      <td>19:00 - 19:59</td>\n",
       "    </tr>\n",
       "    <tr>\n",
       "      <th>8</th>\n",
       "      <td>42</td>\n",
       "      <td>11784</td>\n",
       "      <td>2021-03-01 15:17:04.264</td>\n",
       "      <td>15:00 - 15:59</td>\n",
       "    </tr>\n",
       "    <tr>\n",
       "      <th>17</th>\n",
       "      <td>113</td>\n",
       "      <td>21107</td>\n",
       "      <td>2021-05-05 14:15:07.278</td>\n",
       "      <td>14:00 - 14:59</td>\n",
       "    </tr>\n",
       "    <tr>\n",
       "      <th>18</th>\n",
       "      <td>115</td>\n",
       "      <td>25976</td>\n",
       "      <td>2021-05-27 10:24:05.043</td>\n",
       "      <td>10:00 - 10:59</td>\n",
       "    </tr>\n",
       "    <tr>\n",
       "      <th>22</th>\n",
       "      <td>140</td>\n",
       "      <td>23502</td>\n",
       "      <td>2021-04-28 13:45:31.202</td>\n",
       "      <td>13:00 - 13:59</td>\n",
       "    </tr>\n",
       "    <tr>\n",
       "      <th>...</th>\n",
       "      <td>...</td>\n",
       "      <td>...</td>\n",
       "      <td>...</td>\n",
       "      <td>...</td>\n",
       "    </tr>\n",
       "    <tr>\n",
       "      <th>999982</th>\n",
       "      <td>4439936</td>\n",
       "      <td>8060</td>\n",
       "      <td>2021-04-16 14:52:33.804</td>\n",
       "      <td>14:00 - 14:59</td>\n",
       "    </tr>\n",
       "    <tr>\n",
       "      <th>999986</th>\n",
       "      <td>4439949</td>\n",
       "      <td>16439</td>\n",
       "      <td>2021-05-12 05:49:24.294</td>\n",
       "      <td>05:00 - 05:59</td>\n",
       "    </tr>\n",
       "    <tr>\n",
       "      <th>999987</th>\n",
       "      <td>4439952</td>\n",
       "      <td>12845</td>\n",
       "      <td>2021-03-03 19:34:55.343</td>\n",
       "      <td>19:00 - 19:59</td>\n",
       "    </tr>\n",
       "    <tr>\n",
       "      <th>999988</th>\n",
       "      <td>4439953</td>\n",
       "      <td>2612</td>\n",
       "      <td>2021-04-02 11:31:29.357</td>\n",
       "      <td>11:00 - 11:59</td>\n",
       "    </tr>\n",
       "    <tr>\n",
       "      <th>999995</th>\n",
       "      <td>4439986</td>\n",
       "      <td>2915</td>\n",
       "      <td>2021-05-13 11:56:37.464</td>\n",
       "      <td>11:00 - 11:59</td>\n",
       "    </tr>\n",
       "  </tbody>\n",
       "</table>\n",
       "<p>312907 rows × 4 columns</p>\n",
       "</div>\n",
       "      <button class=\"colab-df-convert\" onclick=\"convertToInteractive('df-a461240f-0e79-44c4-8437-12314fadba3b')\"\n",
       "              title=\"Convert this dataframe to an interactive table.\"\n",
       "              style=\"display:none;\">\n",
       "        \n",
       "  <svg xmlns=\"http://www.w3.org/2000/svg\" height=\"24px\"viewBox=\"0 0 24 24\"\n",
       "       width=\"24px\">\n",
       "    <path d=\"M0 0h24v24H0V0z\" fill=\"none\"/>\n",
       "    <path d=\"M18.56 5.44l.94 2.06.94-2.06 2.06-.94-2.06-.94-.94-2.06-.94 2.06-2.06.94zm-11 1L8.5 8.5l.94-2.06 2.06-.94-2.06-.94L8.5 2.5l-.94 2.06-2.06.94zm10 10l.94 2.06.94-2.06 2.06-.94-2.06-.94-.94-2.06-.94 2.06-2.06.94z\"/><path d=\"M17.41 7.96l-1.37-1.37c-.4-.4-.92-.59-1.43-.59-.52 0-1.04.2-1.43.59L10.3 9.45l-7.72 7.72c-.78.78-.78 2.05 0 2.83L4 21.41c.39.39.9.59 1.41.59.51 0 1.02-.2 1.41-.59l7.78-7.78 2.81-2.81c.8-.78.8-2.07 0-2.86zM5.41 20L4 18.59l7.72-7.72 1.47 1.35L5.41 20z\"/>\n",
       "  </svg>\n",
       "      </button>\n",
       "      \n",
       "  <style>\n",
       "    .colab-df-container {\n",
       "      display:flex;\n",
       "      flex-wrap:wrap;\n",
       "      gap: 12px;\n",
       "    }\n",
       "\n",
       "    .colab-df-convert {\n",
       "      background-color: #E8F0FE;\n",
       "      border: none;\n",
       "      border-radius: 50%;\n",
       "      cursor: pointer;\n",
       "      display: none;\n",
       "      fill: #1967D2;\n",
       "      height: 32px;\n",
       "      padding: 0 0 0 0;\n",
       "      width: 32px;\n",
       "    }\n",
       "\n",
       "    .colab-df-convert:hover {\n",
       "      background-color: #E2EBFA;\n",
       "      box-shadow: 0px 1px 2px rgba(60, 64, 67, 0.3), 0px 1px 3px 1px rgba(60, 64, 67, 0.15);\n",
       "      fill: #174EA6;\n",
       "    }\n",
       "\n",
       "    [theme=dark] .colab-df-convert {\n",
       "      background-color: #3B4455;\n",
       "      fill: #D2E3FC;\n",
       "    }\n",
       "\n",
       "    [theme=dark] .colab-df-convert:hover {\n",
       "      background-color: #434B5C;\n",
       "      box-shadow: 0px 1px 3px 1px rgba(0, 0, 0, 0.15);\n",
       "      filter: drop-shadow(0px 1px 2px rgba(0, 0, 0, 0.3));\n",
       "      fill: #FFFFFF;\n",
       "    }\n",
       "  </style>\n",
       "\n",
       "      <script>\n",
       "        const buttonEl =\n",
       "          document.querySelector('#df-a461240f-0e79-44c4-8437-12314fadba3b button.colab-df-convert');\n",
       "        buttonEl.style.display =\n",
       "          google.colab.kernel.accessAllowed ? 'block' : 'none';\n",
       "\n",
       "        async function convertToInteractive(key) {\n",
       "          const element = document.querySelector('#df-a461240f-0e79-44c4-8437-12314fadba3b');\n",
       "          const dataTable =\n",
       "            await google.colab.kernel.invokeFunction('convertToInteractive',\n",
       "                                                     [key], {});\n",
       "          if (!dataTable) return;\n",
       "\n",
       "          const docLinkHtml = 'Like what you see? Visit the ' +\n",
       "            '<a target=\"_blank\" href=https://colab.research.google.com/notebooks/data_table.ipynb>data table notebook</a>'\n",
       "            + ' to learn more about interactive tables.';\n",
       "          element.innerHTML = '';\n",
       "          dataTable['output_type'] = 'display_data';\n",
       "          await google.colab.output.renderOutput(dataTable, element);\n",
       "          const docLink = document.createElement('div');\n",
       "          docLink.innerHTML = docLinkHtml;\n",
       "          element.appendChild(docLink);\n",
       "        }\n",
       "      </script>\n",
       "    </div>\n",
       "  </div>\n",
       "  "
      ]
     },
     "metadata": {},
     "execution_count": 79
    }
   ]
  },
  {
   "cell_type": "code",
   "source": [
    "purchases_per_hour_2021_count = purchases_per_hour_2021.groupby(['hour'])['session_id'].nunique()\n",
    "\n",
    "purchases_per_hour_2021_count"
   ],
   "metadata": {
    "colab": {
     "base_uri": "https://localhost:8080/"
    },
    "executionInfo": {
     "status": "ok",
     "timestamp": 1657728651267,
     "user_tz": -120,
     "elapsed": 6,
     "user": {
      "displayName": "Riccardo Pala",
      "userId": "14726583371054773727"
     }
    },
    "outputId": "dbed128b-7ebb-4175-a81b-d5a910f06c4d",
    "id": "J_Of0T2ccB9D",
    "pycharm": {
     "name": "#%%\n"
    }
   },
   "execution_count": 80,
   "outputs": [
    {
     "output_type": "execute_result",
     "data": {
      "text/plain": [
       "hour\n",
       "00:00 - 00:59     4894\n",
       "01:00 - 01:59     2580\n",
       "02:00 - 02:59     1593\n",
       "03:00 - 03:59     1117\n",
       "04:00 - 04:59     1070\n",
       "05:00 - 05:59     1727\n",
       "06:00 - 06:59     4378\n",
       "07:00 - 07:59     8643\n",
       "08:00 - 08:59    13548\n",
       "09:00 - 09:59    16908\n",
       "10:00 - 10:59    18728\n",
       "11:00 - 11:59    18558\n",
       "12:00 - 12:59    18833\n",
       "13:00 - 13:59    19218\n",
       "14:00 - 14:59    19263\n",
       "15:00 - 15:59    19254\n",
       "16:00 - 16:59    18996\n",
       "17:00 - 17:59    18472\n",
       "18:00 - 18:59    19834\n",
       "19:00 - 19:59    22224\n",
       "20:00 - 20:59    23505\n",
       "21:00 - 21:59    19912\n",
       "22:00 - 22:59    13703\n",
       "23:00 - 23:59     5949\n",
       "Name: session_id, dtype: int64"
      ]
     },
     "metadata": {},
     "execution_count": 80
    }
   ]
  },
  {
   "cell_type": "code",
   "source": [
    "plt.figure(figsize=(23, 7))\n",
    "plt.bar(purchases_per_hour_2021_count.index, purchases_per_hour_2021_count)\n",
    "plt.xticks(rotation=90)\n",
    "plt.show()"
   ],
   "metadata": {
    "colab": {
     "base_uri": "https://localhost:8080/",
     "height": 486
    },
    "executionInfo": {
     "status": "ok",
     "timestamp": 1657728651756,
     "user_tz": -120,
     "elapsed": 493,
     "user": {
      "displayName": "Riccardo Pala",
      "userId": "14726583371054773727"
     }
    },
    "outputId": "b2ec1689-8efc-460c-9250-ce146b014234",
    "id": "bMi8kGwMcB9E",
    "pycharm": {
     "name": "#%%\n"
    }
   },
   "execution_count": 81,
   "outputs": [
    {
     "output_type": "display_data",
     "data": {
      "text/plain": [
       "<Figure size 1656x504 with 1 Axes>"
      ],
      "image/png": "[encoded data removed]"
     },
     "metadata": {
      "needs_background": "light"
     }
    }
   ]
  },
  {
   "cell_type": "markdown",
   "source": [
    "### Number of purchases by weekday"
   ],
   "metadata": {
    "id": "pmpIgDcniRfj",
    "pycharm": {
     "name": "#%% md\n"
    }
   }
  },
  {
   "cell_type": "code",
   "source": [
    "weekend_purchases = 0\n",
    "\n",
    "for idx in train_purchases_df.index:\n",
    " if 5 <= pd.Timestamp(train_purchases_df['date'][idx]).weekday() <= 6:\n",
    "  weekend_purchases += 1"
   ],
   "metadata": {
    "id": "lS-YSu7oCXaV",
    "executionInfo": {
     "status": "ok",
     "timestamp": 1657728661056,
     "user_tz": -120,
     "elapsed": 9304,
     "user": {
      "displayName": "Riccardo Pala",
      "userId": "14726583371054773727"
     }
    },
    "pycharm": {
     "name": "#%%\n"
    }
   },
   "execution_count": 82,
   "outputs": []
  },
  {
   "cell_type": "code",
   "source": [
    "print('About {}% of the purchases is performed during the weekend days'.format(round(weekend_purchases / len(train_purchases_df) * 100)))"
   ],
   "metadata": {
    "colab": {
     "base_uri": "https://localhost:8080/"
    },
    "id": "5amRbDg7JM7L",
    "executionInfo": {
     "status": "ok",
     "timestamp": 1657728661057,
     "user_tz": -120,
     "elapsed": 17,
     "user": {
      "displayName": "Riccardo Pala",
      "userId": "14726583371054773727"
     }
    },
    "outputId": "88140920-b8c9-4fbb-ff87-bd1d94f85919",
    "pycharm": {
     "name": "#%%\n"
    }
   },
   "execution_count": 83,
   "outputs": [
    {
     "output_type": "stream",
     "name": "stdout",
     "text": [
      "About 30% of the purchases is performed during the weekend days\n"
     ]
    }
   ]
  },
  {
   "cell_type": "code",
   "source": [
    "days_of_the_week = ['Monday', 'Tuesday', 'Wednesday', 'Thursday', 'Friday', 'Saturday', 'Sunday', 'Average']"
   ],
   "metadata": {
    "id": "ObPuTeU-kABm",
    "executionInfo": {
     "status": "ok",
     "timestamp": 1657728661057,
     "user_tz": -120,
     "elapsed": 13,
     "user": {
      "displayName": "Riccardo Pala",
      "userId": "14726583371054773727"
     }
    },
    "pycharm": {
     "name": "#%%\n"
    }
   },
   "execution_count": 84,
   "outputs": []
  },
  {
   "cell_type": "markdown",
   "source": [
    "#### 2020"
   ],
   "metadata": {
    "id": "P81DXCSmj4xG",
    "pycharm": {
     "name": "#%% md\n"
    }
   }
  },
  {
   "cell_type": "code",
   "source": [
    "purchases_per_day_2020 = [0 for _ in range(7)]\n",
    "\n",
    "for idx in train_purchases_df_2020.index:\n",
    "  day_idx = pd.Timestamp(train_purchases_df['date'][idx]).weekday()\n",
    "  purchases_per_day_2020[day_idx] += 1"
   ],
   "metadata": {
    "id": "k5nRdwKXjJbL",
    "executionInfo": {
     "status": "ok",
     "timestamp": 1657728667623,
     "user_tz": -120,
     "elapsed": 6580,
     "user": {
      "displayName": "Riccardo Pala",
      "userId": "14726583371054773727"
     }
    },
    "pycharm": {
     "name": "#%%\n"
    }
   },
   "execution_count": 85,
   "outputs": []
  },
  {
   "cell_type": "code",
   "source": [
    "purchases_per_day_2020.append(round(average(purchases_per_day_2020)))\n",
    "\n",
    "for idx in range(len(days_of_the_week)):\n",
    "  print('{}: {}'.format(days_of_the_week[idx], purchases_per_day_2020[idx]))"
   ],
   "metadata": {
    "colab": {
     "base_uri": "https://localhost:8080/"
    },
    "id": "0B4WDGOYUwpG",
    "executionInfo": {
     "status": "ok",
     "timestamp": 1657728667624,
     "user_tz": -120,
     "elapsed": 17,
     "user": {
      "displayName": "Riccardo Pala",
      "userId": "14726583371054773727"
     }
    },
    "outputId": "6c01b9d3-614c-465d-ad7a-769964961f43",
    "pycharm": {
     "name": "#%%\n"
    }
   },
   "execution_count": 86,
   "outputs": [
    {
     "output_type": "stream",
     "name": "stdout",
     "text": [
      "Monday: 80081\n",
      "Tuesday: 108652\n",
      "Wednesday: 88640\n",
      "Thursday: 88926\n",
      "Friday: 110867\n",
      "Saturday: 116760\n",
      "Sunday: 93167\n",
      "Average: 98156\n"
     ]
    }
   ]
  },
  {
   "cell_type": "code",
   "source": [
    "plt.figure(figsize=(23, 7))\n",
    "barlist1 = plt.bar(days_of_the_week, purchases_per_day_2020)\n",
    "barlist1[-1].set_color('r')\n",
    "plt.title('2020')\n",
    "plt.xlabel('Months')\n",
    "plt.ylabel('Purchases per Day of the Week')\n",
    "plt.show()"
   ],
   "metadata": {
    "colab": {
     "base_uri": "https://localhost:8080/",
     "height": 458
    },
    "id": "RXefXsIikheV",
    "executionInfo": {
     "status": "ok",
     "timestamp": 1657728668005,
     "user_tz": -120,
     "elapsed": 394,
     "user": {
      "displayName": "Riccardo Pala",
      "userId": "14726583371054773727"
     }
    },
    "outputId": "2ae1f154-a775-483f-f474-c4bf3c5b3a22",
    "pycharm": {
     "name": "#%%\n"
    }
   },
   "execution_count": 87,
   "outputs": [
    {
     "output_type": "display_data",
     "data": {
      "text/plain": [
       "<Figure size 1656x504 with 1 Axes>"
      ],
      "image/png": "[encoded data removed]"
     },
     "metadata": {
      "needs_background": "light"
     }
    }
   ]
  },
  {
   "cell_type": "markdown",
   "source": [
    "#### 2021"
   ],
   "metadata": {
    "id": "LdYZ75qrj6zE",
    "pycharm": {
     "name": "#%% md\n"
    }
   }
  },
  {
   "cell_type": "code",
   "source": [
    "purchases_per_day_2021 = [0 for _ in range(7)]\n",
    "\n",
    "for idx in train_purchases_df_2021.index:\n",
    "  day_idx = pd.Timestamp(train_purchases_df['date'][idx]).weekday()\n",
    "  purchases_per_day_2021[day_idx] += 1"
   ],
   "metadata": {
    "id": "yvywXfKKks7i",
    "executionInfo": {
     "status": "ok",
     "timestamp": 1657728670921,
     "user_tz": -120,
     "elapsed": 2926,
     "user": {
      "displayName": "Riccardo Pala",
      "userId": "14726583371054773727"
     }
    },
    "pycharm": {
     "name": "#%%\n"
    }
   },
   "execution_count": 88,
   "outputs": []
  },
  {
   "cell_type": "code",
   "source": [
    "purchases_per_day_2021.append(round(average(purchases_per_day_2021)))\n",
    "\n",
    "for idx in range(len(days_of_the_week)):\n",
    "  print('{}: {}'.format(days_of_the_week[idx], purchases_per_day_2021[idx]))"
   ],
   "metadata": {
    "id": "IO3fC4owXOjf",
    "colab": {
     "base_uri": "https://localhost:8080/"
    },
    "executionInfo": {
     "status": "ok",
     "timestamp": 1657728670922,
     "user_tz": -120,
     "elapsed": 11,
     "user": {
      "displayName": "Riccardo Pala",
      "userId": "14726583371054773727"
     }
    },
    "outputId": "3a92fc92-04a2-4019-ddaa-2e2d7247c5fb",
    "pycharm": {
     "name": "#%%\n"
    }
   },
   "execution_count": 89,
   "outputs": [
    {
     "output_type": "stream",
     "name": "stdout",
     "text": [
      "Monday: 54590\n",
      "Tuesday: 39173\n",
      "Wednesday: 38703\n",
      "Thursday: 41858\n",
      "Friday: 49335\n",
      "Saturday: 45554\n",
      "Sunday: 43694\n",
      "Average: 44701\n"
     ]
    }
   ]
  },
  {
   "cell_type": "code",
   "source": [
    "plt.figure(figsize=(23, 7))\n",
    "barlist2 = plt.bar(days_of_the_week, purchases_per_day_2021)\n",
    "barlist2[-1].set_color('r')\n",
    "plt.title('2021')\n",
    "plt.xlabel('Months')\n",
    "plt.ylabel('Purchases per Day of the Week')\n",
    "plt.show()"
   ],
   "metadata": {
    "colab": {
     "base_uri": "https://localhost:8080/",
     "height": 458
    },
    "id": "4K5qaq4bk53O",
    "executionInfo": {
     "status": "ok",
     "timestamp": 1657728671348,
     "user_tz": -120,
     "elapsed": 433,
     "user": {
      "displayName": "Riccardo Pala",
      "userId": "14726583371054773727"
     }
    },
    "outputId": "0143e05e-2804-4787-a0db-9d1925d41cce",
    "pycharm": {
     "name": "#%%\n"
    }
   },
   "execution_count": 90,
   "outputs": [
    {
     "output_type": "display_data",
     "data": {
      "text/plain": [
       "<Figure size 1656x504 with 1 Axes>"
      ],
      "image/png": "[encoded data removed]"
     },
     "metadata": {
      "needs_background": "light"
     }
    }
   ]
  },
  {
   "cell_type": "markdown",
   "source": [
    "### Number of purchases by month"
   ],
   "metadata": {
    "id": "6ifUl8nWcSlU",
    "pycharm": {
     "name": "#%% md\n"
    }
   }
  },
  {
   "cell_type": "markdown",
   "source": [
    "#### 2020"
   ],
   "metadata": {
    "id": "gsXvLr68cxEJ",
    "pycharm": {
     "name": "#%% md\n"
    }
   }
  },
  {
   "cell_type": "code",
   "source": [
    "months_2020 = ['January', 'February', 'March', 'April', 'May', 'June', 'July', 'August', 'September', 'October', 'November', 'December', 'Average']"
   ],
   "metadata": {
    "id": "xU0jmsF_XVvX",
    "executionInfo": {
     "status": "ok",
     "timestamp": 1657728671349,
     "user_tz": -120,
     "elapsed": 5,
     "user": {
      "displayName": "Riccardo Pala",
      "userId": "14726583371054773727"
     }
    },
    "pycharm": {
     "name": "#%%\n"
    }
   },
   "execution_count": 91,
   "outputs": []
  },
  {
   "cell_type": "code",
   "source": [
    "purchases_per_month_2020 = [0 for _ in range(12)]\n",
    "\n",
    "for idx in train_purchases_df_2020.index:\n",
    "  month_idx = int(train_purchases_df_2020['date'][idx][5:7]) - 1\n",
    "  purchases_per_month_2020[month_idx] += 1"
   ],
   "metadata": {
    "id": "Wu9Hmt6hKQny",
    "executionInfo": {
     "status": "ok",
     "timestamp": 1657728676629,
     "user_tz": -120,
     "elapsed": 5285,
     "user": {
      "displayName": "Riccardo Pala",
      "userId": "14726583371054773727"
     }
    },
    "pycharm": {
     "name": "#%%\n"
    }
   },
   "execution_count": 92,
   "outputs": []
  },
  {
   "cell_type": "code",
   "source": [
    "purchases_per_month_2020.append(average(purchases_per_month_2020))\n",
    "\n",
    "for idx in range(len(months_2020)):\n",
    "  print('{}: {}'.format(months_2020[idx], purchases_per_month_2020[idx]))"
   ],
   "metadata": {
    "id": "iFlyOyyXXX9N",
    "colab": {
     "base_uri": "https://localhost:8080/"
    },
    "executionInfo": {
     "status": "ok",
     "timestamp": 1657728676631,
     "user_tz": -120,
     "elapsed": 8,
     "user": {
      "displayName": "Riccardo Pala",
      "userId": "14726583371054773727"
     }
    },
    "outputId": "05b600f1-ed07-4fc4-d45e-9c92814e0d65",
    "pycharm": {
     "name": "#%%\n"
    }
   },
   "execution_count": 93,
   "outputs": [
    {
     "output_type": "stream",
     "name": "stdout",
     "text": [
      "January: 38682\n",
      "February: 31033\n",
      "March: 37876\n",
      "April: 58695\n",
      "May: 48115\n",
      "June: 60636\n",
      "July: 53566\n",
      "August: 59955\n",
      "September: 72153\n",
      "October: 63826\n",
      "November: 90848\n",
      "December: 71708\n",
      "Average: 57257.75\n"
     ]
    }
   ]
  },
  {
   "cell_type": "code",
   "source": [
    "plt.figure(figsize=(23, 7))\n",
    "barlist3 = plt.bar(months_2020, purchases_per_month_2020)\n",
    "barlist3[-1].set_color('r')\n",
    "plt.title('2020')\n",
    "plt.xlabel('Months')\n",
    "plt.ylabel('Purchases per Month')\n",
    "plt.show()"
   ],
   "metadata": {
    "colab": {
     "base_uri": "https://localhost:8080/",
     "height": 458
    },
    "id": "9Jn8eTHOMqTc",
    "executionInfo": {
     "status": "ok",
     "timestamp": 1657728676632,
     "user_tz": -120,
     "elapsed": 7,
     "user": {
      "displayName": "Riccardo Pala",
      "userId": "14726583371054773727"
     }
    },
    "outputId": "90586a45-f7bb-4975-e494-74bcff00077f",
    "pycharm": {
     "name": "#%%\n"
    }
   },
   "execution_count": 94,
   "outputs": [
    {
     "output_type": "display_data",
     "data": {
      "text/plain": [
       "<Figure size 1656x504 with 1 Axes>"
      ],
      "image/png": "[encoded data removed]"
     },
     "metadata": {
      "needs_background": "light"
     }
    }
   ]
  },
  {
   "cell_type": "markdown",
   "source": [
    "#### 2021"
   ],
   "metadata": {
    "id": "0QTOGDoFe9q7",
    "pycharm": {
     "name": "#%% md\n"
    }
   }
  },
  {
   "cell_type": "code",
   "source": [
    "months_2021 = ['January', 'February', 'March', 'April', 'May', 'Average']"
   ],
   "metadata": {
    "id": "zTH9vJxWXjqm",
    "executionInfo": {
     "status": "ok",
     "timestamp": 1657728677000,
     "user_tz": -120,
     "elapsed": 7,
     "user": {
      "displayName": "Riccardo Pala",
      "userId": "14726583371054773727"
     }
    },
    "pycharm": {
     "name": "#%%\n"
    }
   },
   "execution_count": 95,
   "outputs": []
  },
  {
   "cell_type": "code",
   "source": [
    "purchases_per_month_2021 = [0 for _ in range(5)]\n",
    "\n",
    "for idx in train_purchases_df_2021.index:\n",
    "  month_idx = int(train_purchases_df_2021['date'][idx][5:7]) - 1\n",
    "  purchases_per_month_2021[month_idx] += 1"
   ],
   "metadata": {
    "id": "pF5qXIXVe4Gu",
    "executionInfo": {
     "status": "ok",
     "timestamp": 1657728679132,
     "user_tz": -120,
     "elapsed": 2136,
     "user": {
      "displayName": "Riccardo Pala",
      "userId": "14726583371054773727"
     }
    },
    "pycharm": {
     "name": "#%%\n"
    }
   },
   "execution_count": 96,
   "outputs": []
  },
  {
   "cell_type": "code",
   "source": [
    "purchases_per_month_2021.append(average(purchases_per_month_2021))\n",
    "\n",
    "for idx in range(len(months_2021)):\n",
    "  print('{}: {}'.format(months_2021[idx], purchases_per_month_2021[idx]))"
   ],
   "metadata": {
    "id": "2LcsETBFXifs",
    "colab": {
     "base_uri": "https://localhost:8080/"
    },
    "executionInfo": {
     "status": "ok",
     "timestamp": 1657728679132,
     "user_tz": -120,
     "elapsed": 8,
     "user": {
      "displayName": "Riccardo Pala",
      "userId": "14726583371054773727"
     }
    },
    "outputId": "c94790c3-7ec9-4a45-cbf1-bcf3187e455b",
    "pycharm": {
     "name": "#%%\n"
    }
   },
   "execution_count": 97,
   "outputs": [
    {
     "output_type": "stream",
     "name": "stdout",
     "text": [
      "January: 52923\n",
      "February: 42912\n",
      "March: 65709\n",
      "April: 69745\n",
      "May: 81618\n",
      "Average: 62581.4\n"
     ]
    }
   ]
  },
  {
   "cell_type": "code",
   "source": [
    "plt.figure(figsize=(23, 7))\n",
    "barlist4 = plt.bar(months_2021, purchases_per_month_2021)\n",
    "barlist4[-1].set_color('r')\n",
    "plt.title('2021')\n",
    "plt.xlabel('Months')\n",
    "plt.ylabel('Purchases per Month')\n",
    "plt.show()"
   ],
   "metadata": {
    "colab": {
     "base_uri": "https://localhost:8080/",
     "height": 458
    },
    "id": "bbUNLUBLe7IG",
    "executionInfo": {
     "status": "ok",
     "timestamp": 1657728679613,
     "user_tz": -120,
     "elapsed": 486,
     "user": {
      "displayName": "Riccardo Pala",
      "userId": "14726583371054773727"
     }
    },
    "outputId": "577565e7-7b0d-4d62-ebf7-d9a7e5d47e2e",
    "pycharm": {
     "name": "#%%\n"
    }
   },
   "execution_count": 98,
   "outputs": [
    {
     "output_type": "display_data",
     "data": {
      "text/plain": [
       "<Figure size 1656x504 with 1 Axes>"
      ],
      "image/png": "[encoded data removed]"
     },
     "metadata": {
      "needs_background": "light"
     }
    }
   ]
  },
  {
   "cell_type": "markdown",
   "source": [
    "### Top-5 Popular Items by month"
   ],
   "metadata": {
    "id": "5bEG8tO7ck4Y",
    "pycharm": {
     "name": "#%% md\n"
    }
   }
  },
  {
   "cell_type": "code",
   "source": [
    "max_item_id = max(train_purchases_df['item_id'])"
   ],
   "metadata": {
    "id": "vdb3NQ54mPvS",
    "executionInfo": {
     "status": "ok",
     "timestamp": 1657728679614,
     "user_tz": -120,
     "elapsed": 6,
     "user": {
      "displayName": "Riccardo Pala",
      "userId": "14726583371054773727"
     }
    },
    "pycharm": {
     "name": "#%%\n"
    }
   },
   "execution_count": 99,
   "outputs": []
  },
  {
   "cell_type": "markdown",
   "source": [
    "#### 2020"
   ],
   "metadata": {
    "id": "qUbpXcEBmuBT",
    "pycharm": {
     "name": "#%% md\n"
    }
   }
  },
  {
   "cell_type": "code",
   "source": [
    "purchased_items_per_month_2020 = [[] for _ in range(12)]\n",
    "\n",
    "for idx in train_purchases_df_2020.index:\n",
    "  month_idx = int(train_purchases_df_2020['date'][idx][5:7]) - 1\n",
    "  purchased_items_per_month_2020[month_idx].append(train_purchases_df_2020['item_id'][idx])"
   ],
   "metadata": {
    "id": "KMTHSmnvQhBt",
    "executionInfo": {
     "status": "ok",
     "timestamp": 1657728693419,
     "user_tz": -120,
     "elapsed": 13810,
     "user": {
      "displayName": "Riccardo Pala",
      "userId": "14726583371054773727"
     }
    },
    "pycharm": {
     "name": "#%%\n"
    }
   },
   "execution_count": 100,
   "outputs": []
  },
  {
   "cell_type": "code",
   "source": [
    "purchased_items_per_month_2020_df = pd.DataFrame(purchased_items_per_month_2020, dtype=int).transpose()\n",
    "\n",
    "months_2020 = ['January', 'February', 'March', 'April', 'May', 'June', 'July', 'August', 'September', 'October', 'November', 'December']\n",
    "\n",
    "purchased_items_per_month_2020_df.columns = months_2020\n",
    "\n",
    "purchased_items_per_month_2020_df"
   ],
   "metadata": {
    "colab": {
     "base_uri": "https://localhost:8080/",
     "height": 424
    },
    "id": "DEhqhr1Nirli",
    "executionInfo": {
     "status": "ok",
     "timestamp": 1657728697823,
     "user_tz": -120,
     "elapsed": 4417,
     "user": {
      "displayName": "Riccardo Pala",
      "userId": "14726583371054773727"
     }
    },
    "outputId": "0f71797d-2f5b-4072-b8f4-4a4e33a39293",
    "pycharm": {
     "name": "#%%\n"
    }
   },
   "execution_count": 101,
   "outputs": [
    {
     "output_type": "execute_result",
     "data": {
      "text/plain": [
       "       January  February    March    April      May     June     July  \\\n",
       "0       4016.0   13226.0  18626.0  24022.0  26394.0  14532.0  15501.0   \n",
       "1      25117.0    8321.0  12556.0  27613.0   2011.0  18532.0  20563.0   \n",
       "2      17882.0    4167.0  15623.0   3162.0  28057.0  21534.0   5610.0   \n",
       "3      13538.0    3913.0  20691.0  16660.0   3732.0  27998.0  13226.0   \n",
       "4      25681.0   13699.0   6419.0   8706.0  26160.0  28139.0   4612.0   \n",
       "...        ...       ...      ...      ...      ...      ...      ...   \n",
       "90843      NaN       NaN      NaN      NaN      NaN      NaN      NaN   \n",
       "90844      NaN       NaN      NaN      NaN      NaN      NaN      NaN   \n",
       "90845      NaN       NaN      NaN      NaN      NaN      NaN      NaN   \n",
       "90846      NaN       NaN      NaN      NaN      NaN      NaN      NaN   \n",
       "90847      NaN       NaN      NaN      NaN      NaN      NaN      NaN   \n",
       "\n",
       "        August  September  October  November  December  \n",
       "0      24911.0     4243.0    434.0   12534.0   15085.0  \n",
       "1      24836.0    10657.0  10852.0    4028.0   14014.0  \n",
       "2      11065.0    19908.0    697.0    7096.0   27584.0  \n",
       "3       8167.0    18573.0  24940.0   10126.0   27768.0  \n",
       "4       7665.0     7828.0   9262.0    8193.0    5066.0  \n",
       "...        ...        ...      ...       ...       ...  \n",
       "90843      NaN        NaN      NaN   23596.0       NaN  \n",
       "90844      NaN        NaN      NaN   16876.0       NaN  \n",
       "90845      NaN        NaN      NaN     639.0       NaN  \n",
       "90846      NaN        NaN      NaN   21630.0       NaN  \n",
       "90847      NaN        NaN      NaN   16962.0       NaN  \n",
       "\n",
       "[90848 rows x 12 columns]"
      ],
      "text/html": [
       "\n",
       "  <div id=\"df-496a5076-cb48-46bc-af21-e8c1f9d42de1\">\n",
       "    <div class=\"colab-df-container\">\n",
       "      <div>\n",
       "<style scoped>\n",
       "    .dataframe tbody tr th:only-of-type {\n",
       "        vertical-align: middle;\n",
       "    }\n",
       "\n",
       "    .dataframe tbody tr th {\n",
       "        vertical-align: top;\n",
       "    }\n",
       "\n",
       "    .dataframe thead th {\n",
       "        text-align: right;\n",
       "    }\n",
       "</style>\n",
       "<table border=\"1\" class=\"dataframe\">\n",
       "  <thead>\n",
       "    <tr style=\"text-align: right;\">\n",
       "      <th></th>\n",
       "      <th>January</th>\n",
       "      <th>February</th>\n",
       "      <th>March</th>\n",
       "      <th>April</th>\n",
       "      <th>May</th>\n",
       "      <th>June</th>\n",
       "      <th>July</th>\n",
       "      <th>August</th>\n",
       "      <th>September</th>\n",
       "      <th>October</th>\n",
       "      <th>November</th>\n",
       "      <th>December</th>\n",
       "    </tr>\n",
       "  </thead>\n",
       "  <tbody>\n",
       "    <tr>\n",
       "      <th>0</th>\n",
       "      <td>4016.0</td>\n",
       "      <td>13226.0</td>\n",
       "      <td>18626.0</td>\n",
       "      <td>24022.0</td>\n",
       "      <td>26394.0</td>\n",
       "      <td>14532.0</td>\n",
       "      <td>15501.0</td>\n",
       "      <td>24911.0</td>\n",
       "      <td>4243.0</td>\n",
       "      <td>434.0</td>\n",
       "      <td>12534.0</td>\n",
       "      <td>15085.0</td>\n",
       "    </tr>\n",
       "    <tr>\n",
       "      <th>1</th>\n",
       "      <td>25117.0</td>\n",
       "      <td>8321.0</td>\n",
       "      <td>12556.0</td>\n",
       "      <td>27613.0</td>\n",
       "      <td>2011.0</td>\n",
       "      <td>18532.0</td>\n",
       "      <td>20563.0</td>\n",
       "      <td>24836.0</td>\n",
       "      <td>10657.0</td>\n",
       "      <td>10852.0</td>\n",
       "      <td>4028.0</td>\n",
       "      <td>14014.0</td>\n",
       "    </tr>\n",
       "    <tr>\n",
       "      <th>2</th>\n",
       "      <td>17882.0</td>\n",
       "      <td>4167.0</td>\n",
       "      <td>15623.0</td>\n",
       "      <td>3162.0</td>\n",
       "      <td>28057.0</td>\n",
       "      <td>21534.0</td>\n",
       "      <td>5610.0</td>\n",
       "      <td>11065.0</td>\n",
       "      <td>19908.0</td>\n",
       "      <td>697.0</td>\n",
       "      <td>7096.0</td>\n",
       "      <td>27584.0</td>\n",
       "    </tr>\n",
       "    <tr>\n",
       "      <th>3</th>\n",
       "      <td>13538.0</td>\n",
       "      <td>3913.0</td>\n",
       "      <td>20691.0</td>\n",
       "      <td>16660.0</td>\n",
       "      <td>3732.0</td>\n",
       "      <td>27998.0</td>\n",
       "      <td>13226.0</td>\n",
       "      <td>8167.0</td>\n",
       "      <td>18573.0</td>\n",
       "      <td>24940.0</td>\n",
       "      <td>10126.0</td>\n",
       "      <td>27768.0</td>\n",
       "    </tr>\n",
       "    <tr>\n",
       "      <th>4</th>\n",
       "      <td>25681.0</td>\n",
       "      <td>13699.0</td>\n",
       "      <td>6419.0</td>\n",
       "      <td>8706.0</td>\n",
       "      <td>26160.0</td>\n",
       "      <td>28139.0</td>\n",
       "      <td>4612.0</td>\n",
       "      <td>7665.0</td>\n",
       "      <td>7828.0</td>\n",
       "      <td>9262.0</td>\n",
       "      <td>8193.0</td>\n",
       "      <td>5066.0</td>\n",
       "    </tr>\n",
       "    <tr>\n",
       "      <th>...</th>\n",
       "      <td>...</td>\n",
       "      <td>...</td>\n",
       "      <td>...</td>\n",
       "      <td>...</td>\n",
       "      <td>...</td>\n",
       "      <td>...</td>\n",
       "      <td>...</td>\n",
       "      <td>...</td>\n",
       "      <td>...</td>\n",
       "      <td>...</td>\n",
       "      <td>...</td>\n",
       "      <td>...</td>\n",
       "    </tr>\n",
       "    <tr>\n",
       "      <th>90843</th>\n",
       "      <td>NaN</td>\n",
       "      <td>NaN</td>\n",
       "      <td>NaN</td>\n",
       "      <td>NaN</td>\n",
       "      <td>NaN</td>\n",
       "      <td>NaN</td>\n",
       "      <td>NaN</td>\n",
       "      <td>NaN</td>\n",
       "      <td>NaN</td>\n",
       "      <td>NaN</td>\n",
       "      <td>23596.0</td>\n",
       "      <td>NaN</td>\n",
       "    </tr>\n",
       "    <tr>\n",
       "      <th>90844</th>\n",
       "      <td>NaN</td>\n",
       "      <td>NaN</td>\n",
       "      <td>NaN</td>\n",
       "      <td>NaN</td>\n",
       "      <td>NaN</td>\n",
       "      <td>NaN</td>\n",
       "      <td>NaN</td>\n",
       "      <td>NaN</td>\n",
       "      <td>NaN</td>\n",
       "      <td>NaN</td>\n",
       "      <td>16876.0</td>\n",
       "      <td>NaN</td>\n",
       "    </tr>\n",
       "    <tr>\n",
       "      <th>90845</th>\n",
       "      <td>NaN</td>\n",
       "      <td>NaN</td>\n",
       "      <td>NaN</td>\n",
       "      <td>NaN</td>\n",
       "      <td>NaN</td>\n",
       "      <td>NaN</td>\n",
       "      <td>NaN</td>\n",
       "      <td>NaN</td>\n",
       "      <td>NaN</td>\n",
       "      <td>NaN</td>\n",
       "      <td>639.0</td>\n",
       "      <td>NaN</td>\n",
       "    </tr>\n",
       "    <tr>\n",
       "      <th>90846</th>\n",
       "      <td>NaN</td>\n",
       "      <td>NaN</td>\n",
       "      <td>NaN</td>\n",
       "      <td>NaN</td>\n",
       "      <td>NaN</td>\n",
       "      <td>NaN</td>\n",
       "      <td>NaN</td>\n",
       "      <td>NaN</td>\n",
       "      <td>NaN</td>\n",
       "      <td>NaN</td>\n",
       "      <td>21630.0</td>\n",
       "      <td>NaN</td>\n",
       "    </tr>\n",
       "    <tr>\n",
       "      <th>90847</th>\n",
       "      <td>NaN</td>\n",
       "      <td>NaN</td>\n",
       "      <td>NaN</td>\n",
       "      <td>NaN</td>\n",
       "      <td>NaN</td>\n",
       "      <td>NaN</td>\n",
       "      <td>NaN</td>\n",
       "      <td>NaN</td>\n",
       "      <td>NaN</td>\n",
       "      <td>NaN</td>\n",
       "      <td>16962.0</td>\n",
       "      <td>NaN</td>\n",
       "    </tr>\n",
       "  </tbody>\n",
       "</table>\n",
       "<p>90848 rows × 12 columns</p>\n",
       "</div>\n",
       "      <button class=\"colab-df-convert\" onclick=\"convertToInteractive('df-496a5076-cb48-46bc-af21-e8c1f9d42de1')\"\n",
       "              title=\"Convert this dataframe to an interactive table.\"\n",
       "              style=\"display:none;\">\n",
       "        \n",
       "  <svg xmlns=\"http://www.w3.org/2000/svg\" height=\"24px\"viewBox=\"0 0 24 24\"\n",
       "       width=\"24px\">\n",
       "    <path d=\"M0 0h24v24H0V0z\" fill=\"none\"/>\n",
       "    <path d=\"M18.56 5.44l.94 2.06.94-2.06 2.06-.94-2.06-.94-.94-2.06-.94 2.06-2.06.94zm-11 1L8.5 8.5l.94-2.06 2.06-.94-2.06-.94L8.5 2.5l-.94 2.06-2.06.94zm10 10l.94 2.06.94-2.06 2.06-.94-2.06-.94-.94-2.06-.94 2.06-2.06.94z\"/><path d=\"M17.41 7.96l-1.37-1.37c-.4-.4-.92-.59-1.43-.59-.52 0-1.04.2-1.43.59L10.3 9.45l-7.72 7.72c-.78.78-.78 2.05 0 2.83L4 21.41c.39.39.9.59 1.41.59.51 0 1.02-.2 1.41-.59l7.78-7.78 2.81-2.81c.8-.78.8-2.07 0-2.86zM5.41 20L4 18.59l7.72-7.72 1.47 1.35L5.41 20z\"/>\n",
       "  </svg>\n",
       "      </button>\n",
       "      \n",
       "  <style>\n",
       "    .colab-df-container {\n",
       "      display:flex;\n",
       "      flex-wrap:wrap;\n",
       "      gap: 12px;\n",
       "    }\n",
       "\n",
       "    .colab-df-convert {\n",
       "      background-color: #E8F0FE;\n",
       "      border: none;\n",
       "      border-radius: 50%;\n",
       "      cursor: pointer;\n",
       "      display: none;\n",
       "      fill: #1967D2;\n",
       "      height: 32px;\n",
       "      padding: 0 0 0 0;\n",
       "      width: 32px;\n",
       "    }\n",
       "\n",
       "    .colab-df-convert:hover {\n",
       "      background-color: #E2EBFA;\n",
       "      box-shadow: 0px 1px 2px rgba(60, 64, 67, 0.3), 0px 1px 3px 1px rgba(60, 64, 67, 0.15);\n",
       "      fill: #174EA6;\n",
       "    }\n",
       "\n",
       "    [theme=dark] .colab-df-convert {\n",
       "      background-color: #3B4455;\n",
       "      fill: #D2E3FC;\n",
       "    }\n",
       "\n",
       "    [theme=dark] .colab-df-convert:hover {\n",
       "      background-color: #434B5C;\n",
       "      box-shadow: 0px 1px 3px 1px rgba(0, 0, 0, 0.15);\n",
       "      filter: drop-shadow(0px 1px 2px rgba(0, 0, 0, 0.3));\n",
       "      fill: #FFFFFF;\n",
       "    }\n",
       "  </style>\n",
       "\n",
       "      <script>\n",
       "        const buttonEl =\n",
       "          document.querySelector('#df-496a5076-cb48-46bc-af21-e8c1f9d42de1 button.colab-df-convert');\n",
       "        buttonEl.style.display =\n",
       "          google.colab.kernel.accessAllowed ? 'block' : 'none';\n",
       "\n",
       "        async function convertToInteractive(key) {\n",
       "          const element = document.querySelector('#df-496a5076-cb48-46bc-af21-e8c1f9d42de1');\n",
       "          const dataTable =\n",
       "            await google.colab.kernel.invokeFunction('convertToInteractive',\n",
       "                                                     [key], {});\n",
       "          if (!dataTable) return;\n",
       "\n",
       "          const docLinkHtml = 'Like what you see? Visit the ' +\n",
       "            '<a target=\"_blank\" href=https://colab.research.google.com/notebooks/data_table.ipynb>data table notebook</a>'\n",
       "            + ' to learn more about interactive tables.';\n",
       "          element.innerHTML = '';\n",
       "          dataTable['output_type'] = 'display_data';\n",
       "          await google.colab.output.renderOutput(dataTable, element);\n",
       "          const docLink = document.createElement('div');\n",
       "          docLink.innerHTML = docLinkHtml;\n",
       "          element.appendChild(docLink);\n",
       "        }\n",
       "      </script>\n",
       "    </div>\n",
       "  </div>\n",
       "  "
      ]
     },
     "metadata": {},
     "execution_count": 101
    }
   ]
  },
  {
   "cell_type": "code",
   "source": [
    "fig, axs = plt.subplots(4, 3, figsize=(20, 22))\n",
    "\n",
    "fig.suptitle('2020', fontsize=20)\n",
    "\n",
    "for i in range(12):\n",
    "\n",
    "  count_df = purchased_items_per_month_2020_df.groupby([months_2020[i]])[months_2020[i]].count()\n",
    "\n",
    "  sorted_count_df = count_df.sort_values(ascending=False)\n",
    "\n",
    "  x = sorted_count_df.index.to_numpy()[:5]\n",
    "  y = sorted_count_df.to_numpy()[:5]\n",
    "\n",
    "  values = [0, 1, 2, 3, 4]\n",
    "\n",
    "  axs[int(i/3), i%3].bar(values, y)\n",
    "  axs[int(i/3), i%3].set_xticks(values, minor=False)\n",
    "  axs[int(i/3), i%3].set_xticklabels([str(round(elem)) for elem in x])\n",
    "  axs[int(i/3), i%3].set_title(months_2020[i])\n",
    "  axs[int(i/3), i%3].set_xlabel('Popular Items IDs')\n",
    "  axs[int(i/3), i%3].set_ylabel('Number of Purchases')"
   ],
   "metadata": {
    "colab": {
     "base_uri": "https://localhost:8080/",
     "height": 1000
    },
    "id": "mlmvPHvXko-F",
    "executionInfo": {
     "status": "ok",
     "timestamp": 1657728700041,
     "user_tz": -120,
     "elapsed": 2223,
     "user": {
      "displayName": "Riccardo Pala",
      "userId": "14726583371054773727"
     }
    },
    "outputId": "b2c997d1-5b37-45d8-a65a-e2d9a792ed8d",
    "pycharm": {
     "name": "#%%\n"
    }
   },
   "execution_count": 102,
   "outputs": [
    {
     "output_type": "display_data",
     "data": {
      "text/plain": [
       "<Figure size 1440x1584 with 12 Axes>"
      ],
      "image/png": "[encoded data removed]"
     },
     "metadata": {
      "needs_background": "light"
     }
    }
   ]
  },
  {
   "cell_type": "markdown",
   "source": [
    "#### 2021"
   ],
   "metadata": {
    "id": "G_2V6km5nE8T",
    "pycharm": {
     "name": "#%% md\n"
    }
   }
  },
  {
   "cell_type": "code",
   "source": [
    "purchased_items_per_month_2021 = [[] for _ in range(5)]\n",
    "\n",
    "for idx in train_purchases_df_2021.index:\n",
    "  month_idx = int(train_purchases_df_2021['date'][idx][5:7]) - 1\n",
    "  purchased_items_per_month_2021[month_idx].append(train_purchases_df_2021['item_id'][idx])"
   ],
   "metadata": {
    "id": "vZZrorUYnF-b",
    "executionInfo": {
     "status": "ok",
     "timestamp": 1657728704199,
     "user_tz": -120,
     "elapsed": 4167,
     "user": {
      "displayName": "Riccardo Pala",
      "userId": "14726583371054773727"
     }
    },
    "pycharm": {
     "name": "#%%\n"
    }
   },
   "execution_count": 103,
   "outputs": []
  },
  {
   "cell_type": "code",
   "source": [
    "purchased_items_per_month_2021_df = pd.DataFrame(purchased_items_per_month_2021, dtype=int).transpose()\n",
    "\n",
    "months_2021 = ['January', 'February', 'March', 'April', 'May']\n",
    "\n",
    "purchased_items_per_month_2021_df.columns = months_2021\n",
    "\n",
    "purchased_items_per_month_2021_df"
   ],
   "metadata": {
    "colab": {
     "base_uri": "https://localhost:8080/",
     "height": 424
    },
    "id": "gMbtW9AJnd7D",
    "executionInfo": {
     "status": "ok",
     "timestamp": 1657728708022,
     "user_tz": -120,
     "elapsed": 3840,
     "user": {
      "displayName": "Riccardo Pala",
      "userId": "14726583371054773727"
     }
    },
    "outputId": "067595b2-5a25-499d-a3ba-8c430daf1c43",
    "pycharm": {
     "name": "#%%\n"
    }
   },
   "execution_count": 104,
   "outputs": [
    {
     "output_type": "execute_result",
     "data": {
      "text/plain": [
       "       January  February    March    April      May\n",
       "0      20208.0   18742.0  11784.0   8345.0  21107.0\n",
       "1       1631.0   23852.0   1368.0  23502.0  25976.0\n",
       "2       7046.0   17747.0  17376.0    419.0   8840.0\n",
       "3       3423.0   27869.0  24738.0  16572.0   4309.0\n",
       "4      11784.0   20156.0   9683.0   6790.0  25415.0\n",
       "...        ...       ...      ...      ...      ...\n",
       "81613      NaN       NaN      NaN      NaN  21107.0\n",
       "81614      NaN       NaN      NaN      NaN   3567.0\n",
       "81615      NaN       NaN      NaN      NaN  23993.0\n",
       "81616      NaN       NaN      NaN      NaN  16439.0\n",
       "81617      NaN       NaN      NaN      NaN   2915.0\n",
       "\n",
       "[81618 rows x 5 columns]"
      ],
      "text/html": [
       "\n",
       "  <div id=\"df-071dc2f5-6af5-4eb8-b26e-54f2df390c5f\">\n",
       "    <div class=\"colab-df-container\">\n",
       "      <div>\n",
       "<style scoped>\n",
       "    .dataframe tbody tr th:only-of-type {\n",
       "        vertical-align: middle;\n",
       "    }\n",
       "\n",
       "    .dataframe tbody tr th {\n",
       "        vertical-align: top;\n",
       "    }\n",
       "\n",
       "    .dataframe thead th {\n",
       "        text-align: right;\n",
       "    }\n",
       "</style>\n",
       "<table border=\"1\" class=\"dataframe\">\n",
       "  <thead>\n",
       "    <tr style=\"text-align: right;\">\n",
       "      <th></th>\n",
       "      <th>January</th>\n",
       "      <th>February</th>\n",
       "      <th>March</th>\n",
       "      <th>April</th>\n",
       "      <th>May</th>\n",
       "    </tr>\n",
       "  </thead>\n",
       "  <tbody>\n",
       "    <tr>\n",
       "      <th>0</th>\n",
       "      <td>20208.0</td>\n",
       "      <td>18742.0</td>\n",
       "      <td>11784.0</td>\n",
       "      <td>8345.0</td>\n",
       "      <td>21107.0</td>\n",
       "    </tr>\n",
       "    <tr>\n",
       "      <th>1</th>\n",
       "      <td>1631.0</td>\n",
       "      <td>23852.0</td>\n",
       "      <td>1368.0</td>\n",
       "      <td>23502.0</td>\n",
       "      <td>25976.0</td>\n",
       "    </tr>\n",
       "    <tr>\n",
       "      <th>2</th>\n",
       "      <td>7046.0</td>\n",
       "      <td>17747.0</td>\n",
       "      <td>17376.0</td>\n",
       "      <td>419.0</td>\n",
       "      <td>8840.0</td>\n",
       "    </tr>\n",
       "    <tr>\n",
       "      <th>3</th>\n",
       "      <td>3423.0</td>\n",
       "      <td>27869.0</td>\n",
       "      <td>24738.0</td>\n",
       "      <td>16572.0</td>\n",
       "      <td>4309.0</td>\n",
       "    </tr>\n",
       "    <tr>\n",
       "      <th>4</th>\n",
       "      <td>11784.0</td>\n",
       "      <td>20156.0</td>\n",
       "      <td>9683.0</td>\n",
       "      <td>6790.0</td>\n",
       "      <td>25415.0</td>\n",
       "    </tr>\n",
       "    <tr>\n",
       "      <th>...</th>\n",
       "      <td>...</td>\n",
       "      <td>...</td>\n",
       "      <td>...</td>\n",
       "      <td>...</td>\n",
       "      <td>...</td>\n",
       "    </tr>\n",
       "    <tr>\n",
       "      <th>81613</th>\n",
       "      <td>NaN</td>\n",
       "      <td>NaN</td>\n",
       "      <td>NaN</td>\n",
       "      <td>NaN</td>\n",
       "      <td>21107.0</td>\n",
       "    </tr>\n",
       "    <tr>\n",
       "      <th>81614</th>\n",
       "      <td>NaN</td>\n",
       "      <td>NaN</td>\n",
       "      <td>NaN</td>\n",
       "      <td>NaN</td>\n",
       "      <td>3567.0</td>\n",
       "    </tr>\n",
       "    <tr>\n",
       "      <th>81615</th>\n",
       "      <td>NaN</td>\n",
       "      <td>NaN</td>\n",
       "      <td>NaN</td>\n",
       "      <td>NaN</td>\n",
       "      <td>23993.0</td>\n",
       "    </tr>\n",
       "    <tr>\n",
       "      <th>81616</th>\n",
       "      <td>NaN</td>\n",
       "      <td>NaN</td>\n",
       "      <td>NaN</td>\n",
       "      <td>NaN</td>\n",
       "      <td>16439.0</td>\n",
       "    </tr>\n",
       "    <tr>\n",
       "      <th>81617</th>\n",
       "      <td>NaN</td>\n",
       "      <td>NaN</td>\n",
       "      <td>NaN</td>\n",
       "      <td>NaN</td>\n",
       "      <td>2915.0</td>\n",
       "    </tr>\n",
       "  </tbody>\n",
       "</table>\n",
       "<p>81618 rows × 5 columns</p>\n",
       "</div>\n",
       "      <button class=\"colab-df-convert\" onclick=\"convertToInteractive('df-071dc2f5-6af5-4eb8-b26e-54f2df390c5f')\"\n",
       "              title=\"Convert this dataframe to an interactive table.\"\n",
       "              style=\"display:none;\">\n",
       "        \n",
       "  <svg xmlns=\"http://www.w3.org/2000/svg\" height=\"24px\"viewBox=\"0 0 24 24\"\n",
       "       width=\"24px\">\n",
       "    <path d=\"M0 0h24v24H0V0z\" fill=\"none\"/>\n",
       "    <path d=\"M18.56 5.44l.94 2.06.94-2.06 2.06-.94-2.06-.94-.94-2.06-.94 2.06-2.06.94zm-11 1L8.5 8.5l.94-2.06 2.06-.94-2.06-.94L8.5 2.5l-.94 2.06-2.06.94zm10 10l.94 2.06.94-2.06 2.06-.94-2.06-.94-.94-2.06-.94 2.06-2.06.94z\"/><path d=\"M17.41 7.96l-1.37-1.37c-.4-.4-.92-.59-1.43-.59-.52 0-1.04.2-1.43.59L10.3 9.45l-7.72 7.72c-.78.78-.78 2.05 0 2.83L4 21.41c.39.39.9.59 1.41.59.51 0 1.02-.2 1.41-.59l7.78-7.78 2.81-2.81c.8-.78.8-2.07 0-2.86zM5.41 20L4 18.59l7.72-7.72 1.47 1.35L5.41 20z\"/>\n",
       "  </svg>\n",
       "      </button>\n",
       "      \n",
       "  <style>\n",
       "    .colab-df-container {\n",
       "      display:flex;\n",
       "      flex-wrap:wrap;\n",
       "      gap: 12px;\n",
       "    }\n",
       "\n",
       "    .colab-df-convert {\n",
       "      background-color: #E8F0FE;\n",
       "      border: none;\n",
       "      border-radius: 50%;\n",
       "      cursor: pointer;\n",
       "      display: none;\n",
       "      fill: #1967D2;\n",
       "      height: 32px;\n",
       "      padding: 0 0 0 0;\n",
       "      width: 32px;\n",
       "    }\n",
       "\n",
       "    .colab-df-convert:hover {\n",
       "      background-color: #E2EBFA;\n",
       "      box-shadow: 0px 1px 2px rgba(60, 64, 67, 0.3), 0px 1px 3px 1px rgba(60, 64, 67, 0.15);\n",
       "      fill: #174EA6;\n",
       "    }\n",
       "\n",
       "    [theme=dark] .colab-df-convert {\n",
       "      background-color: #3B4455;\n",
       "      fill: #D2E3FC;\n",
       "    }\n",
       "\n",
       "    [theme=dark] .colab-df-convert:hover {\n",
       "      background-color: #434B5C;\n",
       "      box-shadow: 0px 1px 3px 1px rgba(0, 0, 0, 0.15);\n",
       "      filter: drop-shadow(0px 1px 2px rgba(0, 0, 0, 0.3));\n",
       "      fill: #FFFFFF;\n",
       "    }\n",
       "  </style>\n",
       "\n",
       "      <script>\n",
       "        const buttonEl =\n",
       "          document.querySelector('#df-071dc2f5-6af5-4eb8-b26e-54f2df390c5f button.colab-df-convert');\n",
       "        buttonEl.style.display =\n",
       "          google.colab.kernel.accessAllowed ? 'block' : 'none';\n",
       "\n",
       "        async function convertToInteractive(key) {\n",
       "          const element = document.querySelector('#df-071dc2f5-6af5-4eb8-b26e-54f2df390c5f');\n",
       "          const dataTable =\n",
       "            await google.colab.kernel.invokeFunction('convertToInteractive',\n",
       "                                                     [key], {});\n",
       "          if (!dataTable) return;\n",
       "\n",
       "          const docLinkHtml = 'Like what you see? Visit the ' +\n",
       "            '<a target=\"_blank\" href=https://colab.research.google.com/notebooks/data_table.ipynb>data table notebook</a>'\n",
       "            + ' to learn more about interactive tables.';\n",
       "          element.innerHTML = '';\n",
       "          dataTable['output_type'] = 'display_data';\n",
       "          await google.colab.output.renderOutput(dataTable, element);\n",
       "          const docLink = document.createElement('div');\n",
       "          docLink.innerHTML = docLinkHtml;\n",
       "          element.appendChild(docLink);\n",
       "        }\n",
       "      </script>\n",
       "    </div>\n",
       "  </div>\n",
       "  "
      ]
     },
     "metadata": {},
     "execution_count": 104
    }
   ]
  },
  {
   "cell_type": "code",
   "source": [
    "fig, axs = plt.subplots(2, 3, figsize=(20, 11))\n",
    "\n",
    "fig.delaxes(axs[-1, -1])\n",
    "\n",
    "fig.suptitle('2021', fontsize=20)\n",
    "\n",
    "for i in range(5):\n",
    "\n",
    "  count_df = purchased_items_per_month_2021_df.groupby([months_2021[i]])[months_2021[i]].count()\n",
    "\n",
    "  sorted_count_df = count_df.sort_values(ascending=False)\n",
    "\n",
    "  x = sorted_count_df.index.to_numpy()[:5]\n",
    "  y = sorted_count_df.to_numpy()[:5]\n",
    "\n",
    "  values = [0, 1, 2, 3, 4]\n",
    "\n",
    "  axs[int(i/3), i%3].bar(values, y)\n",
    "  axs[int(i/3), i%3].set_xticks(values, minor=False)\n",
    "  axs[int(i/3), i%3].set_xticklabels([str(round(elem)) for elem in x])\n",
    "  axs[int(i/3), i%3].set_title(months_2021[i])\n",
    "  axs[int(i/3), i%3].set_xlabel('Popular Items IDs')\n",
    "  axs[int(i/3), i%3].set_ylabel('Number of Purchases')"
   ],
   "metadata": {
    "colab": {
     "base_uri": "https://localhost:8080/",
     "height": 739
    },
    "id": "mplsJMbQnel3",
    "executionInfo": {
     "status": "ok",
     "timestamp": 1657728708824,
     "user_tz": -120,
     "elapsed": 807,
     "user": {
      "displayName": "Riccardo Pala",
      "userId": "14726583371054773727"
     }
    },
    "outputId": "a80d1a6d-fdc9-401f-cbbe-8b1f6607a53c",
    "pycharm": {
     "name": "#%%\n"
    }
   },
   "execution_count": 105,
   "outputs": [
    {
     "output_type": "display_data",
     "data": {
      "text/plain": [
       "<Figure size 1440x792 with 5 Axes>"
      ],
      "image/png": "[encoded data removed]"
     },
     "metadata": {
      "needs_background": "light"
     }
    }
   ]
  }
 ]
}